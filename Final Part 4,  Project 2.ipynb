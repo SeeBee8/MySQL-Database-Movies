{
 "cells": [
  {
   "cell_type": "markdown",
   "id": "79dceb12-247b-4408-ac9e-19839884dc20",
   "metadata": {},
   "source": [
    "# Project 2 Part 4\n",
    "**Apply Hypothesis Testing**\n",
    "\n",
    "Testing\n",
    "*Christina Brockway*"
   ]
  },
  {
   "cell_type": "markdown",
   "id": "82e93691-a99d-4d75-9ea9-5250726f4232",
   "metadata": {},
   "source": [
    "## Business Problem\n",
    "\n",
    "- Need a MySQL database on Movies from a subset of IMDB's publicly available dataset.\n",
    "- Use this database to analyze what makes a movie successul\n",
    "- Provide recommendations to the staakeholder on how to make a movie successful\n",
    "- Create 3 senarios with the dataset\n",
    "      -  Perform statistical testing to get mathematically-supported answers\n",
    "      -  Report if there is a significance difference between features\n",
    "          -  If yes, what was the p-value?\n",
    "          -  which feature earns the most revenue?\n",
    "      -  Prepare a visualization that supports findings"
   ]
  },
  {
   "cell_type": "markdown",
   "id": "1858c4ad-f94a-4044-be44-af8152c4627a",
   "metadata": {},
   "source": [
    "### Import/Load Data"
   ]
  },
  {
   "cell_type": "code",
   "execution_count": null,
   "id": "80761153-87f9-4144-bbd3-7c7ad954acab",
   "metadata": {},
   "outputs": [],
   "source": []
  },
  {
   "cell_type": "code",
   "execution_count": null,
   "id": "5d0aee9f-e6ef-4c8c-a071-54846600cc0e",
   "metadata": {},
   "outputs": [],
   "source": []
  },
  {
   "cell_type": "code",
   "execution_count": null,
   "id": "4b172f55-123d-41d3-a044-224662217fa4",
   "metadata": {},
   "outputs": [],
   "source": []
  },
  {
   "cell_type": "code",
   "execution_count": null,
   "id": "a18f6481-103e-4436-983d-6b408b75356e",
   "metadata": {},
   "outputs": [],
   "source": []
  },
  {
   "cell_type": "code",
   "execution_count": null,
   "id": "9f5a533e-3649-47ee-ab1b-9627d3df6442",
   "metadata": {},
   "outputs": [],
   "source": []
  }
 ],
 "metadata": {
  "kernelspec": {
   "display_name": "Python (dojo-env)",
   "language": "python",
   "name": "dojo-env"
  },
  "language_info": {
   "codemirror_mode": {
    "name": "ipython",
    "version": 3
   },
   "file_extension": ".py",
   "mimetype": "text/x-python",
   "name": "python",
   "nbconvert_exporter": "python",
   "pygments_lexer": "ipython3",
   "version": "3.10.10"
  },
  "widgets": {
   "application/vnd.jupyter.widget-state+json": {
    "state": {},
    "version_major": 2,
    "version_minor": 0
   }
  }
 },
 "nbformat": 4,
 "nbformat_minor": 5
}
