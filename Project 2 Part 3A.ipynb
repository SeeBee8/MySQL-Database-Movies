{
 "cells": [
  {
   "cell_type": "markdown",
   "id": "9f749832-cd8e-40ce-a0fd-73f319e01b91",
   "metadata": {},
   "source": [
    "# Project 2 Part 3A: Extract from TMDB (core)\n",
    "\n",
    "*Christina Brockway*"
   ]
  },
  {
   "cell_type": "markdown",
   "id": "3a4cfdd4-58ef-452e-b35e-81b24857ba29",
   "metadata": {},
   "source": [
    "## Business Problem:\n",
    "-  Produce a MySQL database from Movies to analyze what makes a movie successful.\n",
    "-  Provide recommendations to stakeholder on how to make a successful movie."
   ]
  },
  {
   "cell_type": "markdown",
   "id": "5338b06f-d4f4-4588-8557-a55cb0513e99",
   "metadata": {},
   "source": [
    "### Issues, Need More Data:\n",
    "-  Use TMDB database for financial data\n",
    "-  Extract Budge, Revenue, and MPAA Rating (Certification)\n",
    "-  Test API using 2001 and 2002 movies\n",
    "-  Save each year separately"
   ]
  },
  {
   "cell_type": "markdown",
   "id": "ffd0f168-ffa8-4751-b4a8-70f487efea11",
   "metadata": {},
   "source": [
    "#### Imports"
   ]
  },
  {
   "cell_type": "code",
   "execution_count": 1,
   "id": "03bba05d-86b5-4e30-8bc6-d087eedb8514",
   "metadata": {},
   "outputs": [],
   "source": [
    "#Import packages\n",
    "import os, time, json\n",
    "import tmdbsimple as tmdb\n",
    "import pandas as pd\n",
    "import matplotlib.pyplot as plt\n",
    "import seaborn as sns\n",
    "from tqdm.notebook import tqdm_notebook"
   ]
  },
  {
   "cell_type": "code",
   "execution_count": 3,
   "id": "3fa0e49c-ab00-46dd-9760-ca2dc9966581",
   "metadata": {},
   "outputs": [
    {
     "data": {
      "text/plain": [
       "[]"
      ]
     },
     "execution_count": 3,
     "metadata": {},
     "output_type": "execute_result"
    }
   ],
   "source": [
    "FOLDER = 'MovieData/'\n",
    "os.makedirs(FOLDER, exist_ok = True)\n",
    "os.listdir(FOLDER)"
   ]
  },
  {
   "cell_type": "markdown",
   "id": "eba000ca-80b5-4f3b-9325-65473f86a278",
   "metadata": {},
   "source": [
    "#### Load API Key"
   ]
  },
  {
   "cell_type": "code",
   "execution_count": 4,
   "id": "2e073279-7fde-4f6c-9123-dcfb83bb0684",
   "metadata": {},
   "outputs": [
    {
     "data": {
      "text/plain": [
       "dict_keys(['api_key'])"
      ]
     },
     "execution_count": 4,
     "metadata": {},
     "output_type": "execute_result"
    }
   ],
   "source": [
    "with open('/Users/csbro/.secret/tmdb_api.json', 'r') as f:\n",
    "    login = json.load(f)\n",
    "login.keys()"
   ]
  },
  {
   "cell_type": "code",
   "execution_count": 5,
   "id": "5caf503b-4405-4d9a-bb0e-bdf6ea129b25",
   "metadata": {},
   "outputs": [],
   "source": [
    "tmdb.API_KEY = login['api_key']"
   ]
  },
  {
   "cell_type": "markdown",
   "id": "eba6eb2d-31fe-48b8-ac10-67608f4ea484",
   "metadata": {},
   "source": [
    "#### Define Functions and variables"
   ]
  },
  {
   "cell_type": "code",
   "execution_count": 14,
   "id": "14ab2465-791d-4b6b-a201-29453dd92a1b",
   "metadata": {},
   "outputs": [],
   "source": [
    "#Define list of years to get\n",
    "GET_YEARS = [2001, 2002]\n",
    "\n",
    "#create an empty list for errors\n",
    "errors=[]"
   ]
  },
  {
   "cell_type": "code",
   "execution_count": 6,
   "id": "24269d27-f5f4-4658-931c-823aac8cfcb1",
   "metadata": {},
   "outputs": [],
   "source": [
    "def get_movie_with_rating(movie_id):\n",
    "    #Get movie object using movie_id\n",
    "    movie= tmdb.Movies(movie_id)\n",
    "    #Save the dictionaries \n",
    "    movie_info = movie.info()\n",
    "    releases = movie.releases()\n",
    "    #Loop through countries for only US\n",
    "    for c in releases['countries']:\n",
    "        if c['iso_3166_1'] == 'US':\n",
    "            movie_info['certification']= c['certification']\n",
    "    return movie_info\n"
   ]
  },
  {
   "cell_type": "code",
   "execution_count": 8,
   "id": "b72ae52c-4ae4-441d-8b43-2077b566ca43",
   "metadata": {},
   "outputs": [],
   "source": [
    "def write_json(new_data, filename):\n",
    "    \"\"\"Appends a list of records (new_data) into a json file (filename).\n",
    "    Adapted from: https://www.geeksforgeeks.org/append-to-json-file-using-python/\"\"\"\n",
    "\n",
    "    with open(filename, 'r+') as file:\n",
    "        #Load existing data into dictionary\n",
    "        file_data = json.load(file)\n",
    "        #choose to extend or append\n",
    "        if (type(new_data) == list) & (type(file_data) == list):\n",
    "            file_data.extend(new_data)\n",
    "        else:\n",
    "            file_data.append(new_data)\n",
    "        #set file's current position at offset\n",
    "        file.seek(0)\n",
    "        #convert back to json\n",
    "        json.dump(file_data, file)"
   ]
  },
  {
   "cell_type": "markdown",
   "id": "46e55edc-c090-472f-b3cc-287ccf6202b3",
   "metadata": {},
   "source": [
    "#### Confirm API Function works"
   ]
  },
  {
   "cell_type": "code",
   "execution_count": 10,
   "id": "082ffd5b-0b63-4aff-a2d3-e451b83e0ee3",
   "metadata": {},
   "outputs": [
    {
     "data": {
      "text/html": [
       "<div>\n",
       "<style scoped>\n",
       "    .dataframe tbody tr th:only-of-type {\n",
       "        vertical-align: middle;\n",
       "    }\n",
       "\n",
       "    .dataframe tbody tr th {\n",
       "        vertical-align: top;\n",
       "    }\n",
       "\n",
       "    .dataframe thead th {\n",
       "        text-align: right;\n",
       "    }\n",
       "</style>\n",
       "<table border=\"1\" class=\"dataframe\">\n",
       "  <thead>\n",
       "    <tr style=\"text-align: right;\">\n",
       "      <th></th>\n",
       "      <th>adult</th>\n",
       "      <th>backdrop_path</th>\n",
       "      <th>belongs_to_collection</th>\n",
       "      <th>budget</th>\n",
       "      <th>genres</th>\n",
       "      <th>homepage</th>\n",
       "      <th>id</th>\n",
       "      <th>imdb_id</th>\n",
       "      <th>original_language</th>\n",
       "      <th>original_title</th>\n",
       "      <th>...</th>\n",
       "      <th>revenue</th>\n",
       "      <th>runtime</th>\n",
       "      <th>spoken_languages</th>\n",
       "      <th>status</th>\n",
       "      <th>tagline</th>\n",
       "      <th>title</th>\n",
       "      <th>video</th>\n",
       "      <th>vote_average</th>\n",
       "      <th>vote_count</th>\n",
       "      <th>certification</th>\n",
       "    </tr>\n",
       "  </thead>\n",
       "  <tbody>\n",
       "    <tr>\n",
       "      <th>0</th>\n",
       "      <td>False</td>\n",
       "      <td>/9BBTo63ANSmhC4e6r62OJFuK2GL.jpg</td>\n",
       "      <td>{'id': 86311, 'name': 'The Avengers Collection...</td>\n",
       "      <td>220000000</td>\n",
       "      <td>[{'id': 878, 'name': 'Science Fiction'}, {'id'...</td>\n",
       "      <td>https://www.marvel.com/movies/the-avengers</td>\n",
       "      <td>24428</td>\n",
       "      <td>tt0848228</td>\n",
       "      <td>en</td>\n",
       "      <td>The Avengers</td>\n",
       "      <td>...</td>\n",
       "      <td>1518815515</td>\n",
       "      <td>143</td>\n",
       "      <td>[{'english_name': 'English', 'iso_639_1': 'en'...</td>\n",
       "      <td>Released</td>\n",
       "      <td>Some assembly required.</td>\n",
       "      <td>The Avengers</td>\n",
       "      <td>False</td>\n",
       "      <td>7.71</td>\n",
       "      <td>29277</td>\n",
       "      <td>PG-13</td>\n",
       "    </tr>\n",
       "    <tr>\n",
       "      <th>1</th>\n",
       "      <td>False</td>\n",
       "      <td>/qom1SZSENdmHFNZBXbtJAU0WTlC.jpg</td>\n",
       "      <td>None</td>\n",
       "      <td>29000000</td>\n",
       "      <td>[{'id': 10749, 'name': 'Romance'}, {'id': 18, ...</td>\n",
       "      <td>http://www.newline.com/properties/notebookthe....</td>\n",
       "      <td>11036</td>\n",
       "      <td>tt0332280</td>\n",
       "      <td>en</td>\n",
       "      <td>The Notebook</td>\n",
       "      <td>...</td>\n",
       "      <td>115603229</td>\n",
       "      <td>123</td>\n",
       "      <td>[{'english_name': 'English', 'iso_639_1': 'en'...</td>\n",
       "      <td>Released</td>\n",
       "      <td>Behind every great love is a great story.</td>\n",
       "      <td>The Notebook</td>\n",
       "      <td>False</td>\n",
       "      <td>7.88</td>\n",
       "      <td>10689</td>\n",
       "      <td>PG-13</td>\n",
       "    </tr>\n",
       "  </tbody>\n",
       "</table>\n",
       "<p>2 rows × 26 columns</p>\n",
       "</div>"
      ],
      "text/plain": [
       "   adult                     backdrop_path  \\\n",
       "0  False  /9BBTo63ANSmhC4e6r62OJFuK2GL.jpg   \n",
       "1  False  /qom1SZSENdmHFNZBXbtJAU0WTlC.jpg   \n",
       "\n",
       "                               belongs_to_collection     budget  \\\n",
       "0  {'id': 86311, 'name': 'The Avengers Collection...  220000000   \n",
       "1                                               None   29000000   \n",
       "\n",
       "                                              genres  \\\n",
       "0  [{'id': 878, 'name': 'Science Fiction'}, {'id'...   \n",
       "1  [{'id': 10749, 'name': 'Romance'}, {'id': 18, ...   \n",
       "\n",
       "                                            homepage     id    imdb_id  \\\n",
       "0         https://www.marvel.com/movies/the-avengers  24428  tt0848228   \n",
       "1  http://www.newline.com/properties/notebookthe....  11036  tt0332280   \n",
       "\n",
       "  original_language original_title  ...     revenue  runtime  \\\n",
       "0                en   The Avengers  ...  1518815515      143   \n",
       "1                en   The Notebook  ...   115603229      123   \n",
       "\n",
       "                                    spoken_languages    status  \\\n",
       "0  [{'english_name': 'English', 'iso_639_1': 'en'...  Released   \n",
       "1  [{'english_name': 'English', 'iso_639_1': 'en'...  Released   \n",
       "\n",
       "                                     tagline         title  video  \\\n",
       "0                    Some assembly required.  The Avengers  False   \n",
       "1  Behind every great love is a great story.  The Notebook  False   \n",
       "\n",
       "   vote_average vote_count certification  \n",
       "0          7.71      29277         PG-13  \n",
       "1          7.88      10689         PG-13  \n",
       "\n",
       "[2 rows x 26 columns]"
      ]
     },
     "execution_count": 10,
     "metadata": {},
     "output_type": "execute_result"
    }
   ],
   "source": [
    "test= [\"tt0848228\", \"tt0332280\"]\n",
    "results= []\n",
    "for movie_id in test:\n",
    "    movie_info = get_movie_with_rating(movie_id)\n",
    "    results.append(movie_info)\n",
    "pd.DataFrame(results)"
   ]
  },
  {
   "cell_type": "markdown",
   "id": "9527fe57-2a06-484e-a6c7-16a7ce6590d2",
   "metadata": {},
   "source": [
    "### Load in Data"
   ]
  },
  {
   "cell_type": "code",
   "execution_count": 13,
   "id": "aaa4179c-fd3e-4721-a187-ce39d617f16c",
   "metadata": {},
   "outputs": [
    {
     "data": {
      "text/html": [
       "<div>\n",
       "<style scoped>\n",
       "    .dataframe tbody tr th:only-of-type {\n",
       "        vertical-align: middle;\n",
       "    }\n",
       "\n",
       "    .dataframe tbody tr th {\n",
       "        vertical-align: top;\n",
       "    }\n",
       "\n",
       "    .dataframe thead th {\n",
       "        text-align: right;\n",
       "    }\n",
       "</style>\n",
       "<table border=\"1\" class=\"dataframe\">\n",
       "  <thead>\n",
       "    <tr style=\"text-align: right;\">\n",
       "      <th></th>\n",
       "      <th>Unnamed: 0</th>\n",
       "      <th>tconst</th>\n",
       "      <th>titleType</th>\n",
       "      <th>primaryTitle</th>\n",
       "      <th>originalTitle</th>\n",
       "      <th>isAdult</th>\n",
       "      <th>startYear</th>\n",
       "      <th>endYear</th>\n",
       "      <th>runtimeMinutes</th>\n",
       "      <th>genres</th>\n",
       "    </tr>\n",
       "  </thead>\n",
       "  <tbody>\n",
       "    <tr>\n",
       "      <th>0</th>\n",
       "      <td>34800</td>\n",
       "      <td>tt0035423</td>\n",
       "      <td>movie</td>\n",
       "      <td>Kate &amp; Leopold</td>\n",
       "      <td>Kate &amp; Leopold</td>\n",
       "      <td>0</td>\n",
       "      <td>2001.0</td>\n",
       "      <td>NaN</td>\n",
       "      <td>118</td>\n",
       "      <td>Comedy,Fantasy,Romance</td>\n",
       "    </tr>\n",
       "    <tr>\n",
       "      <th>1</th>\n",
       "      <td>61111</td>\n",
       "      <td>tt0062336</td>\n",
       "      <td>movie</td>\n",
       "      <td>The Tango of the Widower and Its Distorting Mi...</td>\n",
       "      <td>El tango del viudo y su espejo deformante</td>\n",
       "      <td>0</td>\n",
       "      <td>2020.0</td>\n",
       "      <td>NaN</td>\n",
       "      <td>70</td>\n",
       "      <td>Drama</td>\n",
       "    </tr>\n",
       "  </tbody>\n",
       "</table>\n",
       "</div>"
      ],
      "text/plain": [
       "   Unnamed: 0     tconst titleType  \\\n",
       "0       34800  tt0035423     movie   \n",
       "1       61111  tt0062336     movie   \n",
       "\n",
       "                                        primaryTitle  \\\n",
       "0                                     Kate & Leopold   \n",
       "1  The Tango of the Widower and Its Distorting Mi...   \n",
       "\n",
       "                               originalTitle  isAdult  startYear  endYear  \\\n",
       "0                             Kate & Leopold        0     2001.0      NaN   \n",
       "1  El tango del viudo y su espejo deformante        0     2020.0      NaN   \n",
       "\n",
       "   runtimeMinutes                  genres  \n",
       "0             118  Comedy,Fantasy,Romance  \n",
       "1              70                   Drama  "
      ]
     },
     "execution_count": 13,
     "metadata": {},
     "output_type": "execute_result"
    }
   ],
   "source": [
    "basics = pd.read_csv(\"MovieData/basics-filter.csv\")\n",
    "basics.head(2)"
   ]
  },
  {
   "cell_type": "markdown",
   "id": "b8bd9264-3a2d-4925-8af2-4bd920b8309e",
   "metadata": {},
   "source": [
    "### Create Inner and Outer Loops"
   ]
  },
  {
   "cell_type": "code",
   "execution_count": 18,
   "id": "28a98b2f-e1c4-490d-8990-264dc4a351e2",
   "metadata": {},
   "outputs": [
    {
     "data": {
      "application/vnd.jupyter.widget-view+json": {
       "model_id": "53e7fac6773f422eb381c9740f93796e",
       "version_major": 2,
       "version_minor": 0
      },
      "text/plain": [
       "YEARS:   0%|          | 0/2 [00:00<?, ?it/s]"
      ]
     },
     "metadata": {},
     "output_type": "display_data"
    },
    {
     "name": "stdout",
     "output_type": "stream",
     "text": [
      "Creating json file for API results for 2001\n"
     ]
    },
    {
     "data": {
      "application/vnd.jupyter.widget-view+json": {
       "model_id": "ef4abccf7599466cbf8bc08e04d1c018",
       "version_major": 2,
       "version_minor": 0
      },
      "text/plain": [
       "Movies from 2001:   0%|          | 0/1577 [00:00<?, ?it/s]"
      ]
     },
     "metadata": {},
     "output_type": "display_data"
    },
    {
     "name": "stdout",
     "output_type": "stream",
     "text": [
      " - Total Errors: 222\n",
      "Creating json file for API results for 2002\n"
     ]
    },
    {
     "data": {
      "application/vnd.jupyter.widget-view+json": {
       "model_id": "aff537e0f2de4ff9a1b07a8ef5df79fc",
       "version_major": 2,
       "version_minor": 0
      },
      "text/plain": [
       "Movies from 2002:   0%|          | 0/1573 [00:00<?, ?it/s]"
      ]
     },
     "metadata": {},
     "output_type": "display_data"
    },
    {
     "name": "stdout",
     "output_type": "stream",
     "text": [
      " - Total Errors: 503\n"
     ]
    }
   ],
   "source": [
    "##OUTER LOOP\n",
    "for YEAR in tqdm_notebook(GET_YEARS, desc='YEARS', position=0):\n",
    "  \n",
    "    #Prepare DF for json file\n",
    "    JSON_MOVIE= f'{FOLDER}tmdb_api_results {YEAR}.json'\n",
    "        #Check if file exists\n",
    "    file_exists = os.path.isfile(JSON_MOVIE)\n",
    "    \n",
    "    if file_exists == False:\n",
    "        print(f'Creating json file for API results for {YEAR}')\n",
    "        with open(JSON_MOVIE, 'w') as f:\n",
    "            json.dump([{'imdb_id':0}], f)\n",
    "    else: \n",
    "        print(f'{JSON_MOVIE} already exists.')\n",
    "    \n",
    "    #Saving 2010  as the current df\n",
    "    df = basics.loc[basics['startYear'] == YEAR].copy()\n",
    "    #saving movie_id to separate variable\n",
    "    movie_ids = df['tconst'].copy() #.to_list()\n",
    "\n",
    "    #Load exisiting data from json into DF called previous_df\n",
    "    previous_df = pd.read_json(JSON_MOVIE)\n",
    "\n",
    "    #filter out any ids that are already in the file\n",
    "    needed_mids = movie_ids[~movie_ids.isin(previous_df['imdb_id'])]\n",
    "\n",
    "    #INNER LOOP\n",
    "    for movie_id in tqdm_notebook(needed_mids,\n",
    "                                  desc=f'Movies from {YEAR}',\n",
    "                                  position=1,\n",
    "                                  leave=True):\n",
    "        try:\n",
    "            temp = get_movie_with_rating(movie_id)\n",
    "            #Append/Extend results to json file\n",
    "            write_json(temp, JSON_MOVIE)\n",
    "            time.sleep(0.02)\n",
    "        except Exception as e:\n",
    "            errors.append([movie_id, e])\n",
    "\n",
    "    print(f' - Total Errors: {len(errors)}')              "
   ]
  },
  {
   "cell_type": "code",
   "execution_count": 20,
   "id": "a4f28c1b-0efd-42b6-a3d0-671cd7aec3d6",
   "metadata": {},
   "outputs": [],
   "source": [
    "final_year_df = pd.read_json(JSON_MOVIE)\n",
    "final_year_df.to_csv(f\"(FOLDER)final_tmdb_data_{YEAR}.csv.gz\", compression= 'gzip', index=False)"
   ]
  },
  {
   "cell_type": "code",
   "execution_count": null,
   "id": "4e0f6663-3e2b-4714-95e2-04b74f8db507",
   "metadata": {},
   "outputs": [],
   "source": []
  }
 ],
 "metadata": {
  "kernelspec": {
   "display_name": "Python (dojo-env)",
   "language": "python",
   "name": "dojo-env"
  },
  "language_info": {
   "codemirror_mode": {
    "name": "ipython",
    "version": 3
   },
   "file_extension": ".py",
   "mimetype": "text/x-python",
   "name": "python",
   "nbconvert_exporter": "python",
   "pygments_lexer": "ipython3",
   "version": "3.10.10"
  },
  "widgets": {
   "application/vnd.jupyter.widget-state+json": {
    "state": {
     "00be5610135f43ac9b012b1305546ebc": {
      "model_module": "@jupyter-widgets/controls",
      "model_module_version": "2.0.0",
      "model_name": "HTMLStyleModel",
      "state": {
       "description_width": "",
       "font_size": null,
       "text_color": null
      }
     },
     "0928f38d52764bd7b7678493a92460fb": {
      "model_module": "@jupyter-widgets/controls",
      "model_module_version": "2.0.0",
      "model_name": "ProgressStyleModel",
      "state": {
       "description_width": ""
      }
     },
     "1ed33413427842cf84e5a2ff74ccb05c": {
      "model_module": "@jupyter-widgets/base",
      "model_module_version": "2.0.0",
      "model_name": "LayoutModel",
      "state": {}
     },
     "21ce705b2b6041bb9863805ecc2c232c": {
      "model_module": "@jupyter-widgets/controls",
      "model_module_version": "2.0.0",
      "model_name": "HTMLModel",
      "state": {
       "layout": "IPY_MODEL_d31f4d823fab4ada81d021737c91c1c9",
       "style": "IPY_MODEL_7978f727071147a382ab887b275064db",
       "value": " 2/2 [36:35&lt;00:00, 1097.61s/it]"
      }
     },
     "2da94d0a74714e62bf6eb5ddbc790e2a": {
      "model_module": "@jupyter-widgets/controls",
      "model_module_version": "2.0.0",
      "model_name": "HTMLModel",
      "state": {
       "layout": "IPY_MODEL_5f2266aae0814244b7b8c7f83d5fa02f",
       "style": "IPY_MODEL_e10c254a7b774fd59210233640fd8ebb",
       "value": " 1573/1573 [18:17&lt;00:00,  1.90it/s]"
      }
     },
     "4ded81aac81848ae9766238d746377ea": {
      "model_module": "@jupyter-widgets/base",
      "model_module_version": "2.0.0",
      "model_name": "LayoutModel",
      "state": {}
     },
     "53e7fac6773f422eb381c9740f93796e": {
      "model_module": "@jupyter-widgets/controls",
      "model_module_version": "2.0.0",
      "model_name": "HBoxModel",
      "state": {
       "children": [
        "IPY_MODEL_5d2d00d687764b3c9e2040f4e51f166c",
        "IPY_MODEL_f9978313044d460f85cf79247add931c",
        "IPY_MODEL_21ce705b2b6041bb9863805ecc2c232c"
       ],
       "layout": "IPY_MODEL_bb57340a482946cf935ad2a712256113"
      }
     },
     "5c316bac8dc747b187a4af4bc633e9f1": {
      "model_module": "@jupyter-widgets/controls",
      "model_module_version": "2.0.0",
      "model_name": "HTMLModel",
      "state": {
       "layout": "IPY_MODEL_1ed33413427842cf84e5a2ff74ccb05c",
       "style": "IPY_MODEL_00be5610135f43ac9b012b1305546ebc",
       "value": "Movies from 2001: 100%"
      }
     },
     "5d2d00d687764b3c9e2040f4e51f166c": {
      "model_module": "@jupyter-widgets/controls",
      "model_module_version": "2.0.0",
      "model_name": "HTMLModel",
      "state": {
       "layout": "IPY_MODEL_a31fbb877911447db667cf4e650193a3",
       "style": "IPY_MODEL_69b846ebae804686aecb9109cf31b223",
       "value": "YEARS: 100%"
      }
     },
     "5f2266aae0814244b7b8c7f83d5fa02f": {
      "model_module": "@jupyter-widgets/base",
      "model_module_version": "2.0.0",
      "model_name": "LayoutModel",
      "state": {}
     },
     "68f59e6793494ca980e801142729f2dc": {
      "model_module": "@jupyter-widgets/base",
      "model_module_version": "2.0.0",
      "model_name": "LayoutModel",
      "state": {}
     },
     "69b846ebae804686aecb9109cf31b223": {
      "model_module": "@jupyter-widgets/controls",
      "model_module_version": "2.0.0",
      "model_name": "HTMLStyleModel",
      "state": {
       "description_width": "",
       "font_size": null,
       "text_color": null
      }
     },
     "6c6068856d914190b1faa63706d17f17": {
      "model_module": "@jupyter-widgets/controls",
      "model_module_version": "2.0.0",
      "model_name": "HTMLModel",
      "state": {
       "layout": "IPY_MODEL_86c6adb175984d25a84ee0dabe768103",
       "style": "IPY_MODEL_976a7b2702954671886056cd3b76cf35",
       "value": "Movies from 2002: 100%"
      }
     },
     "7978f727071147a382ab887b275064db": {
      "model_module": "@jupyter-widgets/controls",
      "model_module_version": "2.0.0",
      "model_name": "HTMLStyleModel",
      "state": {
       "description_width": "",
       "font_size": null,
       "text_color": null
      }
     },
     "836eb67019d34ce3a44b2f84e894d70d": {
      "model_module": "@jupyter-widgets/base",
      "model_module_version": "2.0.0",
      "model_name": "LayoutModel",
      "state": {}
     },
     "86c6adb175984d25a84ee0dabe768103": {
      "model_module": "@jupyter-widgets/base",
      "model_module_version": "2.0.0",
      "model_name": "LayoutModel",
      "state": {}
     },
     "976a7b2702954671886056cd3b76cf35": {
      "model_module": "@jupyter-widgets/controls",
      "model_module_version": "2.0.0",
      "model_name": "HTMLStyleModel",
      "state": {
       "description_width": "",
       "font_size": null,
       "text_color": null
      }
     },
     "9f92ef666401443b92053390ca6f9c37": {
      "model_module": "@jupyter-widgets/controls",
      "model_module_version": "2.0.0",
      "model_name": "ProgressStyleModel",
      "state": {
       "description_width": ""
      }
     },
     "a31fbb877911447db667cf4e650193a3": {
      "model_module": "@jupyter-widgets/base",
      "model_module_version": "2.0.0",
      "model_name": "LayoutModel",
      "state": {}
     },
     "a7fbbca837a74b80b9cb36ad90ad794b": {
      "model_module": "@jupyter-widgets/controls",
      "model_module_version": "2.0.0",
      "model_name": "ProgressStyleModel",
      "state": {
       "description_width": ""
      }
     },
     "a9c5801caa504aaf8c8e21f7acc317a9": {
      "model_module": "@jupyter-widgets/controls",
      "model_module_version": "2.0.0",
      "model_name": "FloatProgressModel",
      "state": {
       "bar_style": "success",
       "layout": "IPY_MODEL_68f59e6793494ca980e801142729f2dc",
       "max": 1573,
       "style": "IPY_MODEL_9f92ef666401443b92053390ca6f9c37",
       "value": 1573
      }
     },
     "aee254ec359a44188f7f1a02e478e829": {
      "model_module": "@jupyter-widgets/base",
      "model_module_version": "2.0.0",
      "model_name": "LayoutModel",
      "state": {}
     },
     "aff537e0f2de4ff9a1b07a8ef5df79fc": {
      "model_module": "@jupyter-widgets/controls",
      "model_module_version": "2.0.0",
      "model_name": "HBoxModel",
      "state": {
       "children": [
        "IPY_MODEL_6c6068856d914190b1faa63706d17f17",
        "IPY_MODEL_a9c5801caa504aaf8c8e21f7acc317a9",
        "IPY_MODEL_2da94d0a74714e62bf6eb5ddbc790e2a"
       ],
       "layout": "IPY_MODEL_aee254ec359a44188f7f1a02e478e829"
      }
     },
     "bb57340a482946cf935ad2a712256113": {
      "model_module": "@jupyter-widgets/base",
      "model_module_version": "2.0.0",
      "model_name": "LayoutModel",
      "state": {}
     },
     "c59f2c6d92364a9084970a07a24da5a2": {
      "model_module": "@jupyter-widgets/controls",
      "model_module_version": "2.0.0",
      "model_name": "HTMLStyleModel",
      "state": {
       "description_width": "",
       "font_size": null,
       "text_color": null
      }
     },
     "c9eb8ad8319e4ddbbaee1dae5cdc19c0": {
      "model_module": "@jupyter-widgets/controls",
      "model_module_version": "2.0.0",
      "model_name": "HTMLModel",
      "state": {
       "layout": "IPY_MODEL_4ded81aac81848ae9766238d746377ea",
       "style": "IPY_MODEL_c59f2c6d92364a9084970a07a24da5a2",
       "value": " 1577/1577 [18:18&lt;00:00,  2.61it/s]"
      }
     },
     "cc465925dca3419588e7c0ecd3c855da": {
      "model_module": "@jupyter-widgets/base",
      "model_module_version": "2.0.0",
      "model_name": "LayoutModel",
      "state": {}
     },
     "d0ab26b6d41a437a8f5b5fb65c9096c9": {
      "model_module": "@jupyter-widgets/controls",
      "model_module_version": "2.0.0",
      "model_name": "FloatProgressModel",
      "state": {
       "bar_style": "success",
       "layout": "IPY_MODEL_836eb67019d34ce3a44b2f84e894d70d",
       "max": 1577,
       "style": "IPY_MODEL_a7fbbca837a74b80b9cb36ad90ad794b",
       "value": 1577
      }
     },
     "d31f4d823fab4ada81d021737c91c1c9": {
      "model_module": "@jupyter-widgets/base",
      "model_module_version": "2.0.0",
      "model_name": "LayoutModel",
      "state": {}
     },
     "dd6c95b917e3419e80fa4a32b9029f6e": {
      "model_module": "@jupyter-widgets/base",
      "model_module_version": "2.0.0",
      "model_name": "LayoutModel",
      "state": {}
     },
     "e10c254a7b774fd59210233640fd8ebb": {
      "model_module": "@jupyter-widgets/controls",
      "model_module_version": "2.0.0",
      "model_name": "HTMLStyleModel",
      "state": {
       "description_width": "",
       "font_size": null,
       "text_color": null
      }
     },
     "ef4abccf7599466cbf8bc08e04d1c018": {
      "model_module": "@jupyter-widgets/controls",
      "model_module_version": "2.0.0",
      "model_name": "HBoxModel",
      "state": {
       "children": [
        "IPY_MODEL_5c316bac8dc747b187a4af4bc633e9f1",
        "IPY_MODEL_d0ab26b6d41a437a8f5b5fb65c9096c9",
        "IPY_MODEL_c9eb8ad8319e4ddbbaee1dae5cdc19c0"
       ],
       "layout": "IPY_MODEL_cc465925dca3419588e7c0ecd3c855da"
      }
     },
     "f9978313044d460f85cf79247add931c": {
      "model_module": "@jupyter-widgets/controls",
      "model_module_version": "2.0.0",
      "model_name": "FloatProgressModel",
      "state": {
       "bar_style": "success",
       "layout": "IPY_MODEL_dd6c95b917e3419e80fa4a32b9029f6e",
       "max": 2,
       "style": "IPY_MODEL_0928f38d52764bd7b7678493a92460fb",
       "value": 2
      }
     }
    },
    "version_major": 2,
    "version_minor": 0
   }
  }
 },
 "nbformat": 4,
 "nbformat_minor": 5
}
