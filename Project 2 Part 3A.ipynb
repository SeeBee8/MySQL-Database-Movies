{
 "cells": [
  {
   "cell_type": "markdown",
   "id": "9f749832-cd8e-40ce-a0fd-73f319e01b91",
   "metadata": {},
   "source": [
    "# Project 2 Part 3A: Extract from TMDB (core)\n",
    "\n",
    "*Christina Brockway*"
   ]
  },
  {
   "cell_type": "markdown",
   "id": "3a4cfdd4-58ef-452e-b35e-81b24857ba29",
   "metadata": {},
   "source": [
    "## Business Problem:\n",
    "-  Produce a MySQL database from Movies to analyze what makes a movie successful.\n",
    "-  Provide recommendations to stakeholder on how to make a successful movie."
   ]
  },
  {
   "cell_type": "markdown",
   "id": "5338b06f-d4f4-4588-8557-a55cb0513e99",
   "metadata": {},
   "source": [
    "### Issues, Need More Data:\n",
    "-  Use TMDB database for financial data\n",
    "-  Extract Budge, Revenue, and MPAA Rating (Certification)\n",
    "-  Test API using 2001 and 2002 movies\n",
    "-  Save each year separately"
   ]
  },
  {
   "cell_type": "markdown",
   "id": "ffd0f168-ffa8-4751-b4a8-70f487efea11",
   "metadata": {},
   "source": [
    "#### Imports"
   ]
  },
  {
   "cell_type": "code",
   "execution_count": 1,
   "id": "03bba05d-86b5-4e30-8bc6-d087eedb8514",
   "metadata": {},
   "outputs": [],
   "source": [
    "#Import packages\n",
    "import os, time, json\n",
    "import tmdbsimple as tmdb\n",
    "import pandas as pd\n",
    "import matplotlib.pyplot as plt\n",
    "import seaborn as sns\n",
    "from tqdm.notebook import tqdm_notebook"
   ]
  },
  {
   "cell_type": "code",
   "execution_count": 2,
   "id": "3fa0e49c-ab00-46dd-9760-ca2dc9966581",
   "metadata": {},
   "outputs": [
    {
     "data": {
      "text/plain": [
       "['.ipynb_checkpoints', 'basics_data.csv.gz', 'ratings_data.csv.gz']"
      ]
     },
     "execution_count": 2,
     "metadata": {},
     "output_type": "execute_result"
    }
   ],
   "source": [
    "FOLDER = 'MovieData/'\n",
    "os.makedirs({FOLDER}, exist_ok = True)\n",
    "os.listdir({FOLDER})"
   ]
  },
  {
   "cell_type": "markdown",
   "id": "eba000ca-80b5-4f3b-9325-65473f86a278",
   "metadata": {},
   "source": [
    "#### Load API Key"
   ]
  },
  {
   "cell_type": "code",
   "execution_count": 3,
   "id": "2e073279-7fde-4f6c-9123-dcfb83bb0684",
   "metadata": {},
   "outputs": [
    {
     "data": {
      "text/plain": [
       "dict_keys(['api_key'])"
      ]
     },
     "execution_count": 3,
     "metadata": {},
     "output_type": "execute_result"
    }
   ],
   "source": [
    "with open('/Users/csbro/.secret/tmdb_api.json', 'r') as f:\n",
    "    login = json.load(f)\n",
    "login.keys()"
   ]
  },
  {
   "cell_type": "code",
   "execution_count": 4,
   "id": "5caf503b-4405-4d9a-bb0e-bdf6ea129b25",
   "metadata": {},
   "outputs": [],
   "source": [
    "tmdb.API_KEY = login['api_key']"
   ]
  },
  {
   "cell_type": "markdown",
   "id": "eba6eb2d-31fe-48b8-ac10-67608f4ea484",
   "metadata": {},
   "source": [
    "#### Define Functions and variables"
   ]
  },
  {
   "cell_type": "code",
   "execution_count": 5,
   "id": "14ab2465-791d-4b6b-a201-29453dd92a1b",
   "metadata": {},
   "outputs": [],
   "source": [
    "#Define list of years to get\n",
    "GET_YEARS = [2001, 2002]\n",
    "\n",
    "#create an empty list for errors\n",
    "errors=[]"
   ]
  },
  {
   "cell_type": "code",
   "execution_count": 6,
   "id": "24269d27-f5f4-4658-931c-823aac8cfcb1",
   "metadata": {},
   "outputs": [],
   "source": [
    "def get_movie_with_rating(movie_id):\n",
    "    #Get movie object using movie_id\n",
    "    movie= tmdb.Movies(movie_id)\n",
    "    #Save the dictionaries \n",
    "    movie_info = movie.info()\n",
    "    releases = movie.releases()\n",
    "    #Loop through countries for only US\n",
    "    for c in releases['countries']:\n",
    "        if c['iso_3166_1'] == 'US':\n",
    "            movie_info['certification']= c['certification']\n",
    "    return movie_info\n"
   ]
  },
  {
   "cell_type": "code",
   "execution_count": 7,
   "id": "b72ae52c-4ae4-441d-8b43-2077b566ca43",
   "metadata": {},
   "outputs": [],
   "source": [
    "def write_json(new_data, filename):\n",
    "    \"\"\"Appends a list of records (new_data) into a json file (filename).\n",
    "    Adapted from: https://www.geeksforgeeks.org/append-to-json-file-using-python/\"\"\"\n",
    "\n",
    "    with open(filename, 'r+') as file:\n",
    "        #Load existing data into dictionary\n",
    "        file_data = json.load(file)\n",
    "        #choose to extend or append\n",
    "        if (type(new_data) == list) & (type(file_data) == list):\n",
    "            file_data.extend(new_data)\n",
    "        else:\n",
    "            file_data.append(new_data)\n",
    "        #set file's current position at offset\n",
    "        file.seek(0)\n",
    "        #convert back to json\n",
    "        json.dump(file_data, file)"
   ]
  },
  {
   "cell_type": "markdown",
   "id": "46e55edc-c090-472f-b3cc-287ccf6202b3",
   "metadata": {},
   "source": [
    "#### Confirm API Function works"
   ]
  },
  {
   "cell_type": "code",
   "execution_count": 8,
   "id": "082ffd5b-0b63-4aff-a2d3-e451b83e0ee3",
   "metadata": {},
   "outputs": [
    {
     "data": {
      "text/html": [
       "<div>\n",
       "<style scoped>\n",
       "    .dataframe tbody tr th:only-of-type {\n",
       "        vertical-align: middle;\n",
       "    }\n",
       "\n",
       "    .dataframe tbody tr th {\n",
       "        vertical-align: top;\n",
       "    }\n",
       "\n",
       "    .dataframe thead th {\n",
       "        text-align: right;\n",
       "    }\n",
       "</style>\n",
       "<table border=\"1\" class=\"dataframe\">\n",
       "  <thead>\n",
       "    <tr style=\"text-align: right;\">\n",
       "      <th></th>\n",
       "      <th>adult</th>\n",
       "      <th>backdrop_path</th>\n",
       "      <th>belongs_to_collection</th>\n",
       "      <th>budget</th>\n",
       "      <th>genres</th>\n",
       "      <th>homepage</th>\n",
       "      <th>id</th>\n",
       "      <th>imdb_id</th>\n",
       "      <th>original_language</th>\n",
       "      <th>original_title</th>\n",
       "      <th>...</th>\n",
       "      <th>revenue</th>\n",
       "      <th>runtime</th>\n",
       "      <th>spoken_languages</th>\n",
       "      <th>status</th>\n",
       "      <th>tagline</th>\n",
       "      <th>title</th>\n",
       "      <th>video</th>\n",
       "      <th>vote_average</th>\n",
       "      <th>vote_count</th>\n",
       "      <th>certification</th>\n",
       "    </tr>\n",
       "  </thead>\n",
       "  <tbody>\n",
       "    <tr>\n",
       "      <th>0</th>\n",
       "      <td>False</td>\n",
       "      <td>/9BBTo63ANSmhC4e6r62OJFuK2GL.jpg</td>\n",
       "      <td>{'id': 86311, 'name': 'The Avengers Collection...</td>\n",
       "      <td>220000000</td>\n",
       "      <td>[{'id': 878, 'name': 'Science Fiction'}, {'id'...</td>\n",
       "      <td>https://www.marvel.com/movies/the-avengers</td>\n",
       "      <td>24428</td>\n",
       "      <td>tt0848228</td>\n",
       "      <td>en</td>\n",
       "      <td>The Avengers</td>\n",
       "      <td>...</td>\n",
       "      <td>1518815515</td>\n",
       "      <td>143</td>\n",
       "      <td>[{'english_name': 'English', 'iso_639_1': 'en'...</td>\n",
       "      <td>Released</td>\n",
       "      <td>Some assembly required.</td>\n",
       "      <td>The Avengers</td>\n",
       "      <td>False</td>\n",
       "      <td>7.711</td>\n",
       "      <td>29282</td>\n",
       "      <td>PG-13</td>\n",
       "    </tr>\n",
       "    <tr>\n",
       "      <th>1</th>\n",
       "      <td>False</td>\n",
       "      <td>/qom1SZSENdmHFNZBXbtJAU0WTlC.jpg</td>\n",
       "      <td>None</td>\n",
       "      <td>29000000</td>\n",
       "      <td>[{'id': 10749, 'name': 'Romance'}, {'id': 18, ...</td>\n",
       "      <td>http://www.newline.com/properties/notebookthe....</td>\n",
       "      <td>11036</td>\n",
       "      <td>tt0332280</td>\n",
       "      <td>en</td>\n",
       "      <td>The Notebook</td>\n",
       "      <td>...</td>\n",
       "      <td>115603229</td>\n",
       "      <td>123</td>\n",
       "      <td>[{'english_name': 'English', 'iso_639_1': 'en'...</td>\n",
       "      <td>Released</td>\n",
       "      <td>Behind every great love is a great story.</td>\n",
       "      <td>The Notebook</td>\n",
       "      <td>False</td>\n",
       "      <td>7.881</td>\n",
       "      <td>10691</td>\n",
       "      <td>PG-13</td>\n",
       "    </tr>\n",
       "  </tbody>\n",
       "</table>\n",
       "<p>2 rows × 26 columns</p>\n",
       "</div>"
      ],
      "text/plain": [
       "   adult                     backdrop_path  \\\n",
       "0  False  /9BBTo63ANSmhC4e6r62OJFuK2GL.jpg   \n",
       "1  False  /qom1SZSENdmHFNZBXbtJAU0WTlC.jpg   \n",
       "\n",
       "                               belongs_to_collection     budget  \\\n",
       "0  {'id': 86311, 'name': 'The Avengers Collection...  220000000   \n",
       "1                                               None   29000000   \n",
       "\n",
       "                                              genres  \\\n",
       "0  [{'id': 878, 'name': 'Science Fiction'}, {'id'...   \n",
       "1  [{'id': 10749, 'name': 'Romance'}, {'id': 18, ...   \n",
       "\n",
       "                                            homepage     id    imdb_id  \\\n",
       "0         https://www.marvel.com/movies/the-avengers  24428  tt0848228   \n",
       "1  http://www.newline.com/properties/notebookthe....  11036  tt0332280   \n",
       "\n",
       "  original_language original_title  ...     revenue  runtime  \\\n",
       "0                en   The Avengers  ...  1518815515      143   \n",
       "1                en   The Notebook  ...   115603229      123   \n",
       "\n",
       "                                    spoken_languages    status  \\\n",
       "0  [{'english_name': 'English', 'iso_639_1': 'en'...  Released   \n",
       "1  [{'english_name': 'English', 'iso_639_1': 'en'...  Released   \n",
       "\n",
       "                                     tagline         title  video  \\\n",
       "0                    Some assembly required.  The Avengers  False   \n",
       "1  Behind every great love is a great story.  The Notebook  False   \n",
       "\n",
       "   vote_average vote_count certification  \n",
       "0         7.711      29282         PG-13  \n",
       "1         7.881      10691         PG-13  \n",
       "\n",
       "[2 rows x 26 columns]"
      ]
     },
     "execution_count": 8,
     "metadata": {},
     "output_type": "execute_result"
    }
   ],
   "source": [
    "test= [\"tt0848228\", \"tt0332280\"]\n",
    "results= []\n",
    "for movie_id in test:\n",
    "    movie_info = get_movie_with_rating(movie_id)\n",
    "    results.append(movie_info)\n",
    "pd.DataFrame(results)"
   ]
  },
  {
   "cell_type": "markdown",
   "id": "9527fe57-2a06-484e-a6c7-16a7ce6590d2",
   "metadata": {},
   "source": [
    "### Load in Data"
   ]
  },
  {
   "cell_type": "code",
   "execution_count": 9,
   "id": "aaa4179c-fd3e-4721-a187-ce39d617f16c",
   "metadata": {},
   "outputs": [
    {
     "data": {
      "text/html": [
       "<div>\n",
       "<style scoped>\n",
       "    .dataframe tbody tr th:only-of-type {\n",
       "        vertical-align: middle;\n",
       "    }\n",
       "\n",
       "    .dataframe tbody tr th {\n",
       "        vertical-align: top;\n",
       "    }\n",
       "\n",
       "    .dataframe thead th {\n",
       "        text-align: right;\n",
       "    }\n",
       "</style>\n",
       "<table border=\"1\" class=\"dataframe\">\n",
       "  <thead>\n",
       "    <tr style=\"text-align: right;\">\n",
       "      <th></th>\n",
       "      <th>tconst</th>\n",
       "      <th>titleType</th>\n",
       "      <th>primaryTitle</th>\n",
       "      <th>originalTitle</th>\n",
       "      <th>isAdult</th>\n",
       "      <th>startYear</th>\n",
       "      <th>endYear</th>\n",
       "      <th>runtimeMinutes</th>\n",
       "      <th>genres</th>\n",
       "    </tr>\n",
       "  </thead>\n",
       "  <tbody>\n",
       "    <tr>\n",
       "      <th>0</th>\n",
       "      <td>tt0035423</td>\n",
       "      <td>movie</td>\n",
       "      <td>Kate &amp; Leopold</td>\n",
       "      <td>Kate &amp; Leopold</td>\n",
       "      <td>0</td>\n",
       "      <td>2001.0</td>\n",
       "      <td>NaN</td>\n",
       "      <td>118</td>\n",
       "      <td>Comedy,Fantasy,Romance</td>\n",
       "    </tr>\n",
       "    <tr>\n",
       "      <th>1</th>\n",
       "      <td>tt0062336</td>\n",
       "      <td>movie</td>\n",
       "      <td>The Tango of the Widower and Its Distorting Mi...</td>\n",
       "      <td>El tango del viudo y su espejo deformante</td>\n",
       "      <td>0</td>\n",
       "      <td>2020.0</td>\n",
       "      <td>NaN</td>\n",
       "      <td>70</td>\n",
       "      <td>Drama</td>\n",
       "    </tr>\n",
       "  </tbody>\n",
       "</table>\n",
       "</div>"
      ],
      "text/plain": [
       "      tconst titleType                                       primaryTitle  \\\n",
       "0  tt0035423     movie                                     Kate & Leopold   \n",
       "1  tt0062336     movie  The Tango of the Widower and Its Distorting Mi...   \n",
       "\n",
       "                               originalTitle  isAdult  startYear  endYear  \\\n",
       "0                             Kate & Leopold        0     2001.0      NaN   \n",
       "1  El tango del viudo y su espejo deformante        0     2020.0      NaN   \n",
       "\n",
       "   runtimeMinutes                  genres  \n",
       "0             118  Comedy,Fantasy,Romance  \n",
       "1              70                   Drama  "
      ]
     },
     "execution_count": 9,
     "metadata": {},
     "output_type": "execute_result"
    }
   ],
   "source": [
    "basics = pd.read_csv(\"data/basics-filtered.csv\")\n",
    "basics.head(2)"
   ]
  },
  {
   "cell_type": "markdown",
   "id": "b8bd9264-3a2d-4925-8af2-4bd920b8309e",
   "metadata": {},
   "source": [
    "### Create Inner and Outer Loops"
   ]
  },
  {
   "cell_type": "code",
   "execution_count": 10,
   "id": "28a98b2f-e1c4-490d-8990-264dc4a351e2",
   "metadata": {},
   "outputs": [
    {
     "data": {
      "application/vnd.jupyter.widget-view+json": {
       "model_id": "ad2e8b4692254f40b3c04fa64a45cc9d",
       "version_major": 2,
       "version_minor": 0
      },
      "text/plain": [
       "YEARS:   0%|          | 0/2 [00:00<?, ?it/s]"
      ]
     },
     "metadata": {},
     "output_type": "display_data"
    },
    {
     "name": "stdout",
     "output_type": "stream",
     "text": [
      "Creating json file for API results for 2001\n"
     ]
    },
    {
     "data": {
      "application/vnd.jupyter.widget-view+json": {
       "model_id": "c02753d6ed244eeca339ae4cf20bcaf7",
       "version_major": 2,
       "version_minor": 0
      },
      "text/plain": [
       "Movies from 2001:   0%|          | 0/1576 [00:00<?, ?it/s]"
      ]
     },
     "metadata": {},
     "output_type": "display_data"
    },
    {
     "name": "stdout",
     "output_type": "stream",
     "text": [
      " - Total Errors: 219\n",
      "Creating json file for API results for 2002\n"
     ]
    },
    {
     "data": {
      "application/vnd.jupyter.widget-view+json": {
       "model_id": "784786918050413aa77c60c7300c9018",
       "version_major": 2,
       "version_minor": 0
      },
      "text/plain": [
       "Movies from 2002:   0%|          | 0/1572 [00:00<?, ?it/s]"
      ]
     },
     "metadata": {},
     "output_type": "display_data"
    },
    {
     "name": "stdout",
     "output_type": "stream",
     "text": [
      " - Total Errors: 497\n"
     ]
    }
   ],
   "source": [
    "##OUTER LOOP\n",
    "for YEAR in tqdm_notebook(GET_YEARS, desc='YEARS', position=0):\n",
    "  \n",
    "    #Prepare DF for json file\n",
    "    JSON_MOVIE= f'{FOLDER}tmdb_api_results {YEAR}.json'\n",
    "        #Check if file exists\n",
    "    file_exists = os.path.isfile(JSON_MOVIE)\n",
    "    \n",
    "    if file_exists == False:\n",
    "        print(f'Creating json file for API results for {YEAR}')\n",
    "        with open(JSON_MOVIE, 'w') as f:\n",
    "            json.dump([{'imdb_id':0}], f)\n",
    "    else: \n",
    "        print(f'{JSON_MOVIE} already exists.')\n",
    "    \n",
    "    #Saving 2010  as the current df\n",
    "    df = basics.loc[basics['startYear'] == YEAR].copy()\n",
    "    #saving movie_id to separate variable\n",
    "    movie_ids = df['tconst'].copy() #.to_list()\n",
    "\n",
    "    #Load exisiting data from json into DF called previous_df\n",
    "    previous_df = pd.read_json(JSON_MOVIE)\n",
    "\n",
    "    #filter out any ids that are already in the file\n",
    "    needed_mids = movie_ids[~movie_ids.isin(previous_df['imdb_id'])]\n",
    "\n",
    "    #INNER LOOP\n",
    "    for movie_id in tqdm_notebook(needed_mids,\n",
    "                                  desc=f'Movies from {YEAR}',\n",
    "                                  position=1,\n",
    "                                  leave=True):\n",
    "        try:\n",
    "            temp = get_movie_with_rating(movie_id)\n",
    "            #Append/Extend results to json file\n",
    "            write_json(temp, JSON_MOVIE)\n",
    "            time.sleep(0.02)\n",
    "        except Exception as e:\n",
    "            errors.append([movie_id, e])\n",
    "\n",
    "    print(f' - Total Errors: {len(errors)}')    \n",
    "\n",
    "\n",
    "    final_year_df = pd.read_json(JSON_MOVIE)\n",
    "    final_year_df.to_csv(f\"{FOLDER}final_tmdb_data_{YEAR}.csv.gz\", compression= 'gzip', index=False)"
   ]
  },
  {
   "cell_type": "code",
   "execution_count": null,
   "id": "4e0f6663-3e2b-4714-95e2-04b74f8db507",
   "metadata": {},
   "outputs": [],
   "source": []
  }
 ],
 "metadata": {
  "kernelspec": {
   "display_name": "Python (dojo-env)",
   "language": "python",
   "name": "dojo-env"
  },
  "language_info": {
   "codemirror_mode": {
    "name": "ipython",
    "version": 3
   },
   "file_extension": ".py",
   "mimetype": "text/x-python",
   "name": "python",
   "nbconvert_exporter": "python",
   "pygments_lexer": "ipython3",
   "version": "3.10.10"
  },
  "widgets": {
   "application/vnd.jupyter.widget-state+json": {
    "state": {
     "0033fe1c9b524a5f99ebfb7b2f916e63": {
      "model_module": "@jupyter-widgets/controls",
      "model_module_version": "2.0.0",
      "model_name": "HTMLStyleModel",
      "state": {
       "description_width": "",
       "font_size": null,
       "text_color": null
      }
     },
     "01789d214a044e9f84cd93f906ae27ea": {
      "model_module": "@jupyter-widgets/controls",
      "model_module_version": "2.0.0",
      "model_name": "HTMLModel",
      "state": {
       "layout": "IPY_MODEL_b4e8d9c35b434acfaa700c4330f609fe",
       "style": "IPY_MODEL_e3a20a811793432a870e74e82808961d",
       "value": " 2/2 [30:53&lt;00:00, 921.87s/it]"
      }
     },
     "0904ea7f7f3f41bb8e153aadad3af624": {
      "model_module": "@jupyter-widgets/controls",
      "model_module_version": "2.0.0",
      "model_name": "ProgressStyleModel",
      "state": {
       "description_width": ""
      }
     },
     "13c9a91071ac4e24bf484e1eba63df4d": {
      "model_module": "@jupyter-widgets/controls",
      "model_module_version": "2.0.0",
      "model_name": "FloatProgressModel",
      "state": {
       "bar_style": "success",
       "layout": "IPY_MODEL_d34eb02125d441e2b4cdf275549d6eaf",
       "max": 2,
       "style": "IPY_MODEL_6772a3a6385446bf8d70966d3c1e625b",
       "value": 2
      }
     },
     "1477e2a1d4bd41ab83757ee72cf52200": {
      "model_module": "@jupyter-widgets/controls",
      "model_module_version": "2.0.0",
      "model_name": "HTMLStyleModel",
      "state": {
       "description_width": "",
       "font_size": null,
       "text_color": null
      }
     },
     "15cf8399fed248ef8c117477f4bd4f4a": {
      "model_module": "@jupyter-widgets/controls",
      "model_module_version": "2.0.0",
      "model_name": "HTMLModel",
      "state": {
       "layout": "IPY_MODEL_7be25f19b5c2435595ed438b1f8732f4",
       "style": "IPY_MODEL_7b798bf1e02a4fc3a4e1c34818ad318e",
       "value": " 1572/1572 [14:58&lt;00:00,  2.54it/s]"
      }
     },
     "19491580bf034d1a90c062f9dc0470a0": {
      "model_module": "@jupyter-widgets/base",
      "model_module_version": "2.0.0",
      "model_name": "LayoutModel",
      "state": {}
     },
     "3d7bcca83f6d480f861f71e6acd8ca9a": {
      "model_module": "@jupyter-widgets/base",
      "model_module_version": "2.0.0",
      "model_name": "LayoutModel",
      "state": {}
     },
     "4eeb29d334414d74ab60d712fa811a78": {
      "model_module": "@jupyter-widgets/base",
      "model_module_version": "2.0.0",
      "model_name": "LayoutModel",
      "state": {}
     },
     "6772a3a6385446bf8d70966d3c1e625b": {
      "model_module": "@jupyter-widgets/controls",
      "model_module_version": "2.0.0",
      "model_name": "ProgressStyleModel",
      "state": {
       "description_width": ""
      }
     },
     "6c67da97910b439fa2974f7c8ab4cc8d": {
      "model_module": "@jupyter-widgets/base",
      "model_module_version": "2.0.0",
      "model_name": "LayoutModel",
      "state": {}
     },
     "77f6140e42664225ae32e895656f4aee": {
      "model_module": "@jupyter-widgets/base",
      "model_module_version": "2.0.0",
      "model_name": "LayoutModel",
      "state": {}
     },
     "784786918050413aa77c60c7300c9018": {
      "model_module": "@jupyter-widgets/controls",
      "model_module_version": "2.0.0",
      "model_name": "HBoxModel",
      "state": {
       "children": [
        "IPY_MODEL_d0d55563143d4d29a6973fbd3747498f",
        "IPY_MODEL_ee52f44c552d4e78b363d230e909126c",
        "IPY_MODEL_15cf8399fed248ef8c117477f4bd4f4a"
       ],
       "layout": "IPY_MODEL_dac86a1a2c0644b1a3fd54ea628bd9bd"
      }
     },
     "7b798bf1e02a4fc3a4e1c34818ad318e": {
      "model_module": "@jupyter-widgets/controls",
      "model_module_version": "2.0.0",
      "model_name": "HTMLStyleModel",
      "state": {
       "description_width": "",
       "font_size": null,
       "text_color": null
      }
     },
     "7be25f19b5c2435595ed438b1f8732f4": {
      "model_module": "@jupyter-widgets/base",
      "model_module_version": "2.0.0",
      "model_name": "LayoutModel",
      "state": {}
     },
     "843f6690e42f4892b7feb1c7d1766ec3": {
      "model_module": "@jupyter-widgets/controls",
      "model_module_version": "2.0.0",
      "model_name": "HTMLModel",
      "state": {
       "layout": "IPY_MODEL_4eeb29d334414d74ab60d712fa811a78",
       "style": "IPY_MODEL_8c4dbd5bc899427b9c759c04d35eb873",
       "value": " 1576/1576 [15:55&lt;00:00,  2.82it/s]"
      }
     },
     "8c4dbd5bc899427b9c759c04d35eb873": {
      "model_module": "@jupyter-widgets/controls",
      "model_module_version": "2.0.0",
      "model_name": "HTMLStyleModel",
      "state": {
       "description_width": "",
       "font_size": null,
       "text_color": null
      }
     },
     "95e4d12494754bd0ad13e565f4167512": {
      "model_module": "@jupyter-widgets/base",
      "model_module_version": "2.0.0",
      "model_name": "LayoutModel",
      "state": {}
     },
     "989fded6b5774febb1b271acd4404539": {
      "model_module": "@jupyter-widgets/controls",
      "model_module_version": "2.0.0",
      "model_name": "FloatProgressModel",
      "state": {
       "bar_style": "success",
       "layout": "IPY_MODEL_3d7bcca83f6d480f861f71e6acd8ca9a",
       "max": 1576,
       "style": "IPY_MODEL_0904ea7f7f3f41bb8e153aadad3af624",
       "value": 1576
      }
     },
     "a376a35ebc6a4a6cbc3f8ad3a3cd623e": {
      "model_module": "@jupyter-widgets/controls",
      "model_module_version": "2.0.0",
      "model_name": "HTMLModel",
      "state": {
       "layout": "IPY_MODEL_19491580bf034d1a90c062f9dc0470a0",
       "style": "IPY_MODEL_0033fe1c9b524a5f99ebfb7b2f916e63",
       "value": "Movies from 2001: 100%"
      }
     },
     "a9b7184fa6064508a597b8687e92f97d": {
      "model_module": "@jupyter-widgets/base",
      "model_module_version": "2.0.0",
      "model_name": "LayoutModel",
      "state": {}
     },
     "ad2e8b4692254f40b3c04fa64a45cc9d": {
      "model_module": "@jupyter-widgets/controls",
      "model_module_version": "2.0.0",
      "model_name": "HBoxModel",
      "state": {
       "children": [
        "IPY_MODEL_fd62837baa58465d8b8627a78f619967",
        "IPY_MODEL_13c9a91071ac4e24bf484e1eba63df4d",
        "IPY_MODEL_01789d214a044e9f84cd93f906ae27ea"
       ],
       "layout": "IPY_MODEL_77f6140e42664225ae32e895656f4aee"
      }
     },
     "b4e8d9c35b434acfaa700c4330f609fe": {
      "model_module": "@jupyter-widgets/base",
      "model_module_version": "2.0.0",
      "model_name": "LayoutModel",
      "state": {}
     },
     "c02753d6ed244eeca339ae4cf20bcaf7": {
      "model_module": "@jupyter-widgets/controls",
      "model_module_version": "2.0.0",
      "model_name": "HBoxModel",
      "state": {
       "children": [
        "IPY_MODEL_a376a35ebc6a4a6cbc3f8ad3a3cd623e",
        "IPY_MODEL_989fded6b5774febb1b271acd4404539",
        "IPY_MODEL_843f6690e42f4892b7feb1c7d1766ec3"
       ],
       "layout": "IPY_MODEL_c694f8db39b0446e8b8cb5458c9da37e"
      }
     },
     "c35b98b81be841b98b0369541fb769f8": {
      "model_module": "@jupyter-widgets/controls",
      "model_module_version": "2.0.0",
      "model_name": "ProgressStyleModel",
      "state": {
       "description_width": ""
      }
     },
     "c694f8db39b0446e8b8cb5458c9da37e": {
      "model_module": "@jupyter-widgets/base",
      "model_module_version": "2.0.0",
      "model_name": "LayoutModel",
      "state": {}
     },
     "d0d55563143d4d29a6973fbd3747498f": {
      "model_module": "@jupyter-widgets/controls",
      "model_module_version": "2.0.0",
      "model_name": "HTMLModel",
      "state": {
       "layout": "IPY_MODEL_a9b7184fa6064508a597b8687e92f97d",
       "style": "IPY_MODEL_1477e2a1d4bd41ab83757ee72cf52200",
       "value": "Movies from 2002: 100%"
      }
     },
     "d34eb02125d441e2b4cdf275549d6eaf": {
      "model_module": "@jupyter-widgets/base",
      "model_module_version": "2.0.0",
      "model_name": "LayoutModel",
      "state": {}
     },
     "dac86a1a2c0644b1a3fd54ea628bd9bd": {
      "model_module": "@jupyter-widgets/base",
      "model_module_version": "2.0.0",
      "model_name": "LayoutModel",
      "state": {}
     },
     "e3a20a811793432a870e74e82808961d": {
      "model_module": "@jupyter-widgets/controls",
      "model_module_version": "2.0.0",
      "model_name": "HTMLStyleModel",
      "state": {
       "description_width": "",
       "font_size": null,
       "text_color": null
      }
     },
     "eafc122df23845538ceff19123610b85": {
      "model_module": "@jupyter-widgets/controls",
      "model_module_version": "2.0.0",
      "model_name": "HTMLStyleModel",
      "state": {
       "description_width": "",
       "font_size": null,
       "text_color": null
      }
     },
     "ee52f44c552d4e78b363d230e909126c": {
      "model_module": "@jupyter-widgets/controls",
      "model_module_version": "2.0.0",
      "model_name": "FloatProgressModel",
      "state": {
       "bar_style": "success",
       "layout": "IPY_MODEL_95e4d12494754bd0ad13e565f4167512",
       "max": 1572,
       "style": "IPY_MODEL_c35b98b81be841b98b0369541fb769f8",
       "value": 1572
      }
     },
     "fd62837baa58465d8b8627a78f619967": {
      "model_module": "@jupyter-widgets/controls",
      "model_module_version": "2.0.0",
      "model_name": "HTMLModel",
      "state": {
       "layout": "IPY_MODEL_6c67da97910b439fa2974f7c8ab4cc8d",
       "style": "IPY_MODEL_eafc122df23845538ceff19123610b85",
       "value": "YEARS: 100%"
      }
     }
    },
    "version_major": 2,
    "version_minor": 0
   }
  }
 },
 "nbformat": 4,
 "nbformat_minor": 5
}
