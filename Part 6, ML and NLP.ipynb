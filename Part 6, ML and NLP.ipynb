{
 "cells": [
  {
   "cell_type": "markdown",
   "id": "6dfa3dab-13c7-4836-97b1-98ae7f1384ef",
   "metadata": {},
   "source": [
    "# Part 6 Machine Learning and Deep NLP\n",
    "\n",
    "*Christina Brockway*"
   ]
  },
  {
   "cell_type": "markdown",
   "id": "6f95dd63-db87-4ae3-bf5d-c22f7d4461ff",
   "metadata": {},
   "source": [
    "### Tasks:"
   ]
  },
  {
   "cell_type": "markdown",
   "id": "c693eb7e-dfa4-45cb-bf2c-c1bbaa9c1d33",
   "metadata": {},
   "source": [
    "**Machine Learning Model**\n",
    "-  Drop any reviews that don't have a rating\n",
    "-  Use original review column as X and classification as y\n",
    "-  Use modeling pipelines with text vectorizer and model in same pipeline\n",
    "    -  Select a sklearn vectorizer\n",
    "    -  Select a Classificatation model\n",
    "-  Fit and evaluate the model\n",
    "-  Document observations from results "
   ]
  },
  {
   "cell_type": "markdown",
   "id": "ee7ce22d-db8e-4627-98c0-618585b3aeff",
   "metadata": {},
   "source": [
    "**Improve Model GridSearch Text Vectorization**\n",
    "-  Construct a grid of parameters\n",
    "-  Fit and evaluate grid search results\n",
    "-  Document:\n",
    "    -  What were best parameters?\n",
    "    -  How does the best estimator perform? "
   ]
  },
  {
   "cell_type": "markdown",
   "id": "7051d1b4-b220-4b55-8094-c2b0895b38a5",
   "metadata": {},
   "source": [
    "**Deep NLP (RNN)**\n",
    "-  Create train/test/validation datasets\n",
    "    -  Convert target categories to integers using LabelEncoder\n",
    "    -  Create tensorflow dataset using X and y\n",
    "    -  Split data\n",
    "-  Create Keras Text Vectorization Layer\n",
    "    -  Create Keras Text Vectorization layer for RNN model\n",
    "    -  Fit/Adapt on training text\n",
    "    -  Save Vocabulary size to use in embedding layer\n",
    "-  Build RNN\n",
    "-  Fit and Evaluate the model\n",
    "-  Document observations"
   ]
  },
  {
   "cell_type": "markdown",
   "id": "14b5cf73-62b0-4c03-b744-a1d36dbd3246",
   "metadata": {},
   "source": [
    "#### Load Data and Imports"
   ]
  },
  {
   "cell_type": "code",
   "execution_count": 1,
   "id": "a520f344-fa23-4991-9e5e-c9f3d463ee48",
   "metadata": {},
   "outputs": [],
   "source": [
    "  #  !pip install Unidecode"
   ]
  },
  {
   "cell_type": "code",
   "execution_count": 2,
   "id": "53eacbfe-78d1-40f1-ba3f-3204dc977079",
   "metadata": {},
   "outputs": [],
   "source": [
    "import pandas as pd\n",
    "import numpy as np\n",
    "import matplotlib.pyplot as plt\n",
    "import seaborn as sns\n",
    "import re\n",
    "import tensorflow as tf\n",
    "\n",
    "from sklearn.model_selection import train_test_split, GridSearchCV\n",
    "from sklearn.pipeline import Pipeline\n",
    "from sklearn.feature_extraction.text import TfidfVectorizer, CountVectorizer\n",
    "from sklearn.ensemble import RandomForestClassifier\n",
    "from sklearn.preprocessing import LabelEncoder\n",
    "\n",
    "from tensorflow.keras.layers import TextVectorization\n",
    "from tensorflow.keras import layers\n",
    "from tensorflow.keras import optimizers\n",
    "from tensorflow.keras.models import Sequential\n",
    "\n",
    "from sklearn import set_config\n",
    "set_config(transform_output='pandas')\n",
    "\n",
    "from sklearn import metrics\n",
    "\n",
    "\n",
    "import nltk\n",
    "from nltk.tokenize import word_tokenize\n",
    "from nltk import ngrams\n",
    "\n",
    "import spacy\n",
    "nlp=spacy.load('en_core_web_sm')\n",
    "\n",
    "import joblib\n",
    "\n",
    "%load_ext autoreload\n",
    "%autoreload 2\n",
    "import my_functions as mf\n",
    "    \n",
    "from sklearn import set_config\n",
    "set_config(transform_output='pandas')    \n",
    "pd.set_option('display.max_colwidth',300)"
   ]
  },
  {
   "cell_type": "code",
   "execution_count": 3,
   "id": "894953c3-ccc5-4cbf-b70a-fd6c99043c18",
   "metadata": {},
   "outputs": [],
   "source": [
    "import sys, os\n",
    "# Check sys.path for python path\n",
    "sys.path\n",
    "#Get the absolute file path of parent directory\n",
    "os.path.abspath('../')\n",
    "#Add parent directory to python path\n",
    "sys.path.append( os.path.abspath('../'))\n"
   ]
  },
  {
   "cell_type": "code",
   "execution_count": 4,
   "id": "a29ab606-d547-47fa-bf9f-998a7193e076",
   "metadata": {},
   "outputs": [
    {
     "data": {
      "text/html": [
       "<div>\n",
       "<style scoped>\n",
       "    .dataframe tbody tr th:only-of-type {\n",
       "        vertical-align: middle;\n",
       "    }\n",
       "\n",
       "    .dataframe tbody tr th {\n",
       "        vertical-align: top;\n",
       "    }\n",
       "\n",
       "    .dataframe thead th {\n",
       "        text-align: right;\n",
       "    }\n",
       "</style>\n",
       "<table border=\"1\" class=\"dataframe\">\n",
       "  <thead>\n",
       "    <tr style=\"text-align: right;\">\n",
       "      <th></th>\n",
       "      <th>review</th>\n",
       "      <th>rating</th>\n",
       "      <th>html</th>\n",
       "      <th>length</th>\n",
       "      <th>tokens</th>\n",
       "      <th>lemmas</th>\n",
       "      <th>tokens-joined</th>\n",
       "      <th>lemmas-joined</th>\n",
       "    </tr>\n",
       "  </thead>\n",
       "  <tbody>\n",
       "    <tr>\n",
       "      <th>1</th>\n",
       "      <td>a guilty pleasure for me personally, as i love both 'the great escape' and most of the works i have seen, over the years, from this rightfully-esteemed british animation company. highly recommended both for children and for adults who enjoy animation.</td>\n",
       "      <td>9.0</td>\n",
       "      <td>NaN</td>\n",
       "      <td>251</td>\n",
       "      <td>[guilty, pleasure, personally, love, great, escape, work, see, year, rightfully, esteem, british, animation, company, highly, recommend, child, adult, enjoy, animation]</td>\n",
       "      <td>[guilty, pleasure, personally, love, great, escape, work, see, year, rightfully, esteem, british, animation, company, highly, recommend, child, adult, enjoy, animation]</td>\n",
       "      <td>guilty pleasure personally love great escape work see year rightfully esteem british animation company highly recommend child adult enjoy animation</td>\n",
       "      <td>guilty pleasure personally love great escape work see year rightfully esteem british animation company highly recommend child adult enjoy animation</td>\n",
       "    </tr>\n",
       "  </tbody>\n",
       "</table>\n",
       "</div>"
      ],
      "text/plain": [
       "                                                                                                                                                                                                                                                        review  \\\n",
       "1  a guilty pleasure for me personally, as i love both 'the great escape' and most of the works i have seen, over the years, from this rightfully-esteemed british animation company. highly recommended both for children and for adults who enjoy animation.   \n",
       "\n",
       "   rating html  length  \\\n",
       "1     9.0  NaN     251   \n",
       "\n",
       "                                                                                                                                                                     tokens  \\\n",
       "1  [guilty, pleasure, personally, love, great, escape, work, see, year, rightfully, esteem, british, animation, company, highly, recommend, child, adult, enjoy, animation]   \n",
       "\n",
       "                                                                                                                                                                     lemmas  \\\n",
       "1  [guilty, pleasure, personally, love, great, escape, work, see, year, rightfully, esteem, british, animation, company, highly, recommend, child, adult, enjoy, animation]   \n",
       "\n",
       "                                                                                                                                         tokens-joined  \\\n",
       "1  guilty pleasure personally love great escape work see year rightfully esteem british animation company highly recommend child adult enjoy animation   \n",
       "\n",
       "                                                                                                                                         lemmas-joined  \n",
       "1  guilty pleasure personally love great escape work see year rightfully esteem british animation company highly recommend child adult enjoy animation  "
      ]
     },
     "execution_count": 4,
     "metadata": {},
     "output_type": "execute_result"
    }
   ],
   "source": [
    "df = joblib.load('data-NLP/processed_data.joblib')\n",
    "df.head(1)"
   ]
  },
  {
   "cell_type": "code",
   "execution_count": 5,
   "id": "e4ce7c53-e40f-47cc-81e7-4bd9ae65221a",
   "metadata": {},
   "outputs": [
    {
     "name": "stdout",
     "output_type": "stream",
     "text": [
      "<class 'pandas.core.frame.DataFrame'>\n",
      "Int64Index: 2422 entries, 1 to 8647\n",
      "Data columns (total 8 columns):\n",
      " #   Column         Non-Null Count  Dtype  \n",
      "---  ------         --------------  -----  \n",
      " 0   review         2422 non-null   object \n",
      " 1   rating         2422 non-null   float64\n",
      " 2   html           160 non-null    object \n",
      " 3   length         2422 non-null   int64  \n",
      " 4   tokens         2422 non-null   object \n",
      " 5   lemmas         2422 non-null   object \n",
      " 6   tokens-joined  2422 non-null   object \n",
      " 7   lemmas-joined  2422 non-null   object \n",
      "dtypes: float64(1), int64(1), object(6)\n",
      "memory usage: 170.3+ KB\n"
     ]
    }
   ],
   "source": [
    "df.info()"
   ]
  },
  {
   "cell_type": "code",
   "execution_count": 6,
   "id": "86ebe31d-e3b6-407d-b5f4-2044509be5f5",
   "metadata": {},
   "outputs": [
    {
     "name": "stdout",
     "output_type": "stream",
     "text": [
      "<class 'pandas.core.frame.DataFrame'>\n",
      "Int64Index: 2422 entries, 1 to 8647\n",
      "Data columns (total 2 columns):\n",
      " #   Column  Non-Null Count  Dtype  \n",
      "---  ------  --------------  -----  \n",
      " 0   review  2422 non-null   object \n",
      " 1   rating  2422 non-null   float64\n",
      "dtypes: float64(1), object(1)\n",
      "memory usage: 56.8+ KB\n"
     ]
    }
   ],
   "source": [
    "#drop reviews without a rating and irrelevent columns\n",
    "#There are no rows without ratings\n",
    "df=df.drop(columns=(['html', 'length','tokens','lemmas','tokens-joined','lemmas-joined']))\n",
    "df.info()\n"
   ]
  },
  {
   "cell_type": "code",
   "execution_count": 7,
   "id": "d202e113-e7db-4791-8cdb-9f45d96422c6",
   "metadata": {},
   "outputs": [],
   "source": [
    "#Split into high and low reviews\n",
    "dff = df.copy()\n",
    "def rating_groups(x):\n",
    "    if x>=8.5:\n",
    "        return \"high\"\n",
    "    elif x <=4.0:\n",
    "        return \"low\"\n",
    "    else: \n",
    "        return None"
   ]
  },
  {
   "cell_type": "code",
   "execution_count": 8,
   "id": "6751541d-a90d-4627-9540-d892d5318518",
   "metadata": {},
   "outputs": [
    {
     "data": {
      "text/plain": [
       "low     1223\n",
       "high    1199\n",
       "Name: label, dtype: int64"
      ]
     },
     "execution_count": 8,
     "metadata": {},
     "output_type": "execute_result"
    }
   ],
   "source": [
    "dff['label'] = df['rating'].map(rating_groups)\n",
    "dff['label'].value_counts()"
   ]
  },
  {
   "cell_type": "code",
   "execution_count": 9,
   "id": "72ebd9eb-6fce-4b8a-8a42-f8d6e0a4b021",
   "metadata": {},
   "outputs": [
    {
     "data": {
      "text/html": [
       "<div>\n",
       "<style scoped>\n",
       "    .dataframe tbody tr th:only-of-type {\n",
       "        vertical-align: middle;\n",
       "    }\n",
       "\n",
       "    .dataframe tbody tr th {\n",
       "        vertical-align: top;\n",
       "    }\n",
       "\n",
       "    .dataframe thead th {\n",
       "        text-align: right;\n",
       "    }\n",
       "</style>\n",
       "<table border=\"1\" class=\"dataframe\">\n",
       "  <thead>\n",
       "    <tr style=\"text-align: right;\">\n",
       "      <th></th>\n",
       "      <th>review</th>\n",
       "      <th>rating</th>\n",
       "      <th>label</th>\n",
       "    </tr>\n",
       "  </thead>\n",
       "  <tbody>\n",
       "    <tr>\n",
       "      <th>1</th>\n",
       "      <td>a guilty pleasure for me personally, as i love both 'the great escape' and most of the works i have seen, over the years, from this rightfully-esteemed british animation company. highly recommended both for children and for adults who enjoy animation.</td>\n",
       "      <td>9.0</td>\n",
       "      <td>high</td>\n",
       "    </tr>\n",
       "    <tr>\n",
       "      <th>6</th>\n",
       "      <td>the first underwhelmed me, but this one straight-up bored me. again, of course seeing hunt climb a mountain without a harness is impressive sure. and i even quite liked the idea behind the villain of the piece (though even that angle was woefully underdeveloped).\\r\\n\\r\\neven setting it in predom...</td>\n",
       "      <td>3.0</td>\n",
       "      <td>low</td>\n",
       "    </tr>\n",
       "  </tbody>\n",
       "</table>\n",
       "</div>"
      ],
      "text/plain": [
       "                                                                                                                                                                                                                                                                                                        review  \\\n",
       "1                                                  a guilty pleasure for me personally, as i love both 'the great escape' and most of the works i have seen, over the years, from this rightfully-esteemed british animation company. highly recommended both for children and for adults who enjoy animation.   \n",
       "6  the first underwhelmed me, but this one straight-up bored me. again, of course seeing hunt climb a mountain without a harness is impressive sure. and i even quite liked the idea behind the villain of the piece (though even that angle was woefully underdeveloped).\\r\\n\\r\\neven setting it in predom...   \n",
       "\n",
       "   rating label  \n",
       "1     9.0  high  \n",
       "6     3.0   low  "
      ]
     },
     "execution_count": 9,
     "metadata": {},
     "output_type": "execute_result"
    }
   ],
   "source": [
    "dff.head(2)"
   ]
  },
  {
   "cell_type": "code",
   "execution_count": 10,
   "id": "f3febfee-86d7-4b64-9699-de45a7a3bb15",
   "metadata": {},
   "outputs": [],
   "source": [
    "dff=dff.drop(columns=('rating'))"
   ]
  },
  {
   "cell_type": "markdown",
   "id": "0d5cb3ca-38b4-4b04-a7a1-6b90cf2586a4",
   "metadata": {},
   "source": [
    "### Machine Learning Model"
   ]
  },
  {
   "cell_type": "code",
   "execution_count": 11,
   "id": "f877e9d7-3880-4146-80df-3c8733604702",
   "metadata": {},
   "outputs": [
    {
     "data": {
      "text/plain": [
       "high    0.503855\n",
       "low     0.496145\n",
       "Name: label, dtype: float64"
      ]
     },
     "execution_count": 11,
     "metadata": {},
     "output_type": "execute_result"
    }
   ],
   "source": [
    "#Define X and y\n",
    "X=dff['review']\n",
    "y=dff['label']\n",
    "\n",
    "#Train Test Split\n",
    "X_train, X_test, y_train, y_test=train_test_split(X, y, random_state=42)\n",
    "y_train.value_counts(normalize=True)"
   ]
  },
  {
   "cell_type": "code",
   "execution_count": 12,
   "id": "6c2e9827-b528-4191-ba91-d306905fadc4",
   "metadata": {},
   "outputs": [
    {
     "data": {
      "text/plain": [
       "606"
      ]
     },
     "execution_count": 12,
     "metadata": {},
     "output_type": "execute_result"
    }
   ],
   "source": [
    "len(X_test)"
   ]
  },
  {
   "cell_type": "code",
   "execution_count": 13,
   "id": "7dabaf96-e187-465f-8888-43e7b968f8b7",
   "metadata": {},
   "outputs": [
    {
     "data": {
      "text/plain": [
       "1816"
      ]
     },
     "execution_count": 13,
     "metadata": {},
     "output_type": "execute_result"
    }
   ],
   "source": [
    "len(X_train)"
   ]
  },
  {
   "cell_type": "code",
   "execution_count": 14,
   "id": "1057a273-1b79-444e-89f0-13da90f7c605",
   "metadata": {},
   "outputs": [],
   "source": [
    "#Create pipeline\n",
    "\n",
    "# Select a sklearn vectorizer\n",
    "tfidf_vectorizer = TfidfVectorizer(lowercase=True, stop_words ='english')\n",
    "\n",
    "#Use RandomForestClassifier\n",
    "rfc=RandomForestClassifier(random_state=42)\n",
    "\n",
    "rfc_pipe = Pipeline([('vectorizer', tfidf_vectorizer), ('classifier', rfc)])\n"
   ]
  },
  {
   "cell_type": "code",
   "execution_count": 15,
   "id": "666b9cea-9c0a-4ebe-81a3-9a909a92f659",
   "metadata": {},
   "outputs": [
    {
     "data": {
      "text/html": [
       "<style>#sk-container-id-1 {color: black;background-color: white;}#sk-container-id-1 pre{padding: 0;}#sk-container-id-1 div.sk-toggleable {background-color: white;}#sk-container-id-1 label.sk-toggleable__label {cursor: pointer;display: block;width: 100%;margin-bottom: 0;padding: 0.3em;box-sizing: border-box;text-align: center;}#sk-container-id-1 label.sk-toggleable__label-arrow:before {content: \"▸\";float: left;margin-right: 0.25em;color: #696969;}#sk-container-id-1 label.sk-toggleable__label-arrow:hover:before {color: black;}#sk-container-id-1 div.sk-estimator:hover label.sk-toggleable__label-arrow:before {color: black;}#sk-container-id-1 div.sk-toggleable__content {max-height: 0;max-width: 0;overflow: hidden;text-align: left;background-color: #f0f8ff;}#sk-container-id-1 div.sk-toggleable__content pre {margin: 0.2em;color: black;border-radius: 0.25em;background-color: #f0f8ff;}#sk-container-id-1 input.sk-toggleable__control:checked~div.sk-toggleable__content {max-height: 200px;max-width: 100%;overflow: auto;}#sk-container-id-1 input.sk-toggleable__control:checked~label.sk-toggleable__label-arrow:before {content: \"▾\";}#sk-container-id-1 div.sk-estimator input.sk-toggleable__control:checked~label.sk-toggleable__label {background-color: #d4ebff;}#sk-container-id-1 div.sk-label input.sk-toggleable__control:checked~label.sk-toggleable__label {background-color: #d4ebff;}#sk-container-id-1 input.sk-hidden--visually {border: 0;clip: rect(1px 1px 1px 1px);clip: rect(1px, 1px, 1px, 1px);height: 1px;margin: -1px;overflow: hidden;padding: 0;position: absolute;width: 1px;}#sk-container-id-1 div.sk-estimator {font-family: monospace;background-color: #f0f8ff;border: 1px dotted black;border-radius: 0.25em;box-sizing: border-box;margin-bottom: 0.5em;}#sk-container-id-1 div.sk-estimator:hover {background-color: #d4ebff;}#sk-container-id-1 div.sk-parallel-item::after {content: \"\";width: 100%;border-bottom: 1px solid gray;flex-grow: 1;}#sk-container-id-1 div.sk-label:hover label.sk-toggleable__label {background-color: #d4ebff;}#sk-container-id-1 div.sk-serial::before {content: \"\";position: absolute;border-left: 1px solid gray;box-sizing: border-box;top: 0;bottom: 0;left: 50%;z-index: 0;}#sk-container-id-1 div.sk-serial {display: flex;flex-direction: column;align-items: center;background-color: white;padding-right: 0.2em;padding-left: 0.2em;position: relative;}#sk-container-id-1 div.sk-item {position: relative;z-index: 1;}#sk-container-id-1 div.sk-parallel {display: flex;align-items: stretch;justify-content: center;background-color: white;position: relative;}#sk-container-id-1 div.sk-item::before, #sk-container-id-1 div.sk-parallel-item::before {content: \"\";position: absolute;border-left: 1px solid gray;box-sizing: border-box;top: 0;bottom: 0;left: 50%;z-index: -1;}#sk-container-id-1 div.sk-parallel-item {display: flex;flex-direction: column;z-index: 1;position: relative;background-color: white;}#sk-container-id-1 div.sk-parallel-item:first-child::after {align-self: flex-end;width: 50%;}#sk-container-id-1 div.sk-parallel-item:last-child::after {align-self: flex-start;width: 50%;}#sk-container-id-1 div.sk-parallel-item:only-child::after {width: 0;}#sk-container-id-1 div.sk-dashed-wrapped {border: 1px dashed gray;margin: 0 0.4em 0.5em 0.4em;box-sizing: border-box;padding-bottom: 0.4em;background-color: white;}#sk-container-id-1 div.sk-label label {font-family: monospace;font-weight: bold;display: inline-block;line-height: 1.2em;}#sk-container-id-1 div.sk-label-container {text-align: center;}#sk-container-id-1 div.sk-container {/* jupyter's `normalize.less` sets `[hidden] { display: none; }` but bootstrap.min.css set `[hidden] { display: none !important; }` so we also need the `!important` here to be able to override the default hidden behavior on the sphinx rendered scikit-learn.org. See: https://github.com/scikit-learn/scikit-learn/issues/21755 */display: inline-block !important;position: relative;}#sk-container-id-1 div.sk-text-repr-fallback {display: none;}</style><div id=\"sk-container-id-1\" class=\"sk-top-container\"><div class=\"sk-text-repr-fallback\"><pre>Pipeline(steps=[(&#x27;vectorizer&#x27;, TfidfVectorizer(stop_words=&#x27;english&#x27;)),\n",
       "                (&#x27;classifier&#x27;, RandomForestClassifier(random_state=42))])</pre><b>In a Jupyter environment, please rerun this cell to show the HTML representation or trust the notebook. <br />On GitHub, the HTML representation is unable to render, please try loading this page with nbviewer.org.</b></div><div class=\"sk-container\" hidden><div class=\"sk-item sk-dashed-wrapped\"><div class=\"sk-label-container\"><div class=\"sk-label sk-toggleable\"><input class=\"sk-toggleable__control sk-hidden--visually\" id=\"sk-estimator-id-1\" type=\"checkbox\" ><label for=\"sk-estimator-id-1\" class=\"sk-toggleable__label sk-toggleable__label-arrow\">Pipeline</label><div class=\"sk-toggleable__content\"><pre>Pipeline(steps=[(&#x27;vectorizer&#x27;, TfidfVectorizer(stop_words=&#x27;english&#x27;)),\n",
       "                (&#x27;classifier&#x27;, RandomForestClassifier(random_state=42))])</pre></div></div></div><div class=\"sk-serial\"><div class=\"sk-item\"><div class=\"sk-estimator sk-toggleable\"><input class=\"sk-toggleable__control sk-hidden--visually\" id=\"sk-estimator-id-2\" type=\"checkbox\" ><label for=\"sk-estimator-id-2\" class=\"sk-toggleable__label sk-toggleable__label-arrow\">TfidfVectorizer</label><div class=\"sk-toggleable__content\"><pre>TfidfVectorizer(stop_words=&#x27;english&#x27;)</pre></div></div></div><div class=\"sk-item\"><div class=\"sk-estimator sk-toggleable\"><input class=\"sk-toggleable__control sk-hidden--visually\" id=\"sk-estimator-id-3\" type=\"checkbox\" ><label for=\"sk-estimator-id-3\" class=\"sk-toggleable__label sk-toggleable__label-arrow\">RandomForestClassifier</label><div class=\"sk-toggleable__content\"><pre>RandomForestClassifier(random_state=42)</pre></div></div></div></div></div></div></div>"
      ],
      "text/plain": [
       "Pipeline(steps=[('vectorizer', TfidfVectorizer(stop_words='english')),\n",
       "                ('classifier', RandomForestClassifier(random_state=42))])"
      ]
     },
     "execution_count": 15,
     "metadata": {},
     "output_type": "execute_result"
    }
   ],
   "source": [
    "rfc_pipe.fit(X_train, y_train)"
   ]
  },
  {
   "cell_type": "code",
   "execution_count": 16,
   "id": "f785b871-e74b-48f1-ab82-4b506db86153",
   "metadata": {},
   "outputs": [
    {
     "name": "stdout",
     "output_type": "stream",
     "text": [
      "----------------------------------------------------------------------\n",
      " Classification Metrics: Training Data\n",
      "----------------------------------------------------------------------\n",
      "              precision    recall  f1-score   support\n",
      "\n",
      "        high       1.00      1.00      1.00       915\n",
      "         low       1.00      1.00      1.00       901\n",
      "\n",
      "    accuracy                           1.00      1816\n",
      "   macro avg       1.00      1.00      1.00      1816\n",
      "weighted avg       1.00      1.00      1.00      1816\n",
      "\n"
     ]
    },
    {
     "data": {
      "image/png": "[encoded data removed]",
      "text/plain": [
       "<Figure size 600x400 with 2 Axes>"
      ]
     },
     "metadata": {},
     "output_type": "display_data"
    },
    {
     "name": "stdout",
     "output_type": "stream",
     "text": [
      "\n",
      "----------------------------------------------------------------------\n",
      " Classification Metrics: Test Data\n",
      "----------------------------------------------------------------------\n",
      "              precision    recall  f1-score   support\n",
      "\n",
      "        high       0.82      0.86      0.84       284\n",
      "         low       0.87      0.83      0.85       322\n",
      "\n",
      "    accuracy                           0.84       606\n",
      "   macro avg       0.84      0.84      0.84       606\n",
      "weighted avg       0.84      0.84      0.84       606\n",
      "\n"
     ]
    },
    {
     "data": {
      "image/png": "[encoded data removed]",
      "text/plain": [
       "<Figure size 600x400 with 2 Axes>"
      ]
     },
     "metadata": {},
     "output_type": "display_data"
    }
   ],
   "source": [
    "mf.evaluate_classification(rfc_pipe, X_train, y_train, X_test, y_test)"
   ]
  },
  {
   "cell_type": "markdown",
   "id": "109815cd-d461-4d00-ad56-2517c046d0a5",
   "metadata": {},
   "source": [
    "**Observations**\n",
    "\n",
    "-  Overall the model perfoms well.  It fit perfectly on training data.\n",
    "-  On testing data it has 84% accuracy\n",
    "-  This model predicts high slightly better than low."
   ]
  },
  {
   "cell_type": "markdown",
   "id": "6808ca9d-57d2-4fe5-8ed1-72c0c2050bb3",
   "metadata": {},
   "source": [
    "### Improve Model GridSearch Text Vectorization"
   ]
  },
  {
   "cell_type": "code",
   "execution_count": 17,
   "id": "3d942767-269f-42e3-b340-f60838decdfc",
   "metadata": {},
   "outputs": [],
   "source": [
    "gridsearch_pipe = Pipeline([('vectorizer', TfidfVectorizer()),\n",
    "                            ('classifier', RandomForestClassifier())])\n"
   ]
  },
  {
   "cell_type": "code",
   "execution_count": 18,
   "id": "05271f33-c812-478d-b010-f345c13da52e",
   "metadata": {},
   "outputs": [
    {
     "data": {
      "text/plain": [
       "{'memory': None,\n",
       " 'steps': [('vectorizer', TfidfVectorizer()),\n",
       "  ('classifier', RandomForestClassifier())],\n",
       " 'verbose': False,\n",
       " 'vectorizer': TfidfVectorizer(),\n",
       " 'classifier': RandomForestClassifier(),\n",
       " 'vectorizer__analyzer': 'word',\n",
       " 'vectorizer__binary': False,\n",
       " 'vectorizer__decode_error': 'strict',\n",
       " 'vectorizer__dtype': numpy.float64,\n",
       " 'vectorizer__encoding': 'utf-8',\n",
       " 'vectorizer__input': 'content',\n",
       " 'vectorizer__lowercase': True,\n",
       " 'vectorizer__max_df': 1.0,\n",
       " 'vectorizer__max_features': None,\n",
       " 'vectorizer__min_df': 1,\n",
       " 'vectorizer__ngram_range': (1, 1),\n",
       " 'vectorizer__norm': 'l2',\n",
       " 'vectorizer__preprocessor': None,\n",
       " 'vectorizer__smooth_idf': True,\n",
       " 'vectorizer__stop_words': None,\n",
       " 'vectorizer__strip_accents': None,\n",
       " 'vectorizer__sublinear_tf': False,\n",
       " 'vectorizer__token_pattern': '(?u)\\\\b\\\\w\\\\w+\\\\b',\n",
       " 'vectorizer__tokenizer': None,\n",
       " 'vectorizer__use_idf': True,\n",
       " 'vectorizer__vocabulary': None,\n",
       " 'classifier__bootstrap': True,\n",
       " 'classifier__ccp_alpha': 0.0,\n",
       " 'classifier__class_weight': None,\n",
       " 'classifier__criterion': 'gini',\n",
       " 'classifier__max_depth': None,\n",
       " 'classifier__max_features': 'sqrt',\n",
       " 'classifier__max_leaf_nodes': None,\n",
       " 'classifier__max_samples': None,\n",
       " 'classifier__min_impurity_decrease': 0.0,\n",
       " 'classifier__min_samples_leaf': 1,\n",
       " 'classifier__min_samples_split': 2,\n",
       " 'classifier__min_weight_fraction_leaf': 0.0,\n",
       " 'classifier__n_estimators': 100,\n",
       " 'classifier__n_jobs': None,\n",
       " 'classifier__oob_score': False,\n",
       " 'classifier__random_state': None,\n",
       " 'classifier__verbose': 0,\n",
       " 'classifier__warm_start': False}"
      ]
     },
     "execution_count": 18,
     "metadata": {},
     "output_type": "execute_result"
    }
   ],
   "source": [
    "gridsearch_pipe.get_params()"
   ]
  },
  {
   "cell_type": "code",
   "execution_count": 19,
   "id": "6ffa80bf-75d0-4848-809c-dc7034fefffb",
   "metadata": {},
   "outputs": [],
   "source": [
    "# Define params to try for both vectorizers\n",
    "param_grid_shared = {\n",
    "    \"vectorizer__max_df\": [0.7, 0.8, 0.9],\n",
    "    'vectorizer__min_df': [ 2, 3, 4 ], \n",
    "    \"vectorizer__max_features\": [None, 1000, 2000]}\n",
    "\n",
    "# Setting params for the count vectorizer\n",
    "param_grid_count = {\n",
    "    'vectorizer':[CountVectorizer()],\n",
    "    **param_grid_shared}\n",
    "\n",
    "\n",
    "# Setting params for tfidf vectorizer \n",
    "param_grid_tfidf = {\n",
    "    'vectorizer': [TfidfVectorizer()],\n",
    "    \"vectorizer__norm\": [\"l1\", \"l2\"],\n",
    "    \"vectorizer__use_idf\": [True, False],\n",
    "    **param_grid_shared}\n",
    "\n",
    "# Setting params for RandomForest Classifier\n",
    "param_grid_rfc = {\n",
    "    'classifier__bootstrap': [True, False],\n",
    "    'classifier__random_state': [42]}\n",
    "\n",
    "    \n",
    "\n",
    "# combine into list of params\n",
    "params_combined = [param_grid_shared, param_grid_count, param_grid_tfidf, param_grid_rfc]"
   ]
  },
  {
   "cell_type": "code",
   "execution_count": 20,
   "id": "ce395611-6cd6-4315-81ac-2817d98dfdd8",
   "metadata": {},
   "outputs": [
    {
     "name": "stdout",
     "output_type": "stream",
     "text": [
      "Fitting 4 folds for each of 164 candidates, totalling 656 fits\n"
     ]
    },
    {
     "data": {
      "text/html": [
       "<style>#sk-container-id-2 {color: black;background-color: white;}#sk-container-id-2 pre{padding: 0;}#sk-container-id-2 div.sk-toggleable {background-color: white;}#sk-container-id-2 label.sk-toggleable__label {cursor: pointer;display: block;width: 100%;margin-bottom: 0;padding: 0.3em;box-sizing: border-box;text-align: center;}#sk-container-id-2 label.sk-toggleable__label-arrow:before {content: \"▸\";float: left;margin-right: 0.25em;color: #696969;}#sk-container-id-2 label.sk-toggleable__label-arrow:hover:before {color: black;}#sk-container-id-2 div.sk-estimator:hover label.sk-toggleable__label-arrow:before {color: black;}#sk-container-id-2 div.sk-toggleable__content {max-height: 0;max-width: 0;overflow: hidden;text-align: left;background-color: #f0f8ff;}#sk-container-id-2 div.sk-toggleable__content pre {margin: 0.2em;color: black;border-radius: 0.25em;background-color: #f0f8ff;}#sk-container-id-2 input.sk-toggleable__control:checked~div.sk-toggleable__content {max-height: 200px;max-width: 100%;overflow: auto;}#sk-container-id-2 input.sk-toggleable__control:checked~label.sk-toggleable__label-arrow:before {content: \"▾\";}#sk-container-id-2 div.sk-estimator input.sk-toggleable__control:checked~label.sk-toggleable__label {background-color: #d4ebff;}#sk-container-id-2 div.sk-label input.sk-toggleable__control:checked~label.sk-toggleable__label {background-color: #d4ebff;}#sk-container-id-2 input.sk-hidden--visually {border: 0;clip: rect(1px 1px 1px 1px);clip: rect(1px, 1px, 1px, 1px);height: 1px;margin: -1px;overflow: hidden;padding: 0;position: absolute;width: 1px;}#sk-container-id-2 div.sk-estimator {font-family: monospace;background-color: #f0f8ff;border: 1px dotted black;border-radius: 0.25em;box-sizing: border-box;margin-bottom: 0.5em;}#sk-container-id-2 div.sk-estimator:hover {background-color: #d4ebff;}#sk-container-id-2 div.sk-parallel-item::after {content: \"\";width: 100%;border-bottom: 1px solid gray;flex-grow: 1;}#sk-container-id-2 div.sk-label:hover label.sk-toggleable__label {background-color: #d4ebff;}#sk-container-id-2 div.sk-serial::before {content: \"\";position: absolute;border-left: 1px solid gray;box-sizing: border-box;top: 0;bottom: 0;left: 50%;z-index: 0;}#sk-container-id-2 div.sk-serial {display: flex;flex-direction: column;align-items: center;background-color: white;padding-right: 0.2em;padding-left: 0.2em;position: relative;}#sk-container-id-2 div.sk-item {position: relative;z-index: 1;}#sk-container-id-2 div.sk-parallel {display: flex;align-items: stretch;justify-content: center;background-color: white;position: relative;}#sk-container-id-2 div.sk-item::before, #sk-container-id-2 div.sk-parallel-item::before {content: \"\";position: absolute;border-left: 1px solid gray;box-sizing: border-box;top: 0;bottom: 0;left: 50%;z-index: -1;}#sk-container-id-2 div.sk-parallel-item {display: flex;flex-direction: column;z-index: 1;position: relative;background-color: white;}#sk-container-id-2 div.sk-parallel-item:first-child::after {align-self: flex-end;width: 50%;}#sk-container-id-2 div.sk-parallel-item:last-child::after {align-self: flex-start;width: 50%;}#sk-container-id-2 div.sk-parallel-item:only-child::after {width: 0;}#sk-container-id-2 div.sk-dashed-wrapped {border: 1px dashed gray;margin: 0 0.4em 0.5em 0.4em;box-sizing: border-box;padding-bottom: 0.4em;background-color: white;}#sk-container-id-2 div.sk-label label {font-family: monospace;font-weight: bold;display: inline-block;line-height: 1.2em;}#sk-container-id-2 div.sk-label-container {text-align: center;}#sk-container-id-2 div.sk-container {/* jupyter's `normalize.less` sets `[hidden] { display: none; }` but bootstrap.min.css set `[hidden] { display: none !important; }` so we also need the `!important` here to be able to override the default hidden behavior on the sphinx rendered scikit-learn.org. See: https://github.com/scikit-learn/scikit-learn/issues/21755 */display: inline-block !important;position: relative;}#sk-container-id-2 div.sk-text-repr-fallback {display: none;}</style><div id=\"sk-container-id-2\" class=\"sk-top-container\"><div class=\"sk-text-repr-fallback\"><pre>GridSearchCV(cv=4,\n",
       "             estimator=Pipeline(steps=[(&#x27;vectorizer&#x27;, TfidfVectorizer()),\n",
       "                                       (&#x27;classifier&#x27;,\n",
       "                                        RandomForestClassifier())]),\n",
       "             n_jobs=-1,\n",
       "             param_grid=[{&#x27;vectorizer__max_df&#x27;: [0.7, 0.8, 0.9],\n",
       "                          &#x27;vectorizer__max_features&#x27;: [None, 1000, 2000],\n",
       "                          &#x27;vectorizer__min_df&#x27;: [2, 3, 4]},\n",
       "                         {&#x27;vectorizer&#x27;: [CountVectorizer(max_df=0.7, min_df=3)],\n",
       "                          &#x27;vectorizer__max_df&#x27;: [0.7, 0.8, 0.9],\n",
       "                          &#x27;vectorizer...x_features&#x27;: [None, 1000, 2000],\n",
       "                          &#x27;vectorizer__min_df&#x27;: [2, 3, 4]},\n",
       "                         {&#x27;vectorizer&#x27;: [TfidfVectorizer()],\n",
       "                          &#x27;vectorizer__max_df&#x27;: [0.7, 0.8, 0.9],\n",
       "                          &#x27;vectorizer__max_features&#x27;: [None, 1000, 2000],\n",
       "                          &#x27;vectorizer__min_df&#x27;: [2, 3, 4],\n",
       "                          &#x27;vectorizer__norm&#x27;: [&#x27;l1&#x27;, &#x27;l2&#x27;],\n",
       "                          &#x27;vectorizer__use_idf&#x27;: [True, False]},\n",
       "                         {&#x27;classifier__bootstrap&#x27;: [True, False],\n",
       "                          &#x27;classifier__random_state&#x27;: [42]}],\n",
       "             verbose=1)</pre><b>In a Jupyter environment, please rerun this cell to show the HTML representation or trust the notebook. <br />On GitHub, the HTML representation is unable to render, please try loading this page with nbviewer.org.</b></div><div class=\"sk-container\" hidden><div class=\"sk-item sk-dashed-wrapped\"><div class=\"sk-label-container\"><div class=\"sk-label sk-toggleable\"><input class=\"sk-toggleable__control sk-hidden--visually\" id=\"sk-estimator-id-4\" type=\"checkbox\" ><label for=\"sk-estimator-id-4\" class=\"sk-toggleable__label sk-toggleable__label-arrow\">GridSearchCV</label><div class=\"sk-toggleable__content\"><pre>GridSearchCV(cv=4,\n",
       "             estimator=Pipeline(steps=[(&#x27;vectorizer&#x27;, TfidfVectorizer()),\n",
       "                                       (&#x27;classifier&#x27;,\n",
       "                                        RandomForestClassifier())]),\n",
       "             n_jobs=-1,\n",
       "             param_grid=[{&#x27;vectorizer__max_df&#x27;: [0.7, 0.8, 0.9],\n",
       "                          &#x27;vectorizer__max_features&#x27;: [None, 1000, 2000],\n",
       "                          &#x27;vectorizer__min_df&#x27;: [2, 3, 4]},\n",
       "                         {&#x27;vectorizer&#x27;: [CountVectorizer(max_df=0.7, min_df=3)],\n",
       "                          &#x27;vectorizer__max_df&#x27;: [0.7, 0.8, 0.9],\n",
       "                          &#x27;vectorizer...x_features&#x27;: [None, 1000, 2000],\n",
       "                          &#x27;vectorizer__min_df&#x27;: [2, 3, 4]},\n",
       "                         {&#x27;vectorizer&#x27;: [TfidfVectorizer()],\n",
       "                          &#x27;vectorizer__max_df&#x27;: [0.7, 0.8, 0.9],\n",
       "                          &#x27;vectorizer__max_features&#x27;: [None, 1000, 2000],\n",
       "                          &#x27;vectorizer__min_df&#x27;: [2, 3, 4],\n",
       "                          &#x27;vectorizer__norm&#x27;: [&#x27;l1&#x27;, &#x27;l2&#x27;],\n",
       "                          &#x27;vectorizer__use_idf&#x27;: [True, False]},\n",
       "                         {&#x27;classifier__bootstrap&#x27;: [True, False],\n",
       "                          &#x27;classifier__random_state&#x27;: [42]}],\n",
       "             verbose=1)</pre></div></div></div><div class=\"sk-parallel\"><div class=\"sk-parallel-item\"><div class=\"sk-item\"><div class=\"sk-label-container\"><div class=\"sk-label sk-toggleable\"><input class=\"sk-toggleable__control sk-hidden--visually\" id=\"sk-estimator-id-5\" type=\"checkbox\" ><label for=\"sk-estimator-id-5\" class=\"sk-toggleable__label sk-toggleable__label-arrow\">estimator: Pipeline</label><div class=\"sk-toggleable__content\"><pre>Pipeline(steps=[(&#x27;vectorizer&#x27;, TfidfVectorizer()),\n",
       "                (&#x27;classifier&#x27;, RandomForestClassifier())])</pre></div></div></div><div class=\"sk-serial\"><div class=\"sk-item\"><div class=\"sk-serial\"><div class=\"sk-item\"><div class=\"sk-estimator sk-toggleable\"><input class=\"sk-toggleable__control sk-hidden--visually\" id=\"sk-estimator-id-6\" type=\"checkbox\" ><label for=\"sk-estimator-id-6\" class=\"sk-toggleable__label sk-toggleable__label-arrow\">TfidfVectorizer</label><div class=\"sk-toggleable__content\"><pre>TfidfVectorizer()</pre></div></div></div><div class=\"sk-item\"><div class=\"sk-estimator sk-toggleable\"><input class=\"sk-toggleable__control sk-hidden--visually\" id=\"sk-estimator-id-7\" type=\"checkbox\" ><label for=\"sk-estimator-id-7\" class=\"sk-toggleable__label sk-toggleable__label-arrow\">RandomForestClassifier</label><div class=\"sk-toggleable__content\"><pre>RandomForestClassifier()</pre></div></div></div></div></div></div></div></div></div></div></div></div>"
      ],
      "text/plain": [
       "GridSearchCV(cv=4,\n",
       "             estimator=Pipeline(steps=[('vectorizer', TfidfVectorizer()),\n",
       "                                       ('classifier',\n",
       "                                        RandomForestClassifier())]),\n",
       "             n_jobs=-1,\n",
       "             param_grid=[{'vectorizer__max_df': [0.7, 0.8, 0.9],\n",
       "                          'vectorizer__max_features': [None, 1000, 2000],\n",
       "                          'vectorizer__min_df': [2, 3, 4]},\n",
       "                         {'vectorizer': [CountVectorizer(max_df=0.7, min_df=3)],\n",
       "                          'vectorizer__max_df': [0.7, 0.8, 0.9],\n",
       "                          'vectorizer...x_features': [None, 1000, 2000],\n",
       "                          'vectorizer__min_df': [2, 3, 4]},\n",
       "                         {'vectorizer': [TfidfVectorizer()],\n",
       "                          'vectorizer__max_df': [0.7, 0.8, 0.9],\n",
       "                          'vectorizer__max_features': [None, 1000, 2000],\n",
       "                          'vectorizer__min_df': [2, 3, 4],\n",
       "                          'vectorizer__norm': ['l1', 'l2'],\n",
       "                          'vectorizer__use_idf': [True, False]},\n",
       "                         {'classifier__bootstrap': [True, False],\n",
       "                          'classifier__random_state': [42]}],\n",
       "             verbose=1)"
      ]
     },
     "execution_count": 20,
     "metadata": {},
     "output_type": "execute_result"
    }
   ],
   "source": [
    "gridsearch = GridSearchCV(gridsearch_pipe, params_combined, cv=4, verbose=1, n_jobs=-1)\n",
    "\n",
    "gridsearch.fit(X_train, y_train)"
   ]
  },
  {
   "cell_type": "code",
   "execution_count": 21,
   "id": "b3cb02ba-0e6c-4d00-b7a1-05e7740da1cc",
   "metadata": {},
   "outputs": [
    {
     "data": {
      "text/plain": [
       "{'vectorizer': CountVectorizer(max_df=0.7, min_df=3),\n",
       " 'vectorizer__max_df': 0.7,\n",
       " 'vectorizer__max_features': None,\n",
       " 'vectorizer__min_df': 3}"
      ]
     },
     "execution_count": 21,
     "metadata": {},
     "output_type": "execute_result"
    }
   ],
   "source": [
    "# Obtain the best combination directly\n",
    "gridsearch.best_params_"
   ]
  },
  {
   "cell_type": "code",
   "execution_count": 22,
   "id": "1b4574b3-6d65-4d94-a2c3-3c53bdff5416",
   "metadata": {},
   "outputs": [
    {
     "name": "stdout",
     "output_type": "stream",
     "text": [
      "----------------------------------------------------------------------\n",
      " Classification Metrics: Training Data\n",
      "----------------------------------------------------------------------\n",
      "              precision    recall  f1-score   support\n",
      "\n",
      "        high       1.00      1.00      1.00       915\n",
      "         low       1.00      1.00      1.00       901\n",
      "\n",
      "    accuracy                           1.00      1816\n",
      "   macro avg       1.00      1.00      1.00      1816\n",
      "weighted avg       1.00      1.00      1.00      1816\n",
      "\n"
     ]
    },
    {
     "data": {
      "image/png": "[encoded data removed]",
      "text/plain": [
       "<Figure size 600x400 with 2 Axes>"
      ]
     },
     "metadata": {},
     "output_type": "display_data"
    },
    {
     "name": "stdout",
     "output_type": "stream",
     "text": [
      "\n",
      "----------------------------------------------------------------------\n",
      " Classification Metrics: Test Data\n",
      "----------------------------------------------------------------------\n",
      "              precision    recall  f1-score   support\n",
      "\n",
      "        high       0.81      0.87      0.84       284\n",
      "         low       0.88      0.82      0.85       322\n",
      "\n",
      "    accuracy                           0.85       606\n",
      "   macro avg       0.85      0.85      0.85       606\n",
      "weighted avg       0.85      0.85      0.85       606\n",
      "\n"
     ]
    },
    {
     "data": {
      "image/png": "[encoded data removed]",
      "text/plain": [
       "<Figure size 600x400 with 2 Axes>"
      ]
     },
     "metadata": {},
     "output_type": "display_data"
    }
   ],
   "source": [
    "# Now define the best version of the model\n",
    "best_model = gridsearch.best_estimator_\n",
    "\n",
    "# Predict and Evaluate with the custom function\n",
    "mf.evaluate_classification(best_model, X_train, y_train, X_test, y_test)"
   ]
  },
  {
   "cell_type": "markdown",
   "id": "cfe0f41f-09f8-46cc-bd6c-d5b991cc7ff7",
   "metadata": {},
   "source": [
    "**Observations**\n",
    "\n",
    "-  Overall the model perfoms well.  It fit perfectly on training data.\n",
    "-  On testing data it has 85% accuracy\n",
    "-  This model is slightly better at predicting high than low \n",
    "-  This model does not perform as well as the original model\n",
    "-  The following are the best parameters: {'vectorizer': CountVectorizer(max_df=0.7, min_df=3),\r\n",
    " 'vectorizer__max_df': 0.7,\r\n",
    " 'vectorizer__max_features': None,\r\n",
    " 'vectorizer__min_df': 3}  "
   ]
  },
  {
   "cell_type": "markdown",
   "id": "3608cabe-e2c2-42ac-ab02-0e0a5602a542",
   "metadata": {},
   "source": [
    "## Deep NLP (RNNs) with Keras Text Vectorization Layer"
   ]
  },
  {
   "cell_type": "code",
   "execution_count": 23,
   "id": "fb0472ee-f6ef-44ed-99c4-515512f10bb6",
   "metadata": {},
   "outputs": [
    {
     "data": {
      "text/plain": [
       "1    1223\n",
       "0    1199\n",
       "dtype: int64"
      ]
     },
     "execution_count": 23,
     "metadata": {},
     "output_type": "execute_result"
    }
   ],
   "source": [
    "## Encode the string lables as numeric with LabelEncoder()\n",
    "\n",
    "# Define X and y\n",
    "X=dff['review']\n",
    "y_string=dff['label']\n",
    "# Instantiate the LabelEncoder\n",
    "encoder = LabelEncoder()\n",
    "# Fit and Transform the strings into integers\n",
    "y = pd.Series(encoder.fit_transform(y_string))\n",
    "y.value_counts()"
   ]
  },
  {
   "cell_type": "code",
   "execution_count": 24,
   "id": "5106e74c-eac3-4329-8a6f-c211efa61ccc",
   "metadata": {},
   "outputs": [],
   "source": [
    "# Convert to Dataset object\n",
    "ds = tf.data.Dataset.from_tensor_slices((X, y))\n",
    "# shuffling the data once\n",
    "ds = ds.shuffle(buffer_size=len(ds), reshuffle_each_iteration=False)\n"
   ]
  },
  {
   "cell_type": "code",
   "execution_count": 25,
   "id": "9d7c9cdd-f669-4feb-a3b4-b7450982a719",
   "metadata": {},
   "outputs": [
    {
     "name": "stdout",
     "output_type": "stream",
     "text": [
      "    - train:\t1695 samples \t(53 batches)\n",
      "    - val:  \t484 samples \t(16 batches)\n",
      "    - test: \t243 samples \t(8 batches)\n"
     ]
    }
   ],
   "source": [
    "import math\n",
    "\n",
    "##Train/Val/Test Split\n",
    "BATCH_SIZE =32\n",
    "# Samples for training \n",
    "split_train = 0.7\n",
    "n_train_samples =  int(len(ds) * split_train)\n",
    "n_train_batches = math.ceil(n_train_samples/BATCH_SIZE)\n",
    "train_ds = ds.take(n_train_samples).batch(batch_size=BATCH_SIZE)\n",
    "print(f\"    - train:\\t{n_train_samples} samples \\t({n_train_batches} batches)\")\n",
    "\n",
    "# Samples for validation\n",
    "split_val = 0.2\n",
    "n_val_samples = int(len(ds) * split_val)\n",
    "n_val_batches = math.ceil(n_val_samples/BATCH_SIZE)\n",
    "val_ds = ds.skip(n_train_samples).take(n_val_samples).batch(batch_size=BATCH_SIZE)\n",
    "print(f\"    - val:  \\t{n_val_samples} samples \\t({n_val_batches} batches)\")\n",
    "\n",
    "# Samples for test\n",
    "split_test = 1 - (split_train + split_val)\n",
    "n_test_samples = len(ds) -(n_train_samples + n_val_samples)\n",
    "n_test_batches = math.ceil(n_test_samples/BATCH_SIZE)\n",
    "test_ds = ds.skip(n_train_samples + n_val_samples).batch(batch_size=BATCH_SIZE)\n",
    "print(f\"    - test: \\t{n_test_samples} samples \\t({n_test_batches} batches)\")"
   ]
  },
  {
   "cell_type": "code",
   "execution_count": 26,
   "id": "d5215672-dc0e-4de2-ab8f-654e98023372",
   "metadata": {},
   "outputs": [],
   "source": [
    "## Shuffling just the training data  \n",
    "train_ds  = train_ds.shuffle(buffer_size = len(train_ds))"
   ]
  },
  {
   "cell_type": "code",
   "execution_count": 29,
   "id": "579e8e02-8a12-44f6-9e68-df64f07a1d5a",
   "metadata": {},
   "outputs": [],
   "source": [
    "# Get just the text from ds_train\n",
    "ds_texts = train_ds.map(lambda x, y: x)\n"
   ]
  },
  {
   "cell_type": "code",
   "execution_count": 30,
   "id": "2d071b5e-3a46-44d5-baff-d01aafbb9549",
   "metadata": {},
   "outputs": [
    {
     "data": {
      "text/plain": [
       "array([0, 1])"
      ]
     },
     "execution_count": 30,
     "metadata": {},
     "output_type": "execute_result"
    }
   ],
   "source": [
    "# Create Text Vectorization Layer\n",
    "sequence_vectorizer = tf.keras.layers.TextVectorization(\n",
    "    standardize=\"lower_and_strip_punctuation\",\n",
    "    output_mode=\"int\",  encoding='utf-8', output_sequence_length=30)\n",
    "\n",
    "# Build the vectorizer vocabulary\n",
    "sequence_vectorizer.adapt(ds_texts)\n",
    "\n",
    "# Confrim vocabulary size\n",
    "VOCAB_SIZE = sequence_vectorizer.vocabulary_size()\n",
    "\n",
    "## this was saved as SQ_LENGTH\n",
    "SEQUENCE_LENGTH = 150\n",
    "\n",
    "# Define output dimension\n",
    "EMBED_DIM = 500\n",
    "\n",
    "# Define classes variable\n",
    "classes = y.unique()\n",
    "classes"
   ]
  },
  {
   "cell_type": "code",
   "execution_count": 31,
   "id": "59ca027e-9dc0-4b7f-a55e-6606a2e1fcf9",
   "metadata": {},
   "outputs": [
    {
     "data": {
      "text/plain": [
       "24682"
      ]
     },
     "execution_count": 31,
     "metadata": {},
     "output_type": "execute_result"
    }
   ],
   "source": [
    "sequence_vectorizer.vocabulary_size()"
   ]
  },
  {
   "cell_type": "markdown",
   "id": "3d823e27-957a-406f-86eb-5b96d3a39183",
   "metadata": {},
   "source": [
    "Source for textVecotorization: https://www.tensorflow.org/api_docs/python/tf/keras/layers/TextVectorization"
   ]
  },
  {
   "cell_type": "code",
   "execution_count": 114,
   "id": "13c8644d-1c36-4605-8feb-82ea663bca9b",
   "metadata": {},
   "outputs": [],
   "source": [
    "from keras import regularizers\n",
    "\n",
    "def build_lstm_bidirectional_pool(sequence_vectorizer):\n",
    "    rnn_model = tf.keras.Sequential([\n",
    "        sequence_vectorizer,\n",
    "        layers.Embedding(input_dim=VOCAB_SIZE,\n",
    "                      output_dim=EMBED_DIM,\n",
    "                      input_length=SEQUENCE_LENGTH)])\n",
    "    \n",
    "        \n",
    "   # Stack three GrU layers    \n",
    "    rnn_model.add(layers.Bidirectional(layers.LSTM(128, return_sequences=True, \n",
    "                                  kernel_regularizer=regularizers.l2(0.0001))))\n",
    "    rnn_model.add(layers.Dropout(0.3))\n",
    "    rnn_model.add(layers.LSTM(64, return_sequences=True,\n",
    "                             kernel_regularizer=regularizers.l1(0.0001)))\n",
    "    rnn_model.add(layers.Dropout(0.2))\n",
    "    rnn_model.add(layers.GRU(32, return_sequences=True,\n",
    "                             kernel_regularizer=regularizers.l2(0.0001)))\n",
    "          \n",
    "    rnn_model.add(layers.Bidirectional(layers.GRU(32, return_sequences = True,)))\n",
    "                  \n",
    "    # Add a pooling layer \n",
    "    rnn_model.add(layers.GlobalMaxPooling1D())\n",
    "    \n",
    "    # Output layer\n",
    "    rnn_model.add(layers.Dense(len(classes), \n",
    "                                    activation='sigmoid'))\n",
    "                     \n",
    "    optimizer = optimizers.legacy.Adam()\n",
    "    rnn_model.compile(optimizer=optimizer, \n",
    "                  loss='sparse_categorical_crossentropy', metrics=['accuracy'])\n",
    "    rnn_model.summary()\n",
    "    return rnn_model"
   ]
  },
  {
   "cell_type": "code",
   "execution_count": 115,
   "id": "495a635d-b153-4008-88b3-1eaf0924763b",
   "metadata": {},
   "outputs": [],
   "source": [
    "# Include callbacks\n",
    "def get_callbacks(patience=3, monitor='val_accuracy', min_delta=1e-2,):\n",
    "    early_stop = tf.keras.callbacks.EarlyStopping(patience=patience, monitor=monitor)\n",
    "    return [early_stop]\n"
   ]
  },
  {
   "cell_type": "code",
   "execution_count": 116,
   "id": "f3f81de8-b601-4dde-acca-6169667a9900",
   "metadata": {},
   "outputs": [
    {
     "name": "stdout",
     "output_type": "stream",
     "text": [
      "Model: \"sequential_19\"\n",
      "_________________________________________________________________\n",
      " Layer (type)                Output Shape              Param #   \n",
      "=================================================================\n",
      " text_vectorization_1 (TextV  (None, 30)               0         \n",
      " ectorization)                                                   \n",
      "                                                                 \n",
      " embedding_19 (Embedding)    (None, 30, 500)           12341000  \n",
      "                                                                 \n",
      " bidirectional_15 (Bidirecti  (None, 30, 256)          644096    \n",
      " onal)                                                           \n",
      "                                                                 \n",
      " dropout_22 (Dropout)        (None, 30, 256)           0         \n",
      "                                                                 \n",
      " lstm_25 (LSTM)              (None, 30, 64)            82176     \n",
      "                                                                 \n",
      " dropout_23 (Dropout)        (None, 30, 64)            0         \n",
      "                                                                 \n",
      " gru_38 (GRU)                (None, 30, 32)            9408      \n",
      "                                                                 \n",
      " bidirectional_16 (Bidirecti  (None, 30, 64)           12672     \n",
      " onal)                                                           \n",
      "                                                                 \n",
      " global_max_pooling1d_15 (Gl  (None, 64)               0         \n",
      " obalMaxPooling1D)                                               \n",
      "                                                                 \n",
      " dense_17 (Dense)            (None, 2)                 130       \n",
      "                                                                 \n",
      "=================================================================\n",
      "Total params: 13,089,482\n",
      "Trainable params: 13,089,482\n",
      "Non-trainable params: 0\n",
      "_________________________________________________________________\n",
      "Epoch 1/20\n",
      "53/53 [==============================] - 20s 252ms/step - loss: 0.9437 - accuracy: 0.5947 - val_loss: 0.8513 - val_accuracy: 0.6405\n",
      "Epoch 2/20\n",
      "53/53 [==============================] - 15s 277ms/step - loss: 0.4047 - accuracy: 0.8808 - val_loss: 0.7374 - val_accuracy: 0.6921\n",
      "Epoch 3/20\n",
      "53/53 [==============================] - 12s 224ms/step - loss: 0.1848 - accuracy: 0.9617 - val_loss: 0.9381 - val_accuracy: 0.6736\n",
      "Epoch 4/20\n",
      "53/53 [==============================] - 12s 223ms/step - loss: 0.1131 - accuracy: 0.9811 - val_loss: 1.0975 - val_accuracy: 0.6880\n",
      "Epoch 5/20\n",
      "53/53 [==============================] - 12s 226ms/step - loss: 0.1111 - accuracy: 0.9788 - val_loss: 1.2156 - val_accuracy: 0.6632\n"
     ]
    }
   ],
   "source": [
    "# Build the model\n",
    "model = build_lstm_bidirectional_pool(sequence_vectorizer)\n",
    "\n",
    "#Fit the model\n",
    "EPOCHS = 20\n",
    "history = model.fit(\n",
    "    train_ds,\n",
    "    epochs=EPOCHS,\n",
    "    validation_data=val_ds,\n",
    "    callbacks=get_callbacks())"
   ]
  },
  {
   "cell_type": "code",
   "execution_count": 117,
   "id": "4978412a-468b-49ed-8b46-c57e64b61620",
   "metadata": {},
   "outputs": [
    {
     "data": {
      "image/png": "[encoded data removed]",
      "text/plain": [
       "<Figure size 600x600 with 2 Axes>"
      ]
     },
     "metadata": {},
     "output_type": "display_data"
    },
    {
     "name": "stdout",
     "output_type": "stream",
     "text": [
      "\n",
      "================================================================================\n",
      "- Evaluating Network...\n",
      "================================================================================\n",
      "----------------------------------------------------------------------\n",
      " Classification Metrics: Training Data\n",
      "----------------------------------------------------------------------\n",
      "              precision    recall  f1-score   support\n",
      "\n",
      "           0       1.00      1.00      1.00       849\n",
      "           1       1.00      1.00      1.00       846\n",
      "\n",
      "    accuracy                           1.00      1695\n",
      "   macro avg       1.00      1.00      1.00      1695\n",
      "weighted avg       1.00      1.00      1.00      1695\n",
      "\n"
     ]
    },
    {
     "data": {
      "image/png": "[encoded data removed]",
      "text/plain": [
       "<Figure size 600x400 with 2 Axes>"
      ]
     },
     "metadata": {},
     "output_type": "display_data"
    },
    {
     "name": "stdout",
     "output_type": "stream",
     "text": [
      "\n",
      "- Evaluating Training Data:\n",
      "53/53 [==============================] - 4s 74ms/step - loss: 0.0552 - accuracy: 0.9994\n",
      "{'loss': 0.05518414452672005, 'accuracy': 0.9994100332260132}\n",
      "----------------------------------------------------------------------\n",
      " Classification Metrics: Test Data\n",
      "----------------------------------------------------------------------\n",
      "              precision    recall  f1-score   support\n",
      "\n",
      "           0       0.67      0.64      0.66       112\n",
      "           1       0.71      0.73      0.72       131\n",
      "\n",
      "    accuracy                           0.69       243\n",
      "   macro avg       0.69      0.69      0.69       243\n",
      "weighted avg       0.69      0.69      0.69       243\n",
      "\n"
     ]
    },
    {
     "data": {
      "image/png": "[encoded data removed]",
      "text/plain": [
       "<Figure size 600x400 with 2 Axes>"
      ]
     },
     "metadata": {},
     "output_type": "display_data"
    },
    {
     "name": "stdout",
     "output_type": "stream",
     "text": [
      "\n",
      "- Evaluating Test Data:\n",
      "8/8 [==============================] - 1s 68ms/step - loss: 1.2200 - accuracy: 0.6914\n",
      "{'loss': 1.2200299501419067, 'accuracy': 0.6913580298423767}\n"
     ]
    }
   ],
   "source": [
    "# Obtain the results\n",
    "results = mf.evaluate_classification_network(\n",
    "    model, X_train=train_ds, \n",
    "    X_test=test_ds, history=history);\n",
    "results"
   ]
  },
  {
   "cell_type": "markdown",
   "id": "28e9e659-3860-4577-80dc-bf828b085fa8",
   "metadata": {},
   "source": [
    "**Observations**\n",
    "\n",
    "-  Overall the model perfoms poorly.  However, it fit perfectly on training data.\n",
    "-  On testing data it has 69% accuracy\n",
    "-  This model is better at predicting low than high \n",
    "-  This model does NOT perform as well as the other models"
   ]
  },
  {
   "cell_type": "markdown",
   "id": "96da8410-a58c-4c36-b23d-65fbb048a5d8",
   "metadata": {},
   "source": [
    "If I had to choose I would choose model #2 with gridsearchCV best parameters.  I did try several different RNN models and was unable to get a better model. "
   ]
  },
  {
   "cell_type": "code",
   "execution_count": null,
   "id": "f0c0d783-3a6e-4ea0-abab-8a47dcf313b4",
   "metadata": {},
   "outputs": [],
   "source": []
  },
  {
   "cell_type": "code",
   "execution_count": null,
   "id": "65d6a4ab-727d-4c1c-946a-2c93e1996538",
   "metadata": {},
   "outputs": [],
   "source": []
  },
  {
   "cell_type": "code",
   "execution_count": null,
   "id": "1a974951-f33f-4d07-beed-e2f5b3cf4f4e",
   "metadata": {},
   "outputs": [],
   "source": []
  },
  {
   "cell_type": "code",
   "execution_count": null,
   "id": "25a3dd4a-67a9-4d83-9f49-8683ecf4164c",
   "metadata": {},
   "outputs": [],
   "source": []
  },
  {
   "cell_type": "code",
   "execution_count": null,
   "id": "1ac481b6-0bae-46d8-ae9e-7494a987d555",
   "metadata": {},
   "outputs": [],
   "source": []
  }
 ],
 "metadata": {
  "kernelspec": {
   "display_name": "Python (dojo-env)",
   "language": "python",
   "name": "dojo-env"
  },
  "language_info": {
   "codemirror_mode": {
    "name": "ipython",
    "version": 3
   },
   "file_extension": ".py",
   "mimetype": "text/x-python",
   "name": "python",
   "nbconvert_exporter": "python",
   "pygments_lexer": "ipython3",
   "version": "3.10.10"
  },
  "widgets": {
   "application/vnd.jupyter.widget-state+json": {
    "state": {},
    "version_major": 2,
    "version_minor": 0
   }
  }
 },
 "nbformat": 4,
 "nbformat_minor": 5
}
