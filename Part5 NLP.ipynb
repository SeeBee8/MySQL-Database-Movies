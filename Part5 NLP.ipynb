{
 "cells": [
  {
   "cell_type": "markdown",
   "id": "0bbd7133-0c67-41d2-9002-d770cf034c7a",
   "metadata": {},
   "source": [
    "# Sentiment Analysis and Rating Prediction of Movie Reviews\n",
    "\n",
    "\n",
    "*Christina Brockway*"
   ]
  },
  {
   "cell_type": "markdown",
   "id": "28579bd0-0abc-4894-ba78-27da0443ac00",
   "metadata": {},
   "source": [
    "Thsi project is an extension of the movies project.\n",
    "\n",
    "-  This portion focuses on applying Natural Language Processing (NLP) techniques to ananlyze movie reviews.\n",
    "-  using NLP tools to explore and analyze the model text data. nship e tween the textual content o the reviews and their assoe textual content o the reviews and their associated ratings and susequently predict thes"
   ]
  },
  {
   "cell_type": "markdown",
   "id": "836db33e-2734-4545-a5d5-be8f56dfd5ad",
   "metadata": {},
   "source": [
    "\r\n"
   ]
  },
  {
   "cell_type": "markdown",
   "id": "3bf928f4-8697-4a82-bbee-e657f1ed1480",
   "metadata": {},
   "source": [
    "Using the following dataset:\n",
    "https://drive.google.com/file/d/1vLUzSYleJXqsjNMsq76yTQ5fmNlSHFJI/view?usp=sharing"
   ]
  },
  {
   "cell_type": "markdown",
   "id": "64deb685-092e-4e49-a36a-f60a86450a3c",
   "metadata": {},
   "source": [
    "## Tasks:"
   ]
  },
  {
   "cell_type": "markdown",
   "id": "b407c8da-d995-49df-b3fb-53b86eb01c76",
   "metadata": {},
   "source": [
    "**Data Preprocessing**\n",
    "1. Load and Preprocess the Data\n",
    "2. Use the \"rating\" column to create high and low rating columns\n",
    "3. Utilize NLTK and SpaCy for basic text processing"
   ]
  },
  {
   "cell_type": "markdown",
   "id": "274c3336-a6e6-4d16-b5c0-9018680fd5e5",
   "metadata": {},
   "source": [
    "**EDA and Visualization**\n",
    "1.  Create word Clouds for each group and save imgs\n",
    "2.  Compare frequency distribution of words in groups and save imgs\n",
    "3.  Perform n-grams analysis and make a markdown table\n",
    "4.  Perform sentiment analysis to create polarity scores accoding to VADERS's ;exocpm"
   ]
  },
  {
   "cell_type": "markdown",
   "id": "8d156d6b-9052-45f2-b368-1710fb22efd9",
   "metadata": {},
   "source": [
    "**Evaluation and Reporting**\n",
    "1.  What should sbe done to make a highly-rated move\n",
    "2.  Update README with a new section for NLP analysis of Movie Reviews"
   ]
  },
  {
   "cell_type": "markdown",
   "id": "6a077c95-77fb-4c2b-8069-00a09d9405d7",
   "metadata": {},
   "source": [
    "### Load and Preprocess Data"
   ]
  },
  {
   "cell_type": "code",
   "execution_count": 1,
   "id": "bf0af40a-cdb5-431b-a5b2-d0aedd2e5ece",
   "metadata": {},
   "outputs": [],
   "source": [
    "#pip install clean-text"
   ]
  },
  {
   "cell_type": "code",
   "execution_count": 2,
   "id": "35f6deff-91bf-4563-9e63-9e876e565216",
   "metadata": {},
   "outputs": [
    {
     "name": "stderr",
     "output_type": "stream",
     "text": [
      "Since the GPL-licensed package `unidecode` is not installed, using Python's `unicodedata` package which yields worse results.\n"
     ]
    }
   ],
   "source": [
    "import pandas as pd\n",
    "import numpy as np\n",
    "import matplotlib.pyplot as plt\n",
    "import seaborn as sns\n",
    "import re\n",
    "\n",
    "import nltk\n",
    "from nltk.tokenize import word_tokenize\n",
    "from nltk import TweetTokenizer\n",
    "from nltk import ngrams\n",
    "from nltk.probability import FreqDist\n",
    "from nltk.stem import WordNetLemmatizer\n",
    "\n",
    "import spacy\n",
    "nlp=spacy.load('en_core_web_sm')\n",
    "\n",
    "from wordcloud import WordCloud\n",
    "from wordcloud import STOPWORDS\n",
    "\n",
    "import joblib\n",
    "from cleantext import clean\n"
   ]
  },
  {
   "cell_type": "code",
   "execution_count": 3,
   "id": "ff4fdded-f3f5-4b6b-99a4-8ee509d0f423",
   "metadata": {},
   "outputs": [],
   "source": [
    "# Set options\n",
    "pd.set_option('display.max_colwidth', 300)\n"
   ]
  },
  {
   "cell_type": "code",
   "execution_count": 4,
   "id": "d52caddd-e7b2-4fda-8b0d-1ce2a969db94",
   "metadata": {},
   "outputs": [],
   "source": [
    "def batch_preprocess_texts(\n",
    "    texts,\n",
    "    nlp=None,\n",
    "    remove_stopwords=True,\n",
    "    remove_punct=True, remove_urls = True,\n",
    "    use_lemmas=False,\n",
    "    disable=[\"ner\"],\n",
    "    batch_size=50,\n",
    "    n_process=-1,\n",
    "):\n",
    "    \"\"\"Efficiently preprocess a collection of texts using nlp.pipe()\n",
    "    Args:\n",
    "        texts (collection of strings): collection of texts to process (e.g. df['text'])\n",
    "        nlp (spacy pipe), optional): Spacy nlp pipe. Defaults to None; if None, it creates a default 'en_core_web_sm' pipe.\n",
    "        remove_stopwords (bool, optional): Controls stopword removal. Defaults to True.\n",
    "        remove_punct (bool, optional): Controls punctuation removal. Defaults to True.\n",
    "        use_lemmas (bool, optional): lemmatize tokens. Defaults to False.\n",
    "        disable (list of strings, optional): named pipeline elements to disable. Defaults to [\"ner\"]: Used with nlp.pipe(disable=disable)\n",
    "        batch_size (int, optional): Number of texts to process in a batch. Defaults to 50.\n",
    "        n_process (int, optional): Number of CPU processors to use. Defaults to -1 (meaning all CPU cores).\n",
    "    Returns:\n",
    "        list of tokens\n",
    "    \"\"\"\n",
    "    # from tqdm.notebook import tqdm\n",
    "    from tqdm import tqdm\n",
    "    if nlp is None:\n",
    "        nlp = spacy.load(\"en_core_web_sm\")\n",
    "    processed_texts = []\n",
    "    for doc in tqdm(nlp.pipe(texts, disable=disable, batch_size=batch_size,\n",
    "                             n_process=n_process)):\n",
    "        clean(doc, no_emoji=True)\n",
    "        tokens = []\n",
    "        for token in doc:\n",
    "            \n",
    "            # Check if should remove stopwords and if token is stopword\n",
    "            if (remove_stopwords == True) and (token.is_stop == True):\n",
    "                # Continue the loop with the next token\n",
    "                continue\n",
    "            # Check if should remove stopwords and if token is stopword\n",
    "            if (remove_punct == True) and (token.is_punct == True):\n",
    "                continue\n",
    "            \n",
    "        ## Adding removing URLs\n",
    "            if (remove_urls==True) & ('http'not in doc):\n",
    "                continue\n",
    "\n",
    "            if (remove_urls==True) & ('www' not in doc):\n",
    "                continue\n",
    "      \n",
    "            ## Determine final form of output list of tokens/lemmas\n",
    "            if use_lemmas:\n",
    "                tokens.append(token.lemma_.lower())\n",
    "            else:\n",
    "                tokens.append(token.text.lower())\n",
    "        processed_texts.append(tokens)\n",
    "    return processed_texts"
   ]
  },
  {
   "cell_type": "code",
   "execution_count": null,
   "id": "2a656074-9b39-406f-8219-822469307135",
   "metadata": {},
   "outputs": [],
   "source": []
  },
  {
   "cell_type": "code",
   "execution_count": 5,
   "id": "b40f9683-70ff-4c8e-a9ed-3b2048b0a3f3",
   "metadata": {},
   "outputs": [
    {
     "data": {
      "text/html": [
       "<div>\n",
       "<style scoped>\n",
       "    .dataframe tbody tr th:only-of-type {\n",
       "        vertical-align: middle;\n",
       "    }\n",
       "\n",
       "    .dataframe tbody tr th {\n",
       "        vertical-align: top;\n",
       "    }\n",
       "\n",
       "    .dataframe thead th {\n",
       "        text-align: right;\n",
       "    }\n",
       "</style>\n",
       "<table border=\"1\" class=\"dataframe\">\n",
       "  <thead>\n",
       "    <tr style=\"text-align: right;\">\n",
       "      <th></th>\n",
       "      <th>review_id</th>\n",
       "      <th>movie_id</th>\n",
       "      <th>imdb_id</th>\n",
       "      <th>original_title</th>\n",
       "      <th>review</th>\n",
       "      <th>rating</th>\n",
       "    </tr>\n",
       "  </thead>\n",
       "  <tbody>\n",
       "    <tr>\n",
       "      <th>0</th>\n",
       "      <td>64ecc16e83901800af821d50</td>\n",
       "      <td>843</td>\n",
       "      <td>tt0118694</td>\n",
       "      <td>花樣年華</td>\n",
       "      <td>This is a fine piece of cinema from Wong Kar-Wai that tells us a story of two people whom circumstance throws together - but not in a way you might expect. We start with two couples who move into a new building. One a newspaper man with his wife, the other a business executive and his wife. The ...</td>\n",
       "      <td>7.0</td>\n",
       "    </tr>\n",
       "    <tr>\n",
       "      <th>1</th>\n",
       "      <td>57086ff5c3a3681d29001512</td>\n",
       "      <td>7443</td>\n",
       "      <td>tt0120630</td>\n",
       "      <td>Chicken Run</td>\n",
       "      <td>A guilty pleasure for me personally, as I love both 'The Great Escape' and most of the works I have seen, over the years, from this rightfully-esteemed British animation company. Highly recommended both for children and for adults who enjoy animation.</td>\n",
       "      <td>9.0</td>\n",
       "    </tr>\n",
       "    <tr>\n",
       "      <th>2</th>\n",
       "      <td>5bb5ac829251410dcb00810c</td>\n",
       "      <td>7443</td>\n",
       "      <td>tt0120630</td>\n",
       "      <td>Chicken Run</td>\n",
       "      <td>Made my roommate who hates stop-motion animation watched this in 2018 and even he had a good time. It's maybe not as great as I remember thinking it was when I was a little kid, but it still holds up to some degree.\\r\\n\\r\\n_Final rating:★★★ - I liked it. Would personally recommend you give it a ...</td>\n",
       "      <td>6.0</td>\n",
       "    </tr>\n",
       "    <tr>\n",
       "      <th>3</th>\n",
       "      <td>5f0c53a013a32000357ec505</td>\n",
       "      <td>7443</td>\n",
       "      <td>tt0120630</td>\n",
       "      <td>Chicken Run</td>\n",
       "      <td>A very good stop-motion animation!\\r\\n\\r\\n&lt;em&gt;'Chicken Run'&lt;/em&gt;, which I watched a crap tonne when I was little but not for a vast number of years now, is an impressive production given it came out in 2000. Despite a pretty simple feel to the film, it's a very well developed concept.\\r\\n\\r\\nThe...</td>\n",
       "      <td>8.0</td>\n",
       "    </tr>\n",
       "    <tr>\n",
       "      <th>4</th>\n",
       "      <td>64ecc027594c9400ffe77c91</td>\n",
       "      <td>7443</td>\n",
       "      <td>tt0120630</td>\n",
       "      <td>Chicken Run</td>\n",
       "      <td>Ok, there is an huge temptation to riddle this review with puns - but I'm just going to say it's a cracking little family adventure. It's seemingly based on a whole range of classic movies from the \"Great Escape\", \"Star Trek\" to \"Love Story\" with a score cannibalised from just about any/everythi...</td>\n",
       "      <td>7.0</td>\n",
       "    </tr>\n",
       "  </tbody>\n",
       "</table>\n",
       "</div>"
      ],
      "text/plain": [
       "                  review_id  movie_id    imdb_id original_title  \\\n",
       "0  64ecc16e83901800af821d50       843  tt0118694           花樣年華   \n",
       "1  57086ff5c3a3681d29001512      7443  tt0120630    Chicken Run   \n",
       "2  5bb5ac829251410dcb00810c      7443  tt0120630    Chicken Run   \n",
       "3  5f0c53a013a32000357ec505      7443  tt0120630    Chicken Run   \n",
       "4  64ecc027594c9400ffe77c91      7443  tt0120630    Chicken Run   \n",
       "\n",
       "                                                                                                                                                                                                                                                                                                        review  \\\n",
       "0  This is a fine piece of cinema from Wong Kar-Wai that tells us a story of two people whom circumstance throws together - but not in a way you might expect. We start with two couples who move into a new building. One a newspaper man with his wife, the other a business executive and his wife. The ...   \n",
       "1                                                  A guilty pleasure for me personally, as I love both 'The Great Escape' and most of the works I have seen, over the years, from this rightfully-esteemed British animation company. Highly recommended both for children and for adults who enjoy animation.   \n",
       "2  Made my roommate who hates stop-motion animation watched this in 2018 and even he had a good time. It's maybe not as great as I remember thinking it was when I was a little kid, but it still holds up to some degree.\\r\\n\\r\\n_Final rating:★★★ - I liked it. Would personally recommend you give it a ...   \n",
       "3  A very good stop-motion animation!\\r\\n\\r\\n<em>'Chicken Run'</em>, which I watched a crap tonne when I was little but not for a vast number of years now, is an impressive production given it came out in 2000. Despite a pretty simple feel to the film, it's a very well developed concept.\\r\\n\\r\\nThe...   \n",
       "4  Ok, there is an huge temptation to riddle this review with puns - but I'm just going to say it's a cracking little family adventure. It's seemingly based on a whole range of classic movies from the \"Great Escape\", \"Star Trek\" to \"Love Story\" with a score cannibalised from just about any/everythi...   \n",
       "\n",
       "   rating  \n",
       "0     7.0  \n",
       "1     9.0  \n",
       "2     6.0  \n",
       "3     8.0  \n",
       "4     7.0  "
      ]
     },
     "execution_count": 5,
     "metadata": {},
     "output_type": "execute_result"
    }
   ],
   "source": [
    "# Load metadata\n",
    "df = pd.read_csv(\"data-NLP/movie_reviews_v2.csv\")\n",
    "df.head()"
   ]
  },
  {
   "cell_type": "code",
   "execution_count": 6,
   "id": "d942c21b-8e9a-4cfe-9b12-8b4721abd087",
   "metadata": {},
   "outputs": [
    {
     "name": "stdout",
     "output_type": "stream",
     "text": [
      "<class 'pandas.core.frame.DataFrame'>\n",
      "RangeIndex: 8650 entries, 0 to 8649\n",
      "Data columns (total 6 columns):\n",
      " #   Column          Non-Null Count  Dtype  \n",
      "---  ------          --------------  -----  \n",
      " 0   review_id       8650 non-null   object \n",
      " 1   movie_id        8650 non-null   int64  \n",
      " 2   imdb_id         8650 non-null   object \n",
      " 3   original_title  8650 non-null   object \n",
      " 4   review          8650 non-null   object \n",
      " 5   rating          7454 non-null   float64\n",
      "dtypes: float64(1), int64(1), object(4)\n",
      "memory usage: 405.6+ KB\n"
     ]
    }
   ],
   "source": [
    "df.info()"
   ]
  },
  {
   "cell_type": "code",
   "execution_count": 7,
   "id": "700faca0-a6a9-43e4-9096-7aa2ca1e9942",
   "metadata": {},
   "outputs": [
    {
     "data": {
      "text/html": [
       "<div>\n",
       "<style scoped>\n",
       "    .dataframe tbody tr th:only-of-type {\n",
       "        vertical-align: middle;\n",
       "    }\n",
       "\n",
       "    .dataframe tbody tr th {\n",
       "        vertical-align: top;\n",
       "    }\n",
       "\n",
       "    .dataframe thead th {\n",
       "        text-align: right;\n",
       "    }\n",
       "</style>\n",
       "<table border=\"1\" class=\"dataframe\">\n",
       "  <thead>\n",
       "    <tr style=\"text-align: right;\">\n",
       "      <th></th>\n",
       "      <th>movie_id</th>\n",
       "      <th>rating</th>\n",
       "    </tr>\n",
       "  </thead>\n",
       "  <tbody>\n",
       "    <tr>\n",
       "      <th>count</th>\n",
       "      <td>8.650000e+03</td>\n",
       "      <td>7454.000000</td>\n",
       "    </tr>\n",
       "    <tr>\n",
       "      <th>mean</th>\n",
       "      <td>2.714300e+05</td>\n",
       "      <td>6.497854</td>\n",
       "    </tr>\n",
       "    <tr>\n",
       "      <th>std</th>\n",
       "      <td>2.392418e+05</td>\n",
       "      <td>2.159961</td>\n",
       "    </tr>\n",
       "    <tr>\n",
       "      <th>min</th>\n",
       "      <td>1.200000e+01</td>\n",
       "      <td>0.500000</td>\n",
       "    </tr>\n",
       "    <tr>\n",
       "      <th>25%</th>\n",
       "      <td>3.664800e+04</td>\n",
       "      <td>5.000000</td>\n",
       "    </tr>\n",
       "    <tr>\n",
       "      <th>50%</th>\n",
       "      <td>2.719690e+05</td>\n",
       "      <td>7.000000</td>\n",
       "    </tr>\n",
       "    <tr>\n",
       "      <th>75%</th>\n",
       "      <td>4.390790e+05</td>\n",
       "      <td>8.000000</td>\n",
       "    </tr>\n",
       "    <tr>\n",
       "      <th>max</th>\n",
       "      <td>1.162322e+06</td>\n",
       "      <td>10.000000</td>\n",
       "    </tr>\n",
       "  </tbody>\n",
       "</table>\n",
       "</div>"
      ],
      "text/plain": [
       "           movie_id       rating\n",
       "count  8.650000e+03  7454.000000\n",
       "mean   2.714300e+05     6.497854\n",
       "std    2.392418e+05     2.159961\n",
       "min    1.200000e+01     0.500000\n",
       "25%    3.664800e+04     5.000000\n",
       "50%    2.719690e+05     7.000000\n",
       "75%    4.390790e+05     8.000000\n",
       "max    1.162322e+06    10.000000"
      ]
     },
     "execution_count": 7,
     "metadata": {},
     "output_type": "execute_result"
    }
   ],
   "source": [
    "df.describe()"
   ]
  },
  {
   "cell_type": "code",
   "execution_count": 8,
   "id": "04acd4ff-b30d-4595-9a5a-1ff5f8c6fc93",
   "metadata": {},
   "outputs": [
    {
     "data": {
      "text/plain": [
       "review_id            0\n",
       "movie_id             0\n",
       "imdb_id              0\n",
       "original_title       0\n",
       "review               0\n",
       "rating            1196\n",
       "dtype: int64"
      ]
     },
     "execution_count": 8,
     "metadata": {},
     "output_type": "execute_result"
    }
   ],
   "source": [
    "df.isna().sum()"
   ]
  },
  {
   "cell_type": "markdown",
   "id": "79a6e977-90bc-42e8-aa30-7d211cde53a9",
   "metadata": {},
   "source": [
    "*  **How many reviews?**    *8650 reviews*\n",
    "*  **What does the distribution of ratings look like?**  *ratings range from 0.5 to 10*\n",
    "*  **Are there any null values?**  *There are 1196 null values**\n",
    "    -  since these values are all \"ratings\"  they will have to be dropped"
   ]
  },
  {
   "cell_type": "code",
   "execution_count": 9,
   "id": "2ff390a8-465e-43a4-9b41-f38e1031a127",
   "metadata": {},
   "outputs": [
    {
     "data": {
      "text/plain": [
       "0"
      ]
     },
     "execution_count": 9,
     "metadata": {},
     "output_type": "execute_result"
    }
   ],
   "source": [
    "#check for duplicates\n",
    "df.duplicated().sum()"
   ]
  },
  {
   "cell_type": "code",
   "execution_count": 10,
   "id": "a5864cb8-eeef-4480-b2e9-2967919065ad",
   "metadata": {},
   "outputs": [
    {
     "data": {
      "text/plain": [
       "0"
      ]
     },
     "execution_count": 10,
     "metadata": {},
     "output_type": "execute_result"
    }
   ],
   "source": [
    "df= df.drop_duplicates()\n",
    "df.duplicated().sum()"
   ]
  },
  {
   "cell_type": "code",
   "execution_count": 11,
   "id": "5318f9d7-0350-45d8-8f3b-2d63079b30be",
   "metadata": {},
   "outputs": [
    {
     "data": {
      "text/plain": [
       "review_id         0\n",
       "movie_id          0\n",
       "imdb_id           0\n",
       "original_title    0\n",
       "review            0\n",
       "rating            0\n",
       "dtype: int64"
      ]
     },
     "execution_count": 11,
     "metadata": {},
     "output_type": "execute_result"
    }
   ],
   "source": [
    "#Drop null values as this is my target column and there is no good way to impute these\n",
    "df= df.dropna()\n",
    "df.isna().sum()"
   ]
  },
  {
   "cell_type": "markdown",
   "id": "460a504b-4987-478d-81ed-583a2d20b883",
   "metadata": {},
   "source": [
    "##### Dropping rows with strange characters\n",
    "\n",
    "Some odd characters were discovered in the review when doing EDA, in order to keep these characters from interfereing with analysis and model output they will be removed.\n",
    "-  if there are less than 100 rows with the character the rows will be dropped\n",
    "-  if there are more than 100 rows, the character will be added to custom stopwords"
   ]
  },
  {
   "cell_type": "code",
   "execution_count": 12,
   "id": "5155b26a-a67b-4fe2-a1af-7e7c456e6a5d",
   "metadata": {},
   "outputs": [
    {
     "data": {
      "text/plain": [
       "review_id         563\n",
       "movie_id          563\n",
       "imdb_id           563\n",
       "original_title    563\n",
       "review            563\n",
       "rating            563\n",
       "dtype: int64"
      ]
     },
     "execution_count": 12,
     "metadata": {},
     "output_type": "execute_result"
    }
   ],
   "source": [
    "stars = df.loc[(df['review'].str.contains('★'))==True]\n",
    "stars.count()\n",
    "\n",
    "##Will add to stopwords"
   ]
  },
  {
   "cell_type": "code",
   "execution_count": 13,
   "id": "544cd10e-a837-4fb9-88fc-0d01343e6514",
   "metadata": {},
   "outputs": [
    {
     "data": {
      "text/plain": [
       "review_id         7\n",
       "movie_id          7\n",
       "imdb_id           7\n",
       "original_title    7\n",
       "review            7\n",
       "rating            7\n",
       "dtype: int64"
      ]
     },
     "execution_count": 13,
     "metadata": {},
     "output_type": "execute_result"
    }
   ],
   "source": [
    "man = df.loc[(df['review'].str.contains(\"♂\"))==True]\n",
    "man.count()"
   ]
  },
  {
   "cell_type": "code",
   "execution_count": 14,
   "id": "3be0e81f-ebcf-44c1-ad26-9feaee8938e1",
   "metadata": {},
   "outputs": [
    {
     "data": {
      "text/plain": [
       "Int64Index([7289, 7394, 7494, 7525, 7597, 7618, 7641], dtype='int64')"
      ]
     },
     "execution_count": 14,
     "metadata": {},
     "output_type": "execute_result"
    }
   ],
   "source": [
    "man.index"
   ]
  },
  {
   "cell_type": "code",
   "execution_count": 15,
   "id": "39f6cd49-e3b6-4706-a47b-ec4477532fc9",
   "metadata": {},
   "outputs": [
    {
     "data": {
      "text/plain": [
       "review_id         1\n",
       "movie_id          1\n",
       "imdb_id           1\n",
       "original_title    1\n",
       "review            1\n",
       "rating            1\n",
       "dtype: int64"
      ]
     },
     "execution_count": 15,
     "metadata": {},
     "output_type": "execute_result"
    }
   ],
   "source": [
    "stars2 = df.loc[(df['review'].str.contains('🌟'))==True]\n",
    "stars2.count()"
   ]
  },
  {
   "cell_type": "code",
   "execution_count": 16,
   "id": "c28616e3-98d1-43f6-8e11-f11b3f0f262c",
   "metadata": {},
   "outputs": [
    {
     "data": {
      "text/plain": [
       "Int64Index([7360], dtype='int64')"
      ]
     },
     "execution_count": 16,
     "metadata": {},
     "output_type": "execute_result"
    }
   ],
   "source": [
    "stars2.index"
   ]
  },
  {
   "cell_type": "code",
   "execution_count": 17,
   "id": "5b1a6a0f-7f38-423a-b7ea-d97444cbe70f",
   "metadata": {},
   "outputs": [
    {
     "data": {
      "text/plain": [
       "review_id         7\n",
       "movie_id          7\n",
       "imdb_id           7\n",
       "original_title    7\n",
       "review            7\n",
       "rating            7\n",
       "dtype: int64"
      ]
     },
     "execution_count": 17,
     "metadata": {},
     "output_type": "execute_result"
    }
   ],
   "source": [
    "hands = df.loc[(df['review'].str.contains(\"🤷\"))==True]\n",
    "hands.count()"
   ]
  },
  {
   "cell_type": "code",
   "execution_count": 18,
   "id": "63ebb8d9-e307-42bf-8158-0fc653ea51ad",
   "metadata": {},
   "outputs": [
    {
     "data": {
      "text/plain": [
       "Int64Index([7289, 7394, 7494, 7525, 7597, 7618, 7641], dtype='int64')"
      ]
     },
     "execution_count": 18,
     "metadata": {},
     "output_type": "execute_result"
    }
   ],
   "source": [
    "hands.index"
   ]
  },
  {
   "cell_type": "code",
   "execution_count": 19,
   "id": "e73ea1c3-0415-4a9d-a35d-75457efb14ad",
   "metadata": {},
   "outputs": [],
   "source": [
    "df= df.drop(index=[7360,7289, 7394, 7494, 7525, 7597, 7618, 7641,\n",
    "                   ])\n"
   ]
  },
  {
   "cell_type": "code",
   "execution_count": 20,
   "id": "5dece682-2048-4f83-ae7f-f7d1aa76c88f",
   "metadata": {},
   "outputs": [
    {
     "data": {
      "text/plain": [
       "495"
      ]
     },
     "execution_count": 20,
     "metadata": {},
     "output_type": "execute_result"
    }
   ],
   "source": [
    "url = '(http[s]?://[\\S]+)'\n",
    "df['url'] = df['review'].str.extract(url)\n",
    "df['url'].count()"
   ]
  },
  {
   "cell_type": "code",
   "execution_count": 21,
   "id": "1b82780b-bd9c-43f4-ab32-fac40a2cc261",
   "metadata": {},
   "outputs": [
    {
     "data": {
      "image/png": "[encoded data removed]",
      "text/plain": [
       "<Figure size 640x480 with 1 Axes>"
      ]
     },
     "metadata": {},
     "output_type": "display_data"
    }
   ],
   "source": [
    "# How many of each rating?\n",
    "ax = sns.countplot(data=df, x='rating')\n",
    "labels=ax.get_xticklabels()\n",
    "ax.set_xticklabels(labels=labels,rotation=45)\n",
    "ax.set_xlabel('Ratings')\n",
    "ax.set_title('Distribution of Movie Ratings');\n",
    "plt.savefig('images/ratings_countplot.png')"
   ]
  },
  {
   "cell_type": "code",
   "execution_count": 22,
   "id": "d89719e5-1d8d-4dd2-9f22-aaf742618ea5",
   "metadata": {},
   "outputs": [],
   "source": [
    "dff = df.copy()\n",
    "# combine title with text\n",
    "#dff['movie_review'] = df[\"original_title\"] +\":  \" +df['review']\n",
    "#dff.head(1)"
   ]
  },
  {
   "cell_type": "code",
   "execution_count": 23,
   "id": "ff440d23-ab91-416e-83b9-b8fdf1d1988d",
   "metadata": {},
   "outputs": [
    {
     "data": {
      "text/plain": [
       "1224"
      ]
     },
     "execution_count": 23,
     "metadata": {},
     "output_type": "execute_result"
    }
   ],
   "source": [
    "low_rating = dff['rating']<=4\n",
    "\n",
    "low_rating.sum()"
   ]
  },
  {
   "cell_type": "markdown",
   "id": "b116c394-a7d8-4ae1-8f1f-052e03c77f47",
   "metadata": {},
   "source": [
    "* The number of high and low rated movies became imbalanced after removing rows.  By using ratings of 8.5 and up the number of high rated movies and low rated movies is within 10."
   ]
  },
  {
   "cell_type": "code",
   "execution_count": 24,
   "id": "93effb22-5a6a-4fac-b1d3-e7c68efec33c",
   "metadata": {},
   "outputs": [
    {
     "data": {
      "text/plain": [
       "1214"
      ]
     },
     "execution_count": 24,
     "metadata": {},
     "output_type": "execute_result"
    }
   ],
   "source": [
    "\n",
    "high_rating = dff['rating']>=8.5\n",
    "\n",
    "high_rating.sum()"
   ]
  },
  {
   "cell_type": "code",
   "execution_count": 25,
   "id": "0079edbb-66ad-418f-a1b5-cc4ececa7fcf",
   "metadata": {},
   "outputs": [
    {
     "data": {
      "text/plain": [
       "1224"
      ]
     },
     "execution_count": 25,
     "metadata": {},
     "output_type": "execute_result"
    }
   ],
   "source": [
    "filtered_low = dff['rating']<=4\n",
    "filtered_low.sum()"
   ]
  },
  {
   "cell_type": "code",
   "execution_count": 26,
   "id": "fc863717-38eb-4967-8b6a-62899411125c",
   "metadata": {},
   "outputs": [
    {
     "data": {
      "text/html": [
       "<div>\n",
       "<style scoped>\n",
       "    .dataframe tbody tr th:only-of-type {\n",
       "        vertical-align: middle;\n",
       "    }\n",
       "\n",
       "    .dataframe tbody tr th {\n",
       "        vertical-align: top;\n",
       "    }\n",
       "\n",
       "    .dataframe thead th {\n",
       "        text-align: right;\n",
       "    }\n",
       "</style>\n",
       "<table border=\"1\" class=\"dataframe\">\n",
       "  <thead>\n",
       "    <tr style=\"text-align: right;\">\n",
       "      <th></th>\n",
       "      <th>review_id</th>\n",
       "      <th>movie_id</th>\n",
       "      <th>imdb_id</th>\n",
       "      <th>original_title</th>\n",
       "      <th>review</th>\n",
       "      <th>rating</th>\n",
       "      <th>url</th>\n",
       "    </tr>\n",
       "  </thead>\n",
       "  <tbody>\n",
       "    <tr>\n",
       "      <th>1</th>\n",
       "      <td>57086ff5c3a3681d29001512</td>\n",
       "      <td>7443</td>\n",
       "      <td>tt0120630</td>\n",
       "      <td>Chicken Run</td>\n",
       "      <td>A guilty pleasure for me personally, as I love both 'The Great Escape' and most of the works I have seen, over the years, from this rightfully-esteemed British animation company. Highly recommended both for children and for adults who enjoy animation.</td>\n",
       "      <td>9.0</td>\n",
       "      <td>NaN</td>\n",
       "    </tr>\n",
       "    <tr>\n",
       "      <th>6</th>\n",
       "      <td>57b2d23dc3a36837d7000b14</td>\n",
       "      <td>955</td>\n",
       "      <td>tt0120755</td>\n",
       "      <td>Mission: Impossible II</td>\n",
       "      <td>The first underwhelmed me, but this one straight-up bored me. Again, of course seeing Hunt climb a mountain without a harness is impressive sure. And I even quite liked the idea behind the villain of the piece (though even that angle was woefully underdeveloped).\\r\\n\\r\\nEven setting it in predom...</td>\n",
       "      <td>3.0</td>\n",
       "      <td>NaN</td>\n",
       "    </tr>\n",
       "    <tr>\n",
       "      <th>7</th>\n",
       "      <td>5e9120963679a10018375490</td>\n",
       "      <td>955</td>\n",
       "      <td>tt0120755</td>\n",
       "      <td>Mission: Impossible II</td>\n",
       "      <td>After quite entertainign Mission Impossible I the second installment turned out ... terrible. As if the screenwriters didn't know how to fill the 2 hrs with action the overuse of heroic slow motion scenes is horrible. You almost might need a barf bag if you can't stand slo-mo every five seconds....</td>\n",
       "      <td>2.0</td>\n",
       "      <td>NaN</td>\n",
       "    </tr>\n",
       "  </tbody>\n",
       "</table>\n",
       "</div>"
      ],
      "text/plain": [
       "                  review_id  movie_id    imdb_id          original_title  \\\n",
       "1  57086ff5c3a3681d29001512      7443  tt0120630             Chicken Run   \n",
       "6  57b2d23dc3a36837d7000b14       955  tt0120755  Mission: Impossible II   \n",
       "7  5e9120963679a10018375490       955  tt0120755  Mission: Impossible II   \n",
       "\n",
       "                                                                                                                                                                                                                                                                                                        review  \\\n",
       "1                                                  A guilty pleasure for me personally, as I love both 'The Great Escape' and most of the works I have seen, over the years, from this rightfully-esteemed British animation company. Highly recommended both for children and for adults who enjoy animation.   \n",
       "6  The first underwhelmed me, but this one straight-up bored me. Again, of course seeing Hunt climb a mountain without a harness is impressive sure. And I even quite liked the idea behind the villain of the piece (though even that angle was woefully underdeveloped).\\r\\n\\r\\nEven setting it in predom...   \n",
       "7  After quite entertainign Mission Impossible I the second installment turned out ... terrible. As if the screenwriters didn't know how to fill the 2 hrs with action the overuse of heroic slow motion scenes is horrible. You almost might need a barf bag if you can't stand slo-mo every five seconds....   \n",
       "\n",
       "   rating  url  \n",
       "1     9.0  NaN  \n",
       "6     3.0  NaN  \n",
       "7     2.0  NaN  "
      ]
     },
     "execution_count": 26,
     "metadata": {},
     "output_type": "execute_result"
    }
   ],
   "source": [
    "#filter only high and low rating rows\n",
    "filtered = dff[(dff['rating'] <=4) |(dff['rating']>=8.5)]\n",
    "filtered.head(3)"
   ]
  },
  {
   "cell_type": "code",
   "execution_count": 27,
   "id": "5a733113-c4fd-412d-9761-50f929be2764",
   "metadata": {},
   "outputs": [
    {
     "data": {
      "image/png": "[encoded data removed]",
      "text/plain": [
       "<Figure size 640x480 with 1 Axes>"
      ]
     },
     "metadata": {},
     "output_type": "display_data"
    }
   ],
   "source": [
    "# How many of high vs low rating?\n",
    "ax = sns.countplot(data=filtered, x='rating')\n",
    "labels=ax.get_xticklabels()\n",
    "#ax.set_xticklabels(labels=labels,rotation=45)\n",
    "ax.set_xlabel('Ratings')\n",
    "ax.set_title('Distribution of High and Low Movie Ratings');\n",
    "plt.savefig('images/high_low_ratings_countplot.png')"
   ]
  },
  {
   "cell_type": "code",
   "execution_count": 28,
   "id": "c90ed29e-4b8a-4a7c-ab19-c0fc2b3f98fa",
   "metadata": {},
   "outputs": [],
   "source": [
    "##Drop unnecessary columns\n",
    "filtered = filtered.drop(columns=['review_id','original_title', 'imdb_id','movie_id'])\n"
   ]
  },
  {
   "cell_type": "code",
   "execution_count": 29,
   "id": "d4991b10-ea71-4b88-bcfd-7e8cc6efd6c7",
   "metadata": {},
   "outputs": [
    {
     "data": {
      "text/html": [
       "<div>\n",
       "<style scoped>\n",
       "    .dataframe tbody tr th:only-of-type {\n",
       "        vertical-align: middle;\n",
       "    }\n",
       "\n",
       "    .dataframe tbody tr th {\n",
       "        vertical-align: top;\n",
       "    }\n",
       "\n",
       "    .dataframe thead th {\n",
       "        text-align: right;\n",
       "    }\n",
       "</style>\n",
       "<table border=\"1\" class=\"dataframe\">\n",
       "  <thead>\n",
       "    <tr style=\"text-align: right;\">\n",
       "      <th></th>\n",
       "      <th>review</th>\n",
       "      <th>rating</th>\n",
       "      <th>url</th>\n",
       "    </tr>\n",
       "  </thead>\n",
       "  <tbody>\n",
       "    <tr>\n",
       "      <th>1</th>\n",
       "      <td>A guilty pleasure for me personally, as I love both 'The Great Escape' and most of the works I have seen, over the years, from this rightfully-esteemed British animation company. Highly recommended both for children and for adults who enjoy animation.</td>\n",
       "      <td>9.0</td>\n",
       "      <td>NaN</td>\n",
       "    </tr>\n",
       "  </tbody>\n",
       "</table>\n",
       "</div>"
      ],
      "text/plain": [
       "                                                                                                                                                                                                                                                        review  \\\n",
       "1  A guilty pleasure for me personally, as I love both 'The Great Escape' and most of the works I have seen, over the years, from this rightfully-esteemed British animation company. Highly recommended both for children and for adults who enjoy animation.   \n",
       "\n",
       "   rating  url  \n",
       "1     9.0  NaN  "
      ]
     },
     "execution_count": 29,
     "metadata": {},
     "output_type": "execute_result"
    }
   ],
   "source": [
    "filtered.head(1)"
   ]
  },
  {
   "cell_type": "markdown",
   "id": "ed9cfca3-f55f-44ec-a36e-177440cca9fc",
   "metadata": {},
   "source": [
    "##### Get some statistics"
   ]
  },
  {
   "cell_type": "code",
   "execution_count": 30,
   "id": "337acc5d-2a0e-45b8-ac21-3c072fa456e1",
   "metadata": {},
   "outputs": [],
   "source": [
    "#determine length of documents\n",
    "filtered['length'] = filtered['review'].map(len)\n"
   ]
  },
  {
   "cell_type": "code",
   "execution_count": 31,
   "id": "966f3b81-3c41-40b5-90f8-3ac177541adc",
   "metadata": {},
   "outputs": [
    {
     "data": {
      "text/html": [
       "<div>\n",
       "<style scoped>\n",
       "    .dataframe tbody tr th:only-of-type {\n",
       "        vertical-align: middle;\n",
       "    }\n",
       "\n",
       "    .dataframe tbody tr th {\n",
       "        vertical-align: top;\n",
       "    }\n",
       "\n",
       "    .dataframe thead th {\n",
       "        text-align: right;\n",
       "    }\n",
       "</style>\n",
       "<table border=\"1\" class=\"dataframe\">\n",
       "  <thead>\n",
       "    <tr style=\"text-align: right;\">\n",
       "      <th></th>\n",
       "      <th>review</th>\n",
       "      <th>rating</th>\n",
       "      <th>url</th>\n",
       "      <th>length</th>\n",
       "    </tr>\n",
       "  </thead>\n",
       "  <tbody>\n",
       "    <tr>\n",
       "      <th>1</th>\n",
       "      <td>a guilty pleasure for me personally, as i love both 'the great escape' and most of the works i have seen, over the years, from this rightfully-esteemed british animation company. highly recommended both for children and for adults who enjoy animation.</td>\n",
       "      <td>9.0</td>\n",
       "      <td>NaN</td>\n",
       "      <td>251</td>\n",
       "    </tr>\n",
       "  </tbody>\n",
       "</table>\n",
       "</div>"
      ],
      "text/plain": [
       "                                                                                                                                                                                                                                                        review  \\\n",
       "1  a guilty pleasure for me personally, as i love both 'the great escape' and most of the works i have seen, over the years, from this rightfully-esteemed british animation company. highly recommended both for children and for adults who enjoy animation.   \n",
       "\n",
       "   rating  url  length  \n",
       "1     9.0  NaN     251  "
      ]
     },
     "execution_count": 31,
     "metadata": {},
     "output_type": "execute_result"
    }
   ],
   "source": [
    "filtered['review'] = filtered['review'].str.lower()\n",
    "filtered.head(1)"
   ]
  },
  {
   "cell_type": "code",
   "execution_count": null,
   "id": "4a90b4fe-6b85-4feb-a5da-a5615d2f7a66",
   "metadata": {},
   "outputs": [],
   "source": []
  },
  {
   "cell_type": "code",
   "execution_count": 32,
   "id": "2a6163ef-4279-4102-ac2c-dab6e6774a8e",
   "metadata": {},
   "outputs": [
    {
     "data": {
      "text/plain": [
       "['tok2vec', 'tagger', 'parser', 'attribute_ruler', 'lemmatizer']"
      ]
     },
     "execution_count": 32,
     "metadata": {},
     "output_type": "execute_result"
    }
   ],
   "source": [
    "nlp = spacy.load('en_core_web_sm', disable=['paser','ner'])\n",
    "nlp.pipe_names"
   ]
  },
  {
   "cell_type": "code",
   "execution_count": 33,
   "id": "f815bdd5-8385-4f1e-b858-36f8cebc0882",
   "metadata": {},
   "outputs": [
    {
     "name": "stderr",
     "output_type": "stream",
     "text": [
      "2438it [01:18, 30.97it/s]\n"
     ]
    },
    {
     "data": {
      "text/html": [
       "<div>\n",
       "<style scoped>\n",
       "    .dataframe tbody tr th:only-of-type {\n",
       "        vertical-align: middle;\n",
       "    }\n",
       "\n",
       "    .dataframe tbody tr th {\n",
       "        vertical-align: top;\n",
       "    }\n",
       "\n",
       "    .dataframe thead th {\n",
       "        text-align: right;\n",
       "    }\n",
       "</style>\n",
       "<table border=\"1\" class=\"dataframe\">\n",
       "  <thead>\n",
       "    <tr style=\"text-align: right;\">\n",
       "      <th></th>\n",
       "      <th>review</th>\n",
       "      <th>rating</th>\n",
       "      <th>url</th>\n",
       "      <th>length</th>\n",
       "      <th>tokens</th>\n",
       "    </tr>\n",
       "  </thead>\n",
       "  <tbody>\n",
       "    <tr>\n",
       "      <th>1</th>\n",
       "      <td>a guilty pleasure for me personally, as i love both 'the great escape' and most of the works i have seen, over the years, from this rightfully-esteemed british animation company. highly recommended both for children and for adults who enjoy animation.</td>\n",
       "      <td>9.0</td>\n",
       "      <td>NaN</td>\n",
       "      <td>251</td>\n",
       "      <td>[]</td>\n",
       "    </tr>\n",
       "  </tbody>\n",
       "</table>\n",
       "</div>"
      ],
      "text/plain": [
       "                                                                                                                                                                                                                                                        review  \\\n",
       "1  a guilty pleasure for me personally, as i love both 'the great escape' and most of the works i have seen, over the years, from this rightfully-esteemed british animation company. highly recommended both for children and for adults who enjoy animation.   \n",
       "\n",
       "   rating  url  length tokens  \n",
       "1     9.0  NaN     251     []  "
      ]
     },
     "execution_count": 33,
     "metadata": {},
     "output_type": "execute_result"
    }
   ],
   "source": [
    "filtered['tokens'] = batch_preprocess_texts(filtered['review'], \n",
    "                                       nlp=nlp, use_lemmas=True)\n",
    "filtered.head(1)"
   ]
  },
  {
   "cell_type": "code",
   "execution_count": null,
   "id": "a7be8cec-c9c3-4e46-ba66-b3cd1fa56df0",
   "metadata": {},
   "outputs": [
    {
     "name": "stderr",
     "output_type": "stream",
     "text": [
      "627it [00:31, 33.10it/s]"
     ]
    }
   ],
   "source": [
    "filtered['lemmas'] = batch_preprocess_texts(filtered['review'], \n",
    "                                       nlp=nlp, use_lemmas=True)\n",
    "filtered.head(1)"
   ]
  },
  {
   "cell_type": "markdown",
   "id": "976f528a-5430-4ee8-83b5-652d7f33e566",
   "metadata": {},
   "source": [
    "## Adding stopwords\n",
    "custom_stopwords= ('film', 'think', 'work','come','know', 'character',\n",
    "                   'movie', 'watch', 'see','look','way', 'like', 'good','go',\n",
    "                   'get', 'story', 'time', 'feel', 'action', 'man', 'scene',\n",
    "                   'people', 'end', 'make','thing', 'year', 'great', 'try',\n",
    "                   'find', 'play','★', 'well','\\r','\\n')\n",
    "STOPWORDS.update(custom_stopwords)\n",
    " "
   ]
  },
  {
   "cell_type": "code",
   "execution_count": null,
   "id": "317669a2-3fbe-4fa2-ac43-134c465a14e6",
   "metadata": {},
   "outputs": [],
   "source": [
    "## use a lambda func to convert lists to strings with a space b/w tokens\n",
    "\n",
    "# Join list of tokens into a string with spaces between each token\n",
    "filtered['tokens-joined'] = filtered['tokens'].map(lambda x: \" \".join(x))\n",
    "# Join list of lemmas into a string with spaces between each lemma\n",
    "filtered['lemmas-joined'] = filtered['lemmas'].map(lambda x: \" \".join(x))\n",
    "filtered.head(2)"
   ]
  },
  {
   "cell_type": "code",
   "execution_count": null,
   "id": "5b3c4786-2b77-4d64-af18-5692c02013ec",
   "metadata": {},
   "outputs": [],
   "source": [
    "joblib.dump(filtered, 'data-NLP/processed_data.joblib', compress=9)\n"
   ]
  },
  {
   "cell_type": "code",
   "execution_count": null,
   "id": "8016fa94-2dcd-4d2b-a0be-441f1b0f969e",
   "metadata": {},
   "outputs": [],
   "source": [
    "eda = joblib.load('data-NLP/processed_data.joblib')\n",
    "eda.head(1)"
   ]
  },
  {
   "cell_type": "markdown",
   "id": "27e1c6a8-9f20-490a-8dd5-4962bfa8e168",
   "metadata": {},
   "source": [
    "### EDA "
   ]
  },
  {
   "cell_type": "markdown",
   "id": "1e94daa7-5c9b-4f4f-85f1-1603aab057cd",
   "metadata": {},
   "source": [
    "###### Divide by Group\n",
    "\n",
    "To understand what customers like and don't like about movies, the reviews will be divided into 2 groups.\n",
    "\n",
    "-  High:\n",
    "    - ratings that are =>9.0\n",
    "-  Low:\n",
    "    - ratings that are =< 4.0 "
   ]
  },
  {
   "cell_type": "code",
   "execution_count": null,
   "id": "dfa6568c-11c4-4eb3-a1bf-1f42306f464a",
   "metadata": {},
   "outputs": [],
   "source": [
    "def rating_groups(x):\n",
    "    if x>=9.0:\n",
    "        return \"high\"\n",
    "    elif x <=4.0:\n",
    "        return \"low\"\n",
    "    else: \n",
    "        return None\n",
    "    "
   ]
  },
  {
   "cell_type": "code",
   "execution_count": null,
   "id": "1fc32eb5-04de-4854-8175-4c64d7c6d995",
   "metadata": {},
   "outputs": [],
   "source": [
    "#Test the function\n",
    "rating_groups(9.0)"
   ]
  },
  {
   "cell_type": "code",
   "execution_count": null,
   "id": "44f1431c-549a-49d8-8c9b-8df63e3c0181",
   "metadata": {},
   "outputs": [],
   "source": [
    "rating_groups(2.5)"
   ]
  },
  {
   "cell_type": "code",
   "execution_count": null,
   "id": "3e8d0b37-a059-48c2-9e37-b85b239e48f6",
   "metadata": {},
   "outputs": [],
   "source": [
    "rating_groups(6)"
   ]
  },
  {
   "cell_type": "code",
   "execution_count": null,
   "id": "1a55ddc1-a5b5-4042-81a7-52ea8e056f74",
   "metadata": {},
   "outputs": [],
   "source": [
    "#  Create new \"lhrating\" column\n",
    "eda['label'] = eda['rating'].map(rating_groups)\n",
    "eda['label'].value_counts()"
   ]
  },
  {
   "cell_type": "code",
   "execution_count": null,
   "id": "0910401f-fce7-4fa4-a861-de62a3940ddc",
   "metadata": {},
   "outputs": [],
   "source": [
    "# check the balance of class\n",
    "eda['label'].value_counts(normalize=True)"
   ]
  },
  {
   "cell_type": "code",
   "execution_count": null,
   "id": "0de26b3e-4764-4b4a-9947-0347dd68f139",
   "metadata": {},
   "outputs": [],
   "source": [
    "# Visuzlize how many of high vs low rating?\n",
    "ax = sns.countplot(data=eda, x='label')\n",
    "labels=ax.get_xticklabels()\n",
    "#ax.set_xticklabels(labels=labels,rotation=45)\n",
    "ax.set_xlabel('Ratings')\n",
    "ax.set_title('Distribution of High and los Movie Ratings');\n",
    "plt.savefig('images/high_low_countplot.png')"
   ]
  },
  {
   "cell_type": "markdown",
   "id": "310afd98-d433-4c09-95fd-12fa15d7fabd",
   "metadata": {},
   "source": [
    "*  In an effort to classify high ratings vs low ratings for the movies there will be 2 dataframes."
   ]
  },
  {
   "cell_type": "code",
   "execution_count": null,
   "id": "4bf27508-4433-467d-9a49-23f93614a1f9",
   "metadata": {},
   "outputs": [],
   "source": [
    "## Divide documents by sentiment\n",
    "high = eda.loc[eda['label'] == 'high']\n",
    "low = eda.loc[eda['label'] == 'low']\n"
   ]
  },
  {
   "cell_type": "code",
   "execution_count": null,
   "id": "15f2b4fb-caa7-4e84-bac7-2cc16968ff42",
   "metadata": {},
   "outputs": [],
   "source": [
    "high_string = \" \".join(high['lemmas-joined'])\n",
    "low_string = \" \".join(low['lemmas-joined'])"
   ]
  },
  {
   "cell_type": "code",
   "execution_count": null,
   "id": "2db7b9d1-bf1f-4e42-8fe2-46f6c357fecf",
   "metadata": {},
   "outputs": [],
   "source": [
    "## Word Clouds\n",
    "def plot_wordclouds(high_cloud, low_cloud, title='Comparing Word Usage'):\n",
    "    \"\"\"Plots the wordlcouds for our two groups\"\"\"\n",
    "    ## Plot the Images\n",
    "    fig, axes = plt.subplots(ncols=2, figsize=(10, 5))\n",
    "    axes[0].imshow(high_cloud)\n",
    "    axes[0].set_title('High Ratings')\n",
    "    axes[0].axis('off')\n",
    "    \n",
    "    axes[1].imshow(low_cloud)\n",
    "    axes[1].set_title('Low Ratings')\n",
    "    axes[1].axis('off')\n",
    "    fig.tight_layout()\n",
    "    \n",
    "    fig.suptitle(title,y=1.0, fontsize='xx-large');\n",
    "    return fig\n"
   ]
  },
  {
   "cell_type": "code",
   "execution_count": null,
   "id": "8eca20fe-eb3d-44a0-b712-5836c7eaa207",
   "metadata": {},
   "outputs": [],
   "source": [
    "## Generate the WordCloud Images\n",
    "wordcloud_kws = dict(min_word_length=3,width=800, height=600, random_state=42)\n",
    "high_cloud = WordCloud(**wordcloud_kws,\n",
    "                       colormap='Greens').generate(high_string)\n",
    "low_cloud = WordCloud(**wordcloud_kws,\n",
    "                      colormap='Reds').generate(low_string)\n",
    "\n",
    "fig = plot_wordclouds(high_cloud, low_cloud,\n",
    "                      title=\"Comparing Original Reviews\")"
   ]
  },
  {
   "cell_type": "markdown",
   "id": "573f8aa5-c458-4a7c-b305-1f6b6f9bdaf0",
   "metadata": {},
   "source": [
    "#### Adding Custom Stopwords"
   ]
  },
  {
   "cell_type": "code",
   "execution_count": null,
   "id": "72852f57-e16d-4ab0-8e98-05d62ae81c12",
   "metadata": {},
   "outputs": [],
   "source": [
    "custom_stopwords= ['film', 'think', 'work','come','know', 'character',\n",
    "                   'movie', 'watch', 'see','look','way', 'like', 'good']\n",
    "stpword = nltk.corpus.stopwords.words('english')\n",
    "stpword.extend(custom_stopwords)"
   ]
  },
  {
   "cell_type": "code",
   "execution_count": null,
   "id": "5f145cfe-ab9f-4818-a158-5554b1032cf7",
   "metadata": {},
   "outputs": [],
   "source": [
    "## Generate the WordCloud Images\n",
    "wordcloud_kws = dict(min_word_length=3,width=800, height=600, stopwords = stpword, random_state=42)\n",
    "high_cloud = WordCloud(**wordcloud_kws, colormap='Greens').generate(high_string)\n",
    "low_cloud = WordCloud(**wordcloud_kws, colormap='Reds').generate(low_string)\n",
    "\n",
    "fig = plot_wordclouds(high_cloud, low_cloud, title=\"Comparing Original Reviews\")\n",
    "\n",
    "# Saving figure for README\n",
    "fig.savefig('images/wordclouds-reviews.png',\n",
    "            dpi=300, bbox_inches='tight', transparent=False) "
   ]
  },
  {
   "cell_type": "markdown",
   "id": "c88f8284-07e0-4a40-b465-028cb93b751c",
   "metadata": {},
   "source": [
    "## Frequency Distribution"
   ]
  },
  {
   "cell_type": "code",
   "execution_count": null,
   "id": "46ea5093-d38c-4b97-a89a-9a55275c9feb",
   "metadata": {},
   "outputs": [],
   "source": [
    "high_word = high['lemmas'].explode().to_list()\n",
    "low_word = low['lemmas'].explode().to_list()"
   ]
  },
  {
   "cell_type": "code",
   "execution_count": null,
   "id": "eb2389c5-ad08-4d57-9b50-5acefe6069bd",
   "metadata": {},
   "outputs": [],
   "source": [
    "##Remove stopwords\n",
    "high_word =  [word for word in high_word if word not in stpword]\n",
    "low_word =  [word for word in low_word if word not in stpword]"
   ]
  },
  {
   "cell_type": "code",
   "execution_count": null,
   "id": "b6430170-b656-4717-9c2c-8d50023c0476",
   "metadata": {},
   "outputs": [],
   "source": [
    "## Freq Dist\n",
    "\n",
    "## Instantiate high frequency distribution\n",
    "high_freq_dist = FreqDist(high_word)\n",
    "low_freq_dist = FreqDist(low_word)\n",
    "\n",
    "#Get top 20 words\n",
    "top20_high_words, top20_high_freq = zip(*high_freq_dist.most_common(20))\n",
    "top20_low_words, top20_low_freq = zip(*low_freq_dist.most_common(20))\n",
    "\n",
    "plt.rcParams.update({'font.size': 15})\n",
    "fig, axes = plt.subplots(1, 2, figsize=(15, 5))\n",
    "\n",
    "## Plot the High frequency distributions\n",
    "axes[0].plot(top20_high_words, top20_high_freq, color='blue', alpha=0.7)\n",
    "# Set titles and labels for high plot\n",
    "axes[0].set_title('High Ratings')\n",
    "axes[0].set_xlabel('Words')\n",
    "axes[0].tick_params(axis='x', rotation=90)\n",
    "axes[0].set_ylabel('Frequency')\n",
    "\n",
    "## Plot the Low frequency distributions\n",
    "axes[1].plot(top20_low_words, top20_low_freq, color='green', alpha=0.7)\n",
    "# Set titles and labels for low plot\n",
    "axes[1].set_title('Low Ratings')\n",
    "axes[1].set_xlabel('Words')\n",
    "axes[1].tick_params(axis='x', rotation=90)\n",
    "axes[1].set_ylabel('Frequency')   \n",
    "\n",
    "# Set overall title\n",
    "fig.suptitle(\"Frequency Distribution Reviews\", fontsize='xx-large')\n",
    "\n",
    "# Adjust layout for better appearance\n",
    "fig.tight_layout()\n",
    "\n",
    "# Show the plot\n",
    "plt.show()\n",
    "\n",
    "# Saving figure for README\n",
    "fig.savefig('images/freqdist-reviews.png',\n",
    "            dpi=300, bbox_inches='tight', transparent=False) "
   ]
  },
  {
   "cell_type": "markdown",
   "id": "8e1c1109-f6fc-420a-b379-ba2661f3807b",
   "metadata": {},
   "source": [
    "*  There are several words in common\n",
    "    * story, time, feel, action, man, scene, people, get, end, make, thing, year, great\n",
    "*  High only\n",
    "    *  love, life, performance, world, cast, find, play\n",
    "*  Low only\n",
    "    *  bad, plot, want, try, well, actor\n",
    " \n",
    "**Will add the following STOPWORDS:** \n",
    "    *  story, time, feel, action, man, scene, people, get, end, make, thing, year, great, try, well, find, play"
   ]
  },
  {
   "cell_type": "code",
   "execution_count": null,
   "id": "ff242df4-3896-4d96-8a79-a450ae382e1d",
   "metadata": {},
   "outputs": [],
   "source": [
    "## Adding more stopwords\n",
    "custom_stopwords= ['film', 'think', 'work','come','know', 'character',\n",
    "                   'movie', 'watch', 'see','look','way', 'like', 'good','go',\n",
    "                   'get', 'story', 'time', 'feel', 'action', 'man', 'scene',\n",
    "                   'people', 'end', 'make','thing', 'year', 'great', 'try',\n",
    "                   'find', 'play','🌟', 'well']\n",
    "stpword = nltk.corpus.stopwords.words('english')\n",
    "stpword.extend(custom_stopwords)"
   ]
  },
  {
   "cell_type": "code",
   "execution_count": null,
   "id": "a157e086-56a7-4baf-8285-833669c33473",
   "metadata": {},
   "outputs": [],
   "source": [
    "##Remove stopwords\n",
    "high_word =  [word for word in high_word if word not in stpword]\n",
    "low_word =  [word for word in low_word if word not in stpword]"
   ]
  },
  {
   "cell_type": "code",
   "execution_count": null,
   "id": "5c0fb7e3-4622-411f-b3f4-5c3ac546061b",
   "metadata": {},
   "outputs": [],
   "source": [
    "## Freq Dist\n",
    "\n",
    "## Instantiate high frequency distribution\n",
    "high_freq_dist = FreqDist(high_word)\n",
    "low_freq_dist = FreqDist(low_word)\n",
    "\n",
    "#Get top 20 words\n",
    "top20_high_words, top20_high_freq = zip(*high_freq_dist.most_common(20))\n",
    "top20_low_words, top20_low_freq = zip(*low_freq_dist.most_common(20))\n",
    "\n",
    "plt.rcParams.update({'font.size': 15})\n",
    "fig, axes = plt.subplots(1, 2, figsize=(15, 5))\n",
    "\n",
    "## Plot the High frequency distributions\n",
    "axes[0].plot(top20_high_words, top20_high_freq, color='blue', alpha=0.7)\n",
    "# Set titles and labels for high plot\n",
    "axes[0].set_title('High Ratings')\n",
    "axes[0].set_xlabel('Words')\n",
    "axes[0].tick_params(axis='x', rotation=90)\n",
    "axes[0].set_ylabel('Frequency')\n",
    "\n",
    "## Plot the Low frequency distributions\n",
    "axes[1].plot(top20_low_words, top20_low_freq, color='green', alpha=0.7)\n",
    "# Set titles and labels for low plot\n",
    "axes[1].set_title('Low Ratings')\n",
    "axes[1].set_xlabel('Words')\n",
    "axes[1].tick_params(axis='x', rotation=90)\n",
    "axes[1].set_ylabel('Frequency')   \n",
    "\n",
    "# Set overall title\n",
    "fig.suptitle(\"Frequency Distribution Reviews\", fontsize='xx-large')\n",
    "\n",
    "# Adjust layout for better appearance\n",
    "fig.tight_layout()\n",
    "\n",
    "# Show the plot\n",
    "plt.show()\n",
    "\n",
    "# Saving figure for README\n",
    "fig.savefig('images/freqdist-reviews.png',\n",
    "            dpi=300, bbox_inches='tight', transparent=False) "
   ]
  },
  {
   "cell_type": "markdown",
   "id": "c438eb2c-a7bc-4f03-a54a-7df5c41deb3e",
   "metadata": {},
   "source": [
    "## n-gram Analysis"
   ]
  },
  {
   "cell_type": "code",
   "execution_count": null,
   "id": "d772bdbe-12ff-4987-85fc-3fc32e365019",
   "metadata": {},
   "outputs": [],
   "source": [
    "# Joine high tokens and low tokens\n",
    "high_tokens = \" \".join(high['tokens-joined'])\n",
    "low_tokens = \" \".join(low['tokens-joined'])"
   ]
  },
  {
   "cell_type": "code",
   "execution_count": null,
   "id": "bc858666-304e-433c-bb04-b4a19a140c27",
   "metadata": {},
   "outputs": [],
   "source": [
    "## Separate each token into a list item.\n",
    "high_tokens_split = high_tokens.split()\n",
    "high_tokens_split[0:5]"
   ]
  },
  {
   "cell_type": "code",
   "execution_count": null,
   "id": "8a9ac09d-a64a-46cc-bdda-efd80ac18d24",
   "metadata": {},
   "outputs": [],
   "source": [
    "## Use the same process to obtain the list for low reviews.\n",
    "low_tokens_split = low_tokens.split()\n",
    "low_tokens_split[0:5]\n"
   ]
  },
  {
   "cell_type": "markdown",
   "id": "da125bc4-7879-4e79-883b-0764338fd0a1",
   "metadata": {},
   "source": [
    "##### Bigrams"
   ]
  },
  {
   "cell_type": "code",
   "execution_count": null,
   "id": "c5c421d7-1ccb-4f80-8e1d-b0f20a34d9c5",
   "metadata": {},
   "outputs": [],
   "source": [
    "#Instantiate a measures object for Bigrams\n",
    "bigram_measures = nltk.collocations.BigramAssocMeasures()"
   ]
  },
  {
   "cell_type": "code",
   "execution_count": null,
   "id": "849feb2d-038e-4e8b-b24e-2a18cf5cdb7b",
   "metadata": {},
   "outputs": [],
   "source": [
    "#Use bigram finder to find bigrams in reviews\n",
    "#Set a minimum frequency\n",
    "min_frequency = 3  \n",
    "bigram_finder_high = nltk.BigramCollocationFinder.from_words(\n",
    "    high_tokens_split)\n",
    "bigram_finder_high.apply_freq_filter(min_frequency)\n",
    "\n",
    "bigram_finder_low = nltk.BigramCollocationFinder.from_words(\n",
    "    low_tokens_split)\n",
    "bigram_finder_low.apply_freq_filter(min_frequency)"
   ]
  },
  {
   "cell_type": "code",
   "execution_count": null,
   "id": "12946a19-c926-4041-94d0-91f2a42a8710",
   "metadata": {},
   "outputs": [],
   "source": [
    "# Obtain scores for the bigrams using the score_ngrams method \n",
    "# Include the desired scoring method of the measures object\n",
    "high_scores_bg = bigram_finder_high.score_ngrams(\n",
    "    bigram_measures.pmi)\n",
    "high_scores_bg[:10]"
   ]
  },
  {
   "cell_type": "code",
   "execution_count": null,
   "id": "6c311235-4c4d-4ecc-a1aa-ec5fbba91253",
   "metadata": {},
   "outputs": [],
   "source": [
    "# Obtain scores for the bigrams using the score_ngrams method \n",
    "# Include the desired scoring method of the measures object\n",
    "low_scores_bg = bigram_finder_low.score_ngrams(\n",
    "    bigram_measures.pmi)\n",
    "low_scores_bg[:10]"
   ]
  },
  {
   "cell_type": "code",
   "execution_count": null,
   "id": "52043c2e-8041-483e-a525-287678b9e8d8",
   "metadata": {},
   "outputs": [],
   "source": [
    "# Convert list of tuples to dataframe\n",
    "highscores_bgdf = pd.DataFrame(\n",
    "    high_scores_bg, columns=['Words','Frequency'])\n",
    "lowscores_bgdf = pd.DataFrame(\n",
    "    low_scores_bg, columns=['Words','Frequency'])\n",
    "\n",
    "df_compare_bigrams = pd.concat(\n",
    "    [highscores_bgdf,lowscores_bgdf], axis=1,\n",
    "    keys=[\"High Rating Reviews\", \"Low Rating Reviews\"])\n",
    "df_compare_bigrams.head(10)"
   ]
  },
  {
   "cell_type": "code",
   "execution_count": null,
   "id": "51b040ac-0adc-48f3-8c50-d3833c240f0f",
   "metadata": {},
   "outputs": [],
   "source": [
    "#Generate string table to insert into Markdown cell/file\n",
    "\n",
    "md_table_bigrams=df_compare_bigrams.head(10).to_markdown(index=False)\n"
   ]
  },
  {
   "cell_type": "markdown",
   "id": "ab7d01ad-08e0-4b50-9cd7-cf1bfb4a31c7",
   "metadata": {},
   "source": [
    "##### Trigrams"
   ]
  },
  {
   "cell_type": "code",
   "execution_count": null,
   "id": "db4837cb-6855-428d-8a05-33291c80564e",
   "metadata": {},
   "outputs": [],
   "source": [
    "#Instantiate a measures object for Trigrams\n",
    "trigram_measures = nltk.collocations.TrigramAssocMeasures()"
   ]
  },
  {
   "cell_type": "code",
   "execution_count": null,
   "id": "aa983ec9-c4cc-4452-a1f6-cbbd731f404b",
   "metadata": {},
   "outputs": [],
   "source": [
    "#Use trigram finder to find bigrams in reviews\n",
    "#Set a minimum frequency\n",
    "min_frequency = 3  \n",
    "trigram_finder_high = nltk.TrigramCollocationFinder.from_words(\n",
    "    high_tokens_split)\n",
    "trigram_finder_high.apply_freq_filter(min_frequency)\n",
    "\n",
    "trigram_finder_low = nltk.TrigramCollocationFinder.from_words(\n",
    "    low_tokens_split)\n",
    "trigram_finder_low.apply_freq_filter(min_frequency)"
   ]
  },
  {
   "cell_type": "code",
   "execution_count": null,
   "id": "fbb1420c-ffc1-4ac9-b815-1111b68d4f7f",
   "metadata": {},
   "outputs": [],
   "source": [
    "# Obtain scores for the bigrams using the score_ngrams method \n",
    "# Include the desired scoring method of the measures object\n",
    "high_scores_tg = trigram_finder_high.score_ngrams(\n",
    "    trigram_measures.pmi)\n",
    "high_scores_tg[:10]"
   ]
  },
  {
   "cell_type": "code",
   "execution_count": null,
   "id": "76658e01-0e91-40e0-8c89-56b20a7d8fdc",
   "metadata": {},
   "outputs": [],
   "source": [
    "# Obtain scores for the bigrams using the score_ngrams method \n",
    "# Include the desired scoring method of the measures object\n",
    "low_scores_tg = trigram_finder_low.score_ngrams(\n",
    "    trigram_measures.pmi)\n",
    "low_scores_tg[:10]"
   ]
  },
  {
   "cell_type": "code",
   "execution_count": null,
   "id": "1ed528f4-31e6-4aaa-95f9-e42de5a4da35",
   "metadata": {},
   "outputs": [],
   "source": [
    "# Convert list of tuples to dataframe\n",
    "highscores_tgdf = pd.DataFrame(\n",
    "    high_scores_tg, columns=['Words','Frequency'])\n",
    "lowscores_tgdf = pd.DataFrame(\n",
    "    low_scores_tg, columns=['Words','Frequency'])\n",
    "\n",
    "df_compare_trigrams = pd.concat(\n",
    "    [highscores_tgdf,lowscores_tgdf], axis=1,\n",
    "    keys=[\"High Rating Reviews\", \"Low Rating Reviews\"])\n",
    "df_compare_trigrams.head(10)"
   ]
  },
  {
   "cell_type": "code",
   "execution_count": null,
   "id": "5226689e-f4f5-4d83-8e2d-42602da526eb",
   "metadata": {},
   "outputs": [],
   "source": [
    "#Generate string table to insert into Markdown cell/file\n",
    "\n",
    "md_table_trigrams=df_compare_trigrams.head(10).to_markdown(index=False)\n"
   ]
  },
  {
   "cell_type": "code",
   "execution_count": null,
   "id": "9f79d412-5b28-4454-bc40-649f438ebbca",
   "metadata": {},
   "outputs": [],
   "source": [
    "### Sentiment Analysis"
   ]
  },
  {
   "cell_type": "code",
   "execution_count": null,
   "id": "43fbdfca-b87a-45d3-bf9e-7e8fe3a27568",
   "metadata": {},
   "outputs": [],
   "source": [
    "from nltk.sentiment.vader import SentimentIntensityAnalyzer\n",
    "\n",
    "# Initialize the VADER sentiment analyzer\n",
    "sia = SentimentIntensityAnalyzer()"
   ]
  },
  {
   "cell_type": "code",
   "execution_count": null,
   "id": "b4daeba0-13f3-463b-bb12-c420c7e7533f",
   "metadata": {},
   "outputs": [],
   "source": [
    "##  Use sia object to define a dictionary of \"polarity scores\"\n",
    "eda['sentiment_scores'] = eda['movie_review'].map(sia.polarity_scores)\n",
    "# Convert the column of dictionaries into separate columns\n",
    "eda_scores = eda['sentiment_scores'].apply(pd.Series)\n",
    "# Join the new DataFrame with the original DataFrame\n",
    "eda = pd.concat([eda, eda_scores], axis=1).drop('sentiment_scores', axis=1)\n",
    "eda.head(1)"
   ]
  },
  {
   "cell_type": "code",
   "execution_count": null,
   "id": "a5a2e89e-3e27-4480-ac48-ed946c04bff0",
   "metadata": {},
   "outputs": [],
   "source": [
    "eda_analysis = eda[['movie_review','label','neg','neu','pos','compound']]\n",
    "eda_analysis"
   ]
  },
  {
   "cell_type": "markdown",
   "id": "443752fe-2ee8-4b89-857c-207e32987c42",
   "metadata": {},
   "source": [
    "Compare the sentiments of high-rating and low-rating texts.\r\n",
    "\r\n",
    "Compare the compound sentiment scores for high and low-rating reviews.\r\n",
    "\r\n",
    "Which review polarity scores don't match the ratings? Why do you think this is?"
   ]
  },
  {
   "cell_type": "markdown",
   "id": "7796911a-a552-4452-bcc7-142f099b6ce9",
   "metadata": {},
   "source": [
    "### Evaluation and Reporting:"
   ]
  },
  {
   "cell_type": "markdown",
   "id": "b0f72bda-ca05-463f-be32-329745084ea1",
   "metadata": {},
   "source": [
    "Looking at the original word cloud, people base their ratings on how the movie makes them feel."
   ]
  },
  {
   "cell_type": "markdown",
   "id": "e46fe08c-f9a2-4984-9070-728c7e6a521f",
   "metadata": {},
   "source": [
    "In order to have movies with high-rating reviews, "
   ]
  },
  {
   "cell_type": "code",
   "execution_count": null,
   "id": "3c5bf47c-f86c-4cbd-aa57-a77c51921be6",
   "metadata": {},
   "outputs": [],
   "source": []
  },
  {
   "cell_type": "code",
   "execution_count": null,
   "id": "cd58a040-499e-4784-b248-179a3123d970",
   "metadata": {},
   "outputs": [],
   "source": []
  },
  {
   "cell_type": "code",
   "execution_count": null,
   "id": "a1d8bf8e-827f-416f-9228-a3b89d3c6791",
   "metadata": {},
   "outputs": [],
   "source": []
  },
  {
   "cell_type": "code",
   "execution_count": null,
   "id": "7dc1730e-7de7-4f6d-b745-f29885726b94",
   "metadata": {},
   "outputs": [],
   "source": []
  },
  {
   "cell_type": "markdown",
   "id": "1a31e800-05f3-46d5-9f4f-e70c5db2a06a",
   "metadata": {},
   "source": [
    "Sources:\n",
    "\n",
    "https://seaborn.pydata.org/generated/seaborn.countplot.html\n",
    "\n",
    "https://pandas.pydata.org/docs/getting_started/intro_tutorials/03_subset_data.html\n",
    "\n",
    "https://joblib.readthedocs.io/en/latest/generated/joblib.dump.html\n",
    "\n",
    "https://spotintelligence.com/2022/12/10/stop-words-removal/#:\n",
    "\n",
    "https://amueller.github.io/word_cloud/generated/wordcloud.WordCloud.html\n",
    "\n",
    "https://www.w3schools.com/python/ref_func_zip.asp\n",
    "\n",
    "https://www.geeksforgeeks.org/change-font-size-in-matplotlib/\n",
    "\n",
    "https://www.educative.io/answers/how-to-remove-emoji-from-the-text-in-python\n"
   ]
  },
  {
   "cell_type": "code",
   "execution_count": null,
   "id": "5c2641cf-0a6a-4991-80b5-8dc9c58f0bd4",
   "metadata": {},
   "outputs": [],
   "source": [
    "\"This product uses the TMDB API but is not endorsed or certified by TMDB.\"\n",
    "!images/Logobue_sqTBDM.svg"
   ]
  }
 ],
 "metadata": {
  "kernelspec": {
   "display_name": "Python (dojo-env)",
   "language": "python",
   "name": "dojo-env"
  },
  "language_info": {
   "codemirror_mode": {
    "name": "ipython",
    "version": 3
   },
   "file_extension": ".py",
   "mimetype": "text/x-python",
   "name": "python",
   "nbconvert_exporter": "python",
   "pygments_lexer": "ipython3",
   "version": "3.10.10"
  },
  "widgets": {
   "application/vnd.jupyter.widget-state+json": {
    "state": {},
    "version_major": 2,
    "version_minor": 0
   }
  }
 },
 "nbformat": 4,
 "nbformat_minor": 5
}
