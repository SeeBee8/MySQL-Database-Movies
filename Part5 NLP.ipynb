{
 "cells": [
  {
   "cell_type": "markdown",
   "id": "0bbd7133-0c67-41d2-9002-d770cf034c7a",
   "metadata": {},
   "source": [
    "# Sentiment Analysis and Rating Prediction of Movie Reviews\n",
    "\n",
    "\n",
    "*Christina Brockway*"
   ]
  },
  {
   "cell_type": "markdown",
   "id": "28579bd0-0abc-4894-ba78-27da0443ac00",
   "metadata": {},
   "source": [
    "Thsi project is an extension of the movies project.\n",
    "\n",
    "-  This portion focuses on applying Natural Language Processing (NLP) techniques to ananlyze movie reviews.\n",
    "-  using NLP tools to explore and analyze the model text data. nship e tween the textual content o the reviews and their assoe textual content o the reviews and their associated ratings and susequently predict thes"
   ]
  },
  {
   "cell_type": "markdown",
   "id": "836db33e-2734-4545-a5d5-be8f56dfd5ad",
   "metadata": {},
   "source": [
    " \"This product uses the TMDB API but is not endorsed or certified by TMDB.\"\r\n"
   ]
  },
  {
   "cell_type": "markdown",
   "id": "3bf928f4-8697-4a82-bbee-e657f1ed1480",
   "metadata": {},
   "source": [
    "Using the following dataset:\n",
    "https://drive.google.com/file/d/1vLUzSYleJXqsjNMsq76yTQ5fmNlSHFJI/view?usp=sharing"
   ]
  },
  {
   "cell_type": "markdown",
   "id": "64deb685-092e-4e49-a36a-f60a86450a3c",
   "metadata": {},
   "source": [
    "## Tasks:"
   ]
  },
  {
   "cell_type": "markdown",
   "id": "b407c8da-d995-49df-b3fb-53b86eb01c76",
   "metadata": {},
   "source": [
    "**Data Preprocessing**\n",
    "1. Load and Preprocess the Data\n",
    "2. Use the \"rating\" column to create high and low rating columns\n",
    "3. Utilize NLTK and SpaCy for basic text processing"
   ]
  },
  {
   "cell_type": "markdown",
   "id": "274c3336-a6e6-4d16-b5c0-9018680fd5e5",
   "metadata": {},
   "source": [
    "**EDA and Visualization**\n",
    "1.  Create word Clouds for each group and save imgs\n",
    "2.  Compare frequency distribution of words in groups and save imgs\n",
    "3.  Perform n-grams analysis and make a markdown table\n",
    "4.  Perform sentiment analysis to create polarity scores accoding to VADERS's ;exocpm"
   ]
  },
  {
   "cell_type": "markdown",
   "id": "8d156d6b-9052-45f2-b368-1710fb22efd9",
   "metadata": {},
   "source": [
    "**Evaluation and Reporting**\n",
    "1.  What should sbe done to make a highly-rated move\n",
    "2.  Update README with a new section for NLP analysis of Movie Reviews"
   ]
  },
  {
   "cell_type": "code",
   "execution_count": null,
   "id": "35f6deff-91bf-4563-9e63-9e876e565216",
   "metadata": {},
   "outputs": [],
   "source": []
  },
  {
   "cell_type": "code",
   "execution_count": null,
   "id": "d52caddd-e7b2-4fda-8b0d-1ce2a969db94",
   "metadata": {},
   "outputs": [],
   "source": []
  }
 ],
 "metadata": {
  "kernelspec": {
   "display_name": "Python (dojo-env)",
   "language": "python",
   "name": "dojo-env"
  },
  "language_info": {
   "codemirror_mode": {
    "name": "ipython",
    "version": 3
   },
   "file_extension": ".py",
   "mimetype": "text/x-python",
   "name": "python",
   "nbconvert_exporter": "python",
   "pygments_lexer": "ipython3",
   "version": "3.10.10"
  },
  "widgets": {
   "application/vnd.jupyter.widget-state+json": {
    "state": {},
    "version_major": 2,
    "version_minor": 0
   }
  }
 },
 "nbformat": 4,
 "nbformat_minor": 5
}
