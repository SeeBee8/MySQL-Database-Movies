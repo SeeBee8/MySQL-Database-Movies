{
 "cells": [
  {
   "cell_type": "code",
   "execution_count": 1,
   "id": "ec4c18da-48b6-433c-84c8-a2c78a566a18",
   "metadata": {},
   "outputs": [
    {
     "name": "stdout",
     "output_type": "stream",
     "text": [
      "Requirement already satisfied: pip in c:\\users\\csbro\\anaconda3\\envs\\dojo-env\\lib\\site-packages (24.0)\n"
     ]
    }
   ],
   "source": [
    "!pip install --upgrade pip\n",
    "\n"
   ]
  },
  {
   "cell_type": "code",
   "execution_count": 2,
   "id": "5e20fea1-055b-450d-ac23-e1cd71fe7113",
   "metadata": {},
   "outputs": [
    {
     "name": "stdout",
     "output_type": "stream",
     "text": [
      "tf.Tensor(404.26508, shape=(), dtype=float32)\n"
     ]
    }
   ],
   "source": [
    "import tensorflow as tf; print(tf.reduce_sum(tf.random.normal([1000, 1000])))"
   ]
  },
  {
   "cell_type": "code",
   "execution_count": 3,
   "id": "5697d25e-f2c3-4461-ab67-54a31144446b",
   "metadata": {},
   "outputs": [
    {
     "name": "stdout",
     "output_type": "stream",
     "text": [
      "Requirement already satisfied: pipreqs in c:\\users\\csbro\\anaconda3\\envs\\dojo-env\\lib\\site-packages (0.5.0)\n",
      "Requirement already satisfied: docopt==0.6.2 in c:\\users\\csbro\\anaconda3\\envs\\dojo-env\\lib\\site-packages (from pipreqs) (0.6.2)\n",
      "Requirement already satisfied: ipython==8.12.3 in c:\\users\\csbro\\anaconda3\\envs\\dojo-env\\lib\\site-packages (from pipreqs) (8.12.3)\n",
      "Requirement already satisfied: nbconvert<8.0.0,>=7.11.0 in c:\\users\\csbro\\anaconda3\\envs\\dojo-env\\lib\\site-packages (from pipreqs) (7.16.1)\n",
      "Requirement already satisfied: yarg==0.1.9 in c:\\users\\csbro\\anaconda3\\envs\\dojo-env\\lib\\site-packages (from pipreqs) (0.1.9)\n",
      "Requirement already satisfied: backcall in c:\\users\\csbro\\anaconda3\\envs\\dojo-env\\lib\\site-packages (from ipython==8.12.3->pipreqs) (0.2.0)\n",
      "Requirement already satisfied: decorator in c:\\users\\csbro\\anaconda3\\envs\\dojo-env\\lib\\site-packages (from ipython==8.12.3->pipreqs) (5.1.1)\n",
      "Requirement already satisfied: jedi>=0.16 in c:\\users\\csbro\\anaconda3\\envs\\dojo-env\\lib\\site-packages (from ipython==8.12.3->pipreqs) (0.18.1)\n",
      "Requirement already satisfied: matplotlib-inline in c:\\users\\csbro\\anaconda3\\envs\\dojo-env\\lib\\site-packages (from ipython==8.12.3->pipreqs) (0.1.6)\n",
      "Requirement already satisfied: pickleshare in c:\\users\\csbro\\anaconda3\\envs\\dojo-env\\lib\\site-packages (from ipython==8.12.3->pipreqs) (0.7.5)\n",
      "Requirement already satisfied: prompt-toolkit!=3.0.37,<3.1.0,>=3.0.30 in c:\\users\\csbro\\anaconda3\\envs\\dojo-env\\lib\\site-packages (from ipython==8.12.3->pipreqs) (3.0.36)\n",
      "Requirement already satisfied: pygments>=2.4.0 in c:\\users\\csbro\\anaconda3\\envs\\dojo-env\\lib\\site-packages (from ipython==8.12.3->pipreqs) (2.15.1)\n",
      "Requirement already satisfied: stack-data in c:\\users\\csbro\\anaconda3\\envs\\dojo-env\\lib\\site-packages (from ipython==8.12.3->pipreqs) (0.2.0)\n",
      "Requirement already satisfied: traitlets>=5 in c:\\users\\csbro\\anaconda3\\envs\\dojo-env\\lib\\site-packages (from ipython==8.12.3->pipreqs) (5.7.1)\n",
      "Requirement already satisfied: colorama in c:\\users\\csbro\\anaconda3\\envs\\dojo-env\\lib\\site-packages (from ipython==8.12.3->pipreqs) (0.4.6)\n",
      "Requirement already satisfied: requests in c:\\users\\csbro\\anaconda3\\envs\\dojo-env\\lib\\site-packages (from yarg==0.1.9->pipreqs) (2.29.0)\n",
      "Requirement already satisfied: beautifulsoup4 in c:\\users\\csbro\\anaconda3\\envs\\dojo-env\\lib\\site-packages (from nbconvert<8.0.0,>=7.11.0->pipreqs) (4.12.2)\n",
      "Requirement already satisfied: bleach!=5.0.0 in c:\\users\\csbro\\anaconda3\\envs\\dojo-env\\lib\\site-packages (from nbconvert<8.0.0,>=7.11.0->pipreqs) (4.1.0)\n",
      "Requirement already satisfied: defusedxml in c:\\users\\csbro\\anaconda3\\envs\\dojo-env\\lib\\site-packages (from nbconvert<8.0.0,>=7.11.0->pipreqs) (0.7.1)\n",
      "Requirement already satisfied: jinja2>=3.0 in c:\\users\\csbro\\anaconda3\\envs\\dojo-env\\lib\\site-packages (from nbconvert<8.0.0,>=7.11.0->pipreqs) (3.1.2)\n",
      "Requirement already satisfied: jupyter-core>=4.7 in c:\\users\\csbro\\anaconda3\\envs\\dojo-env\\lib\\site-packages (from nbconvert<8.0.0,>=7.11.0->pipreqs) (5.3.0)\n",
      "Requirement already satisfied: jupyterlab-pygments in c:\\users\\csbro\\anaconda3\\envs\\dojo-env\\lib\\site-packages (from nbconvert<8.0.0,>=7.11.0->pipreqs) (0.1.2)\n",
      "Requirement already satisfied: markupsafe>=2.0 in c:\\users\\csbro\\anaconda3\\envs\\dojo-env\\lib\\site-packages (from nbconvert<8.0.0,>=7.11.0->pipreqs) (2.1.1)\n",
      "Requirement already satisfied: mistune<4,>=2.0.3 in c:\\users\\csbro\\anaconda3\\envs\\dojo-env\\lib\\site-packages (from nbconvert<8.0.0,>=7.11.0->pipreqs) (3.0.2)\n",
      "Requirement already satisfied: nbclient>=0.5.0 in c:\\users\\csbro\\anaconda3\\envs\\dojo-env\\lib\\site-packages (from nbconvert<8.0.0,>=7.11.0->pipreqs) (0.5.13)\n",
      "Requirement already satisfied: nbformat>=5.7 in c:\\users\\csbro\\anaconda3\\envs\\dojo-env\\lib\\site-packages (from nbconvert<8.0.0,>=7.11.0->pipreqs) (5.7.0)\n",
      "Requirement already satisfied: packaging in c:\\users\\csbro\\anaconda3\\envs\\dojo-env\\lib\\site-packages (from nbconvert<8.0.0,>=7.11.0->pipreqs) (23.0)\n",
      "Requirement already satisfied: pandocfilters>=1.4.1 in c:\\users\\csbro\\anaconda3\\envs\\dojo-env\\lib\\site-packages (from nbconvert<8.0.0,>=7.11.0->pipreqs) (1.5.0)\n",
      "Requirement already satisfied: tinycss2 in c:\\users\\csbro\\anaconda3\\envs\\dojo-env\\lib\\site-packages (from nbconvert<8.0.0,>=7.11.0->pipreqs) (1.2.1)\n",
      "Requirement already satisfied: six>=1.9.0 in c:\\users\\csbro\\anaconda3\\envs\\dojo-env\\lib\\site-packages (from bleach!=5.0.0->nbconvert<8.0.0,>=7.11.0->pipreqs) (1.16.0)\n",
      "Requirement already satisfied: webencodings in c:\\users\\csbro\\anaconda3\\envs\\dojo-env\\lib\\site-packages (from bleach!=5.0.0->nbconvert<8.0.0,>=7.11.0->pipreqs) (0.5.1)\n",
      "Requirement already satisfied: parso<0.9.0,>=0.8.0 in c:\\users\\csbro\\anaconda3\\envs\\dojo-env\\lib\\site-packages (from jedi>=0.16->ipython==8.12.3->pipreqs) (0.8.3)\n",
      "Requirement already satisfied: platformdirs>=2.5 in c:\\users\\csbro\\anaconda3\\envs\\dojo-env\\lib\\site-packages (from jupyter-core>=4.7->nbconvert<8.0.0,>=7.11.0->pipreqs) (2.5.2)\n",
      "Requirement already satisfied: pywin32>=300 in c:\\users\\csbro\\anaconda3\\envs\\dojo-env\\lib\\site-packages (from jupyter-core>=4.7->nbconvert<8.0.0,>=7.11.0->pipreqs) (305.1)\n",
      "Requirement already satisfied: jupyter-client>=6.1.5 in c:\\users\\csbro\\anaconda3\\envs\\dojo-env\\lib\\site-packages (from nbclient>=0.5.0->nbconvert<8.0.0,>=7.11.0->pipreqs) (8.1.0)\n",
      "Requirement already satisfied: nest-asyncio in c:\\users\\csbro\\anaconda3\\envs\\dojo-env\\lib\\site-packages (from nbclient>=0.5.0->nbconvert<8.0.0,>=7.11.0->pipreqs) (1.5.6)\n",
      "Requirement already satisfied: fastjsonschema in c:\\users\\csbro\\anaconda3\\envs\\dojo-env\\lib\\site-packages (from nbformat>=5.7->nbconvert<8.0.0,>=7.11.0->pipreqs) (2.16.2)\n",
      "Requirement already satisfied: jsonschema>=2.6 in c:\\users\\csbro\\anaconda3\\envs\\dojo-env\\lib\\site-packages (from nbformat>=5.7->nbconvert<8.0.0,>=7.11.0->pipreqs) (4.17.3)\n",
      "Requirement already satisfied: wcwidth in c:\\users\\csbro\\anaconda3\\envs\\dojo-env\\lib\\site-packages (from prompt-toolkit!=3.0.37,<3.1.0,>=3.0.30->ipython==8.12.3->pipreqs) (0.2.13)\n",
      "Requirement already satisfied: soupsieve>1.2 in c:\\users\\csbro\\anaconda3\\envs\\dojo-env\\lib\\site-packages (from beautifulsoup4->nbconvert<8.0.0,>=7.11.0->pipreqs) (2.4)\n",
      "Requirement already satisfied: charset-normalizer<4,>=2 in c:\\users\\csbro\\anaconda3\\envs\\dojo-env\\lib\\site-packages (from requests->yarg==0.1.9->pipreqs) (2.0.4)\n",
      "Requirement already satisfied: idna<4,>=2.5 in c:\\users\\csbro\\anaconda3\\envs\\dojo-env\\lib\\site-packages (from requests->yarg==0.1.9->pipreqs) (3.4)\n",
      "Requirement already satisfied: urllib3<1.27,>=1.21.1 in c:\\users\\csbro\\anaconda3\\envs\\dojo-env\\lib\\site-packages (from requests->yarg==0.1.9->pipreqs) (1.26.15)\n",
      "Requirement already satisfied: certifi>=2017.4.17 in c:\\users\\csbro\\anaconda3\\envs\\dojo-env\\lib\\site-packages (from requests->yarg==0.1.9->pipreqs) (2023.5.7)\n",
      "Requirement already satisfied: executing in c:\\users\\csbro\\anaconda3\\envs\\dojo-env\\lib\\site-packages (from stack-data->ipython==8.12.3->pipreqs) (0.8.3)\n",
      "Requirement already satisfied: asttokens in c:\\users\\csbro\\anaconda3\\envs\\dojo-env\\lib\\site-packages (from stack-data->ipython==8.12.3->pipreqs) (2.0.5)\n",
      "Requirement already satisfied: pure-eval in c:\\users\\csbro\\anaconda3\\envs\\dojo-env\\lib\\site-packages (from stack-data->ipython==8.12.3->pipreqs) (0.2.2)\n",
      "Requirement already satisfied: attrs>=17.4.0 in c:\\users\\csbro\\anaconda3\\envs\\dojo-env\\lib\\site-packages (from jsonschema>=2.6->nbformat>=5.7->nbconvert<8.0.0,>=7.11.0->pipreqs) (22.1.0)\n",
      "Requirement already satisfied: pyrsistent!=0.17.0,!=0.17.1,!=0.17.2,>=0.14.0 in c:\\users\\csbro\\anaconda3\\envs\\dojo-env\\lib\\site-packages (from jsonschema>=2.6->nbformat>=5.7->nbconvert<8.0.0,>=7.11.0->pipreqs) (0.18.0)\n",
      "Requirement already satisfied: python-dateutil>=2.8.2 in c:\\users\\csbro\\anaconda3\\envs\\dojo-env\\lib\\site-packages (from jupyter-client>=6.1.5->nbclient>=0.5.0->nbconvert<8.0.0,>=7.11.0->pipreqs) (2.8.2)\n",
      "Requirement already satisfied: pyzmq>=23.0 in c:\\users\\csbro\\anaconda3\\envs\\dojo-env\\lib\\site-packages (from jupyter-client>=6.1.5->nbclient>=0.5.0->nbconvert<8.0.0,>=7.11.0->pipreqs) (25.0.2)\n",
      "Requirement already satisfied: tornado>=6.2 in c:\\users\\csbro\\anaconda3\\envs\\dojo-env\\lib\\site-packages (from jupyter-client>=6.1.5->nbclient>=0.5.0->nbconvert<8.0.0,>=7.11.0->pipreqs) (6.2)\n",
      "Note: you may need to restart the kernel to use updated packages.\n"
     ]
    }
   ],
   "source": [
    "pip install pipreqs"
   ]
  },
  {
   "cell_type": "code",
   "execution_count": 8,
   "id": "4aafa099-3891-46e9-926e-a2086ef1656b",
   "metadata": {},
   "outputs": [
    {
     "ename": "SyntaxError",
     "evalue": "invalid syntax (245558611.py, line 1)",
     "output_type": "error",
     "traceback": [
      "\u001b[1;36m  Cell \u001b[1;32mIn[8], line 1\u001b[1;36m\u001b[0m\n\u001b[1;33m    pipreqs .\u001b[0m\n\u001b[1;37m             ^\u001b[0m\n\u001b[1;31mSyntaxError\u001b[0m\u001b[1;31m:\u001b[0m invalid syntax\n"
     ]
    }
   ],
   "source": [
    "pipreqs ."
   ]
  },
  {
   "cell_type": "code",
   "execution_count": 9,
   "id": "faa4fac8-cfe9-469b-bf1d-3ffc30a4b010",
   "metadata": {},
   "outputs": [
    {
     "ename": "NameError",
     "evalue": "name 'tensorflow' is not defined",
     "output_type": "error",
     "traceback": [
      "\u001b[1;31m---------------------------------------------------------------------------\u001b[0m",
      "\u001b[1;31mNameError\u001b[0m                                 Traceback (most recent call last)",
      "Cell \u001b[1;32mIn[9], line 1\u001b[0m\n\u001b[1;32m----> 1\u001b[0m \u001b[43mtensorflow\u001b[49m\n",
      "\u001b[1;31mNameError\u001b[0m: name 'tensorflow' is not defined"
     ]
    }
   ],
   "source": [
    "tensorflow\n"
   ]
  }
 ],
 "metadata": {
  "kernelspec": {
   "display_name": "Python (dojo-env)",
   "language": "python",
   "name": "dojo-env"
  },
  "language_info": {
   "codemirror_mode": {
    "name": "ipython",
    "version": 3
   },
   "file_extension": ".py",
   "mimetype": "text/x-python",
   "name": "python",
   "nbconvert_exporter": "python",
   "pygments_lexer": "ipython3",
   "version": "3.10.10"
  },
  "widgets": {
   "application/vnd.jupyter.widget-state+json": {
    "state": {},
    "version_major": 2,
    "version_minor": 0
   }
  }
 },
 "nbformat": 4,
 "nbformat_minor": 5
}
