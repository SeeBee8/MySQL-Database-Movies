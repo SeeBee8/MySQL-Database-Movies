{
 "cells": [
  {
   "cell_type": "markdown",
   "id": "a2f66ced-ab58-4ce2-a1df-b80c32fd68a4",
   "metadata": {},
   "source": [
    "# Project 2 Part 3B\n",
    "**Transform and Load (core)**\n",
    "\n",
    "\n",
    "*Christina Brockway*"
   ]
  },
  {
   "cell_type": "markdown",
   "id": "9a4ad6b5-af5c-4204-a035-b634f2cd0158",
   "metadata": {},
   "source": [
    "### Task\n",
    "- Take the cleaned data and add stakeholder data to SQL database\n",
    "- Genres\n",
    "    -  use title basics from part 1\n",
    "    -  extract and normalize column\n",
    "- New Table from API calls\n",
    "    -  Tmdb_data table\n",
    "        -  imdb_id\n",
    "        -  revenue\n",
    "        -  budget\n",
    "        -  certification"
   ]
  },
  {
   "cell_type": "markdown",
   "id": "f4beea49-46f5-4755-947c-866f86046ef2",
   "metadata": {},
   "source": [
    "### Imports"
   ]
  },
  {
   "cell_type": "code",
   "execution_count": null,
   "id": "08e7247e-3f02-4a9d-86eb-fd00eeded65b",
   "metadata": {},
   "outputs": [],
   "source": [
    "import numpy as np\n",
    "import pandas as pd\n",
    "import matplotlib.pyplot as plt\n",
    "import seaborn as sns\n",
    "import json\n"
   ]
  },
  {
   "cell_type": "code",
   "execution_count": null,
   "id": "34d96857-f365-496a-acc8-0daa5566377b",
   "metadata": {},
   "outputs": [],
   "source": [
    "### Load data"
   ]
  },
  {
   "cell_type": "code",
   "execution_count": null,
   "id": "5604f3b3-8f9e-458a-9fea-aa039b653862",
   "metadata": {},
   "outputs": [],
   "source": [
    "df = pd.read_csv(\"/MovieData/tmdb_final_results_combined.csv.gz\")"
   ]
  },
  {
   "cell_type": "markdown",
   "id": "9442e6cf-55cd-4b65-a5d4-f9af5c9a31be",
   "metadata": {},
   "source": [
    "## Clean Files"
   ]
  },
  {
   "cell_type": "markdown",
   "id": "e2e823a8-4e3f-47a9-954d-c9c8c561b1e6",
   "metadata": {},
   "source": [
    "### Generes"
   ]
  },
  {
   "cell_type": "code",
   "execution_count": null,
   "id": "c773c1f2-3a10-4b6c-95f9-5a3428ee2fb6",
   "metadata": {},
   "outputs": [],
   "source": [
    "# screate a new column with a list of genres\n",
    "df['genres_split']= df['genre'].str.split(\",\")\n",
    "df"
   ]
  },
  {
   "cell_type": "code",
   "execution_count": null,
   "id": "da6cba65-302b-4b73-8dca-7af2004199f3",
   "metadata": {},
   "outputs": [],
   "source": [
    "#Seperate list of genres\n",
    "exploded_genres = df.explode('genres_sp\n",
    "df.heat(2)"
   ]
  },
  {
   "cell_type": "code",
   "execution_count": null,
   "id": "6676f1f1-6818-4d6a-98bb-4d1496d50564",
   "metadata": {},
   "outputs": [],
   "source": [
    "df- df.drop (columns="
   ]
  },
  {
   "cell_type": "code",
   "execution_count": null,
   "id": "3c622315-0887-4e51-a58b-62cf9e62b0e7",
   "metadata": {},
   "outputs": [],
   "source": []
  },
  {
   "cell_type": "code",
   "execution_count": null,
   "id": "beac5309-1877-41d2-8bdb-61a34b349c50",
   "metadata": {},
   "outputs": [],
   "source": []
  },
  {
   "cell_type": "code",
   "execution_count": null,
   "id": "62ec6065-3f5d-467b-99ad-b479350b6de8",
   "metadata": {},
   "outputs": [],
   "source": []
  },
  {
   "cell_type": "code",
   "execution_count": null,
   "id": "51b04baa-fb54-4ff2-b924-c15a763fc3cc",
   "metadata": {},
   "outputs": [],
   "source": []
  },
  {
   "cell_type": "code",
   "execution_count": null,
   "id": "7728d24d-b110-464d-8a15-bfd601593997",
   "metadata": {},
   "outputs": [],
   "source": []
  },
  {
   "cell_type": "code",
   "execution_count": null,
   "id": "fb08d172-9d2d-4933-bbaf-6d743c3ff66b",
   "metadata": {},
   "outputs": [],
   "source": []
  },
  {
   "cell_type": "code",
   "execution_count": null,
   "id": "f38c3ee7-11c4-4313-9edc-f6794ae2dd79",
   "metadata": {},
   "outputs": [],
   "source": []
  },
  {
   "cell_type": "code",
   "execution_count": null,
   "id": "a2e5792b-3592-41b7-ba45-7bc816fb9ffb",
   "metadata": {},
   "outputs": [],
   "source": []
  },
  {
   "cell_type": "code",
   "execution_count": null,
   "id": "3daa3068-7aa0-40d1-b5df-ca7aea9ace17",
   "metadata": {},
   "outputs": [],
   "source": []
  },
  {
   "cell_type": "code",
   "execution_count": null,
   "id": "e19a0235-e5bc-4e57-82b0-d24459b9caed",
   "metadata": {},
   "outputs": [],
   "source": []
  }
 ],
 "metadata": {
  "kernelspec": {
   "display_name": "Python (dojo-env)",
   "language": "python",
   "name": "dojo-env"
  },
  "language_info": {
   "codemirror_mode": {
    "name": "ipython",
    "version": 3
   },
   "file_extension": ".py",
   "mimetype": "text/x-python",
   "name": "python",
   "nbconvert_exporter": "python",
   "pygments_lexer": "ipython3",
   "version": "3.10.10"
  },
  "widgets": {
   "application/vnd.jupyter.widget-state+json": {
    "state": {},
    "version_major": 2,
    "version_minor": 0
   }
  }
 },
 "nbformat": 4,
 "nbformat_minor": 5
}
