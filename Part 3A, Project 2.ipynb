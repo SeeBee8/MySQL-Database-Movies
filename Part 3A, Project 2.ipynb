{
 "cells": [
  {
   "cell_type": "markdown",
   "id": "9f749832-cd8e-40ce-a0fd-73f319e01b91",
   "metadata": {},
   "source": [
    "# Project 2 Part 3A: Extract from TMDB (core)\n",
    "\n",
    "*Christina Brockway*"
   ]
  },
  {
   "cell_type": "markdown",
   "id": "3a4cfdd4-58ef-452e-b35e-81b24857ba29",
   "metadata": {},
   "source": [
    "## Business Problem:\n",
    "-  Produce a MySQL database from Movies to analyze what makes a movie successful.\n",
    "-  Provide recommendations to stakeholder on how to make a successful movie."
   ]
  },
  {
   "cell_type": "code",
   "execution_count": null,
   "id": "593416e6-a0df-4630-b066-2509e49abf03",
   "metadata": {},
   "outputs": [],
   "source": [
    "### Issues, Need More Data:\n",
    "-  Use TMDB database for financial data\n",
    "-  Extract Budge, Revenue, and MPAA Rating (Certification)\n",
    "-  Test API using 2001 and 2002 movies\n",
    "-  Save each year separately"
   ]
  },
  {
   "cell_type": "markdown",
   "id": "ffd0f168-ffa8-4751-b4a8-70f487efea11",
   "metadata": {},
   "source": [
    "#### Imports"
   ]
  },
  {
   "cell_type": "code",
   "execution_count": 1,
   "id": "03bba05d-86b5-4e30-8bc6-d087eedb8514",
   "metadata": {},
   "outputs": [],
   "source": [
    "#Import packages\n",
    "import os, time, json\n",
    "import tmdbsimple as tmdb\n",
    "import pandas as pd\n",
    "import matplotlib.pyplot as plt\n",
    "import seaborn as sns\n",
    "from tqdm.notebook import tqdm_notebook"
   ]
  },
  {
   "cell_type": "code",
   "execution_count": 12,
   "id": "4c358c87-6976-4f99-bb61-c3505eb9a660",
   "metadata": {},
   "outputs": [],
   "source": [
    "FOLDER = 'MovieData/'\n",
    "#os.makedirs({FOLDER}, exist_ok = True)\n",
    "#os.listdir({FOLDER})"
   ]
  },
  {
   "cell_type": "markdown",
   "id": "eba000ca-80b5-4f3b-9325-65473f86a278",
   "metadata": {},
   "source": [
    "#### Load API Key"
   ]
  },
  {
   "cell_type": "code",
   "execution_count": 2,
   "id": "2e073279-7fde-4f6c-9123-dcfb83bb0684",
   "metadata": {},
   "outputs": [
    {
     "data": {
      "text/plain": [
       "dict_keys(['api_key'])"
      ]
     },
     "execution_count": 2,
     "metadata": {},
     "output_type": "execute_result"
    }
   ],
   "source": [
    "with open('/Users/csbro/.secret/tmdb_api.json', 'r') as f:\n",
    "    login = json.load(f)\n",
    "login.keys()"
   ]
  },
  {
   "cell_type": "code",
   "execution_count": 3,
   "id": "5caf503b-4405-4d9a-bb0e-bdf6ea129b25",
   "metadata": {},
   "outputs": [],
   "source": [
    "tmdb.API_KEY = login['api_key']"
   ]
  },
  {
   "cell_type": "markdown",
   "id": "eba6eb2d-31fe-48b8-ac10-67608f4ea484",
   "metadata": {},
   "source": [
    "#### Define Functions and variables"
   ]
  },
  {
   "cell_type": "code",
   "execution_count": 4,
   "id": "14ab2465-791d-4b6b-a201-29453dd92a1b",
   "metadata": {},
   "outputs": [],
   "source": [
    "#Define list of years to get\n",
    "GET_YEARS = [2001, 2002]\n",
    "\n",
    "#create an empty list for errors\n",
    "errors=[]"
   ]
  },
  {
   "cell_type": "code",
   "execution_count": 7,
   "id": "24269d27-f5f4-4658-931c-823aac8cfcb1",
   "metadata": {},
   "outputs": [],
   "source": [
    "\n",
    "#Define API function\n",
    "\n",
    "\n",
    "def get_movie_with_rating(movie_id):\n",
    "    #Get movie object using movie_id\n",
    "    movie= tmdb.Movies(movie_id)\n",
    "    #Save the dictionaries \n",
    "    movie_info = movie.info()\n",
    "    releases = movie.releases()\n",
    "    #Loop through countries for only US\n",
    "    for c in releases['countries']:\n",
    "        if c['iso_3166_1'] == 'US':\n",
    "            movie_info['certification']= c['certification']\n",
    "    return movie_info\n",
    "\n",
    "\n"
   ]
  },
  {
   "cell_type": "code",
   "execution_count": 8,
   "id": "b72ae52c-4ae4-441d-8b43-2077b566ca43",
   "metadata": {},
   "outputs": [],
   "source": [
    "def write_json(new_data, filename):\n",
    "    \"\"\"Appends a list of records (new_data) into a json file (filename).\n",
    "    Adapted from: https://www.geeksforgeeks.org/append-to-json-file-using-python/\"\"\"\n",
    "\n",
    "    with open(filename, 'r+') as file:\n",
    "        #Load existing data into dictionary\n",
    "        file_data = json.load(file)\n",
    "        #choose to extend or append\n",
    "        if (type(new_data) == list) & (type(file_data) == list):\n",
    "            file_data.extend(new_data)\n",
    "        else:\n",
    "            file_data.append(new_data)\n",
    "        #set file's current position at offset\n",
    "        file.seek(0)\n",
    "        #convert back to json\n",
    "        json.dump(file_data, file)"
   ]
  },
  {
   "cell_type": "markdown",
   "id": "46e55edc-c090-472f-b3cc-287ccf6202b3",
   "metadata": {},
   "source": [
    "#### Confirm API Function works"
   ]
  },
  {
   "cell_type": "code",
   "execution_count": 9,
   "id": "082ffd5b-0b63-4aff-a2d3-e451b83e0ee3",
   "metadata": {},
   "outputs": [
    {
     "data": {
      "text/html": [
       "<div>\n",
       "<style scoped>\n",
       "    .dataframe tbody tr th:only-of-type {\n",
       "        vertical-align: middle;\n",
       "    }\n",
       "\n",
       "    .dataframe tbody tr th {\n",
       "        vertical-align: top;\n",
       "    }\n",
       "\n",
       "    .dataframe thead th {\n",
       "        text-align: right;\n",
       "    }\n",
       "</style>\n",
       "<table border=\"1\" class=\"dataframe\">\n",
       "  <thead>\n",
       "    <tr style=\"text-align: right;\">\n",
       "      <th></th>\n",
       "      <th>adult</th>\n",
       "      <th>backdrop_path</th>\n",
       "      <th>belongs_to_collection</th>\n",
       "      <th>budget</th>\n",
       "      <th>genres</th>\n",
       "      <th>homepage</th>\n",
       "      <th>id</th>\n",
       "      <th>imdb_id</th>\n",
       "      <th>original_language</th>\n",
       "      <th>original_title</th>\n",
       "      <th>...</th>\n",
       "      <th>revenue</th>\n",
       "      <th>runtime</th>\n",
       "      <th>spoken_languages</th>\n",
       "      <th>status</th>\n",
       "      <th>tagline</th>\n",
       "      <th>title</th>\n",
       "      <th>video</th>\n",
       "      <th>vote_average</th>\n",
       "      <th>vote_count</th>\n",
       "      <th>certification</th>\n",
       "    </tr>\n",
       "  </thead>\n",
       "  <tbody>\n",
       "    <tr>\n",
       "      <th>0</th>\n",
       "      <td>False</td>\n",
       "      <td>/9BBTo63ANSmhC4e6r62OJFuK2GL.jpg</td>\n",
       "      <td>{'id': 86311, 'name': 'The Avengers Collection...</td>\n",
       "      <td>220000000</td>\n",
       "      <td>[{'id': 878, 'name': 'Science Fiction'}, {'id'...</td>\n",
       "      <td>https://www.marvel.com/movies/the-avengers</td>\n",
       "      <td>24428</td>\n",
       "      <td>tt0848228</td>\n",
       "      <td>en</td>\n",
       "      <td>The Avengers</td>\n",
       "      <td>...</td>\n",
       "      <td>1518815515</td>\n",
       "      <td>143</td>\n",
       "      <td>[{'english_name': 'English', 'iso_639_1': 'en'...</td>\n",
       "      <td>Released</td>\n",
       "      <td>Some assembly required.</td>\n",
       "      <td>The Avengers</td>\n",
       "      <td>False</td>\n",
       "      <td>7.711</td>\n",
       "      <td>29307</td>\n",
       "      <td>PG-13</td>\n",
       "    </tr>\n",
       "    <tr>\n",
       "      <th>1</th>\n",
       "      <td>False</td>\n",
       "      <td>/qom1SZSENdmHFNZBXbtJAU0WTlC.jpg</td>\n",
       "      <td>None</td>\n",
       "      <td>29000000</td>\n",
       "      <td>[{'id': 10749, 'name': 'Romance'}, {'id': 18, ...</td>\n",
       "      <td>http://www.newline.com/properties/notebookthe....</td>\n",
       "      <td>11036</td>\n",
       "      <td>tt0332280</td>\n",
       "      <td>en</td>\n",
       "      <td>The Notebook</td>\n",
       "      <td>...</td>\n",
       "      <td>115603229</td>\n",
       "      <td>123</td>\n",
       "      <td>[{'english_name': 'English', 'iso_639_1': 'en'...</td>\n",
       "      <td>Released</td>\n",
       "      <td>Behind every great love is a great story.</td>\n",
       "      <td>The Notebook</td>\n",
       "      <td>False</td>\n",
       "      <td>7.881</td>\n",
       "      <td>10709</td>\n",
       "      <td>PG-13</td>\n",
       "    </tr>\n",
       "  </tbody>\n",
       "</table>\n",
       "<p>2 rows × 26 columns</p>\n",
       "</div>"
      ],
      "text/plain": [
       "   adult                     backdrop_path  \\\n",
       "0  False  /9BBTo63ANSmhC4e6r62OJFuK2GL.jpg   \n",
       "1  False  /qom1SZSENdmHFNZBXbtJAU0WTlC.jpg   \n",
       "\n",
       "                               belongs_to_collection     budget  \\\n",
       "0  {'id': 86311, 'name': 'The Avengers Collection...  220000000   \n",
       "1                                               None   29000000   \n",
       "\n",
       "                                              genres  \\\n",
       "0  [{'id': 878, 'name': 'Science Fiction'}, {'id'...   \n",
       "1  [{'id': 10749, 'name': 'Romance'}, {'id': 18, ...   \n",
       "\n",
       "                                            homepage     id    imdb_id  \\\n",
       "0         https://www.marvel.com/movies/the-avengers  24428  tt0848228   \n",
       "1  http://www.newline.com/properties/notebookthe....  11036  tt0332280   \n",
       "\n",
       "  original_language original_title  ...     revenue  runtime  \\\n",
       "0                en   The Avengers  ...  1518815515      143   \n",
       "1                en   The Notebook  ...   115603229      123   \n",
       "\n",
       "                                    spoken_languages    status  \\\n",
       "0  [{'english_name': 'English', 'iso_639_1': 'en'...  Released   \n",
       "1  [{'english_name': 'English', 'iso_639_1': 'en'...  Released   \n",
       "\n",
       "                                     tagline         title  video  \\\n",
       "0                    Some assembly required.  The Avengers  False   \n",
       "1  Behind every great love is a great story.  The Notebook  False   \n",
       "\n",
       "   vote_average vote_count certification  \n",
       "0         7.711      29307         PG-13  \n",
       "1         7.881      10709         PG-13  \n",
       "\n",
       "[2 rows x 26 columns]"
      ]
     },
     "execution_count": 9,
     "metadata": {},
     "output_type": "execute_result"
    }
   ],
   "source": [
    "test= [\"tt0848228\", \"tt0332280\"]\n",
    "results= []\n",
    "for movie_id in test:\n",
    "    movie_info = get_movie_with_rating(movie_id)\n",
    "    results.append(movie_info)\n",
    "pd.DataFrame(results)"
   ]
  },
  {
   "cell_type": "markdown",
   "id": "9527fe57-2a06-484e-a6c7-16a7ce6590d2",
   "metadata": {},
   "source": [
    "### Load in Data"
   ]
  },
  {
   "cell_type": "code",
   "execution_count": 10,
   "id": "aaa4179c-fd3e-4721-a187-ce39d617f16c",
   "metadata": {},
   "outputs": [
    {
     "data": {
      "text/html": [
       "<div>\n",
       "<style scoped>\n",
       "    .dataframe tbody tr th:only-of-type {\n",
       "        vertical-align: middle;\n",
       "    }\n",
       "\n",
       "    .dataframe tbody tr th {\n",
       "        vertical-align: top;\n",
       "    }\n",
       "\n",
       "    .dataframe thead th {\n",
       "        text-align: right;\n",
       "    }\n",
       "</style>\n",
       "<table border=\"1\" class=\"dataframe\">\n",
       "  <thead>\n",
       "    <tr style=\"text-align: right;\">\n",
       "      <th></th>\n",
       "      <th>tconst</th>\n",
       "      <th>titleType</th>\n",
       "      <th>primaryTitle</th>\n",
       "      <th>originalTitle</th>\n",
       "      <th>isAdult</th>\n",
       "      <th>startYear</th>\n",
       "      <th>endYear</th>\n",
       "      <th>runtimeMinutes</th>\n",
       "      <th>genres</th>\n",
       "    </tr>\n",
       "  </thead>\n",
       "  <tbody>\n",
       "    <tr>\n",
       "      <th>0</th>\n",
       "      <td>tt0035423</td>\n",
       "      <td>movie</td>\n",
       "      <td>Kate &amp; Leopold</td>\n",
       "      <td>Kate &amp; Leopold</td>\n",
       "      <td>0</td>\n",
       "      <td>2001.0</td>\n",
       "      <td>NaN</td>\n",
       "      <td>118</td>\n",
       "      <td>Comedy,Fantasy,Romance</td>\n",
       "    </tr>\n",
       "    <tr>\n",
       "      <th>1</th>\n",
       "      <td>tt0062336</td>\n",
       "      <td>movie</td>\n",
       "      <td>The Tango of the Widower and Its Distorting Mi...</td>\n",
       "      <td>El tango del viudo y su espejo deformante</td>\n",
       "      <td>0</td>\n",
       "      <td>2020.0</td>\n",
       "      <td>NaN</td>\n",
       "      <td>70</td>\n",
       "      <td>Drama</td>\n",
       "    </tr>\n",
       "  </tbody>\n",
       "</table>\n",
       "</div>"
      ],
      "text/plain": [
       "      tconst titleType                                       primaryTitle  \\\n",
       "0  tt0035423     movie                                     Kate & Leopold   \n",
       "1  tt0062336     movie  The Tango of the Widower and Its Distorting Mi...   \n",
       "\n",
       "                               originalTitle  isAdult  startYear  endYear  \\\n",
       "0                             Kate & Leopold        0     2001.0      NaN   \n",
       "1  El tango del viudo y su espejo deformante        0     2020.0      NaN   \n",
       "\n",
       "   runtimeMinutes                  genres  \n",
       "0             118  Comedy,Fantasy,Romance  \n",
       "1              70                   Drama  "
      ]
     },
     "execution_count": 10,
     "metadata": {},
     "output_type": "execute_result"
    }
   ],
   "source": [
    "basics = pd.read_csv(\"data/basics-filtered.csv\")\n",
    "basics.head(2)"
   ]
  },
  {
   "cell_type": "markdown",
   "id": "b8bd9264-3a2d-4925-8af2-4bd920b8309e",
   "metadata": {},
   "source": [
    "### Create Inner and Outer Loops"
   ]
  },
  {
   "cell_type": "code",
   "execution_count": 13,
   "id": "28a98b2f-e1c4-490d-8990-264dc4a351e2",
   "metadata": {
    "scrolled": true
   },
   "outputs": [
    {
     "data": {
      "application/vnd.jupyter.widget-view+json": {
       "model_id": "8320597d32e74022adca48d94f054655",
       "version_major": 2,
       "version_minor": 0
      },
      "text/plain": [
       "YEARS:   0%|          | 0/2 [00:00<?, ?it/s]"
      ]
     },
     "metadata": {},
     "output_type": "display_data"
    },
    {
     "name": "stdout",
     "output_type": "stream",
     "text": [
      "MovieData/tmdb_api_results 2001.json already exists.\n"
     ]
    },
    {
     "data": {
      "application/vnd.jupyter.widget-view+json": {
       "model_id": "e509c5d018c64faab4a99434aa0c268d",
       "version_major": 2,
       "version_minor": 0
      },
      "text/plain": [
       "Movies from 2001:   0%|          | 0/219 [00:00<?, ?it/s]"
      ]
     },
     "metadata": {},
     "output_type": "display_data"
    },
    {
     "name": "stdout",
     "output_type": "stream",
     "text": [
      " - Total Errors: 217\n",
      "MovieData/tmdb_api_results 2002.json already exists.\n"
     ]
    },
    {
     "data": {
      "application/vnd.jupyter.widget-view+json": {
       "model_id": "246b6fcb352741cbaf1b5a21cfde00d3",
       "version_major": 2,
       "version_minor": 0
      },
      "text/plain": [
       "Movies from 2002:   0%|          | 0/278 [00:00<?, ?it/s]"
      ]
     },
     "metadata": {},
     "output_type": "display_data"
    },
    {
     "name": "stdout",
     "output_type": "stream",
     "text": [
      " - Total Errors: 495\n"
     ]
    }
   ],
   "source": [
    "##OUTER LOOP\n",
    "for YEAR in tqdm_notebook(GET_YEARS, desc='YEARS', position=0):\n",
    "  \n",
    "    #Prepare DF for json file\n",
    "    JSON_MOVIE= f'{FOLDER}tmdb_api_results {YEAR}.json'\n",
    "        #Check if file exists\n",
    "    file_exists = os.path.isfile(JSON_MOVIE)\n",
    "    \n",
    "    if file_exists == False:\n",
    "        print(f'Creating json file for API results for {YEAR}')\n",
    "        with open(JSON_MOVIE, 'w') as f:\n",
    "            json.dump([{'imdb_id':0}], f)\n",
    "    else: \n",
    "        print(f'{JSON_MOVIE} already exists.')\n",
    "    \n",
    "    #Saving 2010  as the current df\n",
    "    df = basics.loc[basics['startYear'] == YEAR].copy()\n",
    "    #saving movie_id to separate variable\n",
    "    movie_ids = df['tconst'].copy() #.to_list()\n",
    "\n",
    "    #Load exisiting data from json into DF called previous_df\n",
    "    previous_df = pd.read_json(JSON_MOVIE)\n",
    "\n",
    "    #filter out any ids that are already in the file\n",
    "    needed_mids = movie_ids[~movie_ids.isin(previous_df['imdb_id'])]\n",
    "\n",
    "    #INNER LOOP\n",
    "    for movie_id in tqdm_notebook(needed_mids,\n",
    "                                  desc=f'Movies from {YEAR}',\n",
    "                                  position=1,\n",
    "                                  leave=True):\n",
    "        try:\n",
    "            temp = get_movie_with_rating(movie_id)\n",
    "            #Append/Extend results to json file\n",
    "            write_json(temp, JSON_MOVIE)\n",
    "            time.sleep(0.02)\n",
    "        except Exception as e:\n",
    "            errors.append([movie_id, e])\n",
    "\n",
    "    print(f' - Total Errors: {len(errors)}')    \n",
    "\n",
    "\n",
    "    final_year_df = pd.read_json(JSON_MOVIE)\n",
    "    final_year_df.to_csv(f\"{FOLDER}final_tmdb_data_{YEAR}.csv.gz\", compression= 'gzip', index=False)"
   ]
  },
  {
   "cell_type": "code",
   "execution_count": null,
   "id": "4e0f6663-3e2b-4714-95e2-04b74f8db507",
   "metadata": {},
   "outputs": [],
   "source": []
  }
 ],
 "metadata": {
  "kernelspec": {
   "display_name": "Python (dojo-env)",
   "language": "python",
   "name": "dojo-env"
  },
  "language_info": {
   "codemirror_mode": {
    "name": "ipython",
    "version": 3
   },
   "file_extension": ".py",
   "mimetype": "text/x-python",
   "name": "python",
   "nbconvert_exporter": "python",
   "pygments_lexer": "ipython3",
   "version": "3.10.10"
  },
  "widgets": {
   "application/vnd.jupyter.widget-state+json": {
    "state": {
     "0754cedf240e484caa4506f0db335521": {
      "model_module": "@jupyter-widgets/controls",
      "model_module_version": "2.0.0",
      "model_name": "ProgressStyleModel",
      "state": {
       "description_width": ""
      }
     },
     "0f7ce6e8e53b4a348a48c45a9376fc77": {
      "model_module": "@jupyter-widgets/controls",
      "model_module_version": "2.0.0",
      "model_name": "ProgressStyleModel",
      "state": {
       "description_width": ""
      }
     },
     "14b0321de8614b3b8687f36a9b24b35b": {
      "model_module": "@jupyter-widgets/controls",
      "model_module_version": "2.0.0",
      "model_name": "HTMLModel",
      "state": {
       "layout": "IPY_MODEL_14dde0c57a714e8685347b83f1e279b9",
       "style": "IPY_MODEL_901691cb02c04df490719da9724188ec",
       "value": "Movies from 2001: 100%"
      }
     },
     "14dde0c57a714e8685347b83f1e279b9": {
      "model_module": "@jupyter-widgets/base",
      "model_module_version": "2.0.0",
      "model_name": "LayoutModel",
      "state": {}
     },
     "17ba05e1251e49ca8ef075d1e0e15022": {
      "model_module": "@jupyter-widgets/base",
      "model_module_version": "2.0.0",
      "model_name": "LayoutModel",
      "state": {}
     },
     "1c14ffa5f8f14e1b95b8f5e777086bb8": {
      "model_module": "@jupyter-widgets/base",
      "model_module_version": "2.0.0",
      "model_name": "LayoutModel",
      "state": {}
     },
     "1e0789c2736f49e79943e6f28027de91": {
      "model_module": "@jupyter-widgets/base",
      "model_module_version": "2.0.0",
      "model_name": "LayoutModel",
      "state": {}
     },
     "203fd462e3f644b58eba3086b2767e11": {
      "model_module": "@jupyter-widgets/controls",
      "model_module_version": "2.0.0",
      "model_name": "HBoxModel",
      "state": {
       "children": [
        "IPY_MODEL_b9947def224e4a118ea3c93dd42cf881",
        "IPY_MODEL_bb96d5860bad444da60224aa1117b2e1",
        "IPY_MODEL_3e679910bc814f13a8a1a242d1b03dbc"
       ],
       "layout": "IPY_MODEL_bf8977e57039400cbfa63190d83ddee2"
      }
     },
     "20c40b9653234301a3a2c56942fc91b4": {
      "model_module": "@jupyter-widgets/controls",
      "model_module_version": "2.0.0",
      "model_name": "FloatProgressModel",
      "state": {
       "bar_style": "success",
       "layout": "IPY_MODEL_bc1e52cafc5b420e892b8237df11b2ff",
       "max": 2,
       "style": "IPY_MODEL_0f7ce6e8e53b4a348a48c45a9376fc77",
       "value": 2
      }
     },
     "235448445889474ea272943d48fe184d": {
      "model_module": "@jupyter-widgets/controls",
      "model_module_version": "2.0.0",
      "model_name": "HTMLModel",
      "state": {
       "layout": "IPY_MODEL_2cb7c047bbae49d5818bb52beb46c7d2",
       "style": "IPY_MODEL_fe93e549039142e2873e1f9e02b94b2e",
       "value": " 2/2 [01:43&lt;00:00, 52.94s/it]"
      }
     },
     "246b6fcb352741cbaf1b5a21cfde00d3": {
      "model_module": "@jupyter-widgets/controls",
      "model_module_version": "2.0.0",
      "model_name": "HBoxModel",
      "state": {
       "children": [
        "IPY_MODEL_a2081bde323e4e4aa5eed58a9b59f1ce",
        "IPY_MODEL_60fe8d185b3b49099ecce5c77121732d",
        "IPY_MODEL_cb6d6c2f62194b9fb728352b90560402"
       ],
       "layout": "IPY_MODEL_9748e6b9864044b3b51314bc0abaacd1"
      }
     },
     "2647d2fa11ea449b8b8460d237ec3cd2": {
      "model_module": "@jupyter-widgets/base",
      "model_module_version": "2.0.0",
      "model_name": "LayoutModel",
      "state": {}
     },
     "27f2f5bba9d14a2db2d1564381df867e": {
      "model_module": "@jupyter-widgets/controls",
      "model_module_version": "2.0.0",
      "model_name": "HTMLModel",
      "state": {
       "layout": "IPY_MODEL_2647d2fa11ea449b8b8460d237ec3cd2",
       "style": "IPY_MODEL_2f236668ec66497fa802a39f66a3eb4a",
       "value": "YEARS: 100%"
      }
     },
     "2a427e7481c5454d81023efe4c6949da": {
      "model_module": "@jupyter-widgets/base",
      "model_module_version": "2.0.0",
      "model_name": "LayoutModel",
      "state": {}
     },
     "2cb7c047bbae49d5818bb52beb46c7d2": {
      "model_module": "@jupyter-widgets/base",
      "model_module_version": "2.0.0",
      "model_name": "LayoutModel",
      "state": {}
     },
     "2dbce3c2cd0f4b40b5a0d8297896fead": {
      "model_module": "@jupyter-widgets/controls",
      "model_module_version": "2.0.0",
      "model_name": "FloatProgressModel",
      "state": {
       "bar_style": "success",
       "layout": "IPY_MODEL_17ba05e1251e49ca8ef075d1e0e15022",
       "max": 219,
       "style": "IPY_MODEL_0754cedf240e484caa4506f0db335521",
       "value": 219
      }
     },
     "2f236668ec66497fa802a39f66a3eb4a": {
      "model_module": "@jupyter-widgets/controls",
      "model_module_version": "2.0.0",
      "model_name": "HTMLStyleModel",
      "state": {
       "description_width": "",
       "font_size": null,
       "text_color": null
      }
     },
     "3e679910bc814f13a8a1a242d1b03dbc": {
      "model_module": "@jupyter-widgets/controls",
      "model_module_version": "2.0.0",
      "model_name": "HTMLModel",
      "state": {
       "layout": "IPY_MODEL_851a42b61eb641e0aa326ffa3fe93a4b",
       "style": "IPY_MODEL_df2336100a5b4472b25cabf19ca0894f",
       "value": " 0/2 [00:00&lt;?, ?it/s]"
      }
     },
     "47074c43ae824702b24b882186c263d2": {
      "model_module": "@jupyter-widgets/controls",
      "model_module_version": "2.0.0",
      "model_name": "HTMLStyleModel",
      "state": {
       "description_width": "",
       "font_size": null,
       "text_color": null
      }
     },
     "47307f0653ed45088dd4ab85234e4ad3": {
      "model_module": "@jupyter-widgets/base",
      "model_module_version": "2.0.0",
      "model_name": "LayoutModel",
      "state": {}
     },
     "4c5f0f6f81844303aa3a1b2f2766662d": {
      "model_module": "@jupyter-widgets/base",
      "model_module_version": "2.0.0",
      "model_name": "LayoutModel",
      "state": {}
     },
     "60fe8d185b3b49099ecce5c77121732d": {
      "model_module": "@jupyter-widgets/controls",
      "model_module_version": "2.0.0",
      "model_name": "FloatProgressModel",
      "state": {
       "bar_style": "success",
       "layout": "IPY_MODEL_1c14ffa5f8f14e1b95b8f5e777086bb8",
       "max": 278,
       "style": "IPY_MODEL_e560ed337ac0492e89eaf02139d5829b",
       "value": 278
      }
     },
     "8320597d32e74022adca48d94f054655": {
      "model_module": "@jupyter-widgets/controls",
      "model_module_version": "2.0.0",
      "model_name": "HBoxModel",
      "state": {
       "children": [
        "IPY_MODEL_27f2f5bba9d14a2db2d1564381df867e",
        "IPY_MODEL_20c40b9653234301a3a2c56942fc91b4",
        "IPY_MODEL_235448445889474ea272943d48fe184d"
       ],
       "layout": "IPY_MODEL_4c5f0f6f81844303aa3a1b2f2766662d"
      }
     },
     "851a42b61eb641e0aa326ffa3fe93a4b": {
      "model_module": "@jupyter-widgets/base",
      "model_module_version": "2.0.0",
      "model_name": "LayoutModel",
      "state": {}
     },
     "85fc094f0f5747a198471ca2a070bd89": {
      "model_module": "@jupyter-widgets/controls",
      "model_module_version": "2.0.0",
      "model_name": "HTMLStyleModel",
      "state": {
       "description_width": "",
       "font_size": null,
       "text_color": null
      }
     },
     "901691cb02c04df490719da9724188ec": {
      "model_module": "@jupyter-widgets/controls",
      "model_module_version": "2.0.0",
      "model_name": "HTMLStyleModel",
      "state": {
       "description_width": "",
       "font_size": null,
       "text_color": null
      }
     },
     "9748e6b9864044b3b51314bc0abaacd1": {
      "model_module": "@jupyter-widgets/base",
      "model_module_version": "2.0.0",
      "model_name": "LayoutModel",
      "state": {}
     },
     "a2081bde323e4e4aa5eed58a9b59f1ce": {
      "model_module": "@jupyter-widgets/controls",
      "model_module_version": "2.0.0",
      "model_name": "HTMLModel",
      "state": {
       "layout": "IPY_MODEL_1e0789c2736f49e79943e6f28027de91",
       "style": "IPY_MODEL_47074c43ae824702b24b882186c263d2",
       "value": "Movies from 2002: 100%"
      }
     },
     "ae59cb76c1d7420598a3fe3cd5c97d47": {
      "model_module": "@jupyter-widgets/base",
      "model_module_version": "2.0.0",
      "model_name": "LayoutModel",
      "state": {}
     },
     "b9947def224e4a118ea3c93dd42cf881": {
      "model_module": "@jupyter-widgets/controls",
      "model_module_version": "2.0.0",
      "model_name": "HTMLModel",
      "state": {
       "layout": "IPY_MODEL_ae59cb76c1d7420598a3fe3cd5c97d47",
       "style": "IPY_MODEL_85fc094f0f5747a198471ca2a070bd89",
       "value": "YEARS:   0%"
      }
     },
     "bb96d5860bad444da60224aa1117b2e1": {
      "model_module": "@jupyter-widgets/controls",
      "model_module_version": "2.0.0",
      "model_name": "FloatProgressModel",
      "state": {
       "bar_style": "danger",
       "layout": "IPY_MODEL_f915328e0da54b5e8969a4fb7fc0c6df",
       "max": 2,
       "style": "IPY_MODEL_f14a61ce2dc34b72aa69bb9cc35e1c6d"
      }
     },
     "bc1e52cafc5b420e892b8237df11b2ff": {
      "model_module": "@jupyter-widgets/base",
      "model_module_version": "2.0.0",
      "model_name": "LayoutModel",
      "state": {}
     },
     "bf8977e57039400cbfa63190d83ddee2": {
      "model_module": "@jupyter-widgets/base",
      "model_module_version": "2.0.0",
      "model_name": "LayoutModel",
      "state": {}
     },
     "c30f8b82b5b24bb1a9d7e9560c8adfe8": {
      "model_module": "@jupyter-widgets/controls",
      "model_module_version": "2.0.0",
      "model_name": "HTMLStyleModel",
      "state": {
       "description_width": "",
       "font_size": null,
       "text_color": null
      }
     },
     "c9f4deb41e324fd7a4098ccba773f9b5": {
      "model_module": "@jupyter-widgets/base",
      "model_module_version": "2.0.0",
      "model_name": "LayoutModel",
      "state": {}
     },
     "cb6d6c2f62194b9fb728352b90560402": {
      "model_module": "@jupyter-widgets/controls",
      "model_module_version": "2.0.0",
      "model_name": "HTMLModel",
      "state": {
       "layout": "IPY_MODEL_2a427e7481c5454d81023efe4c6949da",
       "style": "IPY_MODEL_c30f8b82b5b24bb1a9d7e9560c8adfe8",
       "value": " 278/278 [00:57&lt;00:00,  4.87it/s]"
      }
     },
     "d35b4489572349c98ff938f9e406819e": {
      "model_module": "@jupyter-widgets/controls",
      "model_module_version": "2.0.0",
      "model_name": "HTMLStyleModel",
      "state": {
       "description_width": "",
       "font_size": null,
       "text_color": null
      }
     },
     "d46154b2efc04870b428504d6b4134cf": {
      "model_module": "@jupyter-widgets/controls",
      "model_module_version": "2.0.0",
      "model_name": "HTMLModel",
      "state": {
       "layout": "IPY_MODEL_c9f4deb41e324fd7a4098ccba773f9b5",
       "style": "IPY_MODEL_d35b4489572349c98ff938f9e406819e",
       "value": " 219/219 [00:46&lt;00:00,  5.08it/s]"
      }
     },
     "df2336100a5b4472b25cabf19ca0894f": {
      "model_module": "@jupyter-widgets/controls",
      "model_module_version": "2.0.0",
      "model_name": "HTMLStyleModel",
      "state": {
       "description_width": "",
       "font_size": null,
       "text_color": null
      }
     },
     "e509c5d018c64faab4a99434aa0c268d": {
      "model_module": "@jupyter-widgets/controls",
      "model_module_version": "2.0.0",
      "model_name": "HBoxModel",
      "state": {
       "children": [
        "IPY_MODEL_14b0321de8614b3b8687f36a9b24b35b",
        "IPY_MODEL_2dbce3c2cd0f4b40b5a0d8297896fead",
        "IPY_MODEL_d46154b2efc04870b428504d6b4134cf"
       ],
       "layout": "IPY_MODEL_47307f0653ed45088dd4ab85234e4ad3"
      }
     },
     "e560ed337ac0492e89eaf02139d5829b": {
      "model_module": "@jupyter-widgets/controls",
      "model_module_version": "2.0.0",
      "model_name": "ProgressStyleModel",
      "state": {
       "description_width": ""
      }
     },
     "f14a61ce2dc34b72aa69bb9cc35e1c6d": {
      "model_module": "@jupyter-widgets/controls",
      "model_module_version": "2.0.0",
      "model_name": "ProgressStyleModel",
      "state": {
       "description_width": ""
      }
     },
     "f915328e0da54b5e8969a4fb7fc0c6df": {
      "model_module": "@jupyter-widgets/base",
      "model_module_version": "2.0.0",
      "model_name": "LayoutModel",
      "state": {}
     },
     "fe93e549039142e2873e1f9e02b94b2e": {
      "model_module": "@jupyter-widgets/controls",
      "model_module_version": "2.0.0",
      "model_name": "HTMLStyleModel",
      "state": {
       "description_width": "",
       "font_size": null,
       "text_color": null
      }
     }
    },
    "version_major": 2,
    "version_minor": 0
   }
  }
 },
 "nbformat": 4,
 "nbformat_minor": 5
}
