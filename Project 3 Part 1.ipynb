{
 "cells": [
  {
   "cell_type": "markdown",
   "id": "6904b7ca-54c6-4bc9-8b5b-822133f4a6c0",
   "metadata": {},
   "source": [
    "#Project 2 part 1\n",
    "\n",
    "*Christina Brockway*"
   ]
  },
  {
   "cell_type": "markdown",
   "id": "697a0823-d50c-4626-a216-0ff3a3daaec0",
   "metadata": {},
   "source": [
    "##Business Understanding\n",
    "\n",
    "-IMDB provides a large dataset with various information about Movies and TV Shows. Using this dataset the stakeholder would like to know what it takes to make a successful movie.\n",
    "\n",
    "-Task:  \n",
    "    -produce a MySQL database from the IMDB dataset\n",
    "    -analyze the dataset to find what makes a movie successful\n",
    "    -provide recommendations on how to make a movie successful\n",
    "    -include movies based on following specifications:\n",
    "        -only movies that were released in the US\n",
    "        -only movies that were released 2000-2022\n",
    "        -only full-length movies\n",
    "        -only fictional genres\n",
    "    -exclude movies that are missing genre or runtime\n",
    "    "
   ]
  },
  {
   "cell_type": "markdown",
   "id": "b8bb1e94-7aa7-42d0-963e-a43c9db9d7f5",
   "metadata": {},
   "source": [
    "The following is the provided dataset:\n",
    "\n",
    "https://drive.google.com/drive/folders/1I8FKN3S9acXMNzyXq3lo8n9PjplSPB97\n",
    "\n",
    "The data dictionary is located:\n",
    "\n",
    "https://developer.imdb.com/non-commercial-datasets/\n",
    "\n",
    "\n",
    "| **Column**     \t| **Description**                                                                           \t| **dtype**    \t|   \t| **Column**    \t| **Description**                                     \t| **dtype** \t|\r\n",
    "|----------------\t|-------------------------------------------------------------------------------------------\t|--------------\t|---\t|---------------\t|-----------------------------------------------------\t|-----------\t|\r\n",
    "| tconst         \t| unique identifier of title                                                                \t| string       \t|   \t| tconst        \t| unique identifier of the title                      \t| string    \t|\r\n",
    "| titleType      \t| type/format of the title: movie, short, tvseries, tvepisode, video, ect                   \t| string       \t|   \t| averageRating \t| weighted average of all the individual user ratings \t| float     \t|\r\n",
    "| primaryTitle   \t| more popular title/ title used by filmmakers on promotional materials at point of release \t| string       \t|   \t| numVotes      \t| number of votes the tilte received                  \t| float     \t|\r\n",
    "| originalTitle  \t| original title in original language                                                       \t| string       \t|   \t|               \t|                                                     \t|           \t|\r\n",
    "| isAdult        \t| 0:non-adult title 1:adult title                                                           \t| boolean      \t|   \t|               \t|                                                     \t|           \t|\r\n",
    "| startYear      \t| the release year of the title/ start year of the TV Series                                \t| int          \t|   \t|               \t|                                                     \t|           \t|\r\n",
    "| endYear        \t| TV Series end year  for all other title types:  '\\N'                                      \t| int          \t|   \t|               \t|                                                     \t|           \t|\r\n",
    "| runtimeMinutes \t| primary runtime of the title in minutes                                                   \t| float        \t|   \t|               \t|                                                     \t|           \t|\r\n",
    "| genres         \t| includes up to 3 genres associated with the title                                         \t| string array \t|   \t|               \t|                                                     \t|           \t|\r\n",
    "|                \t| ***title.basics.tsv.gz***                                                                 \t|              \t|   \t|               \t| ***title.ratings.tsv.gz***                          \t|           \t|"
   ]
  },
  {
   "cell_type": "markdown",
   "id": "938bc868-e3b3-4313-a511-b7abb56616e3",
   "metadata": {},
   "source": [
    "From previous research found data is in the following files:\n",
    "  -title-akas-us-only.csv\n",
    "    -title.basics.tsv.gz\n",
    "    -title.ratings.tsv.gz\n",
    "    *Note:  this is a preprocessed version of the dataset*"
   ]
  },
  {
   "cell_type": "code",
   "execution_count": null,
   "id": "ac4c4900-a455-4cab-8b29-e8510e90ff13",
   "metadata": {},
   "outputs": [],
   "source": []
  },
  {
   "cell_type": "code",
   "execution_count": null,
   "id": "17205d09-13b1-4ea2-98dc-992d254fbdaf",
   "metadata": {},
   "outputs": [],
   "source": []
  }
 ],
 "metadata": {
  "kernelspec": {
   "display_name": "Python (dojo-env)",
   "language": "python",
   "name": "dojo-env"
  },
  "language_info": {
   "codemirror_mode": {
    "name": "ipython",
    "version": 3
   },
   "file_extension": ".py",
   "mimetype": "text/x-python",
   "name": "python",
   "nbconvert_exporter": "python",
   "pygments_lexer": "ipython3",
   "version": "3.10.10"
  },
  "widgets": {
   "application/vnd.jupyter.widget-state+json": {
    "state": {},
    "version_major": 2,
    "version_minor": 0
   }
  }
 },
 "nbformat": 4,
 "nbformat_minor": 5
}
