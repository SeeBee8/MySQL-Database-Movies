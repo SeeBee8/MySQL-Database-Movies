{
 "cells": [
  {
   "cell_type": "markdown",
   "id": "05ca1f34-6757-4a7e-a9d9-50446b37717e",
   "metadata": {},
   "source": [
    "# Project 2 Part 4\n",
    "**Apply Hypothesis Testing**\n",
    "\n",
    "\n",
    "*Christina Brockway*way"
   ]
  },
  {
   "cell_type": "markdown",
   "id": "ef45321e-a8cb-4f44-bf64-9a408517a233",
   "metadata": {},
   "source": []
  }
 ],
 "metadata": {
  "kernelspec": {
   "display_name": "Python (dojo-env)",
   "language": "python",
   "name": "dojo-env"
  },
  "language_info": {
   "codemirror_mode": {
    "name": "ipython",
    "version": 3
   },
   "file_extension": ".py",
   "mimetype": "text/x-python",
   "name": "python",
   "nbconvert_exporter": "python",
   "pygments_lexer": "ipython3",
   "version": "3.10.10"
  },
  "widgets": {
   "application/vnd.jupyter.widget-state+json": {
    "state": {},
    "version_major": 2,
    "version_minor": 0
   }
  }
 },
 "nbformat": 4,
 "nbformat_minor": 5
}
