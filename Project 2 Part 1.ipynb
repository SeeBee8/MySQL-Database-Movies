{
 "cells": [
  {
   "cell_type": "markdown",
   "id": "6904b7ca-54c6-4bc9-8b5b-822133f4a6c0",
   "metadata": {},
   "source": [
    "# Project 2 part 1\n",
    "\n",
    "*Christina Brockway*"
   ]
  },
  {
   "cell_type": "markdown",
   "id": "697a0823-d50c-4626-a216-0ff3a3daaec0",
   "metadata": {},
   "source": [
    "## Business Understanding\n",
    "\n",
    "- IMDB provides a large dataset with various information about Movies and TV Shows. Using this dataset the stakeholder would like to know what it takes to make a successful movie.\n",
    "\n",
    "- Task:  \n",
    "\n",
    "    - produce a MySQL database from the IMDB dataset\n",
    "    - analyze the dataset to find what makes a movie successful\n",
    "    - provide recommendations on how to make a movie successful\n",
    "    - include movies based on following specifications:\n",
    "        - only movies that were released in the US\n",
    "        - only movies that were released 2000-2022\n",
    "        - only full-length movies\n",
    "        - only fictional genres (exclude documentaries)\n",
    "    - exclude movies that are missing genre or runtime\n",
    "    "
   ]
  },
  {
   "cell_type": "markdown",
   "id": "f92ff07c-1663-4cfb-8063-9a908615f427",
   "metadata": {},
   "source": [
    "The following is the provided dataset provided by IMDB:\n",
    "\n",
    "https://drive.google.com/drive/folders/1I8FKN3S9acXMNzyXq3lo8n9PjplSPB97\n",
    "\n",
    "The data dictionary is located:\n",
    "\n",
    "https://developer.imdb.com/non-commercial-datasets/"
   ]
  },
  {
   "cell_type": "markdown",
   "id": "6c895cef-d481-4a07-b719-cb37327e8ad5",
   "metadata": {},
   "source": [
    "<style type=\"text/css\">\r\n",
    ".tg  {border-collapse:collapse;border-spacing:0;}\r\n",
    ".tg td{border-color:black;border-style:solid;border-width:1px;font-family:Arial, sans-serif;font-size:14px;\r\n",
    "  overflow:hidden;padding:10px 5px;word-break:normal;}\r\n",
    ".tg th{border-color:black;border-style:solid;border-width:1px;font-family:Arial, sans-serif;font-size:14px;\r\n",
    "  font-weight:normal;overflow:hidden;padding:10px 5px;word-break:normal;}\r\n",
    ".tg .tg-eh8w{background-color:#F4CCCC;border-color:inherit;font-weight:bold;text-align:left;vertical-align:top}\r\n",
    ".tg .tg-jxgv{background-color:#FFF;border-color:inherit;text-align:left;vertical-align:top}\r\n",
    ".tg .tg-0pky{border-color:inherit;text-align:left;vertical-align:top}\r\n",
    ".tg .tg-0lax{text-align:left;vertical-align:top}\r\n",
    ".tg .tg-ktyi{background-color:#FFF;text-align:left;vertical-align:top}\r\n",
    ".tg .tg-bt62{background-color:#F4CCCC;font-style:italic;font-weight:bold;text-align:center;vertical-align:top}\r\n",
    "</style>\r\n",
    "<table class=\"tg\">\r\n",
    "<thead>\r\n",
    "  <tr>\r\n",
    "    <th class=\"tg-eh8w\"><span style=\"font-weight:700;font-style:normal;text-decoration:none;color:#000;background-color:transparent\">Feature</span></th>\r\n",
    "    <th class=\"tg-eh8w\"><span style=\"font-weight:700;font-style:normal;text-decoration:none;color:#000;background-color:transparent\">dtype</span></th>\r\n",
    "    <th class=\"tg-eh8w\"><span style=\"font-weight:700;font-style:normal;text-decoration:none;color:#000;background-color:transparent\">Description</span></th>\r\n",
    "    <th class=\"tg-eh8w\"><span style=\"font-weight:700;font-style:normal;text-decoration:none;color:#000;background-color:transparent\">Values</span></th>\r\n",
    "  </tr>\r\n",
    "</thead>\r\n",
    "<tbody>\r\n",
    "  <tr>\r\n",
    "    <td class=\"tg-0pky\"><span style=\"font-weight:400;font-style:normal;text-decoration:none;color:#000;background-color:transparent\">titleId</span></td>\r\n",
    "    <td class=\"tg-0pky\"><span style=\"font-weight:400;font-style:normal;text-decoration:none;color:#000;background-color:transparent\">string</span></td>\r\n",
    "    <td class=\"tg-0pky\"><span style=\"font-weight:400;font-style:normal;text-decoration:none;color:#000;background-color:transparent\">Tconst, unique identifier of the title</span></td>\r\n",
    "    <td class=\"tg-0pky\"></td>\r\n",
    "  </tr>\r\n",
    "  <tr>\r\n",
    "    <td class=\"tg-0pky\"><span style=\"font-weight:400;font-style:normal;text-decoration:none;color:#000;background-color:transparent\">ordering</span></td>\r\n",
    "    <td class=\"tg-0pky\"><span style=\"font-weight:400;font-style:normal;text-decoration:none;color:#000;background-color:transparent\">integer</span></td>\r\n",
    "    <td class=\"tg-0pky\"><span style=\"font-weight:400;font-style:normal;text-decoration:none;color:#000;background-color:transparent\">Number unique identifier of rows for a given titleID</span></td>\r\n",
    "    <td class=\"tg-0pky\"></td>\r\n",
    "  </tr>\r\n",
    "  <tr>\r\n",
    "    <td class=\"tg-0pky\"><span style=\"font-weight:400;font-style:normal;text-decoration:none;color:#000;background-color:transparent\">title</span></td>\r\n",
    "    <td class=\"tg-0pky\"><span style=\"font-weight:400;font-style:normal;text-decoration:none;color:#000;background-color:transparent\">string</span></td>\r\n",
    "    <td class=\"tg-0pky\"><span style=\"font-weight:400;font-style:normal;text-decoration:none;color:#000;background-color:transparent\">Localized title</span></td>\r\n",
    "    <td class=\"tg-0pky\"></td>\r\n",
    "  </tr>\r\n",
    "  <tr>\r\n",
    "    <td class=\"tg-0pky\"><span style=\"font-weight:400;font-style:normal;text-decoration:none;color:#000;background-color:transparent\">region</span></td>\r\n",
    "    <td class=\"tg-0pky\"><span style=\"font-weight:400;font-style:normal;text-decoration:none;color:#000;background-color:transparent\">string</span></td>\r\n",
    "    <td class=\"tg-jxgv\"><span style=\"font-weight:400;font-style:normal;text-decoration:none;color:#000;background-color:transparent\">Region for this version of the title</span></td>\r\n",
    "    <td class=\"tg-jxgv\"></td>\r\n",
    "  </tr>\r\n",
    "  <tr>\r\n",
    "    <td class=\"tg-0lax\"><span style=\"font-weight:400;font-style:normal;text-decoration:none;color:#000;background-color:transparent\">language</span></td>\r\n",
    "    <td class=\"tg-0lax\"><span style=\"font-weight:400;font-style:normal;text-decoration:none;color:#000;background-color:transparent\">string</span></td>\r\n",
    "    <td class=\"tg-ktyi\"><span style=\"font-weight:400;font-style:normal;text-decoration:none;color:#000;background-color:transparent\">language of the title</span></td>\r\n",
    "    <td class=\"tg-ktyi\"></td>\r\n",
    "  </tr>\r\n",
    "  <tr>\r\n",
    "    <td class=\"tg-0lax\"><span style=\"font-weight:400;font-style:normal;text-decoration:none;color:#000;background-color:transparent\">types</span></td>\r\n",
    "    <td class=\"tg-0lax\"><span style=\"font-weight:400;font-style:normal;text-decoration:none;color:#000;background-color:transparent\">array</span></td>\r\n",
    "    <td class=\"tg-ktyi\"><span style=\"font-weight:400;font-style:normal;text-decoration:none;color:#000;background-color:transparent\"> Enumerated set of attributes for this alternative title</span></td>\r\n",
    "    <td class=\"tg-ktyi\"><span style=\"font-weight:400;font-style:normal;text-decoration:none;color:#000;background-color:transparent\">Alternative, dvd, festival, video, working, original, display</span></td>\r\n",
    "  </tr>\r\n",
    "  <tr>\r\n",
    "    <td class=\"tg-0lax\"><span style=\"font-weight:400;font-style:normal;text-decoration:none;color:#000;background-color:transparent\">attributes</span></td>\r\n",
    "    <td class=\"tg-0lax\"><span style=\"font-weight:400;font-style:normal;text-decoration:none;color:#000;background-color:transparent\">array</span></td>\r\n",
    "    <td class=\"tg-ktyi\"><span style=\"font-weight:400;font-style:normal;text-decoration:none;color:#000;background-color:transparent\">Additional terms to describe this alternative title, not enumerated</span></td>\r\n",
    "    <td class=\"tg-ktyi\"></td>\r\n",
    "  </tr>\r\n",
    "  <tr>\r\n",
    "    <td class=\"tg-0lax\"><span style=\"font-weight:400;font-style:normal;text-decoration:none;color:#000;background-color:transparent\">isOriginalTitle</span></td>\r\n",
    "    <td class=\"tg-0lax\"><span style=\"font-weight:400;font-style:normal;text-decoration:none;color:#000;background-color:transparent\">boolean</span></td>\r\n",
    "    <td class=\"tg-0lax\"></td>\r\n",
    "    <td class=\"tg-ktyi\"><span style=\"font-weight:400;font-style:normal;text-decoration:none;color:#000;background-color:transparent\">0: not original title</span><br><span style=\"font-weight:400;font-style:normal;text-decoration:none;color:#000;background-color:transparent\">1: original title</span></td>\r\n",
    "  </tr>\r\n",
    "  <tr>\r\n",
    "    <td class=\"tg-bt62\" colspan=\"4\"><span style=\"font-weight:700;font-style:italic;text-decoration:none;color:#000;background-color:transparent\">title.asak.tsv.gz</span></td>\r\n",
    "  </tr>\r\n",
    "</tbody>\r\n",
    "</table>"
   ]
  },
  {
   "cell_type": "markdown",
   "id": "8908faa4-bdf6-4ae7-a3a2-b8fe721c234e",
   "metadata": {},
   "source": [
    "<style type=\"text/css\">\r\n",
    ".tg  {border-collapse:collapse;border-spacing:0;}\r\n",
    ".tg td{border-color:black;border-style:solid;border-width:1px;font-family:Arial, sans-serif;font-size:14px;\r\n",
    "  overflow:hidden;padding:10px 5px;word-break:normal;}\r\n",
    ".tg th{border-color:black;border-style:solid;border-width:1px;font-family:Arial, sans-serif;font-size:14px;\r\n",
    "  font-weight:normal;overflow:hidden;padding:10px 5px;word-break:normal;}\r\n",
    ".tg .tg-ve90{background-color:#F4CCCC;font-style:italic;font-weight:bold;text-align:left;vertical-align:top}\r\n",
    ".tg .tg-eh8w{background-color:#F4CCCC;border-color:inherit;font-weight:bold;text-align:left;vertical-align:top}\r\n",
    ".tg .tg-jxgv{background-color:#FFF;border-color:inherit;text-align:left;vertical-align:top}\r\n",
    ".tg .tg-0pky{border-color:inherit;text-align:left;vertical-align:top}\r\n",
    ".tg .tg-0lax{text-align:left;vertical-align:top}\r\n",
    ".tg .tg-ktyi{background-color:#FFF;text-align:left;vertical-align:top}\r\n",
    "</style>\r\n",
    "<table class=\"tg\">\r\n",
    "<thead>\r\n",
    "  <tr>\r\n",
    "    <th class=\"tg-eh8w\"><span style=\"font-weight:700;font-style:normal;text-decoration:none;color:#000;background-color:transparent\">Feature</span></th>\r\n",
    "    <th class=\"tg-eh8w\"><span style=\"font-weight:700;font-style:normal;text-decoration:none;color:#000;background-color:transparent\">dtype</span></th>\r\n",
    "    <th class=\"tg-eh8w\"><span style=\"font-weight:700;font-style:normal;text-decoration:none;color:#000;background-color:transparent\">Description</span></th>\r\n",
    "    <th class=\"tg-eh8w\"><span style=\"font-weight:700;font-style:normal;text-decoration:none;color:#000;background-color:transparent\">Values</span></th>\r\n",
    "  </tr>\r\n",
    "</thead>\r\n",
    "<tbody>\r\n",
    "  <tr>\r\n",
    "    <td class=\"tg-0pky\"><span style=\"font-weight:400;font-style:normal;text-decoration:none;color:#000;background-color:transparent\">tconst</span></td>\r\n",
    "    <td class=\"tg-0pky\"><span style=\"font-weight:400;font-style:normal;text-decoration:none;color:#000;background-color:transparent\">string</span></td>\r\n",
    "    <td class=\"tg-0pky\"><span style=\"font-weight:400;font-style:normal;text-decoration:none;color:#000;background-color:transparent\">Tconst, unique identifier of the title</span></td>\r\n",
    "    <td class=\"tg-0pky\"></td>\r\n",
    "  </tr>\r\n",
    "  <tr>\r\n",
    "    <td class=\"tg-0pky\"><span style=\"font-weight:400;font-style:normal;text-decoration:none;color:#000;background-color:transparent\">titleType</span></td>\r\n",
    "    <td class=\"tg-0pky\"><span style=\"font-weight:400;font-style:normal;text-decoration:none;color:#000;background-color:transparent\">string</span></td>\r\n",
    "    <td class=\"tg-0pky\"><span style=\"font-weight:400;font-style:normal;text-decoration:none;color:#000;background-color:transparent\">type/format of the title</span></td>\r\n",
    "    <td class=\"tg-0pky\"><span style=\"font-weight:400;font-style:normal;text-decoration:none;color:#000;background-color:transparent\">Movie, short, tvseries, tvepisode, video, etc…</span></td>\r\n",
    "  </tr>\r\n",
    "  <tr>\r\n",
    "    <td class=\"tg-0pky\"><span style=\"font-weight:400;font-style:normal;text-decoration:none;color:#000;background-color:transparent\">primaryTitle</span></td>\r\n",
    "    <td class=\"tg-0pky\"><span style=\"font-weight:400;font-style:normal;text-decoration:none;color:#000;background-color:transparent\">string</span></td>\r\n",
    "    <td class=\"tg-0pky\"><span style=\"font-weight:400;font-style:normal;text-decoration:none;color:#000;background-color:transparent\">More popular title/ title used by filmmakers on promotional materials at release</span></td>\r\n",
    "    <td class=\"tg-0pky\"></td>\r\n",
    "  </tr>\r\n",
    "  <tr>\r\n",
    "    <td class=\"tg-0pky\"><span style=\"font-weight:400;font-style:normal;text-decoration:none;color:#000;background-color:transparent\">isAdult</span></td>\r\n",
    "    <td class=\"tg-0pky\"><span style=\"font-weight:400;font-style:normal;text-decoration:none;color:#000;background-color:transparent\">boolean</span></td>\r\n",
    "    <td class=\"tg-0pky\"></td>\r\n",
    "    <td class=\"tg-jxgv\"><span style=\"font-weight:400;font-style:normal;text-decoration:none;color:#000;background-color:transparent\">0: non-adult  title </span><br><span style=\"font-weight:400;font-style:normal;text-decoration:none;color:#000;background-color:transparent\">1: adult title</span></td>\r\n",
    "  </tr>\r\n",
    "  <tr>\r\n",
    "    <td class=\"tg-0lax\"><span style=\"font-weight:400;font-style:normal;text-decoration:none;color:#000;background-color:transparent\">startYear</span></td>\r\n",
    "    <td class=\"tg-0lax\"><span style=\"font-weight:400;font-style:normal;text-decoration:none;color:#000;background-color:transparent\">YYYY</span></td>\r\n",
    "    <td class=\"tg-0lax\"><span style=\"font-weight:400;font-style:normal;text-decoration:none;color:#000;background-color:transparent\">The release year of the title/ start year of TVseries</span></td>\r\n",
    "    <td class=\"tg-ktyi\"></td>\r\n",
    "  </tr>\r\n",
    "  <tr>\r\n",
    "    <td class=\"tg-0lax\"><span style=\"font-weight:400;font-style:normal;text-decoration:none;color:#000;background-color:transparent\">endYear</span></td>\r\n",
    "    <td class=\"tg-0lax\"><span style=\"font-weight:400;font-style:normal;text-decoration:none;color:#000;background-color:transparent\">YYYY</span></td>\r\n",
    "    <td class=\"tg-0lax\"><span style=\"font-weight:400;font-style:normal;text-decoration:none;color:#000;background-color:transparent\">TV Series end year</span></td>\r\n",
    "    <td class=\"tg-ktyi\"><span style=\"font-weight:400;font-style:normal;text-decoration:none;color:#000;background-color:transparent\">‘\\N’ for all other title types</span></td>\r\n",
    "  </tr>\r\n",
    "  <tr>\r\n",
    "    <td class=\"tg-0lax\"><span style=\"font-weight:400;font-style:normal;text-decoration:none;color:#000;background-color:transparent\">runtimeMinutes</span></td>\r\n",
    "    <td class=\"tg-0lax\"><span style=\"font-weight:400;font-style:normal;text-decoration:none;color:#000;background-color:transparent\">numeric</span></td>\r\n",
    "    <td class=\"tg-0lax\"><span style=\"font-weight:400;font-style:normal;text-decoration:none;color:#000;background-color:transparent\">Primary runtime of title in minutes</span></td>\r\n",
    "    <td class=\"tg-ktyi\"></td>\r\n",
    "  </tr>\r\n",
    "  <tr>\r\n",
    "    <td class=\"tg-0lax\"><span style=\"font-weight:400;font-style:normal;text-decoration:none;color:#000;background-color:transparent\">genres</span></td>\r\n",
    "    <td class=\"tg-0lax\"><span style=\"font-weight:400;font-style:normal;text-decoration:none;color:#000;background-color:transparent\">String array</span></td>\r\n",
    "    <td class=\"tg-0lax\"><span style=\"font-weight:400;font-style:normal;text-decoration:none;color:#000;background-color:transparent\">Includes up to 3 genres associated with the title</span></td>\r\n",
    "    <td class=\"tg-ktyi\"></td>\r\n",
    "  </tr>\r\n",
    "  <tr>\r\n",
    "    <td class=\"tg-ve90\" colspan=\"4\"><span style=\"font-weight:700;font-style:italic;text-decoration:none;color:#000;background-color:transparent\">title.basics.tsv.gz</span></td>\r\n",
    "  </tr>\r\n",
    "</tbody>\r\n",
    "</table>"
   ]
  },
  {
   "cell_type": "markdown",
   "id": "1ef88ee8-e75a-42a4-ad22-24b3cae2de64",
   "metadata": {},
   "source": [
    "<style type=\"text/css\">\r\n",
    ".tg  {border-collapse:collapse;border-spacing:0;}\r\n",
    ".tg td{border-color:black;border-style:solid;border-width:1px;font-family:Arial, sans-serif;font-size:14px;\r\n",
    "  overflow:hidden;padding:10px 5px;word-break:normal;}\r\n",
    ".tg th{border-color:black;border-style:solid;border-width:1px;font-family:Arial, sans-serif;font-size:14px;\r\n",
    "  font-weight:normal;overflow:hidden;padding:10px 5px;word-break:normal;}\r\n",
    ".tg .tg-ve90{background-color:#F4CCCC;font-style:italic;font-weight:bold;text-align:left;vertical-align:top}\r\n",
    ".tg .tg-2kiz{background-color:#F4CCCC;font-weight:bold;text-align:left;vertical-align:top}\r\n",
    ".tg .tg-0lax{text-align:left;vertical-align:top}\r\n",
    "</style>\r\n",
    "<table class=\"tg\">\r\n",
    "<thead>\r\n",
    "  <tr>\r\n",
    "    <th class=\"tg-2kiz\"><span style=\"font-weight:700;font-style:normal;text-decoration:none;color:#000;background-color:transparent\">Feature</span></th>\r\n",
    "    <th class=\"tg-2kiz\"><span style=\"font-weight:700;font-style:normal;text-decoration:none;color:#000;background-color:transparent\">dtype</span></th>\r\n",
    "    <th class=\"tg-2kiz\"><span style=\"font-weight:700;font-style:normal;text-decoration:none;color:#000;background-color:transparent\">Description</span></th>\r\n",
    "    <th class=\"tg-2kiz\"><span style=\"font-weight:700;font-style:normal;text-decoration:none;color:#000;background-color:transparent\">Values</span></th>\r\n",
    "  </tr>\r\n",
    "</thead>\r\n",
    "<tbody>\r\n",
    "  <tr>\r\n",
    "    <td class=\"tg-0lax\"><span style=\"font-weight:400;font-style:normal;text-decoration:none;color:#000;background-color:transparent\">tconst</span></td>\r\n",
    "    <td class=\"tg-0lax\"><span style=\"font-weight:400;font-style:normal;text-decoration:none;color:#000;background-color:transparent\">string</span></td>\r\n",
    "    <td class=\"tg-0lax\"><span style=\"font-weight:400;font-style:normal;text-decoration:none;color:#000;background-color:transparent\">Tconst, unique identifier of the title</span></td>\r\n",
    "    <td class=\"tg-0lax\"></td>\r\n",
    "  </tr>\r\n",
    "  <tr>\r\n",
    "    <td class=\"tg-0lax\"><span style=\"font-weight:400;font-style:normal;text-decoration:none;color:#000;background-color:transparent\">averageRating</span></td>\r\n",
    "    <td class=\"tg-0lax\"><span style=\"font-weight:400;font-style:normal;text-decoration:none;color:#000;background-color:transparent\">number</span></td>\r\n",
    "    <td class=\"tg-0lax\"><span style=\"font-weight:400;font-style:normal;text-decoration:none;color:#000;background-color:transparent\">Weighted average of all the individual user ratings</span></td>\r\n",
    "    <td class=\"tg-0lax\"></td>\r\n",
    "  </tr>\r\n",
    "  <tr>\r\n",
    "    <td class=\"tg-0lax\"><span style=\"font-weight:400;font-style:normal;text-decoration:none;color:#000;background-color:transparent\">numVotes</span></td>\r\n",
    "    <td class=\"tg-0lax\"><span style=\"font-weight:400;font-style:normal;text-decoration:none;color:#000;background-color:transparent\">number</span></td>\r\n",
    "    <td class=\"tg-0lax\"><span style=\"font-weight:400;font-style:normal;text-decoration:none;color:#000;background-color:transparent\">Number of votes the title has recieved</span></td>\r\n",
    "    <td class=\"tg-0lax\"></td>\r\n",
    "  </tr>\r\n",
    "  <tr>\r\n",
    "    <td class=\"tg-ve90\" colspan=\"4\"><span style=\"font-weight:700;font-style:italic;text-decoration:none;color:#000;background-color:transparent\">title.ratings.tsv.gz</span></td>\r\n",
    "  </tr>\r\n",
    "</tbody>\r\n",
    "</table>"
   ]
  },
  {
   "cell_type": "markdown",
   "id": "938bc868-e3b3-4313-a511-b7abb56616e3",
   "metadata": {},
   "source": [
    "From previous research found data is in the following files:\n",
    "\n",
    "    - title-akas-us-only.csv\n",
    "    - title.basics.tsv.gz\n",
    "    - title.ratings.tsv.gz\n",
    "    \n",
    "    *Note:  this is a preprocessed version of the dataset*"
   ]
  },
  {
   "cell_type": "code",
   "execution_count": 1,
   "id": "ac4c4900-a455-4cab-8b29-e8510e90ff13",
   "metadata": {},
   "outputs": [],
   "source": [
    "#Import Libraries/packages\n",
    "import pandas as pd\n",
    "import seaborn as sns\n",
    "import numpy as np\n",
    "import matplotlib.pyplot as plt"
   ]
  },
  {
   "cell_type": "code",
   "execution_count": 2,
   "id": "17205d09-13b1-4ea2-98dc-992d254fbdaf",
   "metadata": {},
   "outputs": [
    {
     "data": {
      "text/html": [
       "<div>\n",
       "<style scoped>\n",
       "    .dataframe tbody tr th:only-of-type {\n",
       "        vertical-align: middle;\n",
       "    }\n",
       "\n",
       "    .dataframe tbody tr th {\n",
       "        vertical-align: top;\n",
       "    }\n",
       "\n",
       "    .dataframe thead th {\n",
       "        text-align: right;\n",
       "    }\n",
       "</style>\n",
       "<table border=\"1\" class=\"dataframe\">\n",
       "  <thead>\n",
       "    <tr style=\"text-align: right;\">\n",
       "      <th></th>\n",
       "      <th>titleId</th>\n",
       "      <th>ordering</th>\n",
       "      <th>title</th>\n",
       "      <th>region</th>\n",
       "      <th>language</th>\n",
       "      <th>types</th>\n",
       "      <th>attributes</th>\n",
       "      <th>isOriginalTitle</th>\n",
       "    </tr>\n",
       "  </thead>\n",
       "  <tbody>\n",
       "    <tr>\n",
       "      <th>0</th>\n",
       "      <td>tt0000001</td>\n",
       "      <td>6</td>\n",
       "      <td>Carmencita</td>\n",
       "      <td>US</td>\n",
       "      <td>\\N</td>\n",
       "      <td>imdbDisplay</td>\n",
       "      <td>\\N</td>\n",
       "      <td>0</td>\n",
       "    </tr>\n",
       "    <tr>\n",
       "      <th>1</th>\n",
       "      <td>tt0000002</td>\n",
       "      <td>7</td>\n",
       "      <td>The Clown and His Dogs</td>\n",
       "      <td>US</td>\n",
       "      <td>\\N</td>\n",
       "      <td>\\N</td>\n",
       "      <td>literal English title</td>\n",
       "      <td>0</td>\n",
       "    </tr>\n",
       "    <tr>\n",
       "      <th>2</th>\n",
       "      <td>tt0000005</td>\n",
       "      <td>10</td>\n",
       "      <td>Blacksmith Scene</td>\n",
       "      <td>US</td>\n",
       "      <td>\\N</td>\n",
       "      <td>imdbDisplay</td>\n",
       "      <td>\\N</td>\n",
       "      <td>0</td>\n",
       "    </tr>\n",
       "    <tr>\n",
       "      <th>3</th>\n",
       "      <td>tt0000005</td>\n",
       "      <td>1</td>\n",
       "      <td>Blacksmithing Scene</td>\n",
       "      <td>US</td>\n",
       "      <td>\\N</td>\n",
       "      <td>alternative</td>\n",
       "      <td>\\N</td>\n",
       "      <td>0</td>\n",
       "    </tr>\n",
       "    <tr>\n",
       "      <th>4</th>\n",
       "      <td>tt0000005</td>\n",
       "      <td>6</td>\n",
       "      <td>Blacksmith Scene #1</td>\n",
       "      <td>US</td>\n",
       "      <td>\\N</td>\n",
       "      <td>alternative</td>\n",
       "      <td>\\N</td>\n",
       "      <td>0</td>\n",
       "    </tr>\n",
       "  </tbody>\n",
       "</table>\n",
       "</div>"
      ],
      "text/plain": [
       "     titleId  ordering                   title region language        types  \\\n",
       "0  tt0000001         6              Carmencita     US       \\N  imdbDisplay   \n",
       "1  tt0000002         7  The Clown and His Dogs     US       \\N           \\N   \n",
       "2  tt0000005        10        Blacksmith Scene     US       \\N  imdbDisplay   \n",
       "3  tt0000005         1     Blacksmithing Scene     US       \\N  alternative   \n",
       "4  tt0000005         6     Blacksmith Scene #1     US       \\N  alternative   \n",
       "\n",
       "              attributes isOriginalTitle  \n",
       "0                     \\N               0  \n",
       "1  literal English title               0  \n",
       "2                     \\N               0  \n",
       "3                     \\N               0  \n",
       "4                     \\N               0  "
      ]
     },
     "execution_count": 2,
     "metadata": {},
     "output_type": "execute_result"
    }
   ],
   "source": [
    "df_akas=pd.read_csv('data/title-akas-us-only.csv', dtype={'isOriginalTitle': 'object'})\n",
    "df_akas.head()"
   ]
  },
  {
   "cell_type": "code",
   "execution_count": 3,
   "id": "9e6f3ad6-ad49-448b-9b7e-0795a830b861",
   "metadata": {
    "scrolled": true
   },
   "outputs": [
    {
     "name": "stdout",
     "output_type": "stream",
     "text": [
      "<class 'pandas.core.frame.DataFrame'>\n",
      "RangeIndex: 1452564 entries, 0 to 1452563\n",
      "Data columns (total 8 columns):\n",
      " #   Column           Non-Null Count    Dtype \n",
      "---  ------           --------------    ----- \n",
      " 0   titleId          1452564 non-null  object\n",
      " 1   ordering         1452564 non-null  int64 \n",
      " 2   title            1452564 non-null  object\n",
      " 3   region           1452564 non-null  object\n",
      " 4   language         1452564 non-null  object\n",
      " 5   types            1452564 non-null  object\n",
      " 6   attributes       1452564 non-null  object\n",
      " 7   isOriginalTitle  1452564 non-null  object\n",
      "dtypes: int64(1), object(7)\n",
      "memory usage: 88.7+ MB\n"
     ]
    }
   ],
   "source": [
    "df_akas.info()"
   ]
  },
  {
   "cell_type": "markdown",
   "id": "ed6539cc-58dc-4e3a-ab20-cdd71927303f",
   "metadata": {},
   "source": [
    "#Load and filter title_basics file"
   ]
  },
  {
   "cell_type": "code",
   "execution_count": 4,
   "id": "bdbb20b7-0711-4dda-981c-57bf42c3f80d",
   "metadata": {},
   "outputs": [
    {
     "data": {
      "text/html": [
       "<div>\n",
       "<style scoped>\n",
       "    .dataframe tbody tr th:only-of-type {\n",
       "        vertical-align: middle;\n",
       "    }\n",
       "\n",
       "    .dataframe tbody tr th {\n",
       "        vertical-align: top;\n",
       "    }\n",
       "\n",
       "    .dataframe thead th {\n",
       "        text-align: right;\n",
       "    }\n",
       "</style>\n",
       "<table border=\"1\" class=\"dataframe\">\n",
       "  <thead>\n",
       "    <tr style=\"text-align: right;\">\n",
       "      <th></th>\n",
       "      <th>tconst</th>\n",
       "      <th>titleType</th>\n",
       "      <th>primaryTitle</th>\n",
       "      <th>originalTitle</th>\n",
       "      <th>isAdult</th>\n",
       "      <th>startYear</th>\n",
       "      <th>endYear</th>\n",
       "      <th>runtimeMinutes</th>\n",
       "      <th>genres</th>\n",
       "    </tr>\n",
       "  </thead>\n",
       "  <tbody>\n",
       "    <tr>\n",
       "      <th>0</th>\n",
       "      <td>tt0000001</td>\n",
       "      <td>short</td>\n",
       "      <td>Carmencita</td>\n",
       "      <td>Carmencita</td>\n",
       "      <td>0</td>\n",
       "      <td>1894</td>\n",
       "      <td>\\N</td>\n",
       "      <td>1</td>\n",
       "      <td>Documentary,Short</td>\n",
       "    </tr>\n",
       "    <tr>\n",
       "      <th>1</th>\n",
       "      <td>tt0000002</td>\n",
       "      <td>short</td>\n",
       "      <td>Le clown et ses chiens</td>\n",
       "      <td>Le clown et ses chiens</td>\n",
       "      <td>0</td>\n",
       "      <td>1892</td>\n",
       "      <td>\\N</td>\n",
       "      <td>5</td>\n",
       "      <td>Animation,Short</td>\n",
       "    </tr>\n",
       "    <tr>\n",
       "      <th>2</th>\n",
       "      <td>tt0000003</td>\n",
       "      <td>short</td>\n",
       "      <td>Pauvre Pierrot</td>\n",
       "      <td>Pauvre Pierrot</td>\n",
       "      <td>0</td>\n",
       "      <td>1892</td>\n",
       "      <td>\\N</td>\n",
       "      <td>4</td>\n",
       "      <td>Animation,Comedy,Romance</td>\n",
       "    </tr>\n",
       "    <tr>\n",
       "      <th>3</th>\n",
       "      <td>tt0000004</td>\n",
       "      <td>short</td>\n",
       "      <td>Un bon bock</td>\n",
       "      <td>Un bon bock</td>\n",
       "      <td>0</td>\n",
       "      <td>1892</td>\n",
       "      <td>\\N</td>\n",
       "      <td>12</td>\n",
       "      <td>Animation,Short</td>\n",
       "    </tr>\n",
       "    <tr>\n",
       "      <th>4</th>\n",
       "      <td>tt0000005</td>\n",
       "      <td>short</td>\n",
       "      <td>Blacksmith Scene</td>\n",
       "      <td>Blacksmith Scene</td>\n",
       "      <td>0</td>\n",
       "      <td>1893</td>\n",
       "      <td>\\N</td>\n",
       "      <td>1</td>\n",
       "      <td>Comedy,Short</td>\n",
       "    </tr>\n",
       "  </tbody>\n",
       "</table>\n",
       "</div>"
      ],
      "text/plain": [
       "      tconst titleType            primaryTitle           originalTitle  \\\n",
       "0  tt0000001     short              Carmencita              Carmencita   \n",
       "1  tt0000002     short  Le clown et ses chiens  Le clown et ses chiens   \n",
       "2  tt0000003     short          Pauvre Pierrot          Pauvre Pierrot   \n",
       "3  tt0000004     short             Un bon bock             Un bon bock   \n",
       "4  tt0000005     short        Blacksmith Scene        Blacksmith Scene   \n",
       "\n",
       "  isAdult startYear endYear runtimeMinutes                    genres  \n",
       "0       0      1894      \\N              1         Documentary,Short  \n",
       "1       0      1892      \\N              5           Animation,Short  \n",
       "2       0      1892      \\N              4  Animation,Comedy,Romance  \n",
       "3       0      1892      \\N             12           Animation,Short  \n",
       "4       0      1893      \\N              1              Comedy,Short  "
      ]
     },
     "execution_count": 4,
     "metadata": {},
     "output_type": "execute_result"
    }
   ],
   "source": [
    "df_basics=pd.read_csv('data/title.basics.tsv', sep='\\t', dtype={'isAdult': 'object'})\n",
    "df_basics.head()"
   ]
  },
  {
   "cell_type": "code",
   "execution_count": 5,
   "id": "567b3e8c-896e-4184-b95b-17925939f83d",
   "metadata": {
    "scrolled": true
   },
   "outputs": [
    {
     "name": "stdout",
     "output_type": "stream",
     "text": [
      "<class 'pandas.core.frame.DataFrame'>\n",
      "RangeIndex: 10246265 entries, 0 to 10246264\n",
      "Data columns (total 9 columns):\n",
      " #   Column          Dtype \n",
      "---  ------          ----- \n",
      " 0   tconst          object\n",
      " 1   titleType       object\n",
      " 2   primaryTitle    object\n",
      " 3   originalTitle   object\n",
      " 4   isAdult         object\n",
      " 5   startYear       object\n",
      " 6   endYear         object\n",
      " 7   runtimeMinutes  object\n",
      " 8   genres          object\n",
      "dtypes: object(9)\n",
      "memory usage: 703.6+ MB\n"
     ]
    }
   ],
   "source": [
    "df_basics.info()"
   ]
  },
  {
   "cell_type": "code",
   "execution_count": 6,
   "id": "ce34b158-37aa-468a-8c51-3393f4db2e6d",
   "metadata": {},
   "outputs": [
    {
     "data": {
      "text/html": [
       "<div>\n",
       "<style scoped>\n",
       "    .dataframe tbody tr th:only-of-type {\n",
       "        vertical-align: middle;\n",
       "    }\n",
       "\n",
       "    .dataframe tbody tr th {\n",
       "        vertical-align: top;\n",
       "    }\n",
       "\n",
       "    .dataframe thead th {\n",
       "        text-align: right;\n",
       "    }\n",
       "</style>\n",
       "<table border=\"1\" class=\"dataframe\">\n",
       "  <thead>\n",
       "    <tr style=\"text-align: right;\">\n",
       "      <th></th>\n",
       "      <th>tconst</th>\n",
       "      <th>titleType</th>\n",
       "      <th>primaryTitle</th>\n",
       "      <th>originalTitle</th>\n",
       "      <th>isAdult</th>\n",
       "      <th>startYear</th>\n",
       "      <th>endYear</th>\n",
       "      <th>runtimeMinutes</th>\n",
       "      <th>genres</th>\n",
       "    </tr>\n",
       "  </thead>\n",
       "  <tbody>\n",
       "    <tr>\n",
       "      <th>0</th>\n",
       "      <td>tt0000001</td>\n",
       "      <td>short</td>\n",
       "      <td>Carmencita</td>\n",
       "      <td>Carmencita</td>\n",
       "      <td>0</td>\n",
       "      <td>1894</td>\n",
       "      <td>\\N</td>\n",
       "      <td>1</td>\n",
       "      <td>Documentary,Short</td>\n",
       "    </tr>\n",
       "    <tr>\n",
       "      <th>1</th>\n",
       "      <td>tt0000002</td>\n",
       "      <td>short</td>\n",
       "      <td>Le clown et ses chiens</td>\n",
       "      <td>Le clown et ses chiens</td>\n",
       "      <td>0</td>\n",
       "      <td>1892</td>\n",
       "      <td>\\N</td>\n",
       "      <td>5</td>\n",
       "      <td>Animation,Short</td>\n",
       "    </tr>\n",
       "    <tr>\n",
       "      <th>4</th>\n",
       "      <td>tt0000005</td>\n",
       "      <td>short</td>\n",
       "      <td>Blacksmith Scene</td>\n",
       "      <td>Blacksmith Scene</td>\n",
       "      <td>0</td>\n",
       "      <td>1893</td>\n",
       "      <td>\\N</td>\n",
       "      <td>1</td>\n",
       "      <td>Comedy,Short</td>\n",
       "    </tr>\n",
       "    <tr>\n",
       "      <th>5</th>\n",
       "      <td>tt0000006</td>\n",
       "      <td>short</td>\n",
       "      <td>Chinese Opium Den</td>\n",
       "      <td>Chinese Opium Den</td>\n",
       "      <td>0</td>\n",
       "      <td>1894</td>\n",
       "      <td>\\N</td>\n",
       "      <td>1</td>\n",
       "      <td>Short</td>\n",
       "    </tr>\n",
       "    <tr>\n",
       "      <th>6</th>\n",
       "      <td>tt0000007</td>\n",
       "      <td>short</td>\n",
       "      <td>Corbett and Courtney Before the Kinetograph</td>\n",
       "      <td>Corbett and Courtney Before the Kinetograph</td>\n",
       "      <td>0</td>\n",
       "      <td>1894</td>\n",
       "      <td>\\N</td>\n",
       "      <td>1</td>\n",
       "      <td>Short,Sport</td>\n",
       "    </tr>\n",
       "    <tr>\n",
       "      <th>...</th>\n",
       "      <td>...</td>\n",
       "      <td>...</td>\n",
       "      <td>...</td>\n",
       "      <td>...</td>\n",
       "      <td>...</td>\n",
       "      <td>...</td>\n",
       "      <td>...</td>\n",
       "      <td>...</td>\n",
       "      <td>...</td>\n",
       "    </tr>\n",
       "    <tr>\n",
       "      <th>10246126</th>\n",
       "      <td>tt9916560</td>\n",
       "      <td>tvMovie</td>\n",
       "      <td>March of Dimes Presents: Once Upon a Dime</td>\n",
       "      <td>March of Dimes Presents: Once Upon a Dime</td>\n",
       "      <td>0</td>\n",
       "      <td>1963</td>\n",
       "      <td>\\N</td>\n",
       "      <td>58</td>\n",
       "      <td>Family</td>\n",
       "    </tr>\n",
       "    <tr>\n",
       "      <th>10246155</th>\n",
       "      <td>tt9916620</td>\n",
       "      <td>movie</td>\n",
       "      <td>The Copeland Case</td>\n",
       "      <td>The Copeland Case</td>\n",
       "      <td>0</td>\n",
       "      <td>\\N</td>\n",
       "      <td>\\N</td>\n",
       "      <td>\\N</td>\n",
       "      <td>Drama</td>\n",
       "    </tr>\n",
       "    <tr>\n",
       "      <th>10246193</th>\n",
       "      <td>tt9916702</td>\n",
       "      <td>short</td>\n",
       "      <td>Loving London: The Playground</td>\n",
       "      <td>Loving London: The Playground</td>\n",
       "      <td>0</td>\n",
       "      <td>\\N</td>\n",
       "      <td>\\N</td>\n",
       "      <td>\\N</td>\n",
       "      <td>Drama,Short</td>\n",
       "    </tr>\n",
       "    <tr>\n",
       "      <th>10246216</th>\n",
       "      <td>tt9916756</td>\n",
       "      <td>short</td>\n",
       "      <td>Pretty Pretty Black Girl</td>\n",
       "      <td>Pretty Pretty Black Girl</td>\n",
       "      <td>0</td>\n",
       "      <td>2019</td>\n",
       "      <td>\\N</td>\n",
       "      <td>\\N</td>\n",
       "      <td>Short</td>\n",
       "    </tr>\n",
       "    <tr>\n",
       "      <th>10246220</th>\n",
       "      <td>tt9916764</td>\n",
       "      <td>short</td>\n",
       "      <td>38</td>\n",
       "      <td>38</td>\n",
       "      <td>0</td>\n",
       "      <td>2018</td>\n",
       "      <td>\\N</td>\n",
       "      <td>\\N</td>\n",
       "      <td>Short</td>\n",
       "    </tr>\n",
       "  </tbody>\n",
       "</table>\n",
       "<p>1364655 rows × 9 columns</p>\n",
       "</div>"
      ],
      "text/plain": [
       "             tconst titleType                                 primaryTitle  \\\n",
       "0         tt0000001     short                                   Carmencita   \n",
       "1         tt0000002     short                       Le clown et ses chiens   \n",
       "4         tt0000005     short                             Blacksmith Scene   \n",
       "5         tt0000006     short                            Chinese Opium Den   \n",
       "6         tt0000007     short  Corbett and Courtney Before the Kinetograph   \n",
       "...             ...       ...                                          ...   \n",
       "10246126  tt9916560   tvMovie    March of Dimes Presents: Once Upon a Dime   \n",
       "10246155  tt9916620     movie                            The Copeland Case   \n",
       "10246193  tt9916702     short                Loving London: The Playground   \n",
       "10246216  tt9916756     short                     Pretty Pretty Black Girl   \n",
       "10246220  tt9916764     short                                           38   \n",
       "\n",
       "                                        originalTitle isAdult startYear  \\\n",
       "0                                          Carmencita       0      1894   \n",
       "1                              Le clown et ses chiens       0      1892   \n",
       "4                                    Blacksmith Scene       0      1893   \n",
       "5                                   Chinese Opium Den       0      1894   \n",
       "6         Corbett and Courtney Before the Kinetograph       0      1894   \n",
       "...                                               ...     ...       ...   \n",
       "10246126    March of Dimes Presents: Once Upon a Dime       0      1963   \n",
       "10246155                            The Copeland Case       0        \\N   \n",
       "10246193                Loving London: The Playground       0        \\N   \n",
       "10246216                     Pretty Pretty Black Girl       0      2019   \n",
       "10246220                                           38       0      2018   \n",
       "\n",
       "         endYear runtimeMinutes             genres  \n",
       "0             \\N              1  Documentary,Short  \n",
       "1             \\N              5    Animation,Short  \n",
       "4             \\N              1       Comedy,Short  \n",
       "5             \\N              1              Short  \n",
       "6             \\N              1        Short,Sport  \n",
       "...          ...            ...                ...  \n",
       "10246126      \\N             58             Family  \n",
       "10246155      \\N             \\N              Drama  \n",
       "10246193      \\N             \\N        Drama,Short  \n",
       "10246216      \\N             \\N              Short  \n",
       "10246220      \\N             \\N              Short  \n",
       "\n",
       "[1364655 rows x 9 columns]"
      ]
     },
     "execution_count": 6,
     "metadata": {},
     "output_type": "execute_result"
    }
   ],
   "source": [
    "\n",
    "# Filter the basics table  to include only the US movies\n",
    "us_titles =df_basics['tconst'].isin(df_akas['titleId'])\n",
    "df_basics = df_basics[us_titles]\n",
    "df_basics\n",
    "\n"
   ]
  },
  {
   "cell_type": "code",
   "execution_count": 7,
   "id": "67066aea-141c-42ea-935c-0fad6c18d7ad",
   "metadata": {},
   "outputs": [],
   "source": [
    "#Replace \\N with null values\n",
    "df_basics = df_basics.replace({'\\\\N':np.nan})"
   ]
  },
  {
   "cell_type": "code",
   "execution_count": 8,
   "id": "82756c7c-b923-42f9-89c7-20c30cf45d1b",
   "metadata": {},
   "outputs": [
    {
     "data": {
      "text/plain": [
       "tconst                  0\n",
       "titleType               0\n",
       "primaryTitle            0\n",
       "originalTitle           0\n",
       "isAdult                 0\n",
       "startYear           96598\n",
       "endYear           1326748\n",
       "runtimeMinutes     500496\n",
       "genres              28300\n",
       "dtype: int64"
      ]
     },
     "execution_count": 8,
     "metadata": {},
     "output_type": "execute_result"
    }
   ],
   "source": [
    "df_basics.isna().sum()"
   ]
  },
  {
   "cell_type": "code",
   "execution_count": 8,
   "id": "8c3ff60c-3bcb-42ff-a188-6493469d52b5",
   "metadata": {},
   "outputs": [
    {
     "data": {
      "text/plain": [
       "tconst                  0\n",
       "titleType               0\n",
       "primaryTitle            0\n",
       "originalTitle           0\n",
       "isAdult                 0\n",
       "startYear           96598\n",
       "endYear           1326748\n",
       "runtimeMinutes     500496\n",
       "genres              28300\n",
       "dtype: int64"
      ]
     },
     "execution_count": 8,
     "metadata": {},
     "output_type": "execute_result"
    }
   ],
   "source": [
    "df_basics.isna().sum()"
   ]
  },
  {
   "cell_type": "code",
   "execution_count": 9,
   "id": "6cd016f5-123b-4569-8cbe-934af82e3199",
   "metadata": {},
   "outputs": [
    {
     "name": "stdout",
     "output_type": "stream",
     "text": [
      "<class 'pandas.core.frame.DataFrame'>\n",
      "Int64Index: 846555 entries, 0 to 10246126\n",
      "Data columns (total 9 columns):\n",
      " #   Column          Non-Null Count   Dtype \n",
      "---  ------          --------------   ----- \n",
      " 0   tconst          846555 non-null  object\n",
      " 1   titleType       846555 non-null  object\n",
      " 2   primaryTitle    846555 non-null  object\n",
      " 3   originalTitle   846555 non-null  object\n",
      " 4   isAdult         846555 non-null  object\n",
      " 5   startYear       846555 non-null  object\n",
      " 6   endYear         20792 non-null   object\n",
      " 7   runtimeMinutes  846555 non-null  object\n",
      " 8   genres          846555 non-null  object\n",
      "dtypes: object(9)\n",
      "memory usage: 64.6+ MB\n"
     ]
    }
   ],
   "source": [
    "#Drop rows that have null in runtimeMinutes\n",
    "df_basics=df_basics.dropna(subset= ['runtimeMinutes', 'genres','startYear'])\n",
    "df_basics.info()"
   ]
  },
  {
   "cell_type": "code",
   "execution_count": 10,
   "id": "a0c8db95-ed0f-415f-af2a-ecdf1b16affa",
   "metadata": {},
   "outputs": [
    {
     "data": {
      "text/plain": [
       "short           275098\n",
       "movie           200637\n",
       "tvEpisode       173613\n",
       "video           115513\n",
       "tvSeries         36424\n",
       "tvMovie          25749\n",
       "tvSpecial         9317\n",
       "tvMiniSeries      5962\n",
       "tvShort           4045\n",
       "videoGame          197\n",
       "Name: titleType, dtype: int64"
      ]
     },
     "execution_count": 10,
     "metadata": {},
     "output_type": "execute_result"
    }
   ],
   "source": [
    "#Look at value_counts to see types of values\n",
    "df_basics['titleType'].value_counts()"
   ]
  },
  {
   "cell_type": "code",
   "execution_count": 11,
   "id": "71e1e36c-d801-4541-91df-61f5613b5999",
   "metadata": {},
   "outputs": [
    {
     "data": {
      "text/plain": [
       "movie    200637\n",
       "Name: titleType, dtype: int64"
      ]
     },
     "execution_count": 11,
     "metadata": {},
     "output_type": "execute_result"
    }
   ],
   "source": [
    "#Select only rows that are movies\n",
    "df_basics=df_basics.loc[df_basics['titleType']=='movie']\n",
    "df_basics['titleType'].value_counts()"
   ]
  },
  {
   "cell_type": "code",
   "execution_count": 12,
   "id": "1f762b1f-acac-4c75-9a35-5e98437261b2",
   "metadata": {},
   "outputs": [
    {
     "data": {
      "text/plain": [
       "dtype('O')"
      ]
     },
     "execution_count": 12,
     "metadata": {},
     "output_type": "execute_result"
    }
   ],
   "source": [
    "#Change startYear to float\n",
    "df_basics['startYear'].dtype"
   ]
  },
  {
   "cell_type": "code",
   "execution_count": 13,
   "id": "58512d66-f84f-4556-93eb-a1b62e8ff054",
   "metadata": {},
   "outputs": [
    {
     "data": {
      "text/plain": [
       "2019    8101\n",
       "2018    7864\n",
       "2017    7811\n",
       "2016    7409\n",
       "2015    7233\n",
       "        ... \n",
       "1906       2\n",
       "1899       1\n",
       "1904       1\n",
       "1897       1\n",
       "1894       1\n",
       "Name: startYear, Length: 128, dtype: int64"
      ]
     },
     "execution_count": 13,
     "metadata": {},
     "output_type": "execute_result"
    }
   ],
   "source": [
    "df_basics['startYear'].value_counts()"
   ]
  },
  {
   "cell_type": "code",
   "execution_count": 14,
   "id": "d00cc2c8-b435-472f-9507-22d7821fdf17",
   "metadata": {},
   "outputs": [],
   "source": [
    "#There don't appear to be any string elements\n",
    "df_basics['startYear']=df_basics['startYear'].astype(float)\n"
   ]
  },
  {
   "cell_type": "code",
   "execution_count": 15,
   "id": "f4fc53c9-17c8-435c-bd22-afb5ae952c2c",
   "metadata": {},
   "outputs": [
    {
     "name": "stdout",
     "output_type": "stream",
     "text": [
      "<class 'pandas.core.frame.DataFrame'>\n",
      "Int64Index: 200637 entries, 8 to 10246031\n",
      "Data columns (total 9 columns):\n",
      " #   Column          Non-Null Count   Dtype  \n",
      "---  ------          --------------   -----  \n",
      " 0   tconst          200637 non-null  object \n",
      " 1   titleType       200637 non-null  object \n",
      " 2   primaryTitle    200637 non-null  object \n",
      " 3   originalTitle   200637 non-null  object \n",
      " 4   isAdult         200637 non-null  object \n",
      " 5   startYear       200637 non-null  float64\n",
      " 6   endYear         0 non-null       object \n",
      " 7   runtimeMinutes  200637 non-null  object \n",
      " 8   genres          200637 non-null  object \n",
      "dtypes: float64(1), object(8)\n",
      "memory usage: 15.3+ MB\n"
     ]
    }
   ],
   "source": [
    "df_basics.info()"
   ]
  },
  {
   "cell_type": "code",
   "execution_count": 16,
   "id": "2ecc11d3-252a-425c-8c62-4ef68614e329",
   "metadata": {},
   "outputs": [],
   "source": [
    "#Filter only movies made between 2000 and 2022\n",
    "df_basics_2000=df_basics[(df_basics['startYear']>=2000) &(df_basics['startYear']<=2022)]\n"
   ]
  },
  {
   "cell_type": "code",
   "execution_count": 18,
   "id": "de595e28-d3dc-4215-b4e0-f110c83b1e66",
   "metadata": {},
   "outputs": [
    {
     "data": {
      "text/plain": [
       "2019.0    8101\n",
       "2018.0    7864\n",
       "2017.0    7811\n",
       "2016.0    7409\n",
       "2015.0    7233\n",
       "2014.0    7170\n",
       "2020.0    7031\n",
       "2013.0    6947\n",
       "2021.0    6926\n",
       "2022.0    6692\n",
       "2012.0    6594\n",
       "2011.0    6122\n",
       "2010.0    5585\n",
       "2009.0    5086\n",
       "2008.0    4244\n",
       "2007.0    3608\n",
       "2006.0    3341\n",
       "2005.0    2924\n",
       "2004.0    2535\n",
       "2003.0    2192\n",
       "2002.0    2004\n",
       "2001.0    1932\n",
       "2000.0    1788\n",
       "Name: startYear, dtype: int64"
      ]
     },
     "execution_count": 18,
     "metadata": {},
     "output_type": "execute_result"
    }
   ],
   "source": [
    "df_basics_2000['startYear'].value_counts()"
   ]
  },
  {
   "cell_type": "code",
   "execution_count": 20,
   "id": "74487373-48f8-4f5e-9ba5-8f19c696e583",
   "metadata": {},
   "outputs": [],
   "source": [
    "#Exclude movies that are documentaries\n",
    "filter_docs=df_basics_2000['genres'].str.contains('Documentary')"
   ]
  },
  {
   "cell_type": "code",
   "execution_count": 21,
   "id": "229c5e7c-9d58-4bef-bdc6-e9aa0b627ebf",
   "metadata": {},
   "outputs": [],
   "source": [
    "df_basics_2000= df_basics_2000[~filter_docs]"
   ]
  },
  {
   "cell_type": "code",
   "execution_count": 24,
   "id": "d9610c72-e5bd-4553-86d4-e5c88e6a6f8a",
   "metadata": {
    "scrolled": true
   },
   "outputs": [
    {
     "name": "stdout",
     "output_type": "stream",
     "text": [
      "<class 'pandas.core.frame.DataFrame'>\n",
      "Int64Index: 86972 entries, 34800 to 10246031\n",
      "Data columns (total 9 columns):\n",
      " #   Column          Non-Null Count  Dtype  \n",
      "---  ------          --------------  -----  \n",
      " 0   tconst          86972 non-null  object \n",
      " 1   titleType       86972 non-null  object \n",
      " 2   primaryTitle    86972 non-null  object \n",
      " 3   originalTitle   86972 non-null  object \n",
      " 4   isAdult         86972 non-null  object \n",
      " 5   startYear       86972 non-null  float64\n",
      " 6   endYear         0 non-null      object \n",
      " 7   runtimeMinutes  86972 non-null  object \n",
      " 8   genres          86972 non-null  object \n",
      "dtypes: float64(1), object(8)\n",
      "memory usage: 6.6+ MB\n"
     ]
    }
   ],
   "source": [
    "df_basics_2000.info()"
   ]
  },
  {
   "cell_type": "code",
   "execution_count": 25,
   "id": "c54f2cfe-45aa-43e3-81c6-c73ffb9d2378",
   "metadata": {},
   "outputs": [
    {
     "data": {
      "text/html": [
       "<div>\n",
       "<style scoped>\n",
       "    .dataframe tbody tr th:only-of-type {\n",
       "        vertical-align: middle;\n",
       "    }\n",
       "\n",
       "    .dataframe tbody tr th {\n",
       "        vertical-align: top;\n",
       "    }\n",
       "\n",
       "    .dataframe thead th {\n",
       "        text-align: right;\n",
       "    }\n",
       "</style>\n",
       "<table border=\"1\" class=\"dataframe\">\n",
       "  <thead>\n",
       "    <tr style=\"text-align: right;\">\n",
       "      <th></th>\n",
       "      <th>tconst</th>\n",
       "      <th>titleType</th>\n",
       "      <th>primaryTitle</th>\n",
       "      <th>originalTitle</th>\n",
       "      <th>isAdult</th>\n",
       "      <th>startYear</th>\n",
       "      <th>endYear</th>\n",
       "      <th>runtimeMinutes</th>\n",
       "      <th>genres</th>\n",
       "    </tr>\n",
       "  </thead>\n",
       "  <tbody>\n",
       "    <tr>\n",
       "      <th>34800</th>\n",
       "      <td>tt0035423</td>\n",
       "      <td>movie</td>\n",
       "      <td>Kate &amp; Leopold</td>\n",
       "      <td>Kate &amp; Leopold</td>\n",
       "      <td>0</td>\n",
       "      <td>2001.0</td>\n",
       "      <td>NaN</td>\n",
       "      <td>118</td>\n",
       "      <td>Comedy,Fantasy,Romance</td>\n",
       "    </tr>\n",
       "    <tr>\n",
       "      <th>61111</th>\n",
       "      <td>tt0062336</td>\n",
       "      <td>movie</td>\n",
       "      <td>The Tango of the Widower and Its Distorting Mi...</td>\n",
       "      <td>El tango del viudo y su espejo deformante</td>\n",
       "      <td>0</td>\n",
       "      <td>2020.0</td>\n",
       "      <td>NaN</td>\n",
       "      <td>70</td>\n",
       "      <td>Drama</td>\n",
       "    </tr>\n",
       "    <tr>\n",
       "      <th>67485</th>\n",
       "      <td>tt0068865</td>\n",
       "      <td>movie</td>\n",
       "      <td>Lives of Performers</td>\n",
       "      <td>Lives of Performers</td>\n",
       "      <td>0</td>\n",
       "      <td>2016.0</td>\n",
       "      <td>NaN</td>\n",
       "      <td>90</td>\n",
       "      <td>Drama</td>\n",
       "    </tr>\n",
       "    <tr>\n",
       "      <th>67663</th>\n",
       "      <td>tt0069049</td>\n",
       "      <td>movie</td>\n",
       "      <td>The Other Side of the Wind</td>\n",
       "      <td>The Other Side of the Wind</td>\n",
       "      <td>0</td>\n",
       "      <td>2018.0</td>\n",
       "      <td>NaN</td>\n",
       "      <td>122</td>\n",
       "      <td>Drama</td>\n",
       "    </tr>\n",
       "    <tr>\n",
       "      <th>86790</th>\n",
       "      <td>tt0088751</td>\n",
       "      <td>movie</td>\n",
       "      <td>The Naked Monster</td>\n",
       "      <td>The Naked Monster</td>\n",
       "      <td>0</td>\n",
       "      <td>2005.0</td>\n",
       "      <td>NaN</td>\n",
       "      <td>100</td>\n",
       "      <td>Comedy,Horror,Sci-Fi</td>\n",
       "    </tr>\n",
       "  </tbody>\n",
       "</table>\n",
       "</div>"
      ],
      "text/plain": [
       "          tconst titleType                                       primaryTitle  \\\n",
       "34800  tt0035423     movie                                     Kate & Leopold   \n",
       "61111  tt0062336     movie  The Tango of the Widower and Its Distorting Mi...   \n",
       "67485  tt0068865     movie                                Lives of Performers   \n",
       "67663  tt0069049     movie                         The Other Side of the Wind   \n",
       "86790  tt0088751     movie                                  The Naked Monster   \n",
       "\n",
       "                                   originalTitle isAdult  startYear endYear  \\\n",
       "34800                             Kate & Leopold       0     2001.0     NaN   \n",
       "61111  El tango del viudo y su espejo deformante       0     2020.0     NaN   \n",
       "67485                        Lives of Performers       0     2016.0     NaN   \n",
       "67663                 The Other Side of the Wind       0     2018.0     NaN   \n",
       "86790                          The Naked Monster       0     2005.0     NaN   \n",
       "\n",
       "      runtimeMinutes                  genres  \n",
       "34800            118  Comedy,Fantasy,Romance  \n",
       "61111             70                   Drama  \n",
       "67485             90                   Drama  \n",
       "67663            122                   Drama  \n",
       "86790            100    Comedy,Horror,Sci-Fi  "
      ]
     },
     "execution_count": 25,
     "metadata": {},
     "output_type": "execute_result"
    }
   ],
   "source": [
    "df_basics_2000.head()"
   ]
  },
  {
   "cell_type": "code",
   "execution_count": 26,
   "id": "da00f743-1241-42db-b5e2-36c807f8b97b",
   "metadata": {},
   "outputs": [],
   "source": [
    "#Save the filtered data to CSV in data folder\n",
    "\n",
    "df_out=('data/movies-filtered.csv')\n",
    "df_basics_2000.to_csv(df_out, index=True)"
   ]
  },
  {
   "cell_type": "markdown",
   "id": "b1a452d9-c1f7-4ebe-97f8-3a8c3854d624",
   "metadata": {},
   "source": [
    "#Load and filter title_ratings"
   ]
  },
  {
   "cell_type": "code",
   "execution_count": 27,
   "id": "31b8a070-1373-497c-8350-78962d443546",
   "metadata": {},
   "outputs": [
    {
     "data": {
      "text/html": [
       "<div>\n",
       "<style scoped>\n",
       "    .dataframe tbody tr th:only-of-type {\n",
       "        vertical-align: middle;\n",
       "    }\n",
       "\n",
       "    .dataframe tbody tr th {\n",
       "        vertical-align: top;\n",
       "    }\n",
       "\n",
       "    .dataframe thead th {\n",
       "        text-align: right;\n",
       "    }\n",
       "</style>\n",
       "<table border=\"1\" class=\"dataframe\">\n",
       "  <thead>\n",
       "    <tr style=\"text-align: right;\">\n",
       "      <th></th>\n",
       "      <th>tconst</th>\n",
       "      <th>averageRating</th>\n",
       "      <th>numVotes</th>\n",
       "    </tr>\n",
       "  </thead>\n",
       "  <tbody>\n",
       "    <tr>\n",
       "      <th>0</th>\n",
       "      <td>tt0000001</td>\n",
       "      <td>5.7</td>\n",
       "      <td>1988</td>\n",
       "    </tr>\n",
       "    <tr>\n",
       "      <th>1</th>\n",
       "      <td>tt0000002</td>\n",
       "      <td>5.8</td>\n",
       "      <td>265</td>\n",
       "    </tr>\n",
       "    <tr>\n",
       "      <th>2</th>\n",
       "      <td>tt0000003</td>\n",
       "      <td>6.5</td>\n",
       "      <td>1849</td>\n",
       "    </tr>\n",
       "    <tr>\n",
       "      <th>3</th>\n",
       "      <td>tt0000004</td>\n",
       "      <td>5.5</td>\n",
       "      <td>178</td>\n",
       "    </tr>\n",
       "    <tr>\n",
       "      <th>4</th>\n",
       "      <td>tt0000005</td>\n",
       "      <td>6.2</td>\n",
       "      <td>2632</td>\n",
       "    </tr>\n",
       "  </tbody>\n",
       "</table>\n",
       "</div>"
      ],
      "text/plain": [
       "      tconst  averageRating  numVotes\n",
       "0  tt0000001            5.7      1988\n",
       "1  tt0000002            5.8       265\n",
       "2  tt0000003            6.5      1849\n",
       "3  tt0000004            5.5       178\n",
       "4  tt0000005            6.2      2632"
      ]
     },
     "execution_count": 27,
     "metadata": {},
     "output_type": "execute_result"
    }
   ],
   "source": [
    "df_ratings=pd.read_csv('data/title.ratings.tsv', sep='\\t')\n",
    "df_ratings.head()"
   ]
  },
  {
   "cell_type": "code",
   "execution_count": 28,
   "id": "d317dd52-ef93-4df7-bcf3-c8bda9e9db94",
   "metadata": {},
   "outputs": [
    {
     "name": "stdout",
     "output_type": "stream",
     "text": [
      "<class 'pandas.core.frame.DataFrame'>\n",
      "RangeIndex: 1331492 entries, 0 to 1331491\n",
      "Data columns (total 3 columns):\n",
      " #   Column         Non-Null Count    Dtype  \n",
      "---  ------         --------------    -----  \n",
      " 0   tconst         1331492 non-null  object \n",
      " 1   averageRating  1331492 non-null  float64\n",
      " 2   numVotes       1331492 non-null  int64  \n",
      "dtypes: float64(1), int64(1), object(1)\n",
      "memory usage: 30.5+ MB\n"
     ]
    }
   ],
   "source": [
    "df_ratings.info()"
   ]
  },
  {
   "cell_type": "code",
   "execution_count": 29,
   "id": "e234e46a-7863-4754-8feb-ff5210e654cf",
   "metadata": {},
   "outputs": [
    {
     "data": {
      "text/html": [
       "<div>\n",
       "<style scoped>\n",
       "    .dataframe tbody tr th:only-of-type {\n",
       "        vertical-align: middle;\n",
       "    }\n",
       "\n",
       "    .dataframe tbody tr th {\n",
       "        vertical-align: top;\n",
       "    }\n",
       "\n",
       "    .dataframe thead th {\n",
       "        text-align: right;\n",
       "    }\n",
       "</style>\n",
       "<table border=\"1\" class=\"dataframe\">\n",
       "  <thead>\n",
       "    <tr style=\"text-align: right;\">\n",
       "      <th></th>\n",
       "      <th>tconst</th>\n",
       "      <th>averageRating</th>\n",
       "      <th>numVotes</th>\n",
       "    </tr>\n",
       "  </thead>\n",
       "  <tbody>\n",
       "    <tr>\n",
       "      <th>17961</th>\n",
       "      <td>tt0035423</td>\n",
       "      <td>6.4</td>\n",
       "      <td>87153</td>\n",
       "    </tr>\n",
       "    <tr>\n",
       "      <th>40764</th>\n",
       "      <td>tt0062336</td>\n",
       "      <td>6.4</td>\n",
       "      <td>175</td>\n",
       "    </tr>\n",
       "    <tr>\n",
       "      <th>46487</th>\n",
       "      <td>tt0068865</td>\n",
       "      <td>5.4</td>\n",
       "      <td>74</td>\n",
       "    </tr>\n",
       "    <tr>\n",
       "      <th>46645</th>\n",
       "      <td>tt0069049</td>\n",
       "      <td>6.7</td>\n",
       "      <td>7754</td>\n",
       "    </tr>\n",
       "    <tr>\n",
       "      <th>63640</th>\n",
       "      <td>tt0088751</td>\n",
       "      <td>5.2</td>\n",
       "      <td>336</td>\n",
       "    </tr>\n",
       "  </tbody>\n",
       "</table>\n",
       "</div>"
      ],
      "text/plain": [
       "          tconst  averageRating  numVotes\n",
       "17961  tt0035423            6.4     87153\n",
       "40764  tt0062336            6.4       175\n",
       "46487  tt0068865            5.4        74\n",
       "46645  tt0069049            6.7      7754\n",
       "63640  tt0088751            5.2       336"
      ]
     },
     "execution_count": 29,
     "metadata": {},
     "output_type": "execute_result"
    }
   ],
   "source": [
    "# Filter the ratings table  to include only the movies from the basics file\n",
    "filtered_titles =df_ratings['tconst'].isin(df_basics_2000['tconst'])\n",
    "df_ratings = df_ratings[filtered_titles]\n",
    "df_ratings.head()"
   ]
  },
  {
   "cell_type": "code",
   "execution_count": 30,
   "id": "170037c6-a552-4f1a-b859-2308abea006e",
   "metadata": {},
   "outputs": [],
   "source": [
    "#Replace \\N with nan\n",
    "df_ratings = df_ratings.replace({'\\\\N':np.nan})"
   ]
  },
  {
   "cell_type": "code",
   "execution_count": 31,
   "id": "cbd827b4-cb25-4eee-85b0-18edd66ec000",
   "metadata": {},
   "outputs": [
    {
     "data": {
      "text/plain": [
       "tconst           0\n",
       "averageRating    0\n",
       "numVotes         0\n",
       "dtype: int64"
      ]
     },
     "execution_count": 31,
     "metadata": {},
     "output_type": "execute_result"
    }
   ],
   "source": [
    "#check for null values\n",
    "df_ratings.isna().sum()"
   ]
  },
  {
   "cell_type": "code",
   "execution_count": 32,
   "id": "be404c92-a303-44c2-87a4-f7a269080c45",
   "metadata": {},
   "outputs": [
    {
     "data": {
      "text/html": [
       "<div>\n",
       "<style scoped>\n",
       "    .dataframe tbody tr th:only-of-type {\n",
       "        vertical-align: middle;\n",
       "    }\n",
       "\n",
       "    .dataframe tbody tr th {\n",
       "        vertical-align: top;\n",
       "    }\n",
       "\n",
       "    .dataframe thead th {\n",
       "        text-align: right;\n",
       "    }\n",
       "</style>\n",
       "<table border=\"1\" class=\"dataframe\">\n",
       "  <thead>\n",
       "    <tr style=\"text-align: right;\">\n",
       "      <th></th>\n",
       "      <th>tconst</th>\n",
       "      <th>averageRating</th>\n",
       "      <th>numVotes</th>\n",
       "    </tr>\n",
       "  </thead>\n",
       "  <tbody>\n",
       "    <tr>\n",
       "      <th>17961</th>\n",
       "      <td>tt0035423</td>\n",
       "      <td>6.4</td>\n",
       "      <td>87153</td>\n",
       "    </tr>\n",
       "    <tr>\n",
       "      <th>40764</th>\n",
       "      <td>tt0062336</td>\n",
       "      <td>6.4</td>\n",
       "      <td>175</td>\n",
       "    </tr>\n",
       "    <tr>\n",
       "      <th>46487</th>\n",
       "      <td>tt0068865</td>\n",
       "      <td>5.4</td>\n",
       "      <td>74</td>\n",
       "    </tr>\n",
       "    <tr>\n",
       "      <th>46645</th>\n",
       "      <td>tt0069049</td>\n",
       "      <td>6.7</td>\n",
       "      <td>7754</td>\n",
       "    </tr>\n",
       "    <tr>\n",
       "      <th>63640</th>\n",
       "      <td>tt0088751</td>\n",
       "      <td>5.2</td>\n",
       "      <td>336</td>\n",
       "    </tr>\n",
       "  </tbody>\n",
       "</table>\n",
       "</div>"
      ],
      "text/plain": [
       "          tconst  averageRating  numVotes\n",
       "17961  tt0035423            6.4     87153\n",
       "40764  tt0062336            6.4       175\n",
       "46487  tt0068865            5.4        74\n",
       "46645  tt0069049            6.7      7754\n",
       "63640  tt0088751            5.2       336"
      ]
     },
     "execution_count": 32,
     "metadata": {},
     "output_type": "execute_result"
    }
   ],
   "source": [
    "df_ratings.head()\n"
   ]
  },
  {
   "cell_type": "code",
   "execution_count": 33,
   "id": "05f56425-06d6-4d35-9ee9-c025cf7f0d7d",
   "metadata": {},
   "outputs": [
    {
     "name": "stdout",
     "output_type": "stream",
     "text": [
      "<class 'pandas.core.frame.DataFrame'>\n",
      "Int64Index: 71904 entries, 17961 to 1331462\n",
      "Data columns (total 3 columns):\n",
      " #   Column         Non-Null Count  Dtype  \n",
      "---  ------         --------------  -----  \n",
      " 0   tconst         71904 non-null  object \n",
      " 1   averageRating  71904 non-null  float64\n",
      " 2   numVotes       71904 non-null  int64  \n",
      "dtypes: float64(1), int64(1), object(1)\n",
      "memory usage: 2.2+ MB\n"
     ]
    }
   ],
   "source": [
    "df_ratings.info()"
   ]
  },
  {
   "cell_type": "code",
   "execution_count": 34,
   "id": "8489bd27-7707-402d-ad08-46fbe2a6e746",
   "metadata": {},
   "outputs": [],
   "source": [
    "#Save the filtered data to CSV in data folder\n",
    "\n",
    "fp_out=('data/ratings-filtered.csv')\n",
    "df_ratings.to_csv(fp_out, index=True)"
   ]
  },
  {
   "cell_type": "code",
   "execution_count": null,
   "id": "fb481dc7-0b5d-4411-aa33-fa2a4f6f417a",
   "metadata": {},
   "outputs": [],
   "source": []
  }
 ],
 "metadata": {
  "kernelspec": {
   "display_name": "Python (dojo-env)",
   "language": "python",
   "name": "dojo-env"
  },
  "language_info": {
   "codemirror_mode": {
    "name": "ipython",
    "version": 3
   },
   "file_extension": ".py",
   "mimetype": "text/x-python",
   "name": "python",
   "nbconvert_exporter": "python",
   "pygments_lexer": "ipython3",
   "version": "3.10.10"
  },
  "widgets": {
   "application/vnd.jupyter.widget-state+json": {
    "state": {},
    "version_major": 2,
    "version_minor": 0
   }
  }
 },
 "nbformat": 4,
 "nbformat_minor": 5
}
