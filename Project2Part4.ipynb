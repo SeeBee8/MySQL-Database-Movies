{
 "cells": [
  {
   "cell_type": "markdown",
   "id": "156eeb09-890c-467c-8599-99e644e8a6ce",
   "metadata": {},
   "source": [
    "# Project 2 Part 4\n",
    "**Apply Hypothesis Testing**\n",
    "\n",
    "\n",
    "*Christina Brockway*"
   ]
  },
  {
   "cell_type": "markdown",
   "id": "e3fad493-7a69-4858-836c-01af441969f8",
   "metadata": {},
   "source": [
    "## Business Problem\n",
    "\n",
    "- Need a MySQL database on Movies from a subset of IMDB's publicly available dataset.\n",
    "- Use this database to analyze what makes a movie successul\n",
    "- Provide recommendations to the staakeholder on how to make a movie successful\n",
    "- Create 3 senarios with the dataset\n",
    "      -  Perform statistical testing to get mathematically-supported answers\n",
    "      -  Report if there is a significance difference between features\n",
    "          -  If yes, what was the p-value?\n",
    "          -  which feature earns the most revenue?\n",
    "      -  Prepare a visualization that supports findings"
   ]
  },
  {
   "cell_type": "markdown",
   "id": "7008c9c4-65cf-47c2-892e-721ce3887bbb",
   "metadata": {},
   "source": [
    "## Import/Load Data"
   ]
  },
  {
   "cell_type": "code",
   "execution_count": 1,
   "id": "2d297deb-9947-4a95-9862-478d0a3826a0",
   "metadata": {},
   "outputs": [],
   "source": [
    "import os, time, json\n",
    "import tmdbsimple as tmdb\n",
    "import pandas as pd\n",
    "import matplotlib.pyplot as plt\n",
    "import seaborn as sns\n",
    "import numpy as np\n",
    "import missingno as msno\n",
    "from tqdm.notebook import tqdm_notebook\n",
    "\n",
    "import scipy.stats as stats"
   ]
  },
  {
   "cell_type": "code",
   "execution_count": 2,
   "id": "f19f0233-1797-45c9-90c2-3e80c8be7fb6",
   "metadata": {},
   "outputs": [
    {
     "data": {
      "text/plain": [
       "dict_keys(['api_key'])"
      ]
     },
     "execution_count": 2,
     "metadata": {},
     "output_type": "execute_result"
    }
   ],
   "source": [
    "## Load API Key\n",
    "with open('/Users/csbro/.secret/tmdb_api.json', 'r') as f:\n",
    "    login = json.load(f)\n",
    "login.keys()"
   ]
  },
  {
   "cell_type": "code",
   "execution_count": 3,
   "id": "34cf137c-b709-4a29-9bd3-e92ff0cb886b",
   "metadata": {},
   "outputs": [],
   "source": [
    "tmdb.API_KEY = login['api_key']"
   ]
  },
  {
   "cell_type": "code",
   "execution_count": 4,
   "id": "24c92877-1105-4c34-b605-f1a8f72b653a",
   "metadata": {},
   "outputs": [],
   "source": [
    "FOLDER = 'MovieData/'\n"
   ]
  },
  {
   "cell_type": "code",
   "execution_count": 5,
   "id": "f5389262-3196-4f17-b40f-673776e2a1c0",
   "metadata": {},
   "outputs": [
    {
     "data": {
      "text/html": [
       "<div>\n",
       "<style scoped>\n",
       "    .dataframe tbody tr th:only-of-type {\n",
       "        vertical-align: middle;\n",
       "    }\n",
       "\n",
       "    .dataframe tbody tr th {\n",
       "        vertical-align: top;\n",
       "    }\n",
       "\n",
       "    .dataframe thead th {\n",
       "        text-align: right;\n",
       "    }\n",
       "</style>\n",
       "<table border=\"1\" class=\"dataframe\">\n",
       "  <thead>\n",
       "    <tr style=\"text-align: right;\">\n",
       "      <th></th>\n",
       "      <th>tconst</th>\n",
       "      <th>titleType</th>\n",
       "      <th>primaryTitle</th>\n",
       "      <th>originalTitle</th>\n",
       "      <th>isAdult</th>\n",
       "      <th>startYear</th>\n",
       "      <th>endYear</th>\n",
       "      <th>runtimeMinutes</th>\n",
       "      <th>genres</th>\n",
       "    </tr>\n",
       "  </thead>\n",
       "  <tbody>\n",
       "    <tr>\n",
       "      <th>0</th>\n",
       "      <td>tt0035423</td>\n",
       "      <td>movie</td>\n",
       "      <td>Kate &amp; Leopold</td>\n",
       "      <td>Kate &amp; Leopold</td>\n",
       "      <td>0</td>\n",
       "      <td>2001.0</td>\n",
       "      <td>NaN</td>\n",
       "      <td>118</td>\n",
       "      <td>Comedy,Fantasy,Romance</td>\n",
       "    </tr>\n",
       "    <tr>\n",
       "      <th>1</th>\n",
       "      <td>tt0062336</td>\n",
       "      <td>movie</td>\n",
       "      <td>The Tango of the Widower and Its Distorting Mi...</td>\n",
       "      <td>El tango del viudo y su espejo deformante</td>\n",
       "      <td>0</td>\n",
       "      <td>2020.0</td>\n",
       "      <td>NaN</td>\n",
       "      <td>70</td>\n",
       "      <td>Drama</td>\n",
       "    </tr>\n",
       "  </tbody>\n",
       "</table>\n",
       "</div>"
      ],
      "text/plain": [
       "      tconst titleType                                       primaryTitle  \\\n",
       "0  tt0035423     movie                                     Kate & Leopold   \n",
       "1  tt0062336     movie  The Tango of the Widower and Its Distorting Mi...   \n",
       "\n",
       "                               originalTitle  isAdult  startYear  endYear  \\\n",
       "0                             Kate & Leopold        0     2001.0      NaN   \n",
       "1  El tango del viudo y su espejo deformante        0     2020.0      NaN   \n",
       "\n",
       "   runtimeMinutes                  genres  \n",
       "0             118  Comedy,Fantasy,Romance  \n",
       "1              70                   Drama  "
      ]
     },
     "execution_count": 5,
     "metadata": {},
     "output_type": "execute_result"
    }
   ],
   "source": [
    "# Load in data from IMDB to compare to TMDB info\n",
    "basics = pd.read_csv(\"data/basics-filtered.csv\")\n",
    "basics.head(2)"
   ]
  },
  {
   "cell_type": "code",
   "execution_count": 6,
   "id": "cc786466-9b95-40b0-b128-862527c2bb99",
   "metadata": {},
   "outputs": [],
   "source": [
    "## Will use past 10 years from 2013 to 2023\n",
    "GET_YEARS = list(range(2019, 2021))\n",
    "\n",
    "#Create an empty list for errors\n",
    "errors = []"
   ]
  },
  {
   "cell_type": "code",
   "execution_count": 7,
   "id": "0c62ac91-16fd-4268-b7e0-9d4963753fbd",
   "metadata": {},
   "outputs": [],
   "source": [
    "#Define API function\n",
    "\n",
    "\n",
    "def get_movie_with_rating(movie_id):\n",
    "    #Get movie object using movie_id\n",
    "    movie= tmdb.Movies(movie_id)\n",
    "    #Save the dictionaries \n",
    "    movie_info = movie.info()\n",
    "    releases = movie.releases()\n",
    "    #Loop through countries for only US\n",
    "    for c in releases['countries']:\n",
    "        if c['iso_3166_1'] == 'US':\n",
    "            movie_info['certification']= c['certification']\n",
    "    return movie_info\n",
    "\n",
    "\n",
    "\n",
    "def write_json(new_data, filename):\n",
    "    \"\"\"Appends a list of records (new_data) into a json file (filename).\n",
    "    Adapted from: https://www.geeksforgeeks.org/append-to-json-file-using-python/\"\"\"\n",
    "\n",
    "    with open(filename, 'r+') as file:\n",
    "        #Load existing data into dictionary\n",
    "        file_data = json.load(file)\n",
    "        #choose to extend or append\n",
    "        if (type(new_data) == list) & (type(file_data) == list):\n",
    "            file_data.extend(new_data)\n",
    "        else:\n",
    "            file_data.append(new_data)\n",
    "        #set file's current position at offset\n",
    "        file.seek(0)\n",
    "        #convert back to json\n",
    "        json.dump(file_data, file)"
   ]
  },
  {
   "cell_type": "code",
   "execution_count": 8,
   "id": "60d6a82f-d710-4184-a9f8-6aea1471b62a",
   "metadata": {},
   "outputs": [
    {
     "data": {
      "text/html": [
       "<div>\n",
       "<style scoped>\n",
       "    .dataframe tbody tr th:only-of-type {\n",
       "        vertical-align: middle;\n",
       "    }\n",
       "\n",
       "    .dataframe tbody tr th {\n",
       "        vertical-align: top;\n",
       "    }\n",
       "\n",
       "    .dataframe thead th {\n",
       "        text-align: right;\n",
       "    }\n",
       "</style>\n",
       "<table border=\"1\" class=\"dataframe\">\n",
       "  <thead>\n",
       "    <tr style=\"text-align: right;\">\n",
       "      <th></th>\n",
       "      <th>adult</th>\n",
       "      <th>backdrop_path</th>\n",
       "      <th>belongs_to_collection</th>\n",
       "      <th>budget</th>\n",
       "      <th>genres</th>\n",
       "      <th>homepage</th>\n",
       "      <th>id</th>\n",
       "      <th>imdb_id</th>\n",
       "      <th>original_language</th>\n",
       "      <th>original_title</th>\n",
       "      <th>...</th>\n",
       "      <th>revenue</th>\n",
       "      <th>runtime</th>\n",
       "      <th>spoken_languages</th>\n",
       "      <th>status</th>\n",
       "      <th>tagline</th>\n",
       "      <th>title</th>\n",
       "      <th>video</th>\n",
       "      <th>vote_average</th>\n",
       "      <th>vote_count</th>\n",
       "      <th>certification</th>\n",
       "    </tr>\n",
       "  </thead>\n",
       "  <tbody>\n",
       "    <tr>\n",
       "      <th>0</th>\n",
       "      <td>False</td>\n",
       "      <td>/9BBTo63ANSmhC4e6r62OJFuK2GL.jpg</td>\n",
       "      <td>{'id': 86311, 'name': 'The Avengers Collection...</td>\n",
       "      <td>220000000</td>\n",
       "      <td>[{'id': 878, 'name': 'Science Fiction'}, {'id'...</td>\n",
       "      <td>https://www.marvel.com/movies/the-avengers</td>\n",
       "      <td>24428</td>\n",
       "      <td>tt0848228</td>\n",
       "      <td>en</td>\n",
       "      <td>The Avengers</td>\n",
       "      <td>...</td>\n",
       "      <td>1518815515</td>\n",
       "      <td>143</td>\n",
       "      <td>[{'english_name': 'English', 'iso_639_1': 'en'...</td>\n",
       "      <td>Released</td>\n",
       "      <td>Some assembly required.</td>\n",
       "      <td>The Avengers</td>\n",
       "      <td>False</td>\n",
       "      <td>7.711</td>\n",
       "      <td>29299</td>\n",
       "      <td>PG-13</td>\n",
       "    </tr>\n",
       "    <tr>\n",
       "      <th>1</th>\n",
       "      <td>False</td>\n",
       "      <td>/qom1SZSENdmHFNZBXbtJAU0WTlC.jpg</td>\n",
       "      <td>None</td>\n",
       "      <td>29000000</td>\n",
       "      <td>[{'id': 10749, 'name': 'Romance'}, {'id': 18, ...</td>\n",
       "      <td>http://www.newline.com/properties/notebookthe....</td>\n",
       "      <td>11036</td>\n",
       "      <td>tt0332280</td>\n",
       "      <td>en</td>\n",
       "      <td>The Notebook</td>\n",
       "      <td>...</td>\n",
       "      <td>115603229</td>\n",
       "      <td>123</td>\n",
       "      <td>[{'english_name': 'English', 'iso_639_1': 'en'...</td>\n",
       "      <td>Released</td>\n",
       "      <td>Behind every great love is a great story.</td>\n",
       "      <td>The Notebook</td>\n",
       "      <td>False</td>\n",
       "      <td>7.881</td>\n",
       "      <td>10702</td>\n",
       "      <td>PG-13</td>\n",
       "    </tr>\n",
       "  </tbody>\n",
       "</table>\n",
       "<p>2 rows × 26 columns</p>\n",
       "</div>"
      ],
      "text/plain": [
       "   adult                     backdrop_path  \\\n",
       "0  False  /9BBTo63ANSmhC4e6r62OJFuK2GL.jpg   \n",
       "1  False  /qom1SZSENdmHFNZBXbtJAU0WTlC.jpg   \n",
       "\n",
       "                               belongs_to_collection     budget  \\\n",
       "0  {'id': 86311, 'name': 'The Avengers Collection...  220000000   \n",
       "1                                               None   29000000   \n",
       "\n",
       "                                              genres  \\\n",
       "0  [{'id': 878, 'name': 'Science Fiction'}, {'id'...   \n",
       "1  [{'id': 10749, 'name': 'Romance'}, {'id': 18, ...   \n",
       "\n",
       "                                            homepage     id    imdb_id  \\\n",
       "0         https://www.marvel.com/movies/the-avengers  24428  tt0848228   \n",
       "1  http://www.newline.com/properties/notebookthe....  11036  tt0332280   \n",
       "\n",
       "  original_language original_title  ...     revenue  runtime  \\\n",
       "0                en   The Avengers  ...  1518815515      143   \n",
       "1                en   The Notebook  ...   115603229      123   \n",
       "\n",
       "                                    spoken_languages    status  \\\n",
       "0  [{'english_name': 'English', 'iso_639_1': 'en'...  Released   \n",
       "1  [{'english_name': 'English', 'iso_639_1': 'en'...  Released   \n",
       "\n",
       "                                     tagline         title  video  \\\n",
       "0                    Some assembly required.  The Avengers  False   \n",
       "1  Behind every great love is a great story.  The Notebook  False   \n",
       "\n",
       "   vote_average vote_count certification  \n",
       "0         7.711      29299         PG-13  \n",
       "1         7.881      10702         PG-13  \n",
       "\n",
       "[2 rows x 26 columns]"
      ]
     },
     "execution_count": 8,
     "metadata": {},
     "output_type": "execute_result"
    }
   ],
   "source": [
    "## Confirm APIO works\n",
    "test= [\"tt0848228\", \"tt0332280\"]\n",
    "results= []\n",
    "for movie_id in test:\n",
    "    movie_info = get_movie_with_rating(movie_id)\n",
    "    results.append(movie_info)\n",
    "pd.DataFrame(results)"
   ]
  },
  {
   "cell_type": "code",
   "execution_count": 10,
   "id": "c2952dc9-a181-4eb8-95a8-562a94b8a4e3",
   "metadata": {},
   "outputs": [
    {
     "data": {
      "application/vnd.jupyter.widget-view+json": {
       "model_id": "f961546b13014a3dbbb2f30f5cfaf56d",
       "version_major": 2,
       "version_minor": 0
      },
      "text/plain": [
       "YEARS:   0%|          | 0/2 [00:00<?, ?it/s]"
      ]
     },
     "metadata": {},
     "output_type": "display_data"
    },
    {
     "name": "stdout",
     "output_type": "stream",
     "text": [
      "MovieData/tmdb_api_results 2019.json already exists.\n"
     ]
    },
    {
     "data": {
      "application/vnd.jupyter.widget-view+json": {
       "model_id": "da64623f342a4302badd03730c4e6415",
       "version_major": 2,
       "version_minor": 0
      },
      "text/plain": [
       "Movies from 2019:   0%|          | 0/1867 [00:00<?, ?it/s]"
      ]
     },
     "metadata": {},
     "output_type": "display_data"
    },
    {
     "name": "stdout",
     "output_type": "stream",
     "text": [
      " - Total Errors: 955\n",
      "Creating json file for API results for 2020\n"
     ]
    },
    {
     "data": {
      "application/vnd.jupyter.widget-view+json": {
       "model_id": "7989b1041f494eceaee6a3a4b357373d",
       "version_major": 2,
       "version_minor": 0
      },
      "text/plain": [
       "Movies from 2020:   0%|          | 0/5010 [00:00<?, ?it/s]"
      ]
     },
     "metadata": {},
     "output_type": "display_data"
    },
    {
     "name": "stdout",
     "output_type": "stream",
     "text": [
      " - Total Errors: 1997\n"
     ]
    }
   ],
   "source": [
    "##OUTER LOOP\n",
    "for YEAR in tqdm_notebook(GET_YEARS, desc='YEARS', position=0):\n",
    "  \n",
    "    #Prepare DF for json file\n",
    "    JSON_MOVIE= f'{FOLDER}tmdb_api_results {YEAR}.json'\n",
    "        #Check if file exists\n",
    "    file_exists = os.path.isfile(JSON_MOVIE)\n",
    "    \n",
    "    if file_exists == False:\n",
    "        print(f'Creating json file for API results for {YEAR}')\n",
    "        with open(JSON_MOVIE, 'w') as f:\n",
    "            json.dump([{'imdb_id':0}], f)\n",
    "    else: \n",
    "        print(f'{JSON_MOVIE} already exists.')\n",
    "    \n",
    "    #Save dataframe\n",
    "    df = basics.loc[basics['startYear'] == YEAR].copy()\n",
    "    #saving movie_id to separate variable\n",
    "    movie_ids = df['tconst'].copy() #.to_list()\n",
    "\n",
    "    #Load exisiting data from json into DF called previous_df\n",
    "    previous_df = pd.read_json(JSON_MOVIE)\n",
    "\n",
    "    #filter out any ids that are already in the file\n",
    "    needed_mids = movie_ids[~movie_ids.isin(previous_df['imdb_id'])]\n",
    "\n",
    "    #INNER LOOP\n",
    "    for movie_id in tqdm_notebook(needed_mids,\n",
    "                                  desc=f'Movies from {YEAR}',\n",
    "                                  position=1,\n",
    "                                  leave=True):\n",
    "        try:\n",
    "            temp = get_movie_with_rating(movie_id)\n",
    "            #Append/Extend results to json file\n",
    "            write_json(temp, JSON_MOVIE)\n",
    "            time.sleep(0.02)\n",
    "        except Exception as e:\n",
    "            errors.append([movie_id, e])\n",
    "\n",
    "    print(f' - Total Errors: {len(errors)}')    \n",
    "\n",
    "\n",
    "    final_year_df = pd.read_json(JSON_MOVIE)\n",
    "    final_year_df.to_csv(f\"{FOLDER}final_tmdb_data_{YEAR}.csv.gz\", compression= 'gzip', index=False)"
   ]
  },
  {
   "cell_type": "code",
   "execution_count": null,
   "id": "5deb93f2-da97-43b7-8560-abb5efdd895b",
   "metadata": {},
   "outputs": [],
   "source": [
    "#Combine files with glob\n",
    "\n",
    "import glob\n",
    "q= \"MovieData/tmdb_api*.json\"\n",
    "tmdb_glob = sorted(glob.glob(q))\n",
    "tmdb_glob"
   ]
  },
  {
   "cell_type": "code",
   "execution_count": null,
   "id": "948498c8-e7df-419d-9c37-41ff1e635adb",
   "metadata": {},
   "outputs": [],
   "source": [
    "#Loading all files into dataframe\n",
    "df_glob = []\n",
    "for file in tmdb_glob:\n",
    "    temp_df = pd.read_json(file, index_col=0)\n",
    "    df_glob.append(temp_df)\n",
    "#concat files\n",
    "df_tmdb = pd.concat(df_list)\n",
    "df_tmdb.head(2)"
   ]
  },
  {
   "cell_type": "code",
   "execution_count": null,
   "id": "22a22c66-d5f8-4862-8d7e-0cc66635eb11",
   "metadata": {},
   "outputs": [],
   "source": [
    "## Inspect the data\n",
    "df_tmdb.info()"
   ]
  },
  {
   "cell_type": "code",
   "execution_count": null,
   "id": "fab22c07-5ef8-4780-8003-d50ecc116ca9",
   "metadata": {},
   "outputs": [],
   "source": [
    "df_tmdb.duplicated().sum()"
   ]
  },
  {
   "cell_type": "code",
   "execution_count": null,
   "id": "982fb52f-0391-44ec-ac48-c29bd16e97c6",
   "metadata": {},
   "outputs": [],
   "source": [
    "df_tmdb.drop_duplicates(inplace=True)"
   ]
  },
  {
   "cell_type": "code",
   "execution_count": null,
   "id": "b804a7eb-dd7c-4697-8fd7-865fe238011e",
   "metadata": {},
   "outputs": [],
   "source": []
  },
  {
   "cell_type": "code",
   "execution_count": null,
   "id": "f45d4625-d35c-42d0-aabf-3c682f0c61cc",
   "metadata": {},
   "outputs": [],
   "source": []
  },
  {
   "cell_type": "code",
   "execution_count": null,
   "id": "1b4b8a4b-86f8-4fb2-94ab-ef0522bb90c7",
   "metadata": {},
   "outputs": [],
   "source": []
  },
  {
   "cell_type": "code",
   "execution_count": null,
   "id": "03fd15ab-5c19-4001-8a88-6ac7cabb0bff",
   "metadata": {},
   "outputs": [],
   "source": []
  },
  {
   "cell_type": "code",
   "execution_count": null,
   "id": "a28abf69-0664-42f6-96ae-ea9c3f20aff3",
   "metadata": {},
   "outputs": [],
   "source": []
  },
  {
   "cell_type": "code",
   "execution_count": null,
   "id": "4cb44d82-119a-47c8-af16-a64b27b030fc",
   "metadata": {},
   "outputs": [],
   "source": []
  },
  {
   "cell_type": "code",
   "execution_count": null,
   "id": "edec87fd-ff84-4941-bdee-078982c327ce",
   "metadata": {},
   "outputs": [],
   "source": []
  },
  {
   "cell_type": "code",
   "execution_count": null,
   "id": "23a55dc5-e792-4d30-be25-159d971b58d9",
   "metadata": {},
   "outputs": [],
   "source": []
  },
  {
   "cell_type": "code",
   "execution_count": null,
   "id": "e1913b2a-fc10-4c49-aaad-6e23e5bb4439",
   "metadata": {},
   "outputs": [],
   "source": []
  },
  {
   "cell_type": "code",
   "execution_count": null,
   "id": "13d28073-1e17-4f72-afa8-a0e64108bc72",
   "metadata": {},
   "outputs": [],
   "source": []
  },
  {
   "cell_type": "code",
   "execution_count": null,
   "id": "21f15d84-5614-4b8e-9713-43898732f287",
   "metadata": {},
   "outputs": [],
   "source": []
  },
  {
   "cell_type": "code",
   "execution_count": null,
   "id": "590347d0-714b-4bc9-9e78-756d7d600c62",
   "metadata": {},
   "outputs": [],
   "source": []
  },
  {
   "cell_type": "code",
   "execution_count": null,
   "id": "1959fc51-74f2-4fa3-bdd6-5d0454bfa5b8",
   "metadata": {},
   "outputs": [],
   "source": []
  },
  {
   "cell_type": "code",
   "execution_count": null,
   "id": "a4d0b97e-0edf-44a2-bf47-4bcc92fcf6db",
   "metadata": {},
   "outputs": [],
   "source": []
  },
  {
   "cell_type": "code",
   "execution_count": null,
   "id": "ced154ef-5da0-4706-a3a4-1f4bfb6d2817",
   "metadata": {},
   "outputs": [],
   "source": []
  },
  {
   "cell_type": "code",
   "execution_count": null,
   "id": "0ee57f5b-ce90-46b9-be98-2d1c8aae71ad",
   "metadata": {},
   "outputs": [],
   "source": []
  },
  {
   "cell_type": "code",
   "execution_count": null,
   "id": "b6c0f09b-44a5-4799-8910-7b3751f2f9f0",
   "metadata": {},
   "outputs": [],
   "source": []
  },
  {
   "cell_type": "code",
   "execution_count": null,
   "id": "201f8ff8-beef-4d86-8ce4-e3c074bf8165",
   "metadata": {},
   "outputs": [],
   "source": []
  },
  {
   "cell_type": "markdown",
   "id": "2a6fb398-04b2-4103-b91f-09fc5a6b324c",
   "metadata": {},
   "source": [
    "### First Senario:\n",
    "\n",
    "##### Does the MPAA rating of a movie affect how much revenue the movie generates?"
   ]
  },
  {
   "cell_type": "markdown",
   "id": "1f459983-2de2-4d83-bd8e-a3685c7a7526",
   "metadata": {},
   "source": [
    "**Null Hypothesis:**  There is no significant association between the MPAA rating of a movie and the revenue it generates.\n",
    "\n",
    "**Alternative Hypothesis:**  The is a significant association between the MPAA rating of a movie and the revenue it generates."
   ]
  },
  {
   "cell_type": "code",
   "execution_count": null,
   "id": "af9fe6ba-0be1-4fa4-b454-49f7d1c724c3",
   "metadata": {},
   "outputs": [],
   "source": [
    "sns.barplot(data=df_tmdb, x='certification', y='revenue');"
   ]
  },
  {
   "cell_type": "markdown",
   "id": "8df7a52d-580f-407f-9e25-233d7d9e444b",
   "metadata": {},
   "source": [
    "- The following features are needed to test this hypothesis:  certification and revenue\n",
    "- It is numeric data\n",
    "- there are multiple groups\n",
    "- Use a ANOVA\n",
    "  - normality\n",
    "  - equal variance\n",
    "  - no significant outliers"
   ]
  },
  {
   "cell_type": "code",
   "execution_count": null,
   "id": "f512a73d-4c09-4347-b1a1-161126aeae80",
   "metadata": {},
   "outputs": [],
   "source": [
    "df_tmdb['revenue'].value_counts()"
   ]
  },
  {
   "cell_type": "code",
   "execution_count": null,
   "id": "bc4638ef-7702-4968-863d-be1edd62505d",
   "metadata": {},
   "outputs": [],
   "source": [
    "#Create groups dictionary\n",
    "groups ={}\n",
    "\n",
    "#Loop through all unique categories\n",
    "for certification in df_tmdbb['certification'].unique():\n",
    "    data = df_tmdb.loc[df_tmdb['certification']==certification,'revenu'].copy()\n",
    "\n",
    "#save into dictionary\n",
    "    groups[certification]=data\n",
    "groups.keys()"
   ]
  },
  {
   "cell_type": "code",
   "execution_count": null,
   "id": "e007e8bd-28f4-4378-bb31-01ea1263d0f1",
   "metadata": {},
   "outputs": [],
   "source": [
    "#Loop through the groups to get rid of outliers\n",
    "groups_clean={}\n",
    "\n",
    "for group, data in groups.items():\n",
    "    outliers=np.abs(stats.zscore(data))>3\n",
    "    n-outliers=np.sum(outliers)\n",
    "\n",
    "    print(f\" - For {group}, there were {n_outliers} outliers removed.\")\n",
    "    clean_data = data[-outliers]\n",
    "\n",
    "    #Save into clean dictionary\n",
    "    groups_clean[group] = clean_data\n",
    "groups_clean.keys()"
   ]
  },
  {
   "cell_type": "code",
   "execution_count": null,
   "id": "a867b19c-369b-469d-bc92-7f5e6d1a9f3c",
   "metadata": {},
   "outputs": [],
   "source": [
    "#Test for Normality\n",
    "\n",
    "#Run normal test on each group and confirm there are >20 in each group\n",
    "norm_results = []\n",
    "\n",
    "for group, data in groups_clean.items():\n",
    "    stat, p = stats.normaltest(data)\n",
    "    norm_resuls.append({'group':group, \"n\": len(data),\n",
    "                        'p':p, \"test stat\": stat, 'significance?': p<0.05})\n",
    "\n",
    "#convert to dataframe\n",
    "results_df = pd.DataFrame(norm_results)\n",
    "results_df"
   ]
  },
  {
   "cell_type": "markdown",
   "id": "73479b7c-2fd5-4658-9239-cb50f7a233fa",
   "metadata": {},
   "source": [
    "-  None of the groups are normally distributed, BUT groups are greater than n=15, so the assumption of normality can be safely disregarded."
   ]
  },
  {
   "cell_type": "code",
   "execution_count": null,
   "id": "888bd84b-6c4d-4d21-bebf-2c2d5a5b7ad9",
   "metadata": {},
   "outputs": [],
   "source": [
    "## Test for Equal Variance\n",
    "\n",
    "res= stats.levene(*groups_clean.values())\n",
    "res"
   ]
  },
  {
   "cell_type": "code",
   "execution_count": null,
   "id": "848342e1-11cb-45df-95a2-6ce179a26176",
   "metadata": {},
   "outputs": [],
   "source": [
    "res.pvalue<0.05"
   ]
  },
  {
   "cell_type": "markdown",
   "id": "15b20d87-26cf-472b-8878-4406605aee1c",
   "metadata": {},
   "source": [
    "-  The null hypothesis of the Levene's test is that the samples DO have equal variance.\n",
    "-The p-value indicates "
   ]
  },
  {
   "cell_type": "markdown",
   "id": "105bf46c-648b-4313-8eb4-b4dc65ac0d52",
   "metadata": {},
   "source": [
    "***The p-value is greater than 0.05, so we fail to reject the null hypothesis:***\n",
    "    --  ***MPAA rating has no significant effect on revenue***"
   ]
  },
  {
   "cell_type": "code",
   "execution_count": null,
   "id": "6f1b0d33-5225-47fe-86bc-d700d7815733",
   "metadata": {},
   "outputs": [],
   "source": [
    "### Second Senario:\n",
    "\n",
    "#####"
   ]
  }
 ],
 "metadata": {
  "kernelspec": {
   "display_name": "Python (dojo-env)",
   "language": "python",
   "name": "dojo-env"
  },
  "language_info": {
   "codemirror_mode": {
    "name": "ipython",
    "version": 3
   },
   "file_extension": ".py",
   "mimetype": "text/x-python",
   "name": "python",
   "nbconvert_exporter": "python",
   "pygments_lexer": "ipython3",
   "version": "3.10.10"
  },
  "widgets": {
   "application/vnd.jupyter.widget-state+json": {
    "state": {
     "07086c538df14771a764ade9c1580ee7": {
      "model_module": "@jupyter-widgets/controls",
      "model_module_version": "2.0.0",
      "model_name": "ProgressStyleModel",
      "state": {
       "description_width": ""
      }
     },
     "155d211475b949e681fbb9cfcd5aabb7": {
      "model_module": "@jupyter-widgets/controls",
      "model_module_version": "2.0.0",
      "model_name": "ProgressStyleModel",
      "state": {
       "description_width": ""
      }
     },
     "18f288ba4103457799c4793506a0bad5": {
      "model_module": "@jupyter-widgets/controls",
      "model_module_version": "2.0.0",
      "model_name": "HTMLModel",
      "state": {
       "layout": "IPY_MODEL_2fa7a0f7c9df4761a6d897572d2a9018",
       "style": "IPY_MODEL_b6d9282c5eac4c0ba46559ed2e80a40d",
       "value": " 2/2 [2:05:17&lt;00:00, 4053.83s/it]"
      }
     },
     "24b98e6ab52e43b99de1c526792ceba6": {
      "model_module": "@jupyter-widgets/base",
      "model_module_version": "2.0.0",
      "model_name": "LayoutModel",
      "state": {}
     },
     "2fa7a0f7c9df4761a6d897572d2a9018": {
      "model_module": "@jupyter-widgets/base",
      "model_module_version": "2.0.0",
      "model_name": "LayoutModel",
      "state": {}
     },
     "3503e961222d4cbb975a166d7043fcbe": {
      "model_module": "@jupyter-widgets/controls",
      "model_module_version": "2.0.0",
      "model_name": "FloatProgressModel",
      "state": {
       "bar_style": "success",
       "layout": "IPY_MODEL_590fb24fae7940f58dcc455100569e43",
       "max": 1867,
       "style": "IPY_MODEL_75e9add9380b4198932323cbea1a9e29",
       "value": 1867
      }
     },
     "3bcb4749eff04401b8182b78cea98712": {
      "model_module": "@jupyter-widgets/controls",
      "model_module_version": "2.0.0",
      "model_name": "HTMLModel",
      "state": {
       "layout": "IPY_MODEL_24b98e6ab52e43b99de1c526792ceba6",
       "style": "IPY_MODEL_c767814ea8014c0381db70e8aaed9328",
       "value": "Movies from 2019: 100%"
      }
     },
     "49546df5496f4b7dadda5f9fb9d5c1e3": {
      "model_module": "@jupyter-widgets/controls",
      "model_module_version": "2.0.0",
      "model_name": "HTMLModel",
      "state": {
       "layout": "IPY_MODEL_bcc00b476e22427a9d668d2835991b95",
       "style": "IPY_MODEL_d8ebdc9abf8a4cd7ab62f293cec95923",
       "value": "Movies from 2020: 100%"
      }
     },
     "4a900d68f2c24ba8984ce545a7e79c41": {
      "model_module": "@jupyter-widgets/controls",
      "model_module_version": "2.0.0",
      "model_name": "HTMLStyleModel",
      "state": {
       "description_width": "",
       "font_size": null,
       "text_color": null
      }
     },
     "560f73f6e6a2425e9f2f6e37320f3766": {
      "model_module": "@jupyter-widgets/base",
      "model_module_version": "2.0.0",
      "model_name": "LayoutModel",
      "state": {}
     },
     "56e4d4ff097e4b15b407e20d68f0ce17": {
      "model_module": "@jupyter-widgets/base",
      "model_module_version": "2.0.0",
      "model_name": "LayoutModel",
      "state": {}
     },
     "590fb24fae7940f58dcc455100569e43": {
      "model_module": "@jupyter-widgets/base",
      "model_module_version": "2.0.0",
      "model_name": "LayoutModel",
      "state": {}
     },
     "59700cd5d2c240068fba486bdbae3beb": {
      "model_module": "@jupyter-widgets/base",
      "model_module_version": "2.0.0",
      "model_name": "LayoutModel",
      "state": {}
     },
     "5b53fb28b2ed485f92117f52fe60e800": {
      "model_module": "@jupyter-widgets/base",
      "model_module_version": "2.0.0",
      "model_name": "LayoutModel",
      "state": {}
     },
     "681a60ab6aca4a9abfa6792463cac178": {
      "model_module": "@jupyter-widgets/controls",
      "model_module_version": "2.0.0",
      "model_name": "HTMLStyleModel",
      "state": {
       "description_width": "",
       "font_size": null,
       "text_color": null
      }
     },
     "7563edf0f70d4b84891c22e8f6151d1c": {
      "model_module": "@jupyter-widgets/base",
      "model_module_version": "2.0.0",
      "model_name": "LayoutModel",
      "state": {}
     },
     "75e9add9380b4198932323cbea1a9e29": {
      "model_module": "@jupyter-widgets/controls",
      "model_module_version": "2.0.0",
      "model_name": "ProgressStyleModel",
      "state": {
       "description_width": ""
      }
     },
     "7989b1041f494eceaee6a3a4b357373d": {
      "model_module": "@jupyter-widgets/controls",
      "model_module_version": "2.0.0",
      "model_name": "HBoxModel",
      "state": {
       "children": [
        "IPY_MODEL_49546df5496f4b7dadda5f9fb9d5c1e3",
        "IPY_MODEL_fdadb0df46e24bcd99d9ec0bce4dd73c",
        "IPY_MODEL_febd540e49ef4fd99fdc54fe086177e0"
       ],
       "layout": "IPY_MODEL_56e4d4ff097e4b15b407e20d68f0ce17"
      }
     },
     "7fc52e01164c4cad8face40e1cfec245": {
      "model_module": "@jupyter-widgets/controls",
      "model_module_version": "2.0.0",
      "model_name": "HTMLModel",
      "state": {
       "layout": "IPY_MODEL_ba1ae40d2a0f4f9e852b117c6955adb9",
       "style": "IPY_MODEL_4a900d68f2c24ba8984ce545a7e79c41",
       "value": " 1867/1867 [34:46&lt;00:00,  1.40s/it]"
      }
     },
     "a32241ac8e244cf09e5f16c6b8c19e72": {
      "model_module": "@jupyter-widgets/base",
      "model_module_version": "2.0.0",
      "model_name": "LayoutModel",
      "state": {}
     },
     "a5ac10924d7b495489afe61ceacc8c1b": {
      "model_module": "@jupyter-widgets/controls",
      "model_module_version": "2.0.0",
      "model_name": "HTMLModel",
      "state": {
       "layout": "IPY_MODEL_7563edf0f70d4b84891c22e8f6151d1c",
       "style": "IPY_MODEL_681a60ab6aca4a9abfa6792463cac178",
       "value": "YEARS: 100%"
      }
     },
     "b14d7d6a181d4b078b97823a1fe0e55a": {
      "model_module": "@jupyter-widgets/base",
      "model_module_version": "2.0.0",
      "model_name": "LayoutModel",
      "state": {}
     },
     "b6d9282c5eac4c0ba46559ed2e80a40d": {
      "model_module": "@jupyter-widgets/controls",
      "model_module_version": "2.0.0",
      "model_name": "HTMLStyleModel",
      "state": {
       "description_width": "",
       "font_size": null,
       "text_color": null
      }
     },
     "ba1ae40d2a0f4f9e852b117c6955adb9": {
      "model_module": "@jupyter-widgets/base",
      "model_module_version": "2.0.0",
      "model_name": "LayoutModel",
      "state": {}
     },
     "bcc00b476e22427a9d668d2835991b95": {
      "model_module": "@jupyter-widgets/base",
      "model_module_version": "2.0.0",
      "model_name": "LayoutModel",
      "state": {}
     },
     "c767814ea8014c0381db70e8aaed9328": {
      "model_module": "@jupyter-widgets/controls",
      "model_module_version": "2.0.0",
      "model_name": "HTMLStyleModel",
      "state": {
       "description_width": "",
       "font_size": null,
       "text_color": null
      }
     },
     "d8ebdc9abf8a4cd7ab62f293cec95923": {
      "model_module": "@jupyter-widgets/controls",
      "model_module_version": "2.0.0",
      "model_name": "HTMLStyleModel",
      "state": {
       "description_width": "",
       "font_size": null,
       "text_color": null
      }
     },
     "da64623f342a4302badd03730c4e6415": {
      "model_module": "@jupyter-widgets/controls",
      "model_module_version": "2.0.0",
      "model_name": "HBoxModel",
      "state": {
       "children": [
        "IPY_MODEL_3bcb4749eff04401b8182b78cea98712",
        "IPY_MODEL_3503e961222d4cbb975a166d7043fcbe",
        "IPY_MODEL_7fc52e01164c4cad8face40e1cfec245"
       ],
       "layout": "IPY_MODEL_b14d7d6a181d4b078b97823a1fe0e55a"
      }
     },
     "f227d8505b17486d9a06c6c407784a20": {
      "model_module": "@jupyter-widgets/controls",
      "model_module_version": "2.0.0",
      "model_name": "HTMLStyleModel",
      "state": {
       "description_width": "",
       "font_size": null,
       "text_color": null
      }
     },
     "f961546b13014a3dbbb2f30f5cfaf56d": {
      "model_module": "@jupyter-widgets/controls",
      "model_module_version": "2.0.0",
      "model_name": "HBoxModel",
      "state": {
       "children": [
        "IPY_MODEL_a5ac10924d7b495489afe61ceacc8c1b",
        "IPY_MODEL_fae1d70df05e472fae0d36061086e401",
        "IPY_MODEL_18f288ba4103457799c4793506a0bad5"
       ],
       "layout": "IPY_MODEL_a32241ac8e244cf09e5f16c6b8c19e72"
      }
     },
     "fae1d70df05e472fae0d36061086e401": {
      "model_module": "@jupyter-widgets/controls",
      "model_module_version": "2.0.0",
      "model_name": "FloatProgressModel",
      "state": {
       "bar_style": "success",
       "layout": "IPY_MODEL_5b53fb28b2ed485f92117f52fe60e800",
       "max": 2,
       "style": "IPY_MODEL_155d211475b949e681fbb9cfcd5aabb7",
       "value": 2
      }
     },
     "fdadb0df46e24bcd99d9ec0bce4dd73c": {
      "model_module": "@jupyter-widgets/controls",
      "model_module_version": "2.0.0",
      "model_name": "FloatProgressModel",
      "state": {
       "bar_style": "success",
       "layout": "IPY_MODEL_59700cd5d2c240068fba486bdbae3beb",
       "max": 5010,
       "style": "IPY_MODEL_07086c538df14771a764ade9c1580ee7",
       "value": 5010
      }
     },
     "febd540e49ef4fd99fdc54fe086177e0": {
      "model_module": "@jupyter-widgets/controls",
      "model_module_version": "2.0.0",
      "model_name": "HTMLModel",
      "state": {
       "layout": "IPY_MODEL_560f73f6e6a2425e9f2f6e37320f3766",
       "style": "IPY_MODEL_f227d8505b17486d9a06c6c407784a20",
       "value": " 5010/5010 [1:30:29&lt;00:00,  1.59s/it]"
      }
     }
    },
    "version_major": 2,
    "version_minor": 0
   }
  }
 },
 "nbformat": 4,
 "nbformat_minor": 5
}
