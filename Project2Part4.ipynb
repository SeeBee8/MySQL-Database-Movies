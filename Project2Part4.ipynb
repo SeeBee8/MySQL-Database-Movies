{
 "cells": [
  {
   "cell_type": "markdown",
   "id": "156eeb09-890c-467c-8599-99e644e8a6ce",
   "metadata": {},
   "source": [
    "# Project 2 Part 4\n",
    "**Apply Hypothesis Testing**\n",
    "\n",
    "\n",
    "*Christina Brockway*"
   ]
  },
  {
   "cell_type": "markdown",
   "id": "e3fad493-7a69-4858-836c-01af441969f8",
   "metadata": {},
   "source": [
    "## Business Problem\n",
    "\n",
    "- Need a MySQL database on Movies from a subset of IMDB's publicly available dataset.\n",
    "- Use this database to analyze what makes a movie successul\n",
    "- Provide recommendations to the staakeholder on how to make a movie successful\n",
    "- Create 3 senarios with the dataset\n",
    "      -  Perform statistical testing to get mathematically-supported answers\n",
    "      -  Report if there is a significance difference between features\n",
    "          -  If yes, what was the p-value?\n",
    "          -  which feature earns the most revenue?\n",
    "      -  Prepare a visualization that supports findings"
   ]
  },
  {
   "cell_type": "markdown",
   "id": "7008c9c4-65cf-47c2-892e-721ce3887bbb",
   "metadata": {},
   "source": [
    "## Import/Load Data"
   ]
  },
  {
   "cell_type": "code",
   "execution_count": 1,
   "id": "2d297deb-9947-4a95-9862-478d0a3826a0",
   "metadata": {},
   "outputs": [],
   "source": [
    "import os, time, json\n",
    "import tmdbsimple as tmdb\n",
    "import pandas as pd\n",
    "import matplotlib.pyplot as plt\n",
    "import seaborn as sns\n",
    "import numpy as np\n",
    "import missingno as msno\n",
    "from tqdm.notebook import tqdm_notebook\n",
    "\n",
    "import scipy.stats as stats"
   ]
  },
  {
   "cell_type": "code",
   "execution_count": 2,
   "id": "f19f0233-1797-45c9-90c2-3e80c8be7fb6",
   "metadata": {},
   "outputs": [
    {
     "data": {
      "text/plain": [
       "dict_keys(['api_key'])"
      ]
     },
     "execution_count": 2,
     "metadata": {},
     "output_type": "execute_result"
    }
   ],
   "source": [
    "## Load API Key\n",
    "with open('/Users/csbro/.secret/tmdb_api.json', 'r') as f:\n",
    "    login = json.load(f)\n",
    "login.keys()"
   ]
  },
  {
   "cell_type": "code",
   "execution_count": 3,
   "id": "34cf137c-b709-4a29-9bd3-e92ff0cb886b",
   "metadata": {},
   "outputs": [],
   "source": [
    "tmdb.API_KEY = login['api_key']"
   ]
  },
  {
   "cell_type": "code",
   "execution_count": 12,
   "id": "24c92877-1105-4c34-b605-f1a8f72b653a",
   "metadata": {},
   "outputs": [],
   "source": [
    "FOLDER = 'MovieData/'\n"
   ]
  },
  {
   "cell_type": "code",
   "execution_count": 4,
   "id": "f5389262-3196-4f17-b40f-673776e2a1c0",
   "metadata": {},
   "outputs": [
    {
     "data": {
      "text/html": [
       "<div>\n",
       "<style scoped>\n",
       "    .dataframe tbody tr th:only-of-type {\n",
       "        vertical-align: middle;\n",
       "    }\n",
       "\n",
       "    .dataframe tbody tr th {\n",
       "        vertical-align: top;\n",
       "    }\n",
       "\n",
       "    .dataframe thead th {\n",
       "        text-align: right;\n",
       "    }\n",
       "</style>\n",
       "<table border=\"1\" class=\"dataframe\">\n",
       "  <thead>\n",
       "    <tr style=\"text-align: right;\">\n",
       "      <th></th>\n",
       "      <th>tconst</th>\n",
       "      <th>titleType</th>\n",
       "      <th>primaryTitle</th>\n",
       "      <th>originalTitle</th>\n",
       "      <th>isAdult</th>\n",
       "      <th>startYear</th>\n",
       "      <th>endYear</th>\n",
       "      <th>runtimeMinutes</th>\n",
       "      <th>genres</th>\n",
       "    </tr>\n",
       "  </thead>\n",
       "  <tbody>\n",
       "    <tr>\n",
       "      <th>0</th>\n",
       "      <td>tt0035423</td>\n",
       "      <td>movie</td>\n",
       "      <td>Kate &amp; Leopold</td>\n",
       "      <td>Kate &amp; Leopold</td>\n",
       "      <td>0</td>\n",
       "      <td>2001.0</td>\n",
       "      <td>NaN</td>\n",
       "      <td>118</td>\n",
       "      <td>Comedy,Fantasy,Romance</td>\n",
       "    </tr>\n",
       "    <tr>\n",
       "      <th>1</th>\n",
       "      <td>tt0062336</td>\n",
       "      <td>movie</td>\n",
       "      <td>The Tango of the Widower and Its Distorting Mi...</td>\n",
       "      <td>El tango del viudo y su espejo deformante</td>\n",
       "      <td>0</td>\n",
       "      <td>2020.0</td>\n",
       "      <td>NaN</td>\n",
       "      <td>70</td>\n",
       "      <td>Drama</td>\n",
       "    </tr>\n",
       "  </tbody>\n",
       "</table>\n",
       "</div>"
      ],
      "text/plain": [
       "      tconst titleType                                       primaryTitle  \\\n",
       "0  tt0035423     movie                                     Kate & Leopold   \n",
       "1  tt0062336     movie  The Tango of the Widower and Its Distorting Mi...   \n",
       "\n",
       "                               originalTitle  isAdult  startYear  endYear  \\\n",
       "0                             Kate & Leopold        0     2001.0      NaN   \n",
       "1  El tango del viudo y su espejo deformante        0     2020.0      NaN   \n",
       "\n",
       "   runtimeMinutes                  genres  \n",
       "0             118  Comedy,Fantasy,Romance  \n",
       "1              70                   Drama  "
      ]
     },
     "execution_count": 4,
     "metadata": {},
     "output_type": "execute_result"
    }
   ],
   "source": [
    "# Load in data from IMDB to compare to TMDB info\n",
    "basics = pd.read_csv(\"data/basics-filtered.csv\")\n",
    "basics.head(2)"
   ]
  },
  {
   "cell_type": "code",
   "execution_count": 14,
   "id": "cc786466-9b95-40b0-b128-862527c2bb99",
   "metadata": {},
   "outputs": [],
   "source": [
    "## Will use past 10 years from 2013 to 2023\n",
    "GET_YEARS = list(range(2017, 2021))\n",
    "\n",
    "#Create an empty list for errors\n",
    "errors = []"
   ]
  },
  {
   "cell_type": "code",
   "execution_count": 15,
   "id": "0c62ac91-16fd-4268-b7e0-9d4963753fbd",
   "metadata": {},
   "outputs": [],
   "source": [
    "#Define API function\n",
    "\n",
    "\n",
    "def get_movie_with_rating(movie_id):\n",
    "    #Get movie object using movie_id\n",
    "    movie= tmdb.Movies(movie_id)\n",
    "    #Save the dictionaries \n",
    "    movie_info = movie.info()\n",
    "    releases = movie.releases()\n",
    "    #Loop through countries for only US\n",
    "    for c in releases['countries']:\n",
    "        if c['iso_3166_1'] == 'US':\n",
    "            movie_info['certification']= c['certification']\n",
    "    return movie_info\n",
    "\n",
    "\n",
    "\n",
    "def write_json(new_data, filename):\n",
    "    \"\"\"Appends a list of records (new_data) into a json file (filename).\n",
    "    Adapted from: https://www.geeksforgeeks.org/append-to-json-file-using-python/\"\"\"\n",
    "\n",
    "    with open(filename, 'r+') as file:\n",
    "        #Load existing data into dictionary\n",
    "        file_data = json.load(file)\n",
    "        #choose to extend or append\n",
    "        if (type(new_data) == list) & (type(file_data) == list):\n",
    "            file_data.extend(new_data)\n",
    "        else:\n",
    "            file_data.append(new_data)\n",
    "        #set file's current position at offset\n",
    "        file.seek(0)\n",
    "        #convert back to json\n",
    "        json.dump(file_data, file)"
   ]
  },
  {
   "cell_type": "code",
   "execution_count": 16,
   "id": "60d6a82f-d710-4184-a9f8-6aea1471b62a",
   "metadata": {},
   "outputs": [
    {
     "data": {
      "text/html": [
       "<div>\n",
       "<style scoped>\n",
       "    .dataframe tbody tr th:only-of-type {\n",
       "        vertical-align: middle;\n",
       "    }\n",
       "\n",
       "    .dataframe tbody tr th {\n",
       "        vertical-align: top;\n",
       "    }\n",
       "\n",
       "    .dataframe thead th {\n",
       "        text-align: right;\n",
       "    }\n",
       "</style>\n",
       "<table border=\"1\" class=\"dataframe\">\n",
       "  <thead>\n",
       "    <tr style=\"text-align: right;\">\n",
       "      <th></th>\n",
       "      <th>adult</th>\n",
       "      <th>backdrop_path</th>\n",
       "      <th>belongs_to_collection</th>\n",
       "      <th>budget</th>\n",
       "      <th>genres</th>\n",
       "      <th>homepage</th>\n",
       "      <th>id</th>\n",
       "      <th>imdb_id</th>\n",
       "      <th>original_language</th>\n",
       "      <th>original_title</th>\n",
       "      <th>...</th>\n",
       "      <th>revenue</th>\n",
       "      <th>runtime</th>\n",
       "      <th>spoken_languages</th>\n",
       "      <th>status</th>\n",
       "      <th>tagline</th>\n",
       "      <th>title</th>\n",
       "      <th>video</th>\n",
       "      <th>vote_average</th>\n",
       "      <th>vote_count</th>\n",
       "      <th>certification</th>\n",
       "    </tr>\n",
       "  </thead>\n",
       "  <tbody>\n",
       "    <tr>\n",
       "      <th>0</th>\n",
       "      <td>False</td>\n",
       "      <td>/9BBTo63ANSmhC4e6r62OJFuK2GL.jpg</td>\n",
       "      <td>{'id': 86311, 'name': 'The Avengers Collection...</td>\n",
       "      <td>220000000</td>\n",
       "      <td>[{'id': 878, 'name': 'Science Fiction'}, {'id'...</td>\n",
       "      <td>https://www.marvel.com/movies/the-avengers</td>\n",
       "      <td>24428</td>\n",
       "      <td>tt0848228</td>\n",
       "      <td>en</td>\n",
       "      <td>The Avengers</td>\n",
       "      <td>...</td>\n",
       "      <td>1518815515</td>\n",
       "      <td>143</td>\n",
       "      <td>[{'english_name': 'English', 'iso_639_1': 'en'...</td>\n",
       "      <td>Released</td>\n",
       "      <td>Some assembly required.</td>\n",
       "      <td>The Avengers</td>\n",
       "      <td>False</td>\n",
       "      <td>7.711</td>\n",
       "      <td>29299</td>\n",
       "      <td>PG-13</td>\n",
       "    </tr>\n",
       "    <tr>\n",
       "      <th>1</th>\n",
       "      <td>False</td>\n",
       "      <td>/qom1SZSENdmHFNZBXbtJAU0WTlC.jpg</td>\n",
       "      <td>None</td>\n",
       "      <td>29000000</td>\n",
       "      <td>[{'id': 10749, 'name': 'Romance'}, {'id': 18, ...</td>\n",
       "      <td>http://www.newline.com/properties/notebookthe....</td>\n",
       "      <td>11036</td>\n",
       "      <td>tt0332280</td>\n",
       "      <td>en</td>\n",
       "      <td>The Notebook</td>\n",
       "      <td>...</td>\n",
       "      <td>115603229</td>\n",
       "      <td>123</td>\n",
       "      <td>[{'english_name': 'English', 'iso_639_1': 'en'...</td>\n",
       "      <td>Released</td>\n",
       "      <td>Behind every great love is a great story.</td>\n",
       "      <td>The Notebook</td>\n",
       "      <td>False</td>\n",
       "      <td>7.881</td>\n",
       "      <td>10701</td>\n",
       "      <td>PG-13</td>\n",
       "    </tr>\n",
       "  </tbody>\n",
       "</table>\n",
       "<p>2 rows × 26 columns</p>\n",
       "</div>"
      ],
      "text/plain": [
       "   adult                     backdrop_path  \\\n",
       "0  False  /9BBTo63ANSmhC4e6r62OJFuK2GL.jpg   \n",
       "1  False  /qom1SZSENdmHFNZBXbtJAU0WTlC.jpg   \n",
       "\n",
       "                               belongs_to_collection     budget  \\\n",
       "0  {'id': 86311, 'name': 'The Avengers Collection...  220000000   \n",
       "1                                               None   29000000   \n",
       "\n",
       "                                              genres  \\\n",
       "0  [{'id': 878, 'name': 'Science Fiction'}, {'id'...   \n",
       "1  [{'id': 10749, 'name': 'Romance'}, {'id': 18, ...   \n",
       "\n",
       "                                            homepage     id    imdb_id  \\\n",
       "0         https://www.marvel.com/movies/the-avengers  24428  tt0848228   \n",
       "1  http://www.newline.com/properties/notebookthe....  11036  tt0332280   \n",
       "\n",
       "  original_language original_title  ...     revenue  runtime  \\\n",
       "0                en   The Avengers  ...  1518815515      143   \n",
       "1                en   The Notebook  ...   115603229      123   \n",
       "\n",
       "                                    spoken_languages    status  \\\n",
       "0  [{'english_name': 'English', 'iso_639_1': 'en'...  Released   \n",
       "1  [{'english_name': 'English', 'iso_639_1': 'en'...  Released   \n",
       "\n",
       "                                     tagline         title  video  \\\n",
       "0                    Some assembly required.  The Avengers  False   \n",
       "1  Behind every great love is a great story.  The Notebook  False   \n",
       "\n",
       "   vote_average vote_count certification  \n",
       "0         7.711      29299         PG-13  \n",
       "1         7.881      10701         PG-13  \n",
       "\n",
       "[2 rows x 26 columns]"
      ]
     },
     "execution_count": 16,
     "metadata": {},
     "output_type": "execute_result"
    }
   ],
   "source": [
    "## Confirm APIO works\n",
    "test= [\"tt0848228\", \"tt0332280\"]\n",
    "results= []\n",
    "for movie_id in test:\n",
    "    movie_info = get_movie_with_rating(movie_id)\n",
    "    results.append(movie_info)\n",
    "pd.DataFrame(results)"
   ]
  },
  {
   "cell_type": "code",
   "execution_count": null,
   "id": "c2952dc9-a181-4eb8-95a8-562a94b8a4e3",
   "metadata": {},
   "outputs": [
    {
     "data": {
      "application/vnd.jupyter.widget-view+json": {
       "model_id": "3c6c396947b84cb3a35251fe7a6cd31d",
       "version_major": 2,
       "version_minor": 0
      },
      "text/plain": [
       "YEARS:   0%|          | 0/4 [00:00<?, ?it/s]"
      ]
     },
     "metadata": {},
     "output_type": "display_data"
    },
    {
     "name": "stdout",
     "output_type": "stream",
     "text": [
      "Creating json file for API results for 2017\n"
     ]
    },
    {
     "data": {
      "application/vnd.jupyter.widget-view+json": {
       "model_id": "b3eb2f958c4d41abaeed20b1a54bea4c",
       "version_major": 2,
       "version_minor": 0
      },
      "text/plain": [
       "Movies from 2017:   0%|          | 0/5643 [00:00<?, ?it/s]"
      ]
     },
     "metadata": {},
     "output_type": "display_data"
    },
    {
     "name": "stdout",
     "output_type": "stream",
     "text": [
      " - Total Errors: 1178\n",
      "Creating json file for API results for 2018\n"
     ]
    },
    {
     "data": {
      "application/vnd.jupyter.widget-view+json": {
       "model_id": "f2e4cf8f4a4d4c0eb05ba40d8aa7ade4",
       "version_major": 2,
       "version_minor": 0
      },
      "text/plain": [
       "Movies from 2018:   0%|          | 0/5785 [00:00<?, ?it/s]"
      ]
     },
     "metadata": {},
     "output_type": "display_data"
    },
    {
     "name": "stdout",
     "output_type": "stream",
     "text": [
      " - Total Errors: 2266\n",
      "Creating json file for API results for 2019\n"
     ]
    },
    {
     "data": {
      "application/vnd.jupyter.widget-view+json": {
       "model_id": "9a8bc13897d4450b9e5dc39f0f4924b9",
       "version_major": 2,
       "version_minor": 0
      },
      "text/plain": [
       "Movies from 2019:   0%|          | 0/5877 [00:00<?, ?it/s]"
      ]
     },
     "metadata": {},
     "output_type": "display_data"
    }
   ],
   "source": [
    "##OUTER LOOP\n",
    "for YEAR in tqdm_notebook(GET_YEARS, desc='YEARS', position=0):\n",
    "  \n",
    "    #Prepare DF for json file\n",
    "    JSON_MOVIE= f'{FOLDER}tmdb_api_results {YEAR}.json'\n",
    "        #Check if file exists\n",
    "    file_exists = os.path.isfile(JSON_MOVIE)\n",
    "    \n",
    "    if file_exists == False:\n",
    "        print(f'Creating json file for API results for {YEAR}')\n",
    "        with open(JSON_MOVIE, 'w') as f:\n",
    "            json.dump([{'imdb_id':0}], f)\n",
    "    else: \n",
    "        print(f'{JSON_MOVIE} already exists.')\n",
    "    \n",
    "    #Save dataframe\n",
    "    df = basics.loc[basics['startYear'] == YEAR].copy()\n",
    "    #saving movie_id to separate variable\n",
    "    movie_ids = df['tconst'].copy() #.to_list()\n",
    "\n",
    "    #Load exisiting data from json into DF called previous_df\n",
    "    previous_df = pd.read_json(JSON_MOVIE)\n",
    "\n",
    "    #filter out any ids that are already in the file\n",
    "    needed_mids = movie_ids[~movie_ids.isin(previous_df['imdb_id'])]\n",
    "\n",
    "    #INNER LOOP\n",
    "    for movie_id in tqdm_notebook(needed_mids,\n",
    "                                  desc=f'Movies from {YEAR}',\n",
    "                                  position=1,\n",
    "                                  leave=True):\n",
    "        try:\n",
    "            temp = get_movie_with_rating(movie_id)\n",
    "            #Append/Extend results to json file\n",
    "            write_json(temp, JSON_MOVIE)\n",
    "            time.sleep(0.02)\n",
    "        except Exception as e:\n",
    "            errors.append([movie_id, e])\n",
    "\n",
    "    print(f' - Total Errors: {len(errors)}')    \n",
    "\n",
    "\n",
    "    final_year_df = pd.read_json(JSON_MOVIE)\n",
    "    final_year_df.to_csv(f\"{FOLDER}final_tmdb_data_{YEAR}.csv.gz\", compression= 'gzip', index=False)"
   ]
  },
  {
   "cell_type": "code",
   "execution_count": null,
   "id": "5deb93f2-da97-43b7-8560-abb5efdd895b",
   "metadata": {},
   "outputs": [],
   "source": [
    "#Combine files with glob\n",
    "\n",
    "import glob\n",
    "q= \"MovieData/final_tmdb_data*.csv.gz\"\n",
    "tmdb_glob = sorted(glob.glob(q))\n",
    "tmdb_glob"
   ]
  },
  {
   "cell_type": "code",
   "execution_count": null,
   "id": "948498c8-e7df-419d-9c37-41ff1e635adb",
   "metadata": {},
   "outputs": [],
   "source": [
    "#Loading all files into dataframe\n",
    "df_glob = []\n",
    "for file in tmdb_glob:\n",
    "    temp_df = pd.read_csv(file, index_col=0)\n",
    "    df_glob.append(temp_df)\n",
    "#concat files\n",
    "df_tmdb = pd.concat(df_list)\n",
    "df_tmdb.head(2)"
   ]
  },
  {
   "cell_type": "code",
   "execution_count": null,
   "id": "22a22c66-d5f8-4862-8d7e-0cc66635eb11",
   "metadata": {},
   "outputs": [],
   "source": [
    "## Inspect the data\n",
    "df_tmdb.info()"
   ]
  },
  {
   "cell_type": "code",
   "execution_count": null,
   "id": "fab22c07-5ef8-4780-8003-d50ecc116ca9",
   "metadata": {},
   "outputs": [],
   "source": [
    "df_tmdb.duplicated().sum()"
   ]
  },
  {
   "cell_type": "code",
   "execution_count": null,
   "id": "982fb52f-0391-44ec-ac48-c29bd16e97c6",
   "metadata": {},
   "outputs": [],
   "source": [
    "df_tmdb.drop_duplicates(inplace=True)"
   ]
  },
  {
   "cell_type": "code",
   "execution_count": null,
   "id": "b804a7eb-dd7c-4697-8fd7-865fe238011e",
   "metadata": {},
   "outputs": [],
   "source": []
  },
  {
   "cell_type": "code",
   "execution_count": null,
   "id": "0f542c44-c2e7-4c2f-b21b-298775393290",
   "metadata": {},
   "outputs": [],
   "source": [
    "#slice only features needed and rename columns\n",
    "df_basics = df_tmdb[['tconst', 'titleType', 'primaryTitle', 'startYear', 'runtimeMinutes']]\n",
    "\n",
    "rename_basics = {'imdb_id':'tconst', 'primaryTitle':'primary_title', 'startYear':'start_year', 'runtimeMinutes':'runtime_mins'}\n",
    "df_basics= df_basics.rename(rename_basics, axis=1)\n",
    "\n",
    "df_basics.head(2)"
   ]
  },
  {
   "cell_type": "code",
   "execution_count": null,
   "id": "062a4a2d-2ac6-4dae-be64-2e7f0bd0a2ae",
   "metadata": {},
   "outputs": [],
   "source": [
    "df_basics.isna().sum()\n"
   ]
  },
  {
   "cell_type": "code",
   "execution_count": null,
   "id": "5f7a28f4-d6ea-47e3-b663-a441a70ae797",
   "metadata": {},
   "outputs": [],
   "source": [
    "msno.matirx(df_basics)"
   ]
  },
  {
   "cell_type": "code",
   "execution_count": null,
   "id": "e6358fe4-4283-4ed0-9f42-2c6e76568796",
   "metadata": {},
   "outputs": [],
   "source": [
    "df_basics.dropna(axis=1, inplace=True)"
   ]
  },
  {
   "cell_type": "code",
   "execution_count": null,
   "id": "04b7329c-0a45-4929-a2af-95f508e0d4bb",
   "metadata": {},
   "outputs": [],
   "source": [
    "df_genres = df_tmdb[['genres', 'tconst']]\n",
    "df_genres.head(2)"
   ]
  },
  {
   "cell_type": "code",
   "execution_count": null,
   "id": "6eae7d9b-084e-40ab-8258-2a1ab110c7d9",
   "metadata": {},
   "outputs": [],
   "source": [
    "df_basics.isna().sum()"
   ]
  },
  {
   "cell_type": "code",
   "execution_count": null,
   "id": "4b9d8e86-558b-4876-8a1a-50c9fb8b457b",
   "metadata": {},
   "outputs": [],
   "source": [
    "msno.matirx(df_genres)"
   ]
  },
  {
   "cell_type": "code",
   "execution_count": null,
   "id": "bef030fa-89b8-4a52-a8d1-cfa9ea7a739b",
   "metadata": {},
   "outputs": [],
   "source": [
    "df_genres.dropna(axis=1, inplace=True)"
   ]
  },
  {
   "cell_type": "code",
   "execution_count": null,
   "id": "5a32c173-299f-4c0f-bdcb-8c2dc8d60915",
   "metadata": {},
   "outputs": [],
   "source": [
    "df_ratings = df_tmdb[['tconst', 'averageRating', 'numVotes']]\n",
    "\n",
    "rename_ratings = {'averageRating':'avg_rating', 'numVotes':'num_votes'}\n",
    "df_ratings = df_ratings.rename(rename_ratings, axis = 1)\n",
    "\n",
    "df_ratings.head(2)"
   ]
  },
  {
   "cell_type": "code",
   "execution_count": null,
   "id": "4fc9d830-1940-4d23-908d-fd76eef95699",
   "metadata": {},
   "outputs": [],
   "source": [
    "df_ratings.isna().sum()"
   ]
  },
  {
   "cell_type": "code",
   "execution_count": null,
   "id": "3bdff764-5b3d-4bfa-af3f-208af63a7ee5",
   "metadata": {},
   "outputs": [],
   "source": [
    "msno.matirx(df_ratings)"
   ]
  },
  {
   "cell_type": "code",
   "execution_count": null,
   "id": "4e947afa-8029-4b0f-b2fd-b469ab5c9fca",
   "metadata": {},
   "outputs": [],
   "source": [
    "df_ratings.dropna(axis=1, inplace=True)"
   ]
  },
  {
   "cell_type": "code",
   "execution_count": null,
   "id": "11bb3272-5bb0-40c3-b579-23eec10affa8",
   "metadata": {},
   "outputs": [],
   "source": [
    "df_tmdbdata = df_tmdb[['imdb_id', 'revenue', 'budget', 'certification']]\n",
    "\n",
    "df_tmdb = df_tmdb.rename(columns{\"imdb_id\":'tconst'}, axis+1)\n",
    "\n",
    "df_tmdbdata.head(2)"
   ]
  },
  {
   "cell_type": "code",
   "execution_count": null,
   "id": "24fbdb46-34cb-4196-8449-5edc8efaf27b",
   "metadata": {},
   "outputs": [],
   "source": [
    "df_tmdbdata.isna().sum()"
   ]
  },
  {
   "cell_type": "code",
   "execution_count": null,
   "id": "314494ff-c09e-45a5-beeb-d28d74294ceb",
   "metadata": {},
   "outputs": [],
   "source": [
    "msno.matirx(df_tmdbdata)"
   ]
  },
  {
   "cell_type": "code",
   "execution_count": null,
   "id": "684bada1-3c6b-4e11-88c2-4e11934e84cc",
   "metadata": {},
   "outputs": [],
   "source": [
    "df_tmdbdata.dropna(axis=1, inplace=True)"
   ]
  },
  {
   "cell_type": "markdown",
   "id": "a65577e9-8430-4343-918b-76ec072a78ca",
   "metadata": {},
   "source": [
    "#### Normalize Data"
   ]
  },
  {
   "cell_type": "markdown",
   "id": "0d59ac16-fda0-4101-af32-0f71802e2250",
   "metadata": {},
   "source": [
    "# Genres"
   ]
  },
  {
   "cell_type": "code",
   "execution_count": null,
   "id": "3d3ea172-305d-4b2a-81b0-34db71378bec",
   "metadata": {},
   "outputs": [],
   "source": [
    "#split genres\n",
    "df_genres['genres_split'] = df['genres'].str.split(',')\n",
    "df_genres.head(2)"
   ]
  },
  {
   "cell_type": "code",
   "execution_count": null,
   "id": "98a0173d-4021-46ca-9a8d-0b4644d3592b",
   "metadata": {},
   "outputs": [],
   "source": [
    "#Separated list of genres\n",
    "exploded_genres = df_genres.explode('genres_split')\n",
    "exploded_genres.head(2)"
   ]
  },
  {
   "cell_type": "code",
   "execution_count": null,
   "id": "90fc2c19-5a0d-4656-a119-9aa1652c7d91",
   "metadata": {},
   "outputs": [],
   "source": [
    "#### get unique genres from split\n",
    "unique_genres = sorted(exploded_genres['genres_split'].unique()\n",
    "\n",
    "title_genres = exploded_genres[['tconst', 'genres_split']]\n",
    "\n",
    "title_genres.head(2)"
   ]
  },
  {
   "cell_type": "code",
   "execution_count": null,
   "id": "86238ad6-2b48-4824-9e3e-08db9054f4b3",
   "metadata": {},
   "outputs": [],
   "source": [
    "#create genre mapper dictionary\n",
    "genre_init = range(len(unique_genres))\n",
    "genre_map = dict(zip(unique_genres, genre_init))\n",
    "genre_map"
   ]
  },
  {
   "cell_type": "code",
   "execution_count": null,
   "id": "b883f0b7-dba9-47dd-928f-ab6265dd42e8",
   "metadata": {},
   "outputs": [],
   "source": [
    "#Add genres_id column\n",
    "title_genres['genres_id'] = title_genres['genres_split'].map(genre_map)\n",
    "#Drop genres split column\n",
    "title_genres = title_genres.drop(columns='genres_split')\n",
    "title_genres.head(2)"
   ]
  },
  {
   "cell_type": "markdown",
   "id": "6b6dd25b-e4cf-49bb-a1a6-d9053b9db3e7",
   "metadata": {},
   "source": [
    "#### Load data into MySQL database"
   ]
  },
  {
   "cell_type": "code",
   "execution_count": null,
   "id": "58382f24-bff7-4de8-9143-0f41eaeff22a",
   "metadata": {},
   "outputs": [],
   "source": [
    "df_basics.to_sql('basics', engine, \n",
    "               if_exists='append', index=False)"
   ]
  },
  {
   "cell_type": "code",
   "execution_count": null,
   "id": "2a7aa659-2225-4665-86b8-1e917643b359",
   "metadata": {},
   "outputs": [],
   "source": [
    "title_genres.to_sql('title_genres', engine, \n",
    "               if_exists=\"append\", index=False)"
   ]
  },
  {
   "cell_type": "code",
   "execution_count": null,
   "id": "0c333c89-baf6-487e-92cd-1edb951d8044",
   "metadata": {},
   "outputs": [],
   "source": [
    "df_genres.to_sql('genres', engine, \n",
    "               if_exists='append', index=False)"
   ]
  },
  {
   "cell_type": "code",
   "execution_count": null,
   "id": "ff0777b7-dc7d-4034-b155-c9282122c7ea",
   "metadata": {},
   "outputs": [],
   "source": [
    "df_ratings.to_sql('ratings', engine, if_exits='append', index+False)"
   ]
  },
  {
   "cell_type": "code",
   "execution_count": null,
   "id": "541f5f65-2ea4-4a27-b355-4419ed726091",
   "metadata": {},
   "outputs": [],
   "source": [
    "df_tmdb.to_sql('tmdb_data', engine, if_exists='append', index=False)"
   ]
  },
  {
   "cell_type": "markdown",
   "id": "fcfe93f9-192f-42f1-b472-1073d006c618",
   "metadata": {},
   "source": [
    "#### Verify data has been uploaded "
   ]
  },
  {
   "cell_type": "code",
   "execution_count": null,
   "id": "2311f0b3-1b46-4a60-8b9c-2972672b549c",
   "metadata": {},
   "outputs": [],
   "source": [
    "q=\"\"\"\n",
    "SHOW TABLES;\n",
    "\"\"\"\n",
    "pd.read_sql(q, engine)"
   ]
  },
  {
   "cell_type": "code",
   "execution_count": null,
   "id": "382164ab-4418-4590-a85e-85558832adce",
   "metadata": {},
   "outputs": [],
   "source": [
    "#display \\basics info\n",
    "q = \"\"\"\n",
    "DESCRIBE basics;\n",
    "\"\"\"\n",
    "\n",
    "pd.read_sql(q, engine)"
   ]
  },
  {
   "cell_type": "code",
   "execution_count": null,
   "id": "5d62a998-fc37-4717-96ba-8e79bb9a1aea",
   "metadata": {},
   "outputs": [],
   "source": [
    "#confirm data has been added\n",
    "q= \"\"\"\n",
    "SELECT * FROM basics\n",
    "LIMIT 5;\n",
    "\"\"\"\n",
    "pd.read_sql(q, engine)"
   ]
  },
  {
   "cell_type": "code",
   "execution_count": null,
   "id": "dab2c63f-f02b-4a89-8edf-c8b4c3f0c7f3",
   "metadata": {},
   "outputs": [],
   "source": []
  },
  {
   "cell_type": "code",
   "execution_count": null,
   "id": "201f8ff8-beef-4d86-8ce4-e3c074bf8165",
   "metadata": {},
   "outputs": [],
   "source": []
  },
  {
   "cell_type": "markdown",
   "id": "2a6fb398-04b2-4103-b91f-09fc5a6b324c",
   "metadata": {},
   "source": [
    "### First Senario:\n",
    "\n",
    "Does the MPAA rating of a movie affect how much revenue the movie generates?"
   ]
  }
 ],
 "metadata": {
  "kernelspec": {
   "display_name": "Python (dojo-env)",
   "language": "python",
   "name": "dojo-env"
  },
  "language_info": {
   "codemirror_mode": {
    "name": "ipython",
    "version": 3
   },
   "file_extension": ".py",
   "mimetype": "text/x-python",
   "name": "python",
   "nbconvert_exporter": "python",
   "pygments_lexer": "ipython3",
   "version": "3.10.10"
  },
  "widgets": {
   "application/vnd.jupyter.widget-state+json": {
    "state": {
     "084d5e3d73aa4302a01e93e26e28e3f5": {
      "model_module": "@jupyter-widgets/base",
      "model_module_version": "2.0.0",
      "model_name": "LayoutModel",
      "state": {}
     },
     "0dedeb3603264f1b8fbc752d08b8c3b1": {
      "model_module": "@jupyter-widgets/controls",
      "model_module_version": "2.0.0",
      "model_name": "HTMLModel",
      "state": {
       "layout": "IPY_MODEL_383a49c2017440c081e8b3b85732b3a1",
       "style": "IPY_MODEL_3398ca531f22441f8ebd51eca790c9da",
       "value": " 2/4 [2:59:07&lt;3:02:02, 5461.02s/it]"
      }
     },
     "121d014905b5416c9ffe6d8a59c13207": {
      "model_module": "@jupyter-widgets/controls",
      "model_module_version": "2.0.0",
      "model_name": "ProgressStyleModel",
      "state": {
       "description_width": ""
      }
     },
     "129209ad806f428aa670c5e16fd5f10d": {
      "model_module": "@jupyter-widgets/base",
      "model_module_version": "2.0.0",
      "model_name": "LayoutModel",
      "state": {}
     },
     "161bc53d675349da905e9ce96975f6fa": {
      "model_module": "@jupyter-widgets/controls",
      "model_module_version": "2.0.0",
      "model_name": "HTMLModel",
      "state": {
       "layout": "IPY_MODEL_9b22fa752ea145278f75708fd62576b6",
       "style": "IPY_MODEL_8d10c9c7848c43709604746232c8e2e0",
       "value": "YEARS: 100%"
      }
     },
     "1a36c3dba38f4374a32d7407c4ffac94": {
      "model_module": "@jupyter-widgets/controls",
      "model_module_version": "2.0.0",
      "model_name": "ProgressStyleModel",
      "state": {
       "description_width": ""
      }
     },
     "20c7fbc483f44c50ac9352181c146191": {
      "model_module": "@jupyter-widgets/controls",
      "model_module_version": "2.0.0",
      "model_name": "HBoxModel",
      "state": {
       "children": [
        "IPY_MODEL_9762d210c7e248868a140540b2695f66",
        "IPY_MODEL_9c6d7e041cbd41a6a82c3f28ef4c5ec0",
        "IPY_MODEL_820630f6b28f49ff9ed724a8381732c5"
       ],
       "layout": "IPY_MODEL_a781e40a19854eaabafe854d414c5756"
      }
     },
     "218336db8f8e4facb99e3843191caa8c": {
      "model_module": "@jupyter-widgets/controls",
      "model_module_version": "2.0.0",
      "model_name": "FloatProgressModel",
      "state": {
       "layout": "IPY_MODEL_c236d5a345d547d4bd3151d214b5bc46",
       "max": 4,
       "style": "IPY_MODEL_e2c7558382754db18724bbf9c0f681e3",
       "value": 2
      }
     },
     "2184206b904849a1b114048327675a60": {
      "model_module": "@jupyter-widgets/controls",
      "model_module_version": "2.0.0",
      "model_name": "HTMLModel",
      "state": {
       "layout": "IPY_MODEL_129209ad806f428aa670c5e16fd5f10d",
       "style": "IPY_MODEL_cea058eb710c4f07a7be3e60c9a0f9c4",
       "value": "Movies from 2018: 100%"
      }
     },
     "2d8baf141b084b2dba2c0a76489b0f6e": {
      "model_module": "@jupyter-widgets/base",
      "model_module_version": "2.0.0",
      "model_name": "LayoutModel",
      "state": {}
     },
     "2e72ab40780b4d4191f2615e30e24710": {
      "model_module": "@jupyter-widgets/base",
      "model_module_version": "2.0.0",
      "model_name": "LayoutModel",
      "state": {}
     },
     "2ea7c981fc24440e9623a9aa5caefca7": {
      "model_module": "@jupyter-widgets/controls",
      "model_module_version": "2.0.0",
      "model_name": "HTMLStyleModel",
      "state": {
       "description_width": "",
       "font_size": null,
       "text_color": null
      }
     },
     "33640aad64914e6a9b1f25237760d97f": {
      "model_module": "@jupyter-widgets/controls",
      "model_module_version": "2.0.0",
      "model_name": "ProgressStyleModel",
      "state": {
       "description_width": ""
      }
     },
     "3398ca531f22441f8ebd51eca790c9da": {
      "model_module": "@jupyter-widgets/controls",
      "model_module_version": "2.0.0",
      "model_name": "HTMLStyleModel",
      "state": {
       "description_width": "",
       "font_size": null,
       "text_color": null
      }
     },
     "35033d784776432d8aaece93105bd389": {
      "model_module": "@jupyter-widgets/controls",
      "model_module_version": "2.0.0",
      "model_name": "HTMLModel",
      "state": {
       "layout": "IPY_MODEL_a6d0895fcaf942a59a12215e03b8c9b6",
       "style": "IPY_MODEL_8f3f245be12b4f0f8bddb72ee2aa02a1",
       "value": "Movies from 2019:  49%"
      }
     },
     "383a49c2017440c081e8b3b85732b3a1": {
      "model_module": "@jupyter-widgets/base",
      "model_module_version": "2.0.0",
      "model_name": "LayoutModel",
      "state": {}
     },
     "3918f71036094663ab77d0659755ed93": {
      "model_module": "@jupyter-widgets/base",
      "model_module_version": "2.0.0",
      "model_name": "LayoutModel",
      "state": {}
     },
     "3c6c396947b84cb3a35251fe7a6cd31d": {
      "model_module": "@jupyter-widgets/controls",
      "model_module_version": "2.0.0",
      "model_name": "HBoxModel",
      "state": {
       "children": [
        "IPY_MODEL_5a6548109cd44f04888d29258cd13df4",
        "IPY_MODEL_218336db8f8e4facb99e3843191caa8c",
        "IPY_MODEL_0dedeb3603264f1b8fbc752d08b8c3b1"
       ],
       "layout": "IPY_MODEL_471c23c521f74260b23ca39aa4a505e3"
      }
     },
     "3e4dbf50deff4341a67603602fb931e3": {
      "model_module": "@jupyter-widgets/controls",
      "model_module_version": "2.0.0",
      "model_name": "HTMLModel",
      "state": {
       "layout": "IPY_MODEL_96f933bd194543e0bd43a67dc36aa2cd",
       "style": "IPY_MODEL_8dbb00efc3a147869fed924ec9aa0a52",
       "value": "Movies from 2013: 100%"
      }
     },
     "3ee62fd88bbd49eb9cef57fb17a19e58": {
      "model_module": "@jupyter-widgets/base",
      "model_module_version": "2.0.0",
      "model_name": "LayoutModel",
      "state": {}
     },
     "3fd9018d861844cfa688dda70a436e07": {
      "model_module": "@jupyter-widgets/base",
      "model_module_version": "2.0.0",
      "model_name": "LayoutModel",
      "state": {}
     },
     "4328ee909f4f4f2e98f85429b915bf4c": {
      "model_module": "@jupyter-widgets/controls",
      "model_module_version": "2.0.0",
      "model_name": "HTMLModel",
      "state": {
       "layout": "IPY_MODEL_8f70e65af8a04912a7595defcdef67b0",
       "style": "IPY_MODEL_69aa8661bc094f76a72805d26a2fe4f9",
       "value": "YEARS:   0%"
      }
     },
     "43d555965a844d30b52890e6b2259fdb": {
      "model_module": "@jupyter-widgets/controls",
      "model_module_version": "2.0.0",
      "model_name": "HTMLModel",
      "state": {
       "layout": "IPY_MODEL_6e218dfae4de4eeabd47912973395c73",
       "style": "IPY_MODEL_8aa11db9b3c74bfca00d62e6357fb51a",
       "value": " 4714/4714 [1:09:42&lt;00:00,  1.68it/s]"
      }
     },
     "471c23c521f74260b23ca39aa4a505e3": {
      "model_module": "@jupyter-widgets/base",
      "model_module_version": "2.0.0",
      "model_name": "LayoutModel",
      "state": {}
     },
     "4878016b8e0744a88b0ea739a870eb90": {
      "model_module": "@jupyter-widgets/base",
      "model_module_version": "2.0.0",
      "model_name": "LayoutModel",
      "state": {}
     },
     "491d8d2c93cc424094120acb85799062": {
      "model_module": "@jupyter-widgets/base",
      "model_module_version": "2.0.0",
      "model_name": "LayoutModel",
      "state": {}
     },
     "4b5349382b83416987df73680684a9b6": {
      "model_module": "@jupyter-widgets/controls",
      "model_module_version": "2.0.0",
      "model_name": "FloatProgressModel",
      "state": {
       "bar_style": "success",
       "layout": "IPY_MODEL_873a01b8d378482382fdaabbe2b69e0f",
       "max": 4714,
       "style": "IPY_MODEL_cc893c852ea34873962023486dad7d2e",
       "value": 4714
      }
     },
     "4e96b05698434b31bf7861985f92693e": {
      "model_module": "@jupyter-widgets/controls",
      "model_module_version": "2.0.0",
      "model_name": "HBoxModel",
      "state": {
       "children": [
        "IPY_MODEL_64914bd0e9fc44b586834d4d97d7ec92",
        "IPY_MODEL_e584cd83a9da4d96afc06fd23ddc9a9e",
        "IPY_MODEL_7804507066c9439b8e09292e61d585d8"
       ],
       "layout": "IPY_MODEL_9dc5018d7884477e96a719ea73eb3ef7"
      }
     },
     "5225f337f7f943038c0112d78055ebd5": {
      "model_module": "@jupyter-widgets/controls",
      "model_module_version": "2.0.0",
      "model_name": "ProgressStyleModel",
      "state": {
       "description_width": ""
      }
     },
     "536310212b784ffbb4f8f571ff5df55b": {
      "model_module": "@jupyter-widgets/controls",
      "model_module_version": "2.0.0",
      "model_name": "HTMLModel",
      "state": {
       "layout": "IPY_MODEL_f40464bf71f340898782eeae0a91e0d4",
       "style": "IPY_MODEL_2ea7c981fc24440e9623a9aa5caefca7",
       "value": " 4917/4917 [1:14:47&lt;00:00,  2.27it/s]"
      }
     },
     "550119dc28114c87983f2277f98918f0": {
      "model_module": "@jupyter-widgets/controls",
      "model_module_version": "2.0.0",
      "model_name": "FloatProgressModel",
      "state": {
       "layout": "IPY_MODEL_c804bf89096c4280a9d8aa6843e13081",
       "max": 5877,
       "style": "IPY_MODEL_121d014905b5416c9ffe6d8a59c13207",
       "value": 2856
      }
     },
     "560645e8f60344c692e77e83c668c599": {
      "model_module": "@jupyter-widgets/controls",
      "model_module_version": "2.0.0",
      "model_name": "ProgressStyleModel",
      "state": {
       "description_width": ""
      }
     },
     "59601f44445148d092e4e49ce21355e1": {
      "model_module": "@jupyter-widgets/controls",
      "model_module_version": "2.0.0",
      "model_name": "HTMLStyleModel",
      "state": {
       "description_width": "",
       "font_size": null,
       "text_color": null
      }
     },
     "5a6548109cd44f04888d29258cd13df4": {
      "model_module": "@jupyter-widgets/controls",
      "model_module_version": "2.0.0",
      "model_name": "HTMLModel",
      "state": {
       "layout": "IPY_MODEL_b106f52ffb2640a8904f1b6da0490293",
       "style": "IPY_MODEL_a0c0be07e71341eb977c36a243b0318d",
       "value": "YEARS:  50%"
      }
     },
     "5b086cc448ea4d22bff06d031ebd18af": {
      "model_module": "@jupyter-widgets/controls",
      "model_module_version": "2.0.0",
      "model_name": "HTMLStyleModel",
      "state": {
       "description_width": "",
       "font_size": null,
       "text_color": null
      }
     },
     "5de3e1b28f06467fbbf96d37e9454292": {
      "model_module": "@jupyter-widgets/controls",
      "model_module_version": "2.0.0",
      "model_name": "ProgressStyleModel",
      "state": {
       "description_width": ""
      }
     },
     "5e9977e555f547cfb367c6112134af23": {
      "model_module": "@jupyter-widgets/base",
      "model_module_version": "2.0.0",
      "model_name": "LayoutModel",
      "state": {}
     },
     "5ef9eef08d974bb38916f2f45f3aba49": {
      "model_module": "@jupyter-widgets/controls",
      "model_module_version": "2.0.0",
      "model_name": "ProgressStyleModel",
      "state": {
       "description_width": ""
      }
     },
     "64914bd0e9fc44b586834d4d97d7ec92": {
      "model_module": "@jupyter-widgets/controls",
      "model_module_version": "2.0.0",
      "model_name": "HTMLModel",
      "state": {
       "layout": "IPY_MODEL_3ee62fd88bbd49eb9cef57fb17a19e58",
       "style": "IPY_MODEL_e09143ad18f04eb6bf6fb501cb34d519",
       "value": "Movies from 2016: 100%"
      }
     },
     "69aa8661bc094f76a72805d26a2fe4f9": {
      "model_module": "@jupyter-widgets/controls",
      "model_module_version": "2.0.0",
      "model_name": "HTMLStyleModel",
      "state": {
       "description_width": "",
       "font_size": null,
       "text_color": null
      }
     },
     "6bbcb91a8a534c279f62247f352f33fc": {
      "model_module": "@jupyter-widgets/controls",
      "model_module_version": "2.0.0",
      "model_name": "HTMLStyleModel",
      "state": {
       "description_width": "",
       "font_size": null,
       "text_color": null
      }
     },
     "6e218dfae4de4eeabd47912973395c73": {
      "model_module": "@jupyter-widgets/base",
      "model_module_version": "2.0.0",
      "model_name": "LayoutModel",
      "state": {}
     },
     "72f0d47b924f41b298f030527bba6bbc": {
      "model_module": "@jupyter-widgets/controls",
      "model_module_version": "2.0.0",
      "model_name": "HTMLStyleModel",
      "state": {
       "description_width": "",
       "font_size": null,
       "text_color": null
      }
     },
     "7804507066c9439b8e09292e61d585d8": {
      "model_module": "@jupyter-widgets/controls",
      "model_module_version": "2.0.0",
      "model_name": "HTMLModel",
      "state": {
       "layout": "IPY_MODEL_084d5e3d73aa4302a01e93e26e28e3f5",
       "style": "IPY_MODEL_5b086cc448ea4d22bff06d031ebd18af",
       "value": " 5256/5256 [1:13:03&lt;00:00,  1.07it/s]"
      }
     },
     "81cf3b879b064abba476b8f36e66fb99": {
      "model_module": "@jupyter-widgets/controls",
      "model_module_version": "2.0.0",
      "model_name": "HBoxModel",
      "state": {
       "children": [
        "IPY_MODEL_4328ee909f4f4f2e98f85429b915bf4c",
        "IPY_MODEL_bde327ec52f348cbbdbc724fd338c984",
        "IPY_MODEL_da6b7a50e13b4e2b8cb60ecc7efcb355"
       ],
       "layout": "IPY_MODEL_a8d2a2a3a4d44c09be4513fdba9dbe2d"
      }
     },
     "820630f6b28f49ff9ed724a8381732c5": {
      "model_module": "@jupyter-widgets/controls",
      "model_module_version": "2.0.0",
      "model_name": "HTMLModel",
      "state": {
       "layout": "IPY_MODEL_3fd9018d861844cfa688dda70a436e07",
       "style": "IPY_MODEL_a5894d8f1ec24c31a94442b8488dcc00",
       "value": " 5056/5056 [1:08:34&lt;00:00,  1.80it/s]"
      }
     },
     "852d6abb2b3e4516bcfbc3525e22e416": {
      "model_module": "@jupyter-widgets/base",
      "model_module_version": "2.0.0",
      "model_name": "LayoutModel",
      "state": {}
     },
     "871915dfafb446c0ae057fbbf09c06b9": {
      "model_module": "@jupyter-widgets/controls",
      "model_module_version": "2.0.0",
      "model_name": "FloatProgressModel",
      "state": {
       "bar_style": "success",
       "layout": "IPY_MODEL_e361b9958b674c469b8db3c352fb62fb",
       "max": 4917,
       "style": "IPY_MODEL_33640aad64914e6a9b1f25237760d97f",
       "value": 4917
      }
     },
     "873a01b8d378482382fdaabbe2b69e0f": {
      "model_module": "@jupyter-widgets/base",
      "model_module_version": "2.0.0",
      "model_name": "LayoutModel",
      "state": {}
     },
     "87d96c60762547f1a3820b855ea7df0a": {
      "model_module": "@jupyter-widgets/controls",
      "model_module_version": "2.0.0",
      "model_name": "HTMLModel",
      "state": {
       "layout": "IPY_MODEL_491d8d2c93cc424094120acb85799062",
       "style": "IPY_MODEL_efa226145c624cbeb053132675280718",
       "value": "Movies from 2017: 100%"
      }
     },
     "8aa11db9b3c74bfca00d62e6357fb51a": {
      "model_module": "@jupyter-widgets/controls",
      "model_module_version": "2.0.0",
      "model_name": "HTMLStyleModel",
      "state": {
       "description_width": "",
       "font_size": null,
       "text_color": null
      }
     },
     "8be7c3496b3b421fa83edc3591c44c0c": {
      "model_module": "@jupyter-widgets/base",
      "model_module_version": "2.0.0",
      "model_name": "LayoutModel",
      "state": {}
     },
     "8d10c9c7848c43709604746232c8e2e0": {
      "model_module": "@jupyter-widgets/controls",
      "model_module_version": "2.0.0",
      "model_name": "HTMLStyleModel",
      "state": {
       "description_width": "",
       "font_size": null,
       "text_color": null
      }
     },
     "8dbb00efc3a147869fed924ec9aa0a52": {
      "model_module": "@jupyter-widgets/controls",
      "model_module_version": "2.0.0",
      "model_name": "HTMLStyleModel",
      "state": {
       "description_width": "",
       "font_size": null,
       "text_color": null
      }
     },
     "8dfdc0bf2d12484aa0bd941b6cf98fc5": {
      "model_module": "@jupyter-widgets/base",
      "model_module_version": "2.0.0",
      "model_name": "LayoutModel",
      "state": {}
     },
     "8f3f245be12b4f0f8bddb72ee2aa02a1": {
      "model_module": "@jupyter-widgets/controls",
      "model_module_version": "2.0.0",
      "model_name": "HTMLStyleModel",
      "state": {
       "description_width": "",
       "font_size": null,
       "text_color": null
      }
     },
     "8f70e65af8a04912a7595defcdef67b0": {
      "model_module": "@jupyter-widgets/base",
      "model_module_version": "2.0.0",
      "model_name": "LayoutModel",
      "state": {}
     },
     "90d34329a2a943e8927fc587195f5703": {
      "model_module": "@jupyter-widgets/base",
      "model_module_version": "2.0.0",
      "model_name": "LayoutModel",
      "state": {}
     },
     "9548805b9c8641dea4e273cd6d82a73c": {
      "model_module": "@jupyter-widgets/base",
      "model_module_version": "2.0.0",
      "model_name": "LayoutModel",
      "state": {}
     },
     "96f933bd194543e0bd43a67dc36aa2cd": {
      "model_module": "@jupyter-widgets/base",
      "model_module_version": "2.0.0",
      "model_name": "LayoutModel",
      "state": {}
     },
     "9762d210c7e248868a140540b2695f66": {
      "model_module": "@jupyter-widgets/controls",
      "model_module_version": "2.0.0",
      "model_name": "HTMLModel",
      "state": {
       "layout": "IPY_MODEL_c255a216d4a14be8b58783a1e2a547b0",
       "style": "IPY_MODEL_6bbcb91a8a534c279f62247f352f33fc",
       "value": "Movies from 2015: 100%"
      }
     },
     "98a2431395f24b4a91682365514bb635": {
      "model_module": "@jupyter-widgets/controls",
      "model_module_version": "2.0.0",
      "model_name": "HBoxModel",
      "state": {
       "children": [
        "IPY_MODEL_3e4dbf50deff4341a67603602fb931e3",
        "IPY_MODEL_4b5349382b83416987df73680684a9b6",
        "IPY_MODEL_43d555965a844d30b52890e6b2259fdb"
       ],
       "layout": "IPY_MODEL_ef144475749b42efb59cc38587d518fe"
      }
     },
     "98a7ea02706049f8870b968251a0722d": {
      "model_module": "@jupyter-widgets/controls",
      "model_module_version": "2.0.0",
      "model_name": "FloatProgressModel",
      "state": {
       "bar_style": "success",
       "layout": "IPY_MODEL_d5217bb6d48b4313a954d3456bd261e9",
       "max": 5785,
       "style": "IPY_MODEL_1a36c3dba38f4374a32d7407c4ffac94",
       "value": 5785
      }
     },
     "9a8bc13897d4450b9e5dc39f0f4924b9": {
      "model_module": "@jupyter-widgets/controls",
      "model_module_version": "2.0.0",
      "model_name": "HBoxModel",
      "state": {
       "children": [
        "IPY_MODEL_35033d784776432d8aaece93105bd389",
        "IPY_MODEL_550119dc28114c87983f2277f98918f0",
        "IPY_MODEL_c729e9cb0396435497d730ca8cd03db6"
       ],
       "layout": "IPY_MODEL_5e9977e555f547cfb367c6112134af23"
      }
     },
     "9b22fa752ea145278f75708fd62576b6": {
      "model_module": "@jupyter-widgets/base",
      "model_module_version": "2.0.0",
      "model_name": "LayoutModel",
      "state": {}
     },
     "9b821af64f304f1f882d26f848944ea7": {
      "model_module": "@jupyter-widgets/controls",
      "model_module_version": "2.0.0",
      "model_name": "HBoxModel",
      "state": {
       "children": [
        "IPY_MODEL_f0d64c78515948658ef3b7493c8fd602",
        "IPY_MODEL_871915dfafb446c0ae057fbbf09c06b9",
        "IPY_MODEL_536310212b784ffbb4f8f571ff5df55b"
       ],
       "layout": "IPY_MODEL_90d34329a2a943e8927fc587195f5703"
      }
     },
     "9c6d7e041cbd41a6a82c3f28ef4c5ec0": {
      "model_module": "@jupyter-widgets/controls",
      "model_module_version": "2.0.0",
      "model_name": "FloatProgressModel",
      "state": {
       "bar_style": "success",
       "layout": "IPY_MODEL_b04bde2ff6264140b3c18d6b8fa18d92",
       "max": 5056,
       "style": "IPY_MODEL_c0c44d1c7a8345cd997174b3f1b998b8",
       "value": 5056
      }
     },
     "9c9c32c146ef4493b03951608979b000": {
      "model_module": "@jupyter-widgets/controls",
      "model_module_version": "2.0.0",
      "model_name": "HTMLModel",
      "state": {
       "layout": "IPY_MODEL_3918f71036094663ab77d0659755ed93",
       "style": "IPY_MODEL_fce84c14de414eba9e92a2a7cafcf598",
       "value": " 5785/5785 [1:37:46&lt;00:00,  1.13it/s]"
      }
     },
     "9ce986249e2d459493037a0b25995a1a": {
      "model_module": "@jupyter-widgets/controls",
      "model_module_version": "2.0.0",
      "model_name": "HTMLStyleModel",
      "state": {
       "description_width": "",
       "font_size": null,
       "text_color": null
      }
     },
     "9dc191925970456c8824192dd796dddd": {
      "model_module": "@jupyter-widgets/controls",
      "model_module_version": "2.0.0",
      "model_name": "HTMLStyleModel",
      "state": {
       "description_width": "",
       "font_size": null,
       "text_color": null
      }
     },
     "9dc5018d7884477e96a719ea73eb3ef7": {
      "model_module": "@jupyter-widgets/base",
      "model_module_version": "2.0.0",
      "model_name": "LayoutModel",
      "state": {}
     },
     "a0c0be07e71341eb977c36a243b0318d": {
      "model_module": "@jupyter-widgets/controls",
      "model_module_version": "2.0.0",
      "model_name": "HTMLStyleModel",
      "state": {
       "description_width": "",
       "font_size": null,
       "text_color": null
      }
     },
     "a31321a9476043349d33f90b000be19b": {
      "model_module": "@jupyter-widgets/controls",
      "model_module_version": "2.0.0",
      "model_name": "HTMLStyleModel",
      "state": {
       "description_width": "",
       "font_size": null,
       "text_color": null
      }
     },
     "a5894d8f1ec24c31a94442b8488dcc00": {
      "model_module": "@jupyter-widgets/controls",
      "model_module_version": "2.0.0",
      "model_name": "HTMLStyleModel",
      "state": {
       "description_width": "",
       "font_size": null,
       "text_color": null
      }
     },
     "a6d0895fcaf942a59a12215e03b8c9b6": {
      "model_module": "@jupyter-widgets/base",
      "model_module_version": "2.0.0",
      "model_name": "LayoutModel",
      "state": {}
     },
     "a781e40a19854eaabafe854d414c5756": {
      "model_module": "@jupyter-widgets/base",
      "model_module_version": "2.0.0",
      "model_name": "LayoutModel",
      "state": {}
     },
     "a8d2a2a3a4d44c09be4513fdba9dbe2d": {
      "model_module": "@jupyter-widgets/base",
      "model_module_version": "2.0.0",
      "model_name": "LayoutModel",
      "state": {}
     },
     "b04bde2ff6264140b3c18d6b8fa18d92": {
      "model_module": "@jupyter-widgets/base",
      "model_module_version": "2.0.0",
      "model_name": "LayoutModel",
      "state": {}
     },
     "b106f52ffb2640a8904f1b6da0490293": {
      "model_module": "@jupyter-widgets/base",
      "model_module_version": "2.0.0",
      "model_name": "LayoutModel",
      "state": {}
     },
     "b3b06093151646159f0af844bdb9ea96": {
      "model_module": "@jupyter-widgets/controls",
      "model_module_version": "2.0.0",
      "model_name": "HTMLModel",
      "state": {
       "layout": "IPY_MODEL_cceead2069164a27af0150f58ad16b30",
       "style": "IPY_MODEL_72f0d47b924f41b298f030527bba6bbc",
       "value": " 4/4 [4:46:09&lt;00:00, 4302.48s/it]"
      }
     },
     "b3eb2f958c4d41abaeed20b1a54bea4c": {
      "model_module": "@jupyter-widgets/controls",
      "model_module_version": "2.0.0",
      "model_name": "HBoxModel",
      "state": {
       "children": [
        "IPY_MODEL_87d96c60762547f1a3820b855ea7df0a",
        "IPY_MODEL_f4aa950b7ef94d38a8bff67d8339dcc1",
        "IPY_MODEL_c43b3d46bced46058aa8999774082c5b"
       ],
       "layout": "IPY_MODEL_2d8baf141b084b2dba2c0a76489b0f6e"
      }
     },
     "bde327ec52f348cbbdbc724fd338c984": {
      "model_module": "@jupyter-widgets/controls",
      "model_module_version": "2.0.0",
      "model_name": "FloatProgressModel",
      "state": {
       "bar_style": "danger",
       "layout": "IPY_MODEL_8be7c3496b3b421fa83edc3591c44c0c",
       "max": 4,
       "style": "IPY_MODEL_5de3e1b28f06467fbbf96d37e9454292"
      }
     },
     "c0c44d1c7a8345cd997174b3f1b998b8": {
      "model_module": "@jupyter-widgets/controls",
      "model_module_version": "2.0.0",
      "model_name": "ProgressStyleModel",
      "state": {
       "description_width": ""
      }
     },
     "c236d5a345d547d4bd3151d214b5bc46": {
      "model_module": "@jupyter-widgets/base",
      "model_module_version": "2.0.0",
      "model_name": "LayoutModel",
      "state": {}
     },
     "c255a216d4a14be8b58783a1e2a547b0": {
      "model_module": "@jupyter-widgets/base",
      "model_module_version": "2.0.0",
      "model_name": "LayoutModel",
      "state": {}
     },
     "c43b3d46bced46058aa8999774082c5b": {
      "model_module": "@jupyter-widgets/controls",
      "model_module_version": "2.0.0",
      "model_name": "HTMLModel",
      "state": {
       "layout": "IPY_MODEL_8dfdc0bf2d12484aa0bd941b6cf98fc5",
       "style": "IPY_MODEL_9ce986249e2d459493037a0b25995a1a",
       "value": " 5643/5643 [1:21:19&lt;00:00,  2.59it/s]"
      }
     },
     "c729e9cb0396435497d730ca8cd03db6": {
      "model_module": "@jupyter-widgets/controls",
      "model_module_version": "2.0.0",
      "model_name": "HTMLModel",
      "state": {
       "layout": "IPY_MODEL_dc7b195034464f3a80aaa0092aa45cb6",
       "style": "IPY_MODEL_59601f44445148d092e4e49ce21355e1",
       "value": " 2856/5877 [44:57&lt;56:54,  1.13s/it]"
      }
     },
     "c804bf89096c4280a9d8aa6843e13081": {
      "model_module": "@jupyter-widgets/base",
      "model_module_version": "2.0.0",
      "model_name": "LayoutModel",
      "state": {}
     },
     "cc893c852ea34873962023486dad7d2e": {
      "model_module": "@jupyter-widgets/controls",
      "model_module_version": "2.0.0",
      "model_name": "ProgressStyleModel",
      "state": {
       "description_width": ""
      }
     },
     "cceead2069164a27af0150f58ad16b30": {
      "model_module": "@jupyter-widgets/base",
      "model_module_version": "2.0.0",
      "model_name": "LayoutModel",
      "state": {}
     },
     "cea058eb710c4f07a7be3e60c9a0f9c4": {
      "model_module": "@jupyter-widgets/controls",
      "model_module_version": "2.0.0",
      "model_name": "HTMLStyleModel",
      "state": {
       "description_width": "",
       "font_size": null,
       "text_color": null
      }
     },
     "d5217bb6d48b4313a954d3456bd261e9": {
      "model_module": "@jupyter-widgets/base",
      "model_module_version": "2.0.0",
      "model_name": "LayoutModel",
      "state": {}
     },
     "da6b7a50e13b4e2b8cb60ecc7efcb355": {
      "model_module": "@jupyter-widgets/controls",
      "model_module_version": "2.0.0",
      "model_name": "HTMLModel",
      "state": {
       "layout": "IPY_MODEL_852d6abb2b3e4516bcfbc3525e22e416",
       "style": "IPY_MODEL_9dc191925970456c8824192dd796dddd",
       "value": " 0/4 [00:00&lt;?, ?it/s]"
      }
     },
     "dc7b195034464f3a80aaa0092aa45cb6": {
      "model_module": "@jupyter-widgets/base",
      "model_module_version": "2.0.0",
      "model_name": "LayoutModel",
      "state": {}
     },
     "e09143ad18f04eb6bf6fb501cb34d519": {
      "model_module": "@jupyter-widgets/controls",
      "model_module_version": "2.0.0",
      "model_name": "HTMLStyleModel",
      "state": {
       "description_width": "",
       "font_size": null,
       "text_color": null
      }
     },
     "e2c7558382754db18724bbf9c0f681e3": {
      "model_module": "@jupyter-widgets/controls",
      "model_module_version": "2.0.0",
      "model_name": "ProgressStyleModel",
      "state": {
       "description_width": ""
      }
     },
     "e361b9958b674c469b8db3c352fb62fb": {
      "model_module": "@jupyter-widgets/base",
      "model_module_version": "2.0.0",
      "model_name": "LayoutModel",
      "state": {}
     },
     "e584cd83a9da4d96afc06fd23ddc9a9e": {
      "model_module": "@jupyter-widgets/controls",
      "model_module_version": "2.0.0",
      "model_name": "FloatProgressModel",
      "state": {
       "bar_style": "success",
       "layout": "IPY_MODEL_fcc82d1e8b574361bc078212f41723fb",
       "max": 5256,
       "style": "IPY_MODEL_560645e8f60344c692e77e83c668c599",
       "value": 5256
      }
     },
     "e5aa307289d047979ac218f81711f9eb": {
      "model_module": "@jupyter-widgets/base",
      "model_module_version": "2.0.0",
      "model_name": "LayoutModel",
      "state": {}
     },
     "ef144475749b42efb59cc38587d518fe": {
      "model_module": "@jupyter-widgets/base",
      "model_module_version": "2.0.0",
      "model_name": "LayoutModel",
      "state": {}
     },
     "efa226145c624cbeb053132675280718": {
      "model_module": "@jupyter-widgets/controls",
      "model_module_version": "2.0.0",
      "model_name": "HTMLStyleModel",
      "state": {
       "description_width": "",
       "font_size": null,
       "text_color": null
      }
     },
     "f0407b1df63a45a7bfcda6261b241739": {
      "model_module": "@jupyter-widgets/base",
      "model_module_version": "2.0.0",
      "model_name": "LayoutModel",
      "state": {}
     },
     "f0d64c78515948658ef3b7493c8fd602": {
      "model_module": "@jupyter-widgets/controls",
      "model_module_version": "2.0.0",
      "model_name": "HTMLModel",
      "state": {
       "layout": "IPY_MODEL_2e72ab40780b4d4191f2615e30e24710",
       "style": "IPY_MODEL_a31321a9476043349d33f90b000be19b",
       "value": "Movies from 2014: 100%"
      }
     },
     "f24d5fb584ec4aa597f945332088774b": {
      "model_module": "@jupyter-widgets/controls",
      "model_module_version": "2.0.0",
      "model_name": "FloatProgressModel",
      "state": {
       "bar_style": "success",
       "layout": "IPY_MODEL_e5aa307289d047979ac218f81711f9eb",
       "max": 4,
       "style": "IPY_MODEL_5225f337f7f943038c0112d78055ebd5",
       "value": 4
      }
     },
     "f2e4cf8f4a4d4c0eb05ba40d8aa7ade4": {
      "model_module": "@jupyter-widgets/controls",
      "model_module_version": "2.0.0",
      "model_name": "HBoxModel",
      "state": {
       "children": [
        "IPY_MODEL_2184206b904849a1b114048327675a60",
        "IPY_MODEL_98a7ea02706049f8870b968251a0722d",
        "IPY_MODEL_9c9c32c146ef4493b03951608979b000"
       ],
       "layout": "IPY_MODEL_9548805b9c8641dea4e273cd6d82a73c"
      }
     },
     "f40464bf71f340898782eeae0a91e0d4": {
      "model_module": "@jupyter-widgets/base",
      "model_module_version": "2.0.0",
      "model_name": "LayoutModel",
      "state": {}
     },
     "f4aa950b7ef94d38a8bff67d8339dcc1": {
      "model_module": "@jupyter-widgets/controls",
      "model_module_version": "2.0.0",
      "model_name": "FloatProgressModel",
      "state": {
       "bar_style": "success",
       "layout": "IPY_MODEL_4878016b8e0744a88b0ea739a870eb90",
       "max": 5643,
       "style": "IPY_MODEL_5ef9eef08d974bb38916f2f45f3aba49",
       "value": 5643
      }
     },
     "fcb055f79789494db54456f732428356": {
      "model_module": "@jupyter-widgets/controls",
      "model_module_version": "2.0.0",
      "model_name": "HBoxModel",
      "state": {
       "children": [
        "IPY_MODEL_161bc53d675349da905e9ce96975f6fa",
        "IPY_MODEL_f24d5fb584ec4aa597f945332088774b",
        "IPY_MODEL_b3b06093151646159f0af844bdb9ea96"
       ],
       "layout": "IPY_MODEL_f0407b1df63a45a7bfcda6261b241739"
      }
     },
     "fcc82d1e8b574361bc078212f41723fb": {
      "model_module": "@jupyter-widgets/base",
      "model_module_version": "2.0.0",
      "model_name": "LayoutModel",
      "state": {}
     },
     "fce84c14de414eba9e92a2a7cafcf598": {
      "model_module": "@jupyter-widgets/controls",
      "model_module_version": "2.0.0",
      "model_name": "HTMLStyleModel",
      "state": {
       "description_width": "",
       "font_size": null,
       "text_color": null
      }
     }
    },
    "version_major": 2,
    "version_minor": 0
   }
  }
 },
 "nbformat": 4,
 "nbformat_minor": 5
}
