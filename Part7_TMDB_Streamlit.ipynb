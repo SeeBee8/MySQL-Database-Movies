{
 "cells": [
  {
   "cell_type": "markdown",
   "id": "257ff0dd-0f17-4ace-a534-98f40f76a693",
   "metadata": {},
   "source": [
    "# Movie Database Part 7\n",
    "\n",
    "*Christina Brockway*"
   ]
  },
  {
   "cell_type": "markdown",
   "id": "8cd47de7-87ca-4fa0-9777-d496196f203c",
   "metadata": {},
   "source": [
    "**Part 1:  Preparing Best Models for Streamlit**\n",
    "1.  Filepaths\n",
    "    -  Define filepaths dictionary\n",
    "    -  Save to config/filepaths.json\n",
    "    -  include file paths for each component to save\n",
    "2.  Copy best models\n",
    "    - choose models from part 6\n",
    "    - copy in to nb\n",
    "    - update code to define public-facing class labels\n",
    "3.  For Machine Learning\n",
    "    -  save training data\n",
    "    -  save testing data\n",
    "    -  save target_lookup dictionary and/or label encoder\n",
    "    -  save best model\n",
    "4.  For Deep NLP model\n",
    "    -  save training data\n",
    "    -  save testing data\n",
    "    -  save best neural network\n",
    "    -  use safe_format='tf'"
   ]
  },
  {
   "cell_type": "markdown",
   "id": "dc5a22c6-22c9-4d79-a70c-d1fac924055f",
   "metadata": {},
   "source": [
    "**Part 2: Streamlit App**\n",
    "Create a Streamlit app to get model predictions for user entered-text\n",
    "1.  Select model to use (ML or deep NLP)\n",
    "2.  get predictions\n",
    "3.  user-entered text\n",
    "4.  include LimeTextExplainer explanation for prediction\n",
    "5.  include abiblity to load evalution"
   ]
  },
  {
   "cell_type": "code",
   "execution_count": 21,
   "id": "f2e1997f-66b5-4b43-b4ea-98a5b9708755",
   "metadata": {},
   "outputs": [
    {
     "name": "stdout",
     "output_type": "stream",
     "text": [
      "{'data': {'filtered': 'data/movie-reviews-filtered.csv',\n",
      "          'ml': {'label_encoder': 'data/label-encoder.joblib',\n",
      "                 'target_lookup': 'data/target-lookup-dict.joblib',\n",
      "                 'test': 'data/testing-data.joblib',\n",
      "                 'train': 'data/training-data.joblib'},\n",
      "          'processed': 'data/movie-reviews-tokenized.joblib',\n",
      "          'tf': {'test_tf': 'data/testing_tf', 'train_tf': 'data/training_tf'}},\n",
      " 'data_NLP': {'nlp_df': 'data-NLP/processed_data.joblib',\n",
      "              'reviews': 'data-NLP/movie_reviews_v2.csv'},\n",
      " 'eda': {'bar': 'eda/ratings_bar',\n",
      "         'freq': 'eda/freqdist-reviews.png',\n",
      "         'freqdist': 'eda/frequency-distribution-reviews.png',\n",
      "         'scattertext': 'eda/scattertext.html',\n",
      "         'wordclouds-lemmas': 'eda/wordclouds-reviews.png',\n",
      "         'wordclouds-raw': 'eda/wordclouds-original-reviews.png'},\n",
      " 'images': {'TMDB': 'images/TMDBshort.svg',\n",
      "            'att': 'images/att mech LLMs.png',\n",
      "            'countplot': 'images/low_high_ratings_countplot.png',\n",
      "            'highlowcp': 'images/high_low_countplot.png',\n",
      "            'highlowratings': 'images/high_low_ratings_countplot.png',\n",
      "            'licesne': 'images/LICENSE',\n",
      "            'logo': 'images/Logobue_sqTBDM.svg',\n",
      "            'ratingscp': 'images/ratings_countplot.png'},\n",
      " 'models': {'gru': 'models/tf/',\n",
      "            'gscv': 'models/best_model.joblib',\n",
      "            'rf': 'models/rf-pipe.joblib'}}\n"
     ]
    }
   ],
   "source": [
    "## Define a file path\n",
    "\n",
    "from pprint import pprint\n",
    "FPATHS = dict(\n",
    "        data={\n",
    "        \"filtered\":  \"data/movie-reviews-filtered.csv\",\n",
    "        \"processed\": \"data/movie-reviews-tokenized.joblib\",\n",
    "        \"ml\": {\n",
    "            \"train\": \"data/training-data.joblib\",  \n",
    "            \"test\": \"data/testing-data.joblib\",\n",
    "            \n",
    "            \"label_encoder\":\"data/label-encoder.joblib\",\n",
    "            'target_lookup':\"data/target-lookup-dict.joblib\",\n",
    "            \n",
    "        },\n",
    "        \"tf\": {\n",
    "            \"train_tf\": \"data/training_tf\",  \n",
    "            \"test_tf\": \"data/testing_tf\", \n",
    "         }           \n",
    "    },\n",
    "    data_NLP= { \"nlp_df\": \"data-NLP/processed_data.joblib\",\n",
    "              \"reviews\": \"data-NLP/movie_reviews_v2.csv\"},\n",
    "    images = {\n",
    "              \"att\": 'images/att mech LLMs.png',\n",
    "              \"highlowcp\": 'images/high_low_countplot.png',\n",
    "              \"highlowratings\":'images/high_low_ratings_countplot.png',\n",
    "              \"licesne\":  'images/LICENSE',\n",
    "              \"logo\":  'images/Logobue_sqTBDM.svg',\n",
    "              \"countplot\":  'images/low_high_ratings_countplot.png',\n",
    "              \"ratingscp\":  'images/ratings_countplot.png',\n",
    "              \"TMDB\":  'images/TMDBshort.svg',\n",
    "             },\n",
    "              \n",
    "              \n",
    "    models={\n",
    "        \"rf\": \"models/rf-pipe.joblib\", \n",
    "        \"gscv\": \"models/best_model.joblib\", \n",
    "        \"gru\": \"models/tf/\"\n",
    "    },\n",
    "    eda = {\n",
    "        \"scattertext\": \"eda/scattertext.html\",\n",
    "        \"wordclouds-raw\": \"eda/wordclouds-original-reviews.png\",\n",
    "        'wordclouds-lemmas':\"eda/wordclouds-reviews.png\",\n",
    "        \"freq\":  \"eda/freqdist-reviews.png\",\n",
    "        \"freqdist\": \"eda/frequency-distribution-reviews.png\",\n",
    "        \"bar\": \"eda/ratings_bar\",\n",
    "    }\n",
    ")\n",
    "pprint(FPATHS)"
   ]
  },
  {
   "cell_type": "code",
   "execution_count": 22,
   "id": "07f82499-09c0-48d7-9acb-18219eaadf49",
   "metadata": {},
   "outputs": [],
   "source": [
    "#Save  filepaths in a config folder\n",
    "\n",
    "import os, json\n",
    "os.makedirs('config/', exist_ok = True)\n",
    "FPATHS_FILE = 'config/filepaths.json'\n",
    "with open(FPATHS_FILE, 'w') as f:\n",
    "    json.dump(FPATHS, f)"
   ]
  },
  {
   "cell_type": "code",
   "execution_count": 3,
   "id": "7d620b83-d80c-4a54-8487-80d37a677fa2",
   "metadata": {},
   "outputs": [],
   "source": [
    "import pandas as pd\n",
    "import joblib\n",
    "import matplotlib.pyplot as plt\n",
    "import matplotlib as mpl\n",
    "import seaborn as sns\n",
    "import numpy as np\n",
    "from imblearn.under_sampling import RandomUnderSampler\n",
    "import spacy\n",
    "from sklearn.model_selection import train_test_split\n",
    "from sklearn.pipeline import Pipeline\n",
    "from sklearn.feature_extraction.text import CountVectorizer, TfidfVectorizer\n",
    "from sklearn.ensemble import RandomForestClassifier\n",
    "from sklearn.naive_bayes import MultinomialNB\n",
    "\n",
    "from sklearn import metrics\n",
    "from sklearn.metrics import ConfusionMatrixDisplay, classification_report\n",
    "import tensorflow as tf\n",
    "from tensorflow.keras.layers import TextVectorization\n",
    "from tensorflow.keras import layers\n",
    "from tensorflow.keras import optimizers\n",
    "from sklearn import set_config\n",
    "set_config(transform_output='pandas')\n",
    "pd.set_option('display.max_colwidth', 250)\n"
   ]
  },
  {
   "cell_type": "code",
   "execution_count": 4,
   "id": "ee4add3b-a3a8-4e5d-a9fd-1907d82d9643",
   "metadata": {},
   "outputs": [],
   "source": [
    "import os, sys\n",
    "%load_ext autoreload\n",
    "%autoreload 2\n",
    "import stdfunctions as sf"
   ]
  },
  {
   "cell_type": "code",
   "execution_count": 5,
   "id": "d897334f-c1b5-4519-aaf2-2f55c238532c",
   "metadata": {},
   "outputs": [],
   "source": [
    "# Check sys.path for python path\n",
    "sys.path\n",
    "#Get the absolute file path of parent directory\n",
    "os.path.abspath('../')\n",
    "#Add parent directory to python path\n",
    "sys.path.append( os.path.abspath('../'))"
   ]
  },
  {
   "cell_type": "code",
   "execution_count": 6,
   "id": "b93ccac0-4e09-4488-b25b-bd4358800d41",
   "metadata": {},
   "outputs": [],
   "source": [
    "# Using function from Creating a File Structure Lesson\n",
    "sf.create_directories_from_paths(FPATHS)"
   ]
  },
  {
   "cell_type": "code",
   "execution_count": 7,
   "id": "f16aded7-0242-4e6b-8522-46025c52fd2c",
   "metadata": {},
   "outputs": [],
   "source": [
    "processed = joblib.load(\"data/processed_data.joblib\")"
   ]
  },
  {
   "cell_type": "code",
   "execution_count": 8,
   "id": "5f27533a-e50b-4997-87cb-6b2eaf359108",
   "metadata": {},
   "outputs": [
    {
     "name": "stdout",
     "output_type": "stream",
     "text": [
      "<class 'pandas.core.frame.DataFrame'>\n",
      "Int64Index: 2422 entries, 1 to 8647\n",
      "Data columns (total 8 columns):\n",
      " #   Column         Non-Null Count  Dtype  \n",
      "---  ------         --------------  -----  \n",
      " 0   review         2422 non-null   object \n",
      " 1   rating         2422 non-null   float64\n",
      " 2   html           160 non-null    object \n",
      " 3   length         2422 non-null   int64  \n",
      " 4   tokens         2422 non-null   object \n",
      " 5   lemmas         2422 non-null   object \n",
      " 6   tokens-joined  2422 non-null   object \n",
      " 7   lemmas-joined  2422 non-null   object \n",
      "dtypes: float64(1), int64(1), object(6)\n",
      "memory usage: 170.3+ KB\n"
     ]
    }
   ],
   "source": [
    "processed.info()"
   ]
  },
  {
   "cell_type": "code",
   "execution_count": 9,
   "id": "b5b1f121-60a0-4a42-acd9-671549f89002",
   "metadata": {},
   "outputs": [
    {
     "data": {
      "text/plain": [
       "2422"
      ]
     },
     "execution_count": 9,
     "metadata": {},
     "output_type": "execute_result"
    }
   ],
   "source": [
    "len(processed)"
   ]
  },
  {
   "cell_type": "code",
   "execution_count": 10,
   "id": "7c00bebf-55b9-4f35-97d9-0f32d9f978f5",
   "metadata": {},
   "outputs": [
    {
     "name": "stdout",
     "output_type": "stream",
     "text": [
      "<class 'pandas.core.frame.DataFrame'>\n",
      "Int64Index: 2422 entries, 1 to 8647\n",
      "Data columns (total 2 columns):\n",
      " #   Column  Non-Null Count  Dtype  \n",
      "---  ------  --------------  -----  \n",
      " 0   review  2422 non-null   object \n",
      " 1   rating  2422 non-null   float64\n",
      "dtypes: float64(1), object(1)\n",
      "memory usage: 56.8+ KB\n"
     ]
    }
   ],
   "source": [
    "#drop reviews without a rating and irrelevent columns\n",
    "#There are no rows without ratings\n",
    "processed=processed.drop(columns=(['html', 'length','tokens','lemmas','tokens-joined','lemmas-joined']))\n",
    "processed.info()"
   ]
  },
  {
   "cell_type": "code",
   "execution_count": 11,
   "id": "03c936d8-2e6f-4e2b-8011-b530af4124b6",
   "metadata": {},
   "outputs": [],
   "source": [
    "#Split into high and low reviews\n",
    "df = processed.copy()\n",
    "def rating_groups(x):\n",
    "    if x>=8.5:\n",
    "        return \"high\"\n",
    "    elif x <=4.0:\n",
    "        return \"low\"\n",
    "    else: \n",
    "        return None"
   ]
  },
  {
   "cell_type": "code",
   "execution_count": 12,
   "id": "442ba2ad-de20-4e6a-aeb2-b071c4cfa28e",
   "metadata": {},
   "outputs": [
    {
     "data": {
      "text/plain": [
       "low     1223\n",
       "high    1199\n",
       "Name: label, dtype: int64"
      ]
     },
     "execution_count": 12,
     "metadata": {},
     "output_type": "execute_result"
    }
   ],
   "source": [
    "df['label'] = processed['rating'].map(rating_groups)\n",
    "\n",
    "# Map numeric value with public-facing label\n",
    "rename_target_map ={'low': 'Low Rating', 'high':'High Rating'}\n",
    "\n",
    "# Replace y values\n",
    "y = df['label'].replace(rename_target_map)\n",
    "# Define X as normal\n",
    "X = df['review']\n",
    "\n",
    "df['label'].value_counts()"
   ]
  },
  {
   "cell_type": "code",
   "execution_count": 13,
   "id": "aafe2992-3308-40f1-9fec-7b143c877634",
   "metadata": {},
   "outputs": [
    {
     "data": {
      "text/html": [
       "<div>\n",
       "<style scoped>\n",
       "    .dataframe tbody tr th:only-of-type {\n",
       "        vertical-align: middle;\n",
       "    }\n",
       "\n",
       "    .dataframe tbody tr th {\n",
       "        vertical-align: top;\n",
       "    }\n",
       "\n",
       "    .dataframe thead th {\n",
       "        text-align: right;\n",
       "    }\n",
       "</style>\n",
       "<table border=\"1\" class=\"dataframe\">\n",
       "  <thead>\n",
       "    <tr style=\"text-align: right;\">\n",
       "      <th></th>\n",
       "      <th>review</th>\n",
       "      <th>rating</th>\n",
       "      <th>label</th>\n",
       "    </tr>\n",
       "  </thead>\n",
       "  <tbody>\n",
       "    <tr>\n",
       "      <th>1</th>\n",
       "      <td>a guilty pleasure for me personally, as i love both 'the great escape' and most of the works i have seen, over the years, from this rightfully-esteemed british animation company. highly recommended both for children and for adults who enjoy anima...</td>\n",
       "      <td>9.0</td>\n",
       "      <td>high</td>\n",
       "    </tr>\n",
       "    <tr>\n",
       "      <th>6</th>\n",
       "      <td>the first underwhelmed me, but this one straight-up bored me. again, of course seeing hunt climb a mountain without a harness is impressive sure. and i even quite liked the idea behind the villain of the piece (though even that angle was woefully...</td>\n",
       "      <td>3.0</td>\n",
       "      <td>low</td>\n",
       "    </tr>\n",
       "  </tbody>\n",
       "</table>\n",
       "</div>"
      ],
      "text/plain": [
       "                                                                                                                                                                                                                                                      review  \\\n",
       "1  a guilty pleasure for me personally, as i love both 'the great escape' and most of the works i have seen, over the years, from this rightfully-esteemed british animation company. highly recommended both for children and for adults who enjoy anima...   \n",
       "6  the first underwhelmed me, but this one straight-up bored me. again, of course seeing hunt climb a mountain without a harness is impressive sure. and i even quite liked the idea behind the villain of the piece (though even that angle was woefully...   \n",
       "\n",
       "   rating label  \n",
       "1     9.0  high  \n",
       "6     3.0   low  "
      ]
     },
     "execution_count": 13,
     "metadata": {},
     "output_type": "execute_result"
    }
   ],
   "source": [
    "df.head(2)"
   ]
  },
  {
   "cell_type": "code",
   "execution_count": 14,
   "id": "67169ca0-e002-430e-b36e-747123eefbcd",
   "metadata": {},
   "outputs": [],
   "source": [
    "#df=df.drop(columns=('rating'))"
   ]
  },
  {
   "cell_type": "code",
   "execution_count": 15,
   "id": "5c4c2beb-a311-42c9-a991-a7a64f6a8b04",
   "metadata": {},
   "outputs": [],
   "source": [
    "# Train test split\n",
    "X_train, X_test, y_train_str, y_test_str = train_test_split(X,y,test_size=0.25,\n",
    "                                                    random_state=321)"
   ]
  },
  {
   "cell_type": "code",
   "execution_count": 16,
   "id": "1bb4ea3a-25f8-46ff-bc4d-b12d71682780",
   "metadata": {},
   "outputs": [
    {
     "data": {
      "text/plain": [
       "array(['Low Rating', 'High Rating'], dtype=object)"
      ]
     },
     "execution_count": 16,
     "metadata": {},
     "output_type": "execute_result"
    }
   ],
   "source": [
    "### Encoding Labels\n",
    "## 1.  obtain class names\n",
    "\n",
    "# Getting unique classes to convert \n",
    "class_names = y_train_str.unique()\n",
    "class_names\n"
   ]
  },
  {
   "cell_type": "code",
   "execution_count": 17,
   "id": "7bf34c21-8ab1-48a7-b3d4-6c0b28fda4d5",
   "metadata": {},
   "outputs": [
    {
     "data": {
      "text/html": [
       "<style>#sk-container-id-1 {color: black;background-color: white;}#sk-container-id-1 pre{padding: 0;}#sk-container-id-1 div.sk-toggleable {background-color: white;}#sk-container-id-1 label.sk-toggleable__label {cursor: pointer;display: block;width: 100%;margin-bottom: 0;padding: 0.3em;box-sizing: border-box;text-align: center;}#sk-container-id-1 label.sk-toggleable__label-arrow:before {content: \"▸\";float: left;margin-right: 0.25em;color: #696969;}#sk-container-id-1 label.sk-toggleable__label-arrow:hover:before {color: black;}#sk-container-id-1 div.sk-estimator:hover label.sk-toggleable__label-arrow:before {color: black;}#sk-container-id-1 div.sk-toggleable__content {max-height: 0;max-width: 0;overflow: hidden;text-align: left;background-color: #f0f8ff;}#sk-container-id-1 div.sk-toggleable__content pre {margin: 0.2em;color: black;border-radius: 0.25em;background-color: #f0f8ff;}#sk-container-id-1 input.sk-toggleable__control:checked~div.sk-toggleable__content {max-height: 200px;max-width: 100%;overflow: auto;}#sk-container-id-1 input.sk-toggleable__control:checked~label.sk-toggleable__label-arrow:before {content: \"▾\";}#sk-container-id-1 div.sk-estimator input.sk-toggleable__control:checked~label.sk-toggleable__label {background-color: #d4ebff;}#sk-container-id-1 div.sk-label input.sk-toggleable__control:checked~label.sk-toggleable__label {background-color: #d4ebff;}#sk-container-id-1 input.sk-hidden--visually {border: 0;clip: rect(1px 1px 1px 1px);clip: rect(1px, 1px, 1px, 1px);height: 1px;margin: -1px;overflow: hidden;padding: 0;position: absolute;width: 1px;}#sk-container-id-1 div.sk-estimator {font-family: monospace;background-color: #f0f8ff;border: 1px dotted black;border-radius: 0.25em;box-sizing: border-box;margin-bottom: 0.5em;}#sk-container-id-1 div.sk-estimator:hover {background-color: #d4ebff;}#sk-container-id-1 div.sk-parallel-item::after {content: \"\";width: 100%;border-bottom: 1px solid gray;flex-grow: 1;}#sk-container-id-1 div.sk-label:hover label.sk-toggleable__label {background-color: #d4ebff;}#sk-container-id-1 div.sk-serial::before {content: \"\";position: absolute;border-left: 1px solid gray;box-sizing: border-box;top: 0;bottom: 0;left: 50%;z-index: 0;}#sk-container-id-1 div.sk-serial {display: flex;flex-direction: column;align-items: center;background-color: white;padding-right: 0.2em;padding-left: 0.2em;position: relative;}#sk-container-id-1 div.sk-item {position: relative;z-index: 1;}#sk-container-id-1 div.sk-parallel {display: flex;align-items: stretch;justify-content: center;background-color: white;position: relative;}#sk-container-id-1 div.sk-item::before, #sk-container-id-1 div.sk-parallel-item::before {content: \"\";position: absolute;border-left: 1px solid gray;box-sizing: border-box;top: 0;bottom: 0;left: 50%;z-index: -1;}#sk-container-id-1 div.sk-parallel-item {display: flex;flex-direction: column;z-index: 1;position: relative;background-color: white;}#sk-container-id-1 div.sk-parallel-item:first-child::after {align-self: flex-end;width: 50%;}#sk-container-id-1 div.sk-parallel-item:last-child::after {align-self: flex-start;width: 50%;}#sk-container-id-1 div.sk-parallel-item:only-child::after {width: 0;}#sk-container-id-1 div.sk-dashed-wrapped {border: 1px dashed gray;margin: 0 0.4em 0.5em 0.4em;box-sizing: border-box;padding-bottom: 0.4em;background-color: white;}#sk-container-id-1 div.sk-label label {font-family: monospace;font-weight: bold;display: inline-block;line-height: 1.2em;}#sk-container-id-1 div.sk-label-container {text-align: center;}#sk-container-id-1 div.sk-container {/* jupyter's `normalize.less` sets `[hidden] { display: none; }` but bootstrap.min.css set `[hidden] { display: none !important; }` so we also need the `!important` here to be able to override the default hidden behavior on the sphinx rendered scikit-learn.org. See: https://github.com/scikit-learn/scikit-learn/issues/21755 */display: inline-block !important;position: relative;}#sk-container-id-1 div.sk-text-repr-fallback {display: none;}</style><div id=\"sk-container-id-1\" class=\"sk-top-container\"><div class=\"sk-text-repr-fallback\"><pre>LabelEncoder()</pre><b>In a Jupyter environment, please rerun this cell to show the HTML representation or trust the notebook. <br />On GitHub, the HTML representation is unable to render, please try loading this page with nbviewer.org.</b></div><div class=\"sk-container\" hidden><div class=\"sk-item\"><div class=\"sk-estimator sk-toggleable\"><input class=\"sk-toggleable__control sk-hidden--visually\" id=\"sk-estimator-id-1\" type=\"checkbox\" checked><label for=\"sk-estimator-id-1\" class=\"sk-toggleable__label sk-toggleable__label-arrow\">LabelEncoder</label><div class=\"sk-toggleable__content\"><pre>LabelEncoder()</pre></div></div></div></div></div>"
      ],
      "text/plain": [
       "LabelEncoder()"
      ]
     },
     "execution_count": 17,
     "metadata": {},
     "output_type": "execute_result"
    }
   ],
   "source": [
    "## 2. instantiate and fit LabelEncoder\n",
    "\n",
    "from sklearn.preprocessing import LabelEncoder\n",
    "# Fit the label encoder on unique class names\n",
    "encoder = LabelEncoder()\n",
    "encoder.fit(class_names)"
   ]
  },
  {
   "cell_type": "code",
   "execution_count": 18,
   "id": "e05b70fd-f0b6-45b3-b37c-72c813d72d10",
   "metadata": {},
   "outputs": [
    {
     "data": {
      "text/plain": [
       "array([1, 0, 0, 1, 1, 0, 0, 1, 0, 1])"
      ]
     },
     "execution_count": 18,
     "metadata": {},
     "output_type": "execute_result"
    }
   ],
   "source": [
    "### 3.  Transform string values with encoder\n",
    "\n",
    "# Transform the y_train_str and y_test_str with encoder\n",
    "y_train = encoder.transform(y_train_str)\n",
    "y_test = encoder.transform(y_test_str)\n",
    "y_train[:10]"
   ]
  },
  {
   "cell_type": "code",
   "execution_count": 19,
   "id": "4c446176-017a-4909-be25-a04dd11f7127",
   "metadata": {},
   "outputs": [
    {
     "data": {
      "text/plain": [
       "array(['High Rating', 'Low Rating'], dtype=object)"
      ]
     },
     "execution_count": 19,
     "metadata": {},
     "output_type": "execute_result"
    }
   ],
   "source": [
    "#### 4.  Extract class names from the encoder object\n",
    "\n",
    "# Extract the class names from the encoder\n",
    "classes = encoder.classes_\n",
    "classes"
   ]
  },
  {
   "cell_type": "code",
   "execution_count": 20,
   "id": "e4ca7d94-da1d-4089-8e59-25e4d57a85f8",
   "metadata": {},
   "outputs": [
    {
     "data": {
      "text/plain": [
       "array([0, 1])"
      ]
     },
     "execution_count": 20,
     "metadata": {},
     "output_type": "execute_result"
    }
   ],
   "source": [
    "##### 5. Transform these to obtain the encoded values\n",
    "\n",
    "# Get the encoded values for both classes\n",
    "class_codes = encoder.transform(classes)\n",
    "class_codes"
   ]
  },
  {
   "cell_type": "code",
   "execution_count": 21,
   "id": "4ce1175e-b133-4ac8-900d-42068b64b5e1",
   "metadata": {},
   "outputs": [
    {
     "data": {
      "text/plain": [
       "{0: 'High Rating', 1: 'Low Rating'}"
      ]
     },
     "execution_count": 21,
     "metadata": {},
     "output_type": "execute_result"
    }
   ],
   "source": [
    "###### 6. Make lookup dictionary that will match the ncoded value with the string name\n",
    "\n",
    "# Making lookup dictionary to find the encoded label's original name\n",
    "target_lookup = dict(zip(class_codes,classes ))\n",
    "target_lookup"
   ]
  },
  {
   "cell_type": "code",
   "execution_count": 22,
   "id": "528603b2-ada0-4971-be44-b75b6ef7af0c",
   "metadata": {},
   "outputs": [
    {
     "data": {
      "text/plain": [
       "1    0.504405\n",
       "0    0.495595\n",
       "dtype: float64"
      ]
     },
     "execution_count": 22,
     "metadata": {},
     "output_type": "execute_result"
    }
   ],
   "source": [
    "### Class Balance\n",
    "\n",
    "# Check for class balance\n",
    "pd.Series(y_train).value_counts(normalize=True)"
   ]
  },
  {
   "cell_type": "code",
   "execution_count": 23,
   "id": "988a3fe7-b5d8-4146-aa0b-89551eeafe63",
   "metadata": {},
   "outputs": [
    {
     "data": {
      "text/plain": [
       "0    0.5\n",
       "1    0.5\n",
       "dtype: float64"
      ]
     },
     "execution_count": 23,
     "metadata": {},
     "output_type": "execute_result"
    }
   ],
   "source": [
    "# Use RUS to balance the classes\n",
    "sampler = RandomUnderSampler(random_state=42)\n",
    "X_train, y_train = sampler.fit_resample(X_train.values.reshape(-1,1),y_train)\n",
    "X_train = X_train.flatten()\n",
    "\n",
    "# Check for class balance\n",
    "pd.Series(y_train).value_counts(normalize=True)"
   ]
  },
  {
   "cell_type": "code",
   "execution_count": 24,
   "id": "3a2b074f-8a4f-46f5-b004-6305ac8b8be0",
   "metadata": {},
   "outputs": [
    {
     "data": {
      "text/plain": [
       "['data/target-lookup-dict.joblib']"
      ]
     },
     "execution_count": 24,
     "metadata": {},
     "output_type": "execute_result"
    }
   ],
   "source": [
    "#Save filtered dataframe\n",
    "fpath = FPATHS['data']['filtered']\n",
    "df.to_csv(fpath)\n",
    "\n",
    "#Saving the training data\n",
    "fpath_train  = FPATHS['data']['ml']['train']\n",
    "joblib.dump([X_train, y_train], fpath_train)\n",
    "\n",
    "# Saving the testing data\n",
    "fpath_test = FPATHS['data']['ml']['test']\n",
    "joblib.dump([X_test, y_test], fpath_test)\n",
    "\n",
    "#Save encoder\n",
    "fpath_encoder = FPATHS['data']['ml']['label_encoder']\n",
    "joblib.dump(encoder,fpath_encoder)\n",
    "\n",
    "# Save dictionary\n",
    "fpath_lookup = FPATHS['data']['ml']['target_lookup']\n",
    "joblib.dump(target_lookup,fpath_lookup )"
   ]
  },
  {
   "cell_type": "markdown",
   "id": "cc0970d0-10d2-4db9-a26b-06306c1a0047",
   "metadata": {},
   "source": [
    "### Machine Learning Model"
   ]
  },
  {
   "cell_type": "code",
   "execution_count": 25,
   "id": "9a664697-0676-4d9b-8091-53eee04944a6",
   "metadata": {},
   "outputs": [],
   "source": [
    "#Create pipeline\n",
    "\n",
    "# Select a sklearn vectorizer\n",
    "tfidf_vectorizer = TfidfVectorizer(lowercase=True, stop_words ='english')\n",
    "\n",
    "#Use RandomForestClassifier\n",
    "rfc=RandomForestClassifier(random_state=42)\n",
    "\n",
    "rfc_pipe = Pipeline([('vectorizer', tfidf_vectorizer), ('classifier', rfc)])\n"
   ]
  },
  {
   "cell_type": "code",
   "execution_count": 26,
   "id": "fa682ccd-1a94-4669-b030-f94d1f3e2a5b",
   "metadata": {},
   "outputs": [
    {
     "data": {
      "text/html": [
       "<style>#sk-container-id-2 {color: black;background-color: white;}#sk-container-id-2 pre{padding: 0;}#sk-container-id-2 div.sk-toggleable {background-color: white;}#sk-container-id-2 label.sk-toggleable__label {cursor: pointer;display: block;width: 100%;margin-bottom: 0;padding: 0.3em;box-sizing: border-box;text-align: center;}#sk-container-id-2 label.sk-toggleable__label-arrow:before {content: \"▸\";float: left;margin-right: 0.25em;color: #696969;}#sk-container-id-2 label.sk-toggleable__label-arrow:hover:before {color: black;}#sk-container-id-2 div.sk-estimator:hover label.sk-toggleable__label-arrow:before {color: black;}#sk-container-id-2 div.sk-toggleable__content {max-height: 0;max-width: 0;overflow: hidden;text-align: left;background-color: #f0f8ff;}#sk-container-id-2 div.sk-toggleable__content pre {margin: 0.2em;color: black;border-radius: 0.25em;background-color: #f0f8ff;}#sk-container-id-2 input.sk-toggleable__control:checked~div.sk-toggleable__content {max-height: 200px;max-width: 100%;overflow: auto;}#sk-container-id-2 input.sk-toggleable__control:checked~label.sk-toggleable__label-arrow:before {content: \"▾\";}#sk-container-id-2 div.sk-estimator input.sk-toggleable__control:checked~label.sk-toggleable__label {background-color: #d4ebff;}#sk-container-id-2 div.sk-label input.sk-toggleable__control:checked~label.sk-toggleable__label {background-color: #d4ebff;}#sk-container-id-2 input.sk-hidden--visually {border: 0;clip: rect(1px 1px 1px 1px);clip: rect(1px, 1px, 1px, 1px);height: 1px;margin: -1px;overflow: hidden;padding: 0;position: absolute;width: 1px;}#sk-container-id-2 div.sk-estimator {font-family: monospace;background-color: #f0f8ff;border: 1px dotted black;border-radius: 0.25em;box-sizing: border-box;margin-bottom: 0.5em;}#sk-container-id-2 div.sk-estimator:hover {background-color: #d4ebff;}#sk-container-id-2 div.sk-parallel-item::after {content: \"\";width: 100%;border-bottom: 1px solid gray;flex-grow: 1;}#sk-container-id-2 div.sk-label:hover label.sk-toggleable__label {background-color: #d4ebff;}#sk-container-id-2 div.sk-serial::before {content: \"\";position: absolute;border-left: 1px solid gray;box-sizing: border-box;top: 0;bottom: 0;left: 50%;z-index: 0;}#sk-container-id-2 div.sk-serial {display: flex;flex-direction: column;align-items: center;background-color: white;padding-right: 0.2em;padding-left: 0.2em;position: relative;}#sk-container-id-2 div.sk-item {position: relative;z-index: 1;}#sk-container-id-2 div.sk-parallel {display: flex;align-items: stretch;justify-content: center;background-color: white;position: relative;}#sk-container-id-2 div.sk-item::before, #sk-container-id-2 div.sk-parallel-item::before {content: \"\";position: absolute;border-left: 1px solid gray;box-sizing: border-box;top: 0;bottom: 0;left: 50%;z-index: -1;}#sk-container-id-2 div.sk-parallel-item {display: flex;flex-direction: column;z-index: 1;position: relative;background-color: white;}#sk-container-id-2 div.sk-parallel-item:first-child::after {align-self: flex-end;width: 50%;}#sk-container-id-2 div.sk-parallel-item:last-child::after {align-self: flex-start;width: 50%;}#sk-container-id-2 div.sk-parallel-item:only-child::after {width: 0;}#sk-container-id-2 div.sk-dashed-wrapped {border: 1px dashed gray;margin: 0 0.4em 0.5em 0.4em;box-sizing: border-box;padding-bottom: 0.4em;background-color: white;}#sk-container-id-2 div.sk-label label {font-family: monospace;font-weight: bold;display: inline-block;line-height: 1.2em;}#sk-container-id-2 div.sk-label-container {text-align: center;}#sk-container-id-2 div.sk-container {/* jupyter's `normalize.less` sets `[hidden] { display: none; }` but bootstrap.min.css set `[hidden] { display: none !important; }` so we also need the `!important` here to be able to override the default hidden behavior on the sphinx rendered scikit-learn.org. See: https://github.com/scikit-learn/scikit-learn/issues/21755 */display: inline-block !important;position: relative;}#sk-container-id-2 div.sk-text-repr-fallback {display: none;}</style><div id=\"sk-container-id-2\" class=\"sk-top-container\"><div class=\"sk-text-repr-fallback\"><pre>Pipeline(steps=[(&#x27;vectorizer&#x27;, TfidfVectorizer(stop_words=&#x27;english&#x27;)),\n",
       "                (&#x27;classifier&#x27;, RandomForestClassifier(random_state=42))])</pre><b>In a Jupyter environment, please rerun this cell to show the HTML representation or trust the notebook. <br />On GitHub, the HTML representation is unable to render, please try loading this page with nbviewer.org.</b></div><div class=\"sk-container\" hidden><div class=\"sk-item sk-dashed-wrapped\"><div class=\"sk-label-container\"><div class=\"sk-label sk-toggleable\"><input class=\"sk-toggleable__control sk-hidden--visually\" id=\"sk-estimator-id-2\" type=\"checkbox\" ><label for=\"sk-estimator-id-2\" class=\"sk-toggleable__label sk-toggleable__label-arrow\">Pipeline</label><div class=\"sk-toggleable__content\"><pre>Pipeline(steps=[(&#x27;vectorizer&#x27;, TfidfVectorizer(stop_words=&#x27;english&#x27;)),\n",
       "                (&#x27;classifier&#x27;, RandomForestClassifier(random_state=42))])</pre></div></div></div><div class=\"sk-serial\"><div class=\"sk-item\"><div class=\"sk-estimator sk-toggleable\"><input class=\"sk-toggleable__control sk-hidden--visually\" id=\"sk-estimator-id-3\" type=\"checkbox\" ><label for=\"sk-estimator-id-3\" class=\"sk-toggleable__label sk-toggleable__label-arrow\">TfidfVectorizer</label><div class=\"sk-toggleable__content\"><pre>TfidfVectorizer(stop_words=&#x27;english&#x27;)</pre></div></div></div><div class=\"sk-item\"><div class=\"sk-estimator sk-toggleable\"><input class=\"sk-toggleable__control sk-hidden--visually\" id=\"sk-estimator-id-4\" type=\"checkbox\" ><label for=\"sk-estimator-id-4\" class=\"sk-toggleable__label sk-toggleable__label-arrow\">RandomForestClassifier</label><div class=\"sk-toggleable__content\"><pre>RandomForestClassifier(random_state=42)</pre></div></div></div></div></div></div></div>"
      ],
      "text/plain": [
       "Pipeline(steps=[('vectorizer', TfidfVectorizer(stop_words='english')),\n",
       "                ('classifier', RandomForestClassifier(random_state=42))])"
      ]
     },
     "execution_count": 26,
     "metadata": {},
     "output_type": "execute_result"
    }
   ],
   "source": [
    "rfc_pipe.fit(X_train, y_train)"
   ]
  },
  {
   "cell_type": "code",
   "execution_count": 27,
   "id": "569c8a7e-8b7e-4d4b-ade6-c971682106a5",
   "metadata": {},
   "outputs": [
    {
     "name": "stdout",
     "output_type": "stream",
     "text": [
      "----------------------------------------------------------------------\n",
      " Classification Metrics: Training Data\n",
      "----------------------------------------------------------------------\n",
      "              precision    recall  f1-score   support\n",
      "\n",
      "           0       1.00      1.00      1.00       900\n",
      "           1       1.00      1.00      1.00       900\n",
      "\n",
      "    accuracy                           1.00      1800\n",
      "   macro avg       1.00      1.00      1.00      1800\n",
      "weighted avg       1.00      1.00      1.00      1800\n",
      "\n"
     ]
    },
    {
     "data": {
      "image/png": "[encoded data removed]",
      "text/plain": [
       "<Figure size 600x400 with 2 Axes>"
      ]
     },
     "metadata": {},
     "output_type": "display_data"
    },
    {
     "name": "stdout",
     "output_type": "stream",
     "text": [
      "\n",
      "----------------------------------------------------------------------\n",
      " Classification Metrics: Test Data\n",
      "----------------------------------------------------------------------\n",
      "              precision    recall  f1-score   support\n",
      "\n",
      "           0       0.80      0.90      0.85       299\n",
      "           1       0.89      0.79      0.83       307\n",
      "\n",
      "    accuracy                           0.84       606\n",
      "   macro avg       0.85      0.84      0.84       606\n",
      "weighted avg       0.85      0.84      0.84       606\n",
      "\n"
     ]
    },
    {
     "data": {
      "image/png": "[encoded data removed]",
      "text/plain": [
       "<Figure size 600x400 with 2 Axes>"
      ]
     },
     "metadata": {},
     "output_type": "display_data"
    }
   ],
   "source": [
    "sf.evaluate_classification(rfc_pipe, X_train, y_train, X_test, y_test)"
   ]
  },
  {
   "cell_type": "code",
   "execution_count": 28,
   "id": "3481692a-7799-4833-aba7-f0112a08b300",
   "metadata": {},
   "outputs": [
    {
     "data": {
      "text/plain": [
       "['models/rf-pipe.joblib']"
      ]
     },
     "execution_count": 28,
     "metadata": {},
     "output_type": "execute_result"
    }
   ],
   "source": [
    "#Save random forest model pipeline\n",
    "\n",
    "fpath_rf_pipe = FPATHS['models']['rf']\n",
    "joblib.dump(rfc_pipe, fpath_rf_pipe)"
   ]
  },
  {
   "cell_type": "markdown",
   "id": "21da4338-a3b4-4dfd-b62e-a2ae51f79599",
   "metadata": {},
   "source": [
    "#### Deep NLP"
   ]
  },
  {
   "cell_type": "code",
   "execution_count": 29,
   "id": "be368ed4-22b9-4fbb-9f79-a58861723cb9",
   "metadata": {},
   "outputs": [
    {
     "data": {
      "text/plain": [
       "(array([\"you measure yourself by the people who measure themselves by you.\\r\\n\\r\\njack nicholson and morgan freeman play two terminally ill men who check out of their cancer ward and head off on a road trip to complete their bucket list of things to do before they die.\\r\\n\\r\\nevery once in a while a film comes along with such simplicity of warmth it rises above any charge of clichés and sugar coated sappiness. the bucket list is one such film. its message is simple, its filming style equally so. it's performed with such quality by nicholson and freeman (if the whole film had just been the two of them chatting in the hospital room it would have been a winner), with director rob reiner astute and wily enough to let them flow, that even as the inevitable sadness follows the laughs, you will feel far better for having watched this film.\\r\\n\\r\\nrewarding adult cinema with class showing on both sides of the camera. 8.5/10\",\n",
       "        'click here for a video version of this review: https://youtu.be/qvedkwc9mmk\\r\\n\\r\\n“i’ve got no idea what i just watched, but i loved it” - those were my exact words as the credits rolled on _the lighthouse_.\\r\\n\\r\\ni’d been chomping at the bit to watch this ever since seeing the first trailer, and recently it’s finally became available for rent on youtube. starring willem dafoe and robert pattinson? what’s this weird looking square framed black and white movie all about i hear you say? here’s the offical description:\\r\\n\\r\\n_two lighthouse keepers try to maintain their sanity while living on a remote and mysterious new england island in the 1890s._\\r\\n\\r\\nwith the same director as _the vvitch_ at the helm you get a very good idea of the madness that is about to ensue. and oh boy does madness ensue. in what might be the most perfectly cast movie ever, pattinson and dafoe were absolutely the right choice for these roles. the characters they play as we meet them are somewhat stereotypical - dafoe is the weatherbeaten man of the sea, and pattinson is the guy with a murky past who might be trying to escape from something. their relationship goes from dislike to begrudging respect to...well it’s hard to say what happens after that...\\r\\n\\r\\nthe artistic decision to film in black and white on 35mm film in an almost square ratio heightens everything. it feels claustrophobic, the characters stare directly at you at times, the framing is perfect, it’s a a sight to behold. this film reminded me of everything from silent films of the 1920s through to the creep-fest known as _begotten_. strap yourself in for a ride that will make you clench your teeth at the beautiful destruction. \\r\\n\\r\\nas you can probably tell, i loved this movie. it won’t be for everyone as it’s very much an arthouse piece and doesn’t follow the standard norms for film, but i encourage everyone to give it a shot. you’ll either love it or hate it. as for me, i’m just gutted i never got to see this in a theatre because i reckon it would have blown my mind.',\n",
       "        \"with it's beautiful cinematography, steady pace, and understated acting, <i>byzantium</i> is solid modern gothic vampire tale. a bit reminiscent of <i>interview with the vampire</i> and <i>the moth diaries</i>, we see mother and daughter vampire in current day and through flashbacks and storytelling are told of how they came to be and the loneliness of their existence.\\r\\n\\r\\n<i>byzantium</i> is a slow burn and never takes any drastic chances. it forgoes the cheese of many vampire films and remains melancholy throughout. this certainly won't be for everyone, yet there is definitely something worthy here.\",\n",
       "        \"haven't seen a movie this perfect in decades. it was most obviously written and directed with the audience in mind - no politics, no preaching, no gratuitous sex, no woke, no offensive casting or characters. brilliant, simplistic screenwriting and thrill rides. the original, if you've seen it, was iconic as it was, and to know it makes the second film here more enjoyable, but even if you're not familiar with the background of the characters it's clearly presented enough to be a stand-alone enjoyable film.\",\n",
       "        'on the whole time, i\\'m watching the film like the guy who stares next to mr. fernandez desk with wired, bizarre, strange, funny, odd, curious, peculiar, erratic, crazy.\\r\\n\\r\\n**\"dear ila, the food was very salty today\"**'],\n",
       "       dtype=object),\n",
       " array([0, 0, 0, 0, 0]))"
      ]
     },
     "execution_count": 29,
     "metadata": {},
     "output_type": "execute_result"
    }
   ],
   "source": [
    "# load training data using dictionary\n",
    "[X_train, y_train] = joblib.load(FPATHS['data']['ml']['train'])\n",
    "[X_test, y_test]  = joblib.load(FPATHS['data']['ml']['test'])\n",
    "X_train[:5],y_train[:5]"
   ]
  },
  {
   "cell_type": "markdown",
   "id": "87218b1f-121c-40c1-8215-e179efb6e0e6",
   "metadata": {},
   "source": [
    "### Prepare Dataset for TensorFlow"
   ]
  },
  {
   "cell_type": "code",
   "execution_count": 30,
   "id": "f5fa9622-05fb-40bd-92d8-587f584abe76",
   "metadata": {},
   "outputs": [],
   "source": [
    "# Make a dataset object from train data\n",
    "train_tf = tf.data.Dataset.from_tensor_slices((X_train, y_train))\n",
    "# Make a dataset object from test data\n",
    "test_tf = tf.data.Dataset.from_tensor_slices((X_test, y_test))\n"
   ]
  },
  {
   "cell_type": "code",
   "execution_count": 31,
   "id": "b2b50c58-5592-430e-a829-e4e2a9c11065",
   "metadata": {},
   "outputs": [],
   "source": [
    "# Shuffle dataset\n",
    "train_tf = train_tf.shuffle(buffer_size=len(train_tf),reshuffle_each_iteration=False)"
   ]
  },
  {
   "cell_type": "code",
   "execution_count": 32,
   "id": "1f0a5e9a-4486-4cd3-abda-4c61d3cd812d",
   "metadata": {},
   "outputs": [
    {
     "data": {
      "text/plain": [
       "(1800, 606)"
      ]
     },
     "execution_count": 32,
     "metadata": {},
     "output_type": "execute_result"
    }
   ],
   "source": [
    "len(train_tf), len(test_tf)"
   ]
  },
  {
   "cell_type": "code",
   "execution_count": 33,
   "id": "9a607602-77f1-450e-8adf-6891b706d172",
   "metadata": {},
   "outputs": [
    {
     "name": "stdout",
     "output_type": "stream",
     "text": [
      "    - train:\t1350 samples \t(43 batches)\n",
      "    - val:  \t450 samples \t(15 batches)\n"
     ]
    }
   ],
   "source": [
    "# Set the ratio of the train, validation, test split\n",
    "split_train = .75\n",
    "split_val =  .25\n",
    "# Calculate the number of samples for training and validation data \n",
    "n_train_samples =  int(len(train_tf) * split_train)\n",
    "n_val_samples = int(len(train_tf) * split_val)\n",
    "# Set the batch size\n",
    "BATCH_SIZE =32\n",
    "import math\n",
    "# math.ceil will round up\n",
    "# How many batches? \n",
    "n_train_batches = math.ceil(n_train_samples/BATCH_SIZE)\n",
    "n_val_batches = math.ceil(n_val_samples/BATCH_SIZE)\n",
    "print(f\"    - train:\\t{n_train_samples} samples \\t({n_train_batches} batches)\")\n",
    "print(f\"    - val:  \\t{n_val_samples} samples \\t({n_val_batches} batches)\")\n"
   ]
  },
  {
   "cell_type": "code",
   "execution_count": 34,
   "id": "3cac54fc-d0a3-44d0-89df-fd45a8c1f014",
   "metadata": {},
   "outputs": [
    {
     "name": "stdout",
     "output_type": "stream",
     "text": [
      " There are 43 training batches.\n",
      " There are 15 validation batches.\n"
     ]
    }
   ],
   "source": [
    "# Use take and skip to define each set\n",
    "train_ds = train_tf.take(n_train_samples).batch(batch_size=BATCH_SIZE)\n",
    "# Skip over the training batches and take the validation batches\n",
    "val_ds = train_tf.skip(n_train_samples).take(n_val_samples).batch(batch_size=BATCH_SIZE)\n",
    "# Confirm the number of batches in each\n",
    "print (f' There are {len(train_ds)} training batches.')\n",
    "print (f' There are {len(val_ds)} validation batches.')"
   ]
  },
  {
   "cell_type": "code",
   "execution_count": 35,
   "id": "0e956725-4704-4402-a51a-25ec51f3c3d6",
   "metadata": {},
   "outputs": [
    {
     "data": {
      "text/plain": [
       "606"
      ]
     },
     "execution_count": 35,
     "metadata": {},
     "output_type": "execute_result"
    }
   ],
   "source": [
    "# How many samples in the test data\n",
    "n_test_samples = len(test_tf)\n",
    "n_test_samples"
   ]
  },
  {
   "cell_type": "code",
   "execution_count": 36,
   "id": "603b525b-a23d-48da-b80c-1eae626ba1d7",
   "metadata": {},
   "outputs": [
    {
     "name": "stdout",
     "output_type": "stream",
     "text": [
      " There are 19 testing batches.\n"
     ]
    }
   ],
   "source": [
    "# Put the test data into batches also\n",
    "test_ds = test_tf.batch(batch_size = BATCH_SIZE)\n",
    "# How many batches\n",
    "print (f' There are {len(test_ds)} testing batches.')"
   ]
  },
  {
   "cell_type": "code",
   "execution_count": 37,
   "id": "178223f2-1704-4898-9c43-cd0719977803",
   "metadata": {},
   "outputs": [],
   "source": [
    "# Save training dataset object\n",
    "train_ds_fpath = FPATHS['data']['tf']['train_tf']\n",
    "tf.data.Dataset.save(train_ds, train_ds_fpath)\n",
    "# Save testing dataset object\n",
    "test_ds_fpath = FPATHS['data']['tf']['test_tf']\n",
    "tf.data.Dataset.save(test_ds, test_ds_fpath)"
   ]
  },
  {
   "cell_type": "code",
   "execution_count": 38,
   "id": "b2d53913-df91-4487-b1e8-ea3dc5d1184f",
   "metadata": {},
   "outputs": [
    {
     "data": {
      "text/plain": [
       "array(['High Rating', 'Low Rating'], dtype=object)"
      ]
     },
     "execution_count": 38,
     "metadata": {},
     "output_type": "execute_result"
    }
   ],
   "source": [
    "##Obtain a single batch from training data to sample\n",
    "\n",
    "# Define classes\n",
    "# classes = np.unique(example_y)\n",
    "encoder = joblib.load(FPATHS['data']['ml']['label_encoder'])\n",
    "classes = encoder.classes_\n",
    "classes"
   ]
  },
  {
   "cell_type": "code",
   "execution_count": 39,
   "id": "d97c2b2b-5d78-4f70-9cde-23f75cc3803c",
   "metadata": {},
   "outputs": [
    {
     "name": "stdout",
     "output_type": "stream",
     "text": [
      "\n",
      "tf.keras.layers.TextVectorization(\n",
      "{   'batch_input_shape': (None,),\n",
      "    'dtype': 'string',\n",
      "    'encoding': 'utf-8',\n",
      "    'idf_weights': None,\n",
      "    'max_tokens': None,\n",
      "    'name': 'text_vectorization',\n",
      "    'ngrams': None,\n",
      "    'output_mode': 'int',\n",
      "    'output_sequence_length': 30,\n",
      "    'pad_to_max_tokens': False,\n",
      "    'ragged': False,\n",
      "    'sparse': False,\n",
      "    'split': 'whitespace',\n",
      "    'standardize': 'lower_and_strip_punctuation',\n",
      "    'trainable': True,\n",
      "    'vocabulary': None,\n",
      "    'vocabulary_size': 21855}\n",
      ")\n"
     ]
    }
   ],
   "source": [
    "# Create Text Vectorization Layer\n",
    "sequence_vectorizer, vocab_lookup = sf.make_text_vectorization_layer(\n",
    "    train_ds, output_mode=\"int\", output_sequence_length=30, verbose=True\n",
    ")"
   ]
  },
  {
   "cell_type": "code",
   "execution_count": 40,
   "id": "07e49d1d-e37b-411e-8337-e8ef8bf25567",
   "metadata": {},
   "outputs": [
    {
     "data": {
      "text/plain": [
       "21855"
      ]
     },
     "execution_count": 40,
     "metadata": {},
     "output_type": "execute_result"
    }
   ],
   "source": [
    "sequence_vectorizer.vocabulary_size()"
   ]
  },
  {
   "cell_type": "code",
   "execution_count": 41,
   "id": "cc7acf81-819d-4f3a-81c3-9e4ecf218023",
   "metadata": {},
   "outputs": [],
   "source": [
    "from keras import regularizers\n",
    "\n",
    "def build_gru_bidirectional_pool(text_vectorization_layer):\n",
    "    \n",
    "    VOCAB_SIZE = text_vectorization_layer.vocabulary_size()                \n",
    "    \n",
    "    rnn_model = tf.keras.Sequential([\n",
    "        text_vectorization_layer,\n",
    "        layers.Embedding(input_dim=VOCAB_SIZE,\n",
    "                        output_dim=EMBED_DIM,  input_length=SEQUENCE_LENGTH)])\n",
    "   \n",
    "# Stack three GrU layers    \n",
    "    rnn_model.add(layers.Bidirectional(layers.GRU(128, return_sequences=True, \n",
    "                                  kernel_regularizer=regularizers.l2(0.0001))))\n",
    "    rnn_model.add(layers.Dropout(0.3))\n",
    "    rnn_model.add(layers.GRU(64, return_sequences=True,\n",
    "                             kernel_regularizer=regularizers.l1(0.0001)))\n",
    "    rnn_model.add(layers.Dropout(0.2))\n",
    "    rnn_model.add(layers.GRU(32, return_sequences=True,\n",
    "                             kernel_regularizer=regularizers.l2(0.0001)))\n",
    "          \n",
    "    rnn_model.add(layers.Bidirectional(layers.GRU(32, return_sequences = True,)))\n",
    "                  \n",
    "    # Add a pooling layer \n",
    "    rnn_model.add(layers.GlobalMaxPooling1D())\n",
    "    \n",
    "    # Output layer\n",
    "    rnn_model.add(layers.Dense(len(classes), \n",
    "                                    activation='sigmoid'))\n",
    "                     \n",
    "    optimizer = optimizers.legacy.Adam()\n",
    "    rnn_model.compile(optimizer=optimizer, \n",
    "                  loss='sparse_categorical_crossentropy', metrics=['accuracy'])\n",
    "    rnn_model.summary()\n",
    "    return rnn_model"
   ]
  },
  {
   "cell_type": "code",
   "execution_count": 42,
   "id": "e87514c2-0212-47c6-9bc8-8f1027e68e4e",
   "metadata": {},
   "outputs": [],
   "source": [
    "# Include callbacks\n",
    "def get_callbacks(patience=3, monitor='val_accuracy', min_delta=1e-2,):\n",
    "    early_stop = tf.keras.callbacks.EarlyStopping(patience=patience, monitor=monitor)\n",
    "    return [early_stop]"
   ]
  },
  {
   "cell_type": "code",
   "execution_count": 43,
   "id": "34ca56ec-e6f8-4ead-aaef-dd94480caa06",
   "metadata": {},
   "outputs": [
    {
     "name": "stdout",
     "output_type": "stream",
     "text": [
      "Model: \"sequential\"\n",
      "_________________________________________________________________\n",
      " Layer (type)                Output Shape              Param #   \n",
      "=================================================================\n",
      " text_vectorization (TextVec  (None, 30)               0         \n",
      " torization)                                                     \n",
      "                                                                 \n",
      " embedding (Embedding)       (None, 30, 100)           2185500   \n",
      "                                                                 \n",
      " bidirectional (Bidirectiona  (None, 30, 256)          176640    \n",
      " l)                                                              \n",
      "                                                                 \n",
      " dropout (Dropout)           (None, 30, 256)           0         \n",
      "                                                                 \n",
      " gru_1 (GRU)                 (None, 30, 64)            61824     \n",
      "                                                                 \n",
      " dropout_1 (Dropout)         (None, 30, 64)            0         \n",
      "                                                                 \n",
      " gru_2 (GRU)                 (None, 30, 32)            9408      \n",
      "                                                                 \n",
      " bidirectional_1 (Bidirectio  (None, 30, 64)           12672     \n",
      " nal)                                                            \n",
      "                                                                 \n",
      " global_max_pooling1d (Globa  (None, 64)               0         \n",
      " lMaxPooling1D)                                                  \n",
      "                                                                 \n",
      " dense (Dense)               (None, 2)                 130       \n",
      "                                                                 \n",
      "=================================================================\n",
      "Total params: 2,446,174\n",
      "Trainable params: 2,446,174\n",
      "Non-trainable params: 0\n",
      "_________________________________________________________________\n",
      "Epoch 1/20\n",
      "43/43 [==============================] - 13s 128ms/step - loss: 0.9320 - accuracy: 0.4844 - val_loss: 0.8449 - val_accuracy: 0.5244\n",
      "Epoch 2/20\n",
      "43/43 [==============================] - 4s 104ms/step - loss: 0.7291 - accuracy: 0.6252 - val_loss: 0.7044 - val_accuracy: 0.6844\n",
      "Epoch 3/20\n",
      "43/43 [==============================] - 6s 134ms/step - loss: 0.3191 - accuracy: 0.8822 - val_loss: 1.0333 - val_accuracy: 0.6867\n",
      "Epoch 4/20\n",
      "43/43 [==============================] - 5s 110ms/step - loss: 0.1488 - accuracy: 0.9593 - val_loss: 1.1812 - val_accuracy: 0.6467\n",
      "Epoch 5/20\n",
      "43/43 [==============================] - 5s 106ms/step - loss: 0.0958 - accuracy: 0.9756 - val_loss: 1.1138 - val_accuracy: 0.7133\n",
      "Epoch 6/20\n",
      "43/43 [==============================] - 5s 109ms/step - loss: 0.0633 - accuracy: 0.9844 - val_loss: 1.3008 - val_accuracy: 0.6711\n",
      "Epoch 7/20\n",
      "43/43 [==============================] - 8s 193ms/step - loss: 0.0464 - accuracy: 0.9933 - val_loss: 1.2159 - val_accuracy: 0.7089\n",
      "Epoch 8/20\n",
      "43/43 [==============================] - 5s 127ms/step - loss: 0.0391 - accuracy: 0.9941 - val_loss: 1.3648 - val_accuracy: 0.7067\n"
     ]
    }
   ],
   "source": [
    "# Build the model\n",
    "EMBED_DIM = 100\n",
    "SEQUENCE_LENGTH = 150\n",
    "model = build_gru_bidirectional_pool(sequence_vectorizer)\n",
    "\n",
    "#Fit the model\n",
    "EPOCHS = 20\n",
    "history = model.fit(\n",
    "    train_ds,\n",
    "    epochs=EPOCHS,\n",
    "    validation_data=val_ds,\n",
    "    callbacks=get_callbacks())"
   ]
  },
  {
   "cell_type": "code",
   "execution_count": 44,
   "id": "e87564ff-90a1-4619-a8ff-f6eb938bccaf",
   "metadata": {},
   "outputs": [
    {
     "data": {
      "image/png": "[encoded data removed]",
      "text/plain": [
       "<Figure size 600x600 with 2 Axes>"
      ]
     },
     "metadata": {},
     "output_type": "display_data"
    },
    {
     "name": "stdout",
     "output_type": "stream",
     "text": [
      "\n",
      "================================================================================\n",
      "- Evaluating Network...\n",
      "================================================================================\n",
      "----------------------------------------------------------------------\n",
      " Classification Metrics: Training Data\n",
      "----------------------------------------------------------------------\n",
      "              precision    recall  f1-score   support\n",
      "\n",
      "           0       1.00      1.00      1.00       674\n",
      "           1       1.00      1.00      1.00       676\n",
      "\n",
      "    accuracy                           1.00      1350\n",
      "   macro avg       1.00      1.00      1.00      1350\n",
      "weighted avg       1.00      1.00      1.00      1350\n",
      "\n"
     ]
    },
    {
     "data": {
      "image/png": "[encoded data removed]",
      "text/plain": [
       "<Figure size 600x400 with 2 Axes>"
      ]
     },
     "metadata": {},
     "output_type": "display_data"
    },
    {
     "name": "stdout",
     "output_type": "stream",
     "text": [
      "\n",
      "- Evaluating Training Data:\n",
      "43/43 [==============================] - 1s 18ms/step - loss: 0.0258 - accuracy: 0.9978\n",
      "{'loss': 0.025771699845790863, 'accuracy': 0.9977777600288391}\n",
      "----------------------------------------------------------------------\n",
      " Classification Metrics: Test Data\n",
      "----------------------------------------------------------------------\n",
      "              precision    recall  f1-score   support\n",
      "\n",
      "           0       0.65      0.65      0.65       299\n",
      "           1       0.66      0.67      0.66       307\n",
      "\n",
      "    accuracy                           0.66       606\n",
      "   macro avg       0.66      0.66      0.66       606\n",
      "weighted avg       0.66      0.66      0.66       606\n",
      "\n"
     ]
    },
    {
     "data": {
      "image/png": "[encoded data removed]",
      "text/plain": [
       "<Figure size 600x400 with 2 Axes>"
      ]
     },
     "metadata": {},
     "output_type": "display_data"
    },
    {
     "name": "stdout",
     "output_type": "stream",
     "text": [
      "\n",
      "- Evaluating Test Data:\n",
      "19/19 [==============================] - 0s 20ms/step - loss: 1.5818 - accuracy: 0.6568\n",
      "{'loss': 1.5818315744400024, 'accuracy': 0.6567656993865967}\n"
     ]
    }
   ],
   "source": [
    "# Obtain the results\n",
    "results = sf.evaluate_classification_network(\n",
    "    model, X_train=train_ds, \n",
    "    X_test=test_ds, history=history);\n",
    "results"
   ]
  },
  {
   "cell_type": "code",
   "execution_count": 45,
   "id": "9f109927-8309-4e5f-ad55-7407f27aef34",
   "metadata": {},
   "outputs": [
    {
     "ename": "PermissionError",
     "evalue": "[Errno 13] Permission denied: 'models/tf/'",
     "output_type": "error",
     "traceback": [
      "\u001b[1;31m---------------------------------------------------------------------------\u001b[0m",
      "\u001b[1;31mPermissionError\u001b[0m                           Traceback (most recent call last)",
      "Cell \u001b[1;32mIn[45], line 4\u001b[0m\n\u001b[0;32m      1\u001b[0m \u001b[38;5;66;03m### Save deep NLP model \u001b[39;00m\n\u001b[0;32m      3\u001b[0m fpath_nlp \u001b[38;5;241m=\u001b[39m FPATHS[\u001b[38;5;124m'\u001b[39m\u001b[38;5;124mmodels\u001b[39m\u001b[38;5;124m'\u001b[39m][\u001b[38;5;124m'\u001b[39m\u001b[38;5;124mgru\u001b[39m\u001b[38;5;124m'\u001b[39m]\n\u001b[1;32m----> 4\u001b[0m \u001b[43mjoblib\u001b[49m\u001b[38;5;241;43m.\u001b[39;49m\u001b[43mdump\u001b[49m\u001b[43m(\u001b[49m\u001b[43mmodel\u001b[49m\u001b[43m,\u001b[49m\u001b[43m \u001b[49m\u001b[43mfpath_nlp\u001b[49m\u001b[43m)\u001b[49m\n",
      "File \u001b[1;32m~\\anaconda3\\envs\\dojo-env\\lib\\site-packages\\joblib\\numpy_pickle.py:481\u001b[0m, in \u001b[0;36mdump\u001b[1;34m(value, filename, compress, protocol, cache_size)\u001b[0m\n\u001b[0;32m    479\u001b[0m         NumpyPickler(f, protocol\u001b[38;5;241m=\u001b[39mprotocol)\u001b[38;5;241m.\u001b[39mdump(value)\n\u001b[0;32m    480\u001b[0m \u001b[38;5;28;01melif\u001b[39;00m is_filename:\n\u001b[1;32m--> 481\u001b[0m     \u001b[38;5;28;01mwith\u001b[39;00m \u001b[38;5;28;43mopen\u001b[39;49m\u001b[43m(\u001b[49m\u001b[43mfilename\u001b[49m\u001b[43m,\u001b[49m\u001b[43m \u001b[49m\u001b[38;5;124;43m'\u001b[39;49m\u001b[38;5;124;43mwb\u001b[39;49m\u001b[38;5;124;43m'\u001b[39;49m\u001b[43m)\u001b[49m \u001b[38;5;28;01mas\u001b[39;00m f:\n\u001b[0;32m    482\u001b[0m         NumpyPickler(f, protocol\u001b[38;5;241m=\u001b[39mprotocol)\u001b[38;5;241m.\u001b[39mdump(value)\n\u001b[0;32m    483\u001b[0m \u001b[38;5;28;01melse\u001b[39;00m:\n",
      "\u001b[1;31mPermissionError\u001b[0m: [Errno 13] Permission denied: 'models/tf/'"
     ]
    }
   ],
   "source": [
    "### Save deep NLP model \n",
    "\n",
    "fpath_nlp = FPATHS['models']['gru']\n",
    "joblib.dump(model, fpath_nlp)"
   ]
  },
  {
   "cell_type": "code",
   "execution_count": null,
   "id": "16e50c94-be5a-4599-932e-8ae3cefc9e59",
   "metadata": {},
   "outputs": [],
   "source": [
    "def load_Xy_data(fpath):\n",
    "   return joblib.load(fpath)"
   ]
  },
  {
   "cell_type": "code",
   "execution_count": null,
   "id": "c31ef87f-8ce2-4efd-b1d6-85a78bfd7662",
   "metadata": {},
   "outputs": [],
   "source": [
    "# Call function for train data\n",
    "X_train, y_train = load_Xy_data(fpath=FPATHS['data']['ml']['train'])\n",
    "# Call function for test data\n",
    "X_test, y_test = load_Xy_data(fpath=FPATHS['data']['ml']['test'])\n",
    "\n"
   ]
  },
  {
   "cell_type": "code",
   "execution_count": null,
   "id": "6b668b6a-3679-42e1-92bb-a94de06693ce",
   "metadata": {},
   "outputs": [],
   "source": [
    "# Define function to load in model from dictionary with joblib\n",
    "def load_ml_model(fpath):\n",
    "   return joblib.load(fpath)"
   ]
  },
  {
   "cell_type": "code",
   "execution_count": null,
   "id": "0d4ea4e2-1fa2-4b29-a354-1cd585f3af37",
   "metadata": {},
   "outputs": [],
   "source": [
    "FPATHS\n"
   ]
  },
  {
   "cell_type": "code",
   "execution_count": null,
   "id": "0dbeaeea-3363-4d2f-8b03-2435f2563d54",
   "metadata": {},
   "outputs": [],
   "source": [
    "\n",
    "## Loading the ML model\n",
    "#@st.cache_resource\n",
    "def load_ml_model(fpath):\n",
    "    loaded_model = joblib.load(fpath)\n",
    "    return loaded_model\n",
    "\n"
   ]
  },
  {
   "cell_type": "code",
   "execution_count": null,
   "id": "5a712efa-f9d0-4386-800f-8b501108fa87",
   "metadata": {},
   "outputs": [],
   "source": [
    "joblib.load(FPATHS['models']['rf'])"
   ]
  },
  {
   "cell_type": "code",
   "execution_count": null,
   "id": "5eb4f542-f236-4d23-b44d-429a5a66adfe",
   "metadata": {},
   "outputs": [],
   "source": [
    "model=\n"
   ]
  },
  {
   "cell_type": "code",
   "execution_count": null,
   "id": "400ed6c9-ccf9-456c-83f3-6799e3211b23",
   "metadata": {},
   "outputs": [],
   "source": [
    "clf_pipe = load_ml_model(model)"
   ]
  },
  {
   "cell_type": "markdown",
   "id": "ee26489e-a253-4c99-ab1d-739851bb205a",
   "metadata": {},
   "source": [
    "--------------------"
   ]
  },
  {
   "cell_type": "code",
   "execution_count": 17,
   "id": "5165b7ec-353d-48c8-940e-4a8606d89a6d",
   "metadata": {},
   "outputs": [],
   "source": [
    "import streamlit as st\n",
    "import streamlit.components.v1 as components\n",
    "import pandas as pd\n",
    "import numpy as np\n",
    "import os\n",
    "import joblib\n",
    "from sklearn.metrics import classification_report, ConfusionMatrixDisplay\n",
    "import matplotlib.pyplot as plt\n",
    "import numpy as np\n",
    "import json\n",
    "from wordcloud import WordCloud\n",
    "from nltk import casual_tokenize\n",
    "# Changing the Layout\n",
    "st.set_page_config( layout=\"wide\")\n",
    "\n",
    "\n",
    "with open('config/filepaths.json') as f:\n",
    "    FPATHS = json.load(f)\n",
    "\n"
   ]
  },
  {
   "cell_type": "code",
   "execution_count": 18,
   "id": "d19ba85f-d4c5-40e3-bb7b-3fddfe02d2f2",
   "metadata": {},
   "outputs": [
    {
     "data": {
      "text/html": [
       "<div>\n",
       "<style scoped>\n",
       "    .dataframe tbody tr th:only-of-type {\n",
       "        vertical-align: middle;\n",
       "    }\n",
       "\n",
       "    .dataframe tbody tr th {\n",
       "        vertical-align: top;\n",
       "    }\n",
       "\n",
       "    .dataframe thead th {\n",
       "        text-align: right;\n",
       "    }\n",
       "</style>\n",
       "<table border=\"1\" class=\"dataframe\">\n",
       "  <thead>\n",
       "    <tr style=\"text-align: right;\">\n",
       "      <th></th>\n",
       "      <th>review</th>\n",
       "      <th>rating</th>\n",
       "      <th>html</th>\n",
       "      <th>length</th>\n",
       "      <th>tokens</th>\n",
       "      <th>lemmas</th>\n",
       "      <th>tokens-joined</th>\n",
       "      <th>lemmas-joined</th>\n",
       "    </tr>\n",
       "  </thead>\n",
       "  <tbody>\n",
       "    <tr>\n",
       "      <th>1</th>\n",
       "      <td>a guilty pleasure for me personally, as i love...</td>\n",
       "      <td>9.0</td>\n",
       "      <td>NaN</td>\n",
       "      <td>251</td>\n",
       "      <td>[guilty, pleasure, personally, love, great, es...</td>\n",
       "      <td>[guilty, pleasure, personally, love, great, es...</td>\n",
       "      <td>guilty pleasure personally love great escape w...</td>\n",
       "      <td>guilty pleasure personally love great escape w...</td>\n",
       "    </tr>\n",
       "    <tr>\n",
       "      <th>6</th>\n",
       "      <td>the first underwhelmed me, but this one straig...</td>\n",
       "      <td>3.0</td>\n",
       "      <td>NaN</td>\n",
       "      <td>715</td>\n",
       "      <td>[underwhelme, straight, bore, course, see, hun...</td>\n",
       "      <td>[underwhelme, straight, bore, course, see, hun...</td>\n",
       "      <td>underwhelme straight bore course see hunt clim...</td>\n",
       "      <td>underwhelme straight bore course see hunt clim...</td>\n",
       "    </tr>\n",
       "  </tbody>\n",
       "</table>\n",
       "</div>"
      ],
      "text/plain": [
       "                                              review  rating html  length  \\\n",
       "1  a guilty pleasure for me personally, as i love...     9.0  NaN     251   \n",
       "6  the first underwhelmed me, but this one straig...     3.0  NaN     715   \n",
       "\n",
       "                                              tokens  \\\n",
       "1  [guilty, pleasure, personally, love, great, es...   \n",
       "6  [underwhelme, straight, bore, course, see, hun...   \n",
       "\n",
       "                                              lemmas  \\\n",
       "1  [guilty, pleasure, personally, love, great, es...   \n",
       "6  [underwhelme, straight, bore, course, see, hun...   \n",
       "\n",
       "                                       tokens-joined  \\\n",
       "1  guilty pleasure personally love great escape w...   \n",
       "6  underwhelme straight bore course see hunt clim...   \n",
       "\n",
       "                                       lemmas-joined  \n",
       "1  guilty pleasure personally love great escape w...  \n",
       "6  underwhelme straight bore course see hunt clim...  "
      ]
     },
     "execution_count": 18,
     "metadata": {},
     "output_type": "execute_result"
    }
   ],
   "source": [
    "#@st.cache_data\n",
    "def load_data(fpath):\n",
    "    return joblib.load(fpath)\n",
    "\n",
    "\n",
    "df = load_data(FPATHS['data_NLP']['nlp_df'])\n",
    "df.head(2)\n",
    "\n"
   ]
  },
  {
   "cell_type": "code",
   "execution_count": 19,
   "id": "87ee6411-8fca-4e55-b189-af88375a3473",
   "metadata": {},
   "outputs": [
    {
     "data": {
      "text/plain": [
       "'Raw Text'"
      ]
     },
     "execution_count": 19,
     "metadata": {},
     "output_type": "execute_result"
    }
   ],
   "source": [
    "# select which version of wordclouds\n",
    "wc_choice = st.radio(\"Select WordCloud Text: \", [\"Raw Text\",'Lemmas'], index=0, horizontal=True)\n",
    "wc_choice"
   ]
  },
  {
   "cell_type": "code",
   "execution_count": 20,
   "id": "b2c0894b-0a46-4008-833f-f04fc7eb53a9",
   "metadata": {},
   "outputs": [
    {
     "data": {
      "text/plain": [
       "'eda/wordclouds-raw-text.png'"
      ]
     },
     "execution_count": 20,
     "metadata": {},
     "output_type": "execute_result"
    }
   ],
   "source": [
    "if wc_choice=='Lemmas':\n",
    "    fpath_wc = FPATHS['eda']['wordclouds-lemmas']\n",
    "else:\n",
    "    fpath_wc = FPATHS['eda']['wordclouds-raw']\n",
    "fpath_wc"
   ]
  }
 ],
 "metadata": {
  "kernelspec": {
   "display_name": "Python (dojo-env)",
   "language": "python",
   "name": "dojo-env"
  },
  "language_info": {
   "codemirror_mode": {
    "name": "ipython",
    "version": 3
   },
   "file_extension": ".py",
   "mimetype": "text/x-python",
   "name": "python",
   "nbconvert_exporter": "python",
   "pygments_lexer": "ipython3",
   "version": "3.10.10"
  },
  "widgets": {
   "application/vnd.jupyter.widget-state+json": {
    "state": {},
    "version_major": 2,
    "version_minor": 0
   }
  }
 },
 "nbformat": 4,
 "nbformat_minor": 5
}
