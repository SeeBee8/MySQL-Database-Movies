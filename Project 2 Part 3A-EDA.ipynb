{
 "cells": [
  {
   "cell_type": "markdown",
   "id": "feb9a4c4-2056-4be2-9776-fd781c128710",
   "metadata": {},
   "source": [
    "# Projecct 2 Part 3A - EDA\n",
    "\n",
    "*Christina Brockway*"
   ]
  },
  {
   "cell_type": "markdown",
   "id": "38ea0f02-c975-4244-a44e-161e8a46a5ac",
   "metadata": {},
   "source": [
    "#### Business Issues\n",
    "\n",
    "-  Use TMDB database\n",
    "-  Extract budget, revenue, and MPAA Rating (Certification) data\n",
    "-  Perform test extraction on movies from 2001 and 2002\n",
    "-  Combine final API data into 1 dataframe\n",
    "-  Create visualiztions to answer questions"
   ]
  },
  {
   "cell_type": "markdown",
   "id": "cf8785ad-d3ad-48bd-adbc-3b8aaa518b78",
   "metadata": {},
   "source": [
    "### Imports"
   ]
  },
  {
   "cell_type": "code",
   "execution_count": 1,
   "id": "ba1eca2a-760e-434c-ade1-6148255bfdcc",
   "metadata": {},
   "outputs": [],
   "source": [
    "#Import packages\n",
    "import os, time, json\n",
    "import tmdbsimple as tmdb\n",
    "import pandas as pd\n",
    "import matplotlib.pyplot as plt\n",
    "import seaborn as sns\n",
    "import numpy as np\n",
    "from tqdm.notebook import tqdm_notebook\n",
    "\n",
    "#Set configs\n",
    "pd.set_option('display.max_column', None)"
   ]
  },
  {
   "cell_type": "markdown",
   "id": "1a09c12a-d2e0-43c7-9b81-ab13c21e293b",
   "metadata": {},
   "source": [
    "### Define custom functions\n"
   ]
  },
  {
   "cell_type": "code",
   "execution_count": 2,
   "id": "6fd334ec-2a4d-4bea-ac85-a6e14aa4820a",
   "metadata": {},
   "outputs": [],
   "source": [
    "# Explore Categorical Data\n",
    "\n",
    "def explore_categorical(df, x, fillna = True, placeholder = 'MISSING',\n",
    "                        figsize = (6,4), order = None):\n",
    "  \"\"\"Source: https://login.codingdojo.com/m/606/13765/117604\"\"\"\n",
    "  # Make a copy of the dataframe and fillna\n",
    "  temp_df = df.copy()\n",
    "  # Before filling nulls, save null value counts and percent for printing\n",
    "  null_count = temp_df[x].isna().sum()\n",
    "  null_perc = null_count/len(temp_df)* 100\n",
    "  # fillna with placeholder\n",
    "  if fillna == True:\n",
    "    temp_df[x] = temp_df[x].fillna(placeholder)\n",
    "  # Create figure with desired figsize\n",
    "  fig, ax = plt.subplots(figsize=figsize)\n",
    "  # Plotting a count plot\n",
    "  sns.countplot(data=temp_df, x=x, ax=ax, order=order)\n",
    "  #Labels for barplot values\n",
    "  for container in ax.containers:\n",
    "      ax.bar_label(container)\n",
    "  # Rotate Tick Labels for long names\n",
    "  ax.set_xticklabels(ax.get_xticklabels(), rotation=45, ha='right')\n",
    "  # Add a title with the feature name included\n",
    "  ax.set_title(f\"Column: {x}\")\n",
    "\n",
    "  # Fix layout and show plot (before print statements)\n",
    "  fig.tight_layout()\n",
    "  plt.show()\n",
    "\n",
    "  # Print null value info\n",
    "  print(f\"- NaN's Found: {null_count} ({round(null_perc,2)}%)\")\n",
    "  # Print cardinality info\n",
    "  nunique = temp_df[x].nunique()\n",
    "  print(f\"- Unique Values: {nunique}\")\n",
    "  # First find value counts of feature\n",
    "  val_counts = temp_df[x].value_counts(dropna=False)\n",
    "  # Define the most common value\n",
    "  most_common_val = val_counts.index[0]\n",
    "  # Define the frequency of the most common value\n",
    "  freq = val_counts.values[0]\n",
    "  # Calculate the percentage of the most common value\n",
    "  perc_most_common = freq / len(temp_df) * 100\n",
    "  # Print the results\n",
    "  print(f\"- Most common value: '{most_common_val}' occurs {freq} times ({round(perc_most_common,2)}%)\")\n",
    "  # print message if quasi-constant or constant (most common val more than 98% of data)\n",
    "  if perc_most_common > 98:\n",
    "    print(f\"\\n- [!] Warning: '{x}' is a constant or quasi-constant feature and should be dropped.\")\n",
    "  else:\n",
    "    print(\"- Not constant or quasi-constant.\")\n",
    "  return fig, ax\n",
    "\n"
   ]
  },
  {
   "cell_type": "markdown",
   "id": "614a1c14-34d3-45ff-8fcc-17b145cc2fa7",
   "metadata": {},
   "source": [
    "*Source for barplot labels:  https://stackoverflow.com/questions/55104819/display-count-on-top-of-seaborn-barplot*"
   ]
  },
  {
   "cell_type": "code",
   "execution_count": 3,
   "id": "e495941c-b599-4a4d-83d0-f28426972e26",
   "metadata": {},
   "outputs": [],
   "source": [
    "# Updated plot_categorical_vs_target function that includes option for classification task\n",
    "def plot_categorical_vs_target(df, x, y, figsize=(6,4),\n",
    "                            fillna = True, placeholder = 'MISSING',\n",
    "                            order = None, target_type='reg'):\n",
    "  # Make a copy of the dataframe and fillna\n",
    "  temp_df = df.copy()\n",
    "  # fillna with placeholder\n",
    "  if fillna == True:\n",
    "    temp_df[x] = temp_df[x].fillna(placeholder)\n",
    "  # or drop nulls prevent unwanted 'nan' group in stripplot\n",
    "  else:\n",
    "    temp_df = temp_df.dropna(subset=[x])\n",
    "  # Create the figure and subplots\n",
    "  fig, ax = plt.subplots(figsize=figsize)\n",
    "  # REGRESSION-TARGET PLOT\n",
    "  if target_type=='reg': #Added if statement here\n",
    "    # Barplot\n",
    "    sns.barplot(data=temp_df, x=x, y=y, ax=ax, order=order, alpha=0.6,\n",
    "                linewidth=1, edgecolor='black', errorbar=None)\n",
    "    # Boxplot\n",
    "    sns.stripplot(data=temp_df, x=x, y=y, hue=x, ax=ax,\n",
    "                  order=order, hue_order=order, legend=False,\n",
    "                  edgecolor='white', linewidth=0.5,\n",
    "                  size=3,zorder=0)\n",
    "  # CLASSIFICATION-TARGET PLOT # This is the new code for the classification task\n",
    "  elif target_type=='class':\n",
    "    ax = sns.histplot(data=temp_df, hue=y, x=x, stat='percent',  multiple='fill')\n",
    "  # Rotate xlabels\n",
    "  ax.set_xticks(ax.get_xticks()) # Added this to prevent a bug\n",
    "  ax.set_xticklabels(ax.get_xticklabels(), rotation=45, ha='right')\n",
    "  # Add a title\n",
    "  ax.set_title(f\"{x} vs. {y}\")\n",
    "  fig.tight_layout()\n",
    "  return fig, ax\n"
   ]
  },
  {
   "cell_type": "markdown",
   "id": "ab5cf4e8-fe2e-4339-848e-d68a085223e4",
   "metadata": {},
   "source": [
    "### Load data"
   ]
  },
  {
   "cell_type": "code",
   "execution_count": 7,
   "id": "4eb21d40-c0ed-4acd-bb6d-1643c7944cf7",
   "metadata": {},
   "outputs": [
    {
     "ename": "ParserError",
     "evalue": "Error tokenizing data. C error: Buffer overflow caught - possible malformed input file.\n",
     "output_type": "error",
     "traceback": [
      "\u001b[1;31m---------------------------------------------------------------------------\u001b[0m",
      "\u001b[1;31mParserError\u001b[0m                               Traceback (most recent call last)",
      "Cell \u001b[1;32mIn[7], line 1\u001b[0m\n\u001b[1;32m----> 1\u001b[0m df2001\u001b[38;5;241m=\u001b[39m\u001b[43mpd\u001b[49m\u001b[38;5;241;43m.\u001b[39;49m\u001b[43mread_csv\u001b[49m\u001b[43m(\u001b[49m\u001b[38;5;124;43m\"\u001b[39;49m\u001b[38;5;124;43mMovieData/final_tmdb_data_2001.csv.gz\u001b[39;49m\u001b[38;5;124;43m\"\u001b[39;49m\u001b[43m,\u001b[49m\u001b[43m \u001b[49m\u001b[43msep\u001b[49m\u001b[38;5;241;43m=\u001b[39;49m\u001b[38;5;124;43m'\u001b[39;49m\u001b[38;5;130;43;01m\\t\u001b[39;49;00m\u001b[38;5;124;43m'\u001b[39;49m\u001b[43m,\u001b[49m\u001b[43m \u001b[49m\u001b[43mlow_memory\u001b[49m\u001b[38;5;241;43m=\u001b[39;49m\u001b[38;5;28;43;01mFalse\u001b[39;49;00m\u001b[43m)\u001b[49m\n\u001b[0;32m      2\u001b[0m df2001\u001b[38;5;241m.\u001b[39mhead(\u001b[38;5;241m2\u001b[39m)\n",
      "File \u001b[1;32m~\\anaconda3\\envs\\dojo-env\\lib\\site-packages\\pandas\\util\\_decorators.py:211\u001b[0m, in \u001b[0;36mdeprecate_kwarg.<locals>._deprecate_kwarg.<locals>.wrapper\u001b[1;34m(*args, **kwargs)\u001b[0m\n\u001b[0;32m    209\u001b[0m     \u001b[38;5;28;01melse\u001b[39;00m:\n\u001b[0;32m    210\u001b[0m         kwargs[new_arg_name] \u001b[38;5;241m=\u001b[39m new_arg_value\n\u001b[1;32m--> 211\u001b[0m \u001b[38;5;28;01mreturn\u001b[39;00m func(\u001b[38;5;241m*\u001b[39margs, \u001b[38;5;241m*\u001b[39m\u001b[38;5;241m*\u001b[39mkwargs)\n",
      "File \u001b[1;32m~\\anaconda3\\envs\\dojo-env\\lib\\site-packages\\pandas\\util\\_decorators.py:331\u001b[0m, in \u001b[0;36mdeprecate_nonkeyword_arguments.<locals>.decorate.<locals>.wrapper\u001b[1;34m(*args, **kwargs)\u001b[0m\n\u001b[0;32m    325\u001b[0m \u001b[38;5;28;01mif\u001b[39;00m \u001b[38;5;28mlen\u001b[39m(args) \u001b[38;5;241m>\u001b[39m num_allow_args:\n\u001b[0;32m    326\u001b[0m     warnings\u001b[38;5;241m.\u001b[39mwarn(\n\u001b[0;32m    327\u001b[0m         msg\u001b[38;5;241m.\u001b[39mformat(arguments\u001b[38;5;241m=\u001b[39m_format_argument_list(allow_args)),\n\u001b[0;32m    328\u001b[0m         \u001b[38;5;167;01mFutureWarning\u001b[39;00m,\n\u001b[0;32m    329\u001b[0m         stacklevel\u001b[38;5;241m=\u001b[39mfind_stack_level(),\n\u001b[0;32m    330\u001b[0m     )\n\u001b[1;32m--> 331\u001b[0m \u001b[38;5;28;01mreturn\u001b[39;00m func(\u001b[38;5;241m*\u001b[39margs, \u001b[38;5;241m*\u001b[39m\u001b[38;5;241m*\u001b[39mkwargs)\n",
      "File \u001b[1;32m~\\anaconda3\\envs\\dojo-env\\lib\\site-packages\\pandas\\io\\parsers\\readers.py:950\u001b[0m, in \u001b[0;36mread_csv\u001b[1;34m(filepath_or_buffer, sep, delimiter, header, names, index_col, usecols, squeeze, prefix, mangle_dupe_cols, dtype, engine, converters, true_values, false_values, skipinitialspace, skiprows, skipfooter, nrows, na_values, keep_default_na, na_filter, verbose, skip_blank_lines, parse_dates, infer_datetime_format, keep_date_col, date_parser, dayfirst, cache_dates, iterator, chunksize, compression, thousands, decimal, lineterminator, quotechar, quoting, doublequote, escapechar, comment, encoding, encoding_errors, dialect, error_bad_lines, warn_bad_lines, on_bad_lines, delim_whitespace, low_memory, memory_map, float_precision, storage_options)\u001b[0m\n\u001b[0;32m    935\u001b[0m kwds_defaults \u001b[38;5;241m=\u001b[39m _refine_defaults_read(\n\u001b[0;32m    936\u001b[0m     dialect,\n\u001b[0;32m    937\u001b[0m     delimiter,\n\u001b[1;32m   (...)\u001b[0m\n\u001b[0;32m    946\u001b[0m     defaults\u001b[38;5;241m=\u001b[39m{\u001b[38;5;124m\"\u001b[39m\u001b[38;5;124mdelimiter\u001b[39m\u001b[38;5;124m\"\u001b[39m: \u001b[38;5;124m\"\u001b[39m\u001b[38;5;124m,\u001b[39m\u001b[38;5;124m\"\u001b[39m},\n\u001b[0;32m    947\u001b[0m )\n\u001b[0;32m    948\u001b[0m kwds\u001b[38;5;241m.\u001b[39mupdate(kwds_defaults)\n\u001b[1;32m--> 950\u001b[0m \u001b[38;5;28;01mreturn\u001b[39;00m \u001b[43m_read\u001b[49m\u001b[43m(\u001b[49m\u001b[43mfilepath_or_buffer\u001b[49m\u001b[43m,\u001b[49m\u001b[43m \u001b[49m\u001b[43mkwds\u001b[49m\u001b[43m)\u001b[49m\n",
      "File \u001b[1;32m~\\anaconda3\\envs\\dojo-env\\lib\\site-packages\\pandas\\io\\parsers\\readers.py:611\u001b[0m, in \u001b[0;36m_read\u001b[1;34m(filepath_or_buffer, kwds)\u001b[0m\n\u001b[0;32m    608\u001b[0m     \u001b[38;5;28;01mreturn\u001b[39;00m parser\n\u001b[0;32m    610\u001b[0m \u001b[38;5;28;01mwith\u001b[39;00m parser:\n\u001b[1;32m--> 611\u001b[0m     \u001b[38;5;28;01mreturn\u001b[39;00m \u001b[43mparser\u001b[49m\u001b[38;5;241;43m.\u001b[39;49m\u001b[43mread\u001b[49m\u001b[43m(\u001b[49m\u001b[43mnrows\u001b[49m\u001b[43m)\u001b[49m\n",
      "File \u001b[1;32m~\\anaconda3\\envs\\dojo-env\\lib\\site-packages\\pandas\\io\\parsers\\readers.py:1778\u001b[0m, in \u001b[0;36mTextFileReader.read\u001b[1;34m(self, nrows)\u001b[0m\n\u001b[0;32m   1771\u001b[0m nrows \u001b[38;5;241m=\u001b[39m validate_integer(\u001b[38;5;124m\"\u001b[39m\u001b[38;5;124mnrows\u001b[39m\u001b[38;5;124m\"\u001b[39m, nrows)\n\u001b[0;32m   1772\u001b[0m \u001b[38;5;28;01mtry\u001b[39;00m:\n\u001b[0;32m   1773\u001b[0m     \u001b[38;5;66;03m# error: \"ParserBase\" has no attribute \"read\"\u001b[39;00m\n\u001b[0;32m   1774\u001b[0m     (\n\u001b[0;32m   1775\u001b[0m         index,\n\u001b[0;32m   1776\u001b[0m         columns,\n\u001b[0;32m   1777\u001b[0m         col_dict,\n\u001b[1;32m-> 1778\u001b[0m     ) \u001b[38;5;241m=\u001b[39m \u001b[38;5;28;43mself\u001b[39;49m\u001b[38;5;241;43m.\u001b[39;49m\u001b[43m_engine\u001b[49m\u001b[38;5;241;43m.\u001b[39;49m\u001b[43mread\u001b[49m\u001b[43m(\u001b[49m\u001b[43m  \u001b[49m\u001b[38;5;66;43;03m# type: ignore[attr-defined]\u001b[39;49;00m\n\u001b[0;32m   1779\u001b[0m \u001b[43m        \u001b[49m\u001b[43mnrows\u001b[49m\n\u001b[0;32m   1780\u001b[0m \u001b[43m    \u001b[49m\u001b[43m)\u001b[49m\n\u001b[0;32m   1781\u001b[0m \u001b[38;5;28;01mexcept\u001b[39;00m \u001b[38;5;167;01mException\u001b[39;00m:\n\u001b[0;32m   1782\u001b[0m     \u001b[38;5;28mself\u001b[39m\u001b[38;5;241m.\u001b[39mclose()\n",
      "File \u001b[1;32m~\\anaconda3\\envs\\dojo-env\\lib\\site-packages\\pandas\\io\\parsers\\c_parser_wrapper.py:235\u001b[0m, in \u001b[0;36mCParserWrapper.read\u001b[1;34m(self, nrows)\u001b[0m\n\u001b[0;32m    232\u001b[0m         data \u001b[38;5;241m=\u001b[39m _concatenate_chunks(chunks)\n\u001b[0;32m    234\u001b[0m     \u001b[38;5;28;01melse\u001b[39;00m:\n\u001b[1;32m--> 235\u001b[0m         data \u001b[38;5;241m=\u001b[39m \u001b[38;5;28;43mself\u001b[39;49m\u001b[38;5;241;43m.\u001b[39;49m\u001b[43m_reader\u001b[49m\u001b[38;5;241;43m.\u001b[39;49m\u001b[43mread\u001b[49m\u001b[43m(\u001b[49m\u001b[43mnrows\u001b[49m\u001b[43m)\u001b[49m\n\u001b[0;32m    236\u001b[0m \u001b[38;5;28;01mexcept\u001b[39;00m \u001b[38;5;167;01mStopIteration\u001b[39;00m:\n\u001b[0;32m    237\u001b[0m     \u001b[38;5;28;01mif\u001b[39;00m \u001b[38;5;28mself\u001b[39m\u001b[38;5;241m.\u001b[39m_first_chunk:\n",
      "File \u001b[1;32m~\\anaconda3\\envs\\dojo-env\\lib\\site-packages\\pandas\\_libs\\parsers.pyx:790\u001b[0m, in \u001b[0;36mpandas._libs.parsers.TextReader.read\u001b[1;34m()\u001b[0m\n",
      "File \u001b[1;32m~\\anaconda3\\envs\\dojo-env\\lib\\site-packages\\pandas\\_libs\\parsers.pyx:883\u001b[0m, in \u001b[0;36mpandas._libs.parsers.TextReader._read_rows\u001b[1;34m()\u001b[0m\n",
      "File \u001b[1;32m~\\anaconda3\\envs\\dojo-env\\lib\\site-packages\\pandas\\_libs\\parsers.pyx:1973\u001b[0m, in \u001b[0;36mpandas._libs.parsers.raise_parser_error\u001b[1;34m()\u001b[0m\n",
      "\u001b[1;31mParserError\u001b[0m: Error tokenizing data. C error: Buffer overflow caught - possible malformed input file.\n"
     ]
    }
   ],
   "source": [
    "df2001=pd.read_csv(\"MovieData/final_tmdb_data_2001.csv.gz\", sep='\\t', low_memory=False)\n",
    "df2001.head(2)"
   ]
  },
  {
   "cell_type": "code",
   "execution_count": null,
   "id": "f6952e81-162d-4f55-aa94-2236cca55dfd",
   "metadata": {},
   "outputs": [],
   "source": [
    "df2002=pd.read_csv(\"MovieData/tmdb_api_results 2002.csv.gz\", sep='\\t', low_memory=False)\n",
    "\")\n",
    "df2002.head(2)"
   ]
  },
  {
   "cell_type": "code",
   "execution_count": null,
   "id": "18051cee-a5e8-4db5-8ffd-875358af784d",
   "metadata": {
    "scrolled": true
   },
   "outputs": [],
   "source": [
    "df_to_combine = [df2001, df2001]\n",
    "df = pd.concat(df_to_combine)\n",
    "df.info()"
   ]
  },
  {
   "cell_type": "markdown",
   "id": "c42a5310-69db-4876-9248-bc4f07a4035b",
   "metadata": {},
   "source": [
    "### Inspect the Data"
   ]
  },
  {
   "cell_type": "code",
   "execution_count": null,
   "id": "5bc64b60-4f57-4665-a195-ee4730557f97",
   "metadata": {},
   "outputs": [],
   "source": [
    "df.head(5), df.tail(5)"
   ]
  },
  {
   "cell_type": "code",
   "execution_count": null,
   "id": "223cfd90-a054-4e62-812e-cf1d0778effe",
   "metadata": {},
   "outputs": [],
   "source": [
    "#Display the number of rows and columns\n",
    "df.shape"
   ]
  },
  {
   "cell_type": "code",
   "execution_count": null,
   "id": "2ce40c39-e732-4868-a470-754e9d80d964",
   "metadata": {},
   "outputs": [],
   "source": [
    "# Desplay statistics\n",
    "df.describe()\n"
   ]
  },
  {
   "cell_type": "code",
   "execution_count": null,
   "id": "99a12b13-0c2b-4918-97df-9298e0fe75d2",
   "metadata": {},
   "outputs": [],
   "source": [
    "#Display non-null values and dtypes\n",
    "df.info()"
   ]
  },
  {
   "cell_type": "markdown",
   "id": "b8413d4b-be5b-44e6-8fc0-c50c8ff06a02",
   "metadata": {},
   "source": [
    "## Exploratory Data Analysis"
   ]
  },
  {
   "cell_type": "markdown",
   "id": "4666dd36-61d3-4631-a5c9-68ddf141a9a6",
   "metadata": {},
   "source": [
    "### Questions:"
   ]
  },
  {
   "cell_type": "markdown",
   "id": "b457099b-9c75-4ab5-9e62-f746c5163a9b",
   "metadata": {},
   "source": [
    "**How many movies had at least some valid financial information?**\n",
    "-  values >0 for budget and/or >0 for revenue\n",
    "-  "
   ]
  },
  {
   "cell_type": "code",
   "execution_count": null,
   "id": "d0fab100-5a5d-4976-be6f-1c1faf20d0b7",
   "metadata": {},
   "outputs": [],
   "source": [
    "df_budget = df.loc([df['budget'}>0) | (df[\"revenue\"])\n",
    "df_budget"
   ]
  },
  {
   "cell_type": "markdown",
   "id": "646264c7-85b3-4b52-a13d-c468259ca251",
   "metadata": {},
   "source": [
    "**How many movies are there in each of the certification categories?**"
   ]
  },
  {
   "cell_type": "markdown",
   "id": "b689ac3c-edb0-47dd-b96c-6c5c6706a182",
   "metadata": {},
   "source": []
  },
  {
   "cell_type": "code",
   "execution_count": null,
   "id": "e76b6d94-fe3a-4f9a-a0a9-055b80f7f0d3",
   "metadata": {},
   "outputs": [],
   "source": [
    "explore_categorical(df_budget['certification']);"
   ]
  },
  {
   "cell_type": "markdown",
   "id": "67bb3656-5db2-4b8d-975d-fef68c5e0aaa",
   "metadata": {},
   "source": [
    "*Source:  https://stackoverflow.com/questions/30482071/how-to-calculate-mean-values-grouped-on-another-column*"
   ]
  },
  {
   "cell_type": "markdown",
   "id": "031269bf-1b63-4356-b61b-13d185c460e5",
   "metadata": {},
   "source": [
    "**What is the average revenue per certification category?**"
   ]
  },
  {
   "cell_type": "code",
   "execution_count": null,
   "id": "917ce879-39dd-40f4-89a4-18ce57f6cef8",
   "metadata": {},
   "outputs": [],
   "source": [
    "df.groupby('certification', as_index=False)['revenue'].mean()"
   ]
  },
  {
   "cell_type": "markdown",
   "id": "6d58d018-96f8-498c-9b79-222609ba130b",
   "metadata": {},
   "source": [
    "x=df_budget['certification']\n",
    "y=df_budget['revenue']\n",
    "plot_categorical_vs_target(df_budget, x,y);"
   ]
  },
  {
   "cell_type": "markdown",
   "id": "2765a5e3-897a-4775-b240-a7cb993826a2",
   "metadata": {},
   "source": [
    "**What is the average budget per certification category?**"
   ]
  },
  {
   "cell_type": "code",
   "execution_count": null,
   "id": "3a4cdb12-e7ac-4166-b058-59efdd3339b8",
   "metadata": {},
   "outputs": [],
   "source": [
    "df.groupby('certification', as_index=False)['budget'].mean()"
   ]
  },
  {
   "cell_type": "code",
   "execution_count": null,
   "id": "9e442add-333a-4332-8c1f-fb40941a4776",
   "metadata": {},
   "outputs": [],
   "source": [
    "x=df_budget['certification']\n",
    "y=df_budget['budget']\n",
    "plot_categorical_vs_target(df_budget, x,y);"
   ]
  },
  {
   "cell_type": "code",
   "execution_count": null,
   "id": "9169bbfd-de93-4e52-9364-096fc0845330",
   "metadata": {},
   "outputs": [],
   "source": [
    "# Save dataframe\n",
    "df_budget.pd.to_csv(\"/MovieData/tmdb_results_combined.csv.gz\", compression = 'gzip', index=False)"
   ]
  }
 ],
 "metadata": {
  "kernelspec": {
   "display_name": "Python (dojo-env)",
   "language": "python",
   "name": "dojo-env"
  },
  "language_info": {
   "codemirror_mode": {
    "name": "ipython",
    "version": 3
   },
   "file_extension": ".py",
   "mimetype": "text/x-python",
   "name": "python",
   "nbconvert_exporter": "python",
   "pygments_lexer": "ipython3",
   "version": "3.10.10"
  },
  "widgets": {
   "application/vnd.jupyter.widget-state+json": {
    "state": {},
    "version_major": 2,
    "version_minor": 0
   }
  }
 },
 "nbformat": 4,
 "nbformat_minor": 5
}
